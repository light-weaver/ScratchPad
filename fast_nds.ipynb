{
 "cells": [
  {
   "cell_type": "code",
   "execution_count": 3,
   "id": "whole-civilization",
   "metadata": {},
   "outputs": [],
   "source": [
    "import numpy as np\n",
    "from pygmo import fast_non_dominated_sorting as nds\n",
    "from timeit import timeit\n",
    "import pandas as pd\n",
    "import numba"
   ]
  },
  {
   "cell_type": "code",
   "execution_count": 16,
   "id": "crazy-chrome",
   "metadata": {},
   "outputs": [],
   "source": [
    "num_var = 10\n",
    "num_samples=2000\n",
    "mean = 0.5\n",
    "std_dev = 0.1\n",
    "means = [mean] * num_var\n",
    "cov = np.eye(num_var) * np.square(std_dev)\n",
    "data = np.random.multivariate_normal(means, cov, num_samples)\n",
    "\n",
    "def setup_func(num_var, num_samples):\n",
    "    mean = 0.5\n",
    "    std_dev = 0.1\n",
    "    means = [mean] * num_var\n",
    "    cov = np.eye(num_var) * np.square(std_dev)\n",
    "    data = np.random.multivariate_normal(means, cov, num_samples)\n",
    "    return data"
   ]
  },
  {
   "cell_type": "code",
   "execution_count": 18,
   "id": "bound-major",
   "metadata": {},
   "outputs": [
    {
     "data": {
      "text/plain": [
       "array([[0.46123709, 0.36933099, 0.59278853, ..., 0.54850498, 0.47636666,\n",
       "        0.46197761],\n",
       "       [0.31846639, 0.39835602, 0.57160771, ..., 0.58013561, 0.63216825,\n",
       "        0.44818422],\n",
       "       [0.4371848 , 0.5081325 , 0.35569554, ..., 0.45796313, 0.59656209,\n",
       "        0.53850223],\n",
       "       ...,\n",
       "       [0.46274389, 0.41602239, 0.39930939, ..., 0.59483586, 0.46289174,\n",
       "        0.60211574],\n",
       "       [0.48400559, 0.52821663, 0.50622876, ..., 0.59286182, 0.75308299,\n",
       "        0.60417046],\n",
       "       [0.61557064, 0.33712149, 0.69187181, ..., 0.3118346 , 0.49577767,\n",
       "        0.59196624]])"
      ]
     },
     "execution_count": 18,
     "metadata": {},
     "output_type": "execute_result"
    }
   ],
   "source": [
    "setup_func(10, 2000)"
   ]
  },
  {
   "cell_type": "code",
   "execution_count": 21,
   "id": "heard-deputy",
   "metadata": {},
   "outputs": [],
   "source": [
    "def setup_str(num_var, num_samples):\n",
    "    return f\"\"\"\n",
    "import numpy as np\n",
    "from pygmo import fast_non_dominated_sorting as nds\n",
    "import numba\n",
    "\n",
    "num_var = {num_var}\n",
    "num_samples= {num_samples}\n",
    "mean = 0.5\n",
    "std_dev = 0.1\n",
    "means = [mean] * num_var\n",
    "cov = np.eye(num_var) * np.square(std_dev)\n",
    "data = np.random.multivariate_normal(means, cov, num_samples)\n",
    "\n",
    "@numba.njit()\n",
    "def dominates(x:np.ndarray, y:np.ndarray) -> bool:\n",
    "    \"Returns true if x dominates y\"\n",
    "    dom = False\n",
    "    for i in range(len(x)):\n",
    "        if x[i] > y[i]:\n",
    "            return False\n",
    "        elif x[i] < y[i]:\n",
    "            dom = True\n",
    "    return dom\n",
    "\n",
    "@numba.njit()\n",
    "def non_dominated(data:np.ndarray) -> np.ndarray:\n",
    "    \"Returns boolean array of same length as number of solutions. The value is true if corresponding solution is non-dominated. False otherwise\"\n",
    "\n",
    "    num_solutions = len(data)\n",
    "    index = np.zeros(num_solutions, dtype=np.bool_)\n",
    "    index[0] = True\n",
    "    for i in range(1, num_solutions):\n",
    "        index[i] = True\n",
    "        for j in range(i):\n",
    "            if not index[j]:\n",
    "                continue\n",
    "            if dominates(data[i], data[j]):\n",
    "                index[j]=False\n",
    "            elif dominates(data[j], data[i]):\n",
    "                index[i]=False\n",
    "                break\n",
    "    return index\n",
    "\n",
    "@numba.njit()\n",
    "def fast_non_dominated_sort(data:np.ndarray) -> np.ndarray:\n",
    "    \"Returns n*f boolean array. n is the number of solutions, f is the number of fronts\"\n",
    "\n",
    "    num_solutions = len(data)\n",
    "    indices = np.arange(num_solutions)\n",
    "    taken = np.zeros(num_solutions, dtype=np.bool_)\n",
    "    fronts = np.zeros((num_solutions, num_solutions), dtype=np.bool_)\n",
    "\n",
    "    for i in indices:\n",
    "        current_front = non_dominated(data[~taken])\n",
    "\n",
    "        current_front_all = np.zeros(num_solutions, dtype=np.bool_)\n",
    "        current_front_all[~taken] = current_front\n",
    "        fronts[i] = current_front_all\n",
    "\n",
    "        taken = taken + fronts[i]\n",
    "        if not fronts[i].any():\n",
    "            break\n",
    "    return fronts[:i]\n",
    "\n",
    "fast_non_dominated_sort(data)\n",
    "    \"\"\""
   ]
  },
  {
   "cell_type": "code",
   "execution_count": 9,
   "id": "angry-prague",
   "metadata": {},
   "outputs": [],
   "source": [
    "code1 = \"\"\"nds(data)[0]\"\"\""
   ]
  },
  {
   "cell_type": "code",
   "execution_count": 10,
   "id": "rapid-bruce",
   "metadata": {},
   "outputs": [],
   "source": [
    "code2 = \"\"\"fast_non_dominated_sort(data)\"\"\""
   ]
  },
  {
   "cell_type": "code",
   "execution_count": 47,
   "id": "flush-philosophy",
   "metadata": {},
   "outputs": [
    {
     "name": "stdout",
     "output_type": "stream",
     "text": [
      "100\n",
      "200\n",
      "500\n",
      "1000\n",
      "2000\n",
      "3000\n",
      "5000\n",
      "10000\n"
     ]
    }
   ],
   "source": [
    "data = pd.DataFrame(columns=[\"num_samples\", \"num_obj\", \"pygmo\", \"numba\"], dtype=float)\n",
    "\n",
    "num_samples = [100, 200, 500, 1000, 2000, 3000, 5000, 10000]\n",
    "num_objs = [3, 4, 5, 6, 7, 8, 9, 10, 20]\n",
    "\n",
    "for num_sample in num_samples:\n",
    "    print(num_sample)\n",
    "    for num_obj in num_objs:\n",
    "        setup = setup_str(num_obj, num_sample)\n",
    "        pygmo_time = timeit(code1, setup, number=10)\n",
    "        numba_time = timeit(code2, setup, number=10)\n",
    "        data_row = pd.DataFrame(\n",
    "            [[num_sample, num_obj, pygmo_time, numba_time]], \n",
    "            columns=[\"num_samples\", \"num_obj\", \"pygmo\", \"numba\"]\n",
    "        )\n",
    "        data = data.append(data_row, ignore_index=True)"
   ]
  },
  {
   "cell_type": "code",
   "execution_count": 48,
   "id": "gorgeous-athletics",
   "metadata": {},
   "outputs": [],
   "source": [
    "data.to_csv(\"numba_tests.csv\")"
   ]
  },
  {
   "cell_type": "code",
   "execution_count": 32,
   "id": "authorized-banking",
   "metadata": {},
   "outputs": [],
   "source": [
    "@numba.njit()\n",
    "def dominates(x:np.ndarray, y:np.ndarray) -> bool:\n",
    "    \"Returns true if x dominates y\"\n",
    "    dom = False\n",
    "    for i in range(len(x)):\n",
    "        if x[i] > y[i]:\n",
    "            return False\n",
    "        elif x[i] < y[i]:\n",
    "            dom = True\n",
    "    return dom"
   ]
  },
  {
   "cell_type": "code",
   "execution_count": 33,
   "id": "proof-terrace",
   "metadata": {},
   "outputs": [],
   "source": [
    "@numba.njit()\n",
    "def non_dominated(data:np.ndarray) -> np.ndarray:\n",
    "    \"Returns boolean array of same length as number of solutions. The value is true if corresponding solution is non-dominated. False otherwise\"\n",
    "    \n",
    "    num_solutions = len(data)\n",
    "    index = np.zeros(num_solutions, dtype=np.bool_)\n",
    "    index[0] = True\n",
    "    for i in range(1, num_solutions):\n",
    "        index[i] = True\n",
    "        for j in range(i):\n",
    "            if not index[j]:\n",
    "                continue\n",
    "            if dominates(data[i], data[j]):\n",
    "                index[j]=False\n",
    "            elif dominates(data[j], data[i]):\n",
    "                index[i]=False\n",
    "                break\n",
    "    return index\n",
    "            "
   ]
  },
  {
   "cell_type": "code",
   "execution_count": 34,
   "id": "confused-pension",
   "metadata": {},
   "outputs": [],
   "source": [
    "@numba.njit()\n",
    "def fast_non_dominated_sort(data:np.ndarray) -> np.ndarray:\n",
    "    \"Returns n*f boolean array. n is the number of solutions, f is the number of fronts\"\n",
    "    \n",
    "    num_solutions = len(data)\n",
    "    indices = np.arange(num_solutions)\n",
    "    taken = np.zeros(num_solutions, dtype=np.bool_)\n",
    "    fronts = np.zeros((num_solutions, num_solutions), dtype=np.bool_)\n",
    "    \n",
    "    for i in indices:\n",
    "        current_front = non_dominated(data[~taken])\n",
    "\n",
    "        current_front_all = np.zeros(num_solutions, dtype=np.bool_)\n",
    "        current_front_all[~taken] = current_front\n",
    "        fronts[i] = current_front_all\n",
    "\n",
    "        taken = taken + fronts[i]\n",
    "        if not fronts[i].any():\n",
    "            break\n",
    "    return fronts[:i]\n",
    "        "
   ]
  },
  {
   "cell_type": "code",
   "execution_count": 43,
   "id": "primary-panic",
   "metadata": {},
   "outputs": [
    {
     "data": {
      "text/plain": [
       "(5000, 10)"
      ]
     },
     "execution_count": 43,
     "metadata": {},
     "output_type": "execute_result"
    }
   ],
   "source": [
    "data.shape"
   ]
  },
  {
   "cell_type": "code",
   "execution_count": 72,
   "id": "rational-czech",
   "metadata": {},
   "outputs": [
    {
     "name": "stdout",
     "output_type": "stream",
     "text": [
      "4.44 s ± 219 ms per loop (mean ± std. dev. of 7 runs, 1 loop each)\n"
     ]
    }
   ],
   "source": [
    "%timeit nds(setup_func(100, 20000))"
   ]
  },
  {
   "cell_type": "code",
   "execution_count": 71,
   "id": "fatty-extra",
   "metadata": {},
   "outputs": [
    {
     "name": "stdout",
     "output_type": "stream",
     "text": [
      "1.88 s ± 54.1 ms per loop (mean ± std. dev. of 7 runs, 1 loop each)\n"
     ]
    }
   ],
   "source": [
    "%timeit indices_from_bool(fast_non_dominated_sort(setup_func(10, 20000)))"
   ]
  },
  {
   "cell_type": "code",
   "execution_count": 53,
   "id": "initial-sydney",
   "metadata": {},
   "outputs": [],
   "source": [
    "fronts = fast_non_dominated_sort(setup_func(10, 2000))"
   ]
  },
  {
   "cell_type": "code",
   "execution_count": 68,
   "id": "hungry-quest",
   "metadata": {},
   "outputs": [],
   "source": [
    "indices_from_bool = lambda data: [np.where(data[i]) for i in range(len(data))]"
   ]
  },
  {
   "cell_type": "code",
   "execution_count": 75,
   "id": "southern-spirit",
   "metadata": {},
   "outputs": [
    {
     "name": "stdout",
     "output_type": "stream",
     "text": [
      "Success!\n",
      "Success!\n",
      "Success!\n",
      "Success!\n",
      "Success!\n",
      "Success!\n",
      "Success!\n",
      "Success!\n",
      "Success!\n",
      "Success!\n",
      "Success!\n",
      "Success!\n",
      "Success!\n",
      "Success!\n",
      "Success!\n",
      "Success!\n",
      "Success!\n",
      "Success!\n",
      "Success!\n",
      "Success!\n",
      "Success!\n",
      "Success!\n",
      "Success!\n",
      "Success!\n",
      "Success!\n",
      "Success!\n",
      "Success!\n",
      "Success!\n",
      "Success!\n",
      "Success!\n",
      "Success!\n",
      "Success!\n",
      "Success!\n",
      "Success!\n",
      "Success!\n",
      "Success!\n",
      "Success!\n",
      "Success!\n",
      "Success!\n",
      "Success!\n",
      "Success!\n",
      "Success!\n",
      "Success!\n",
      "Success!\n",
      "Success!\n",
      "Success!\n",
      "Success!\n",
      "Success!\n",
      "Success!\n",
      "Success!\n",
      "Success!\n",
      "Success!\n",
      "Success!\n",
      "Success!\n",
      "Success!\n",
      "Success!\n"
     ]
    }
   ],
   "source": [
    "num_samples = [100, 200, 500, 1000, 2000,3000, 5000]\n",
    "num_objs = [3, 4, 5, 6, 7, 8, 9, 10]\n",
    "\n",
    "for num_sample in num_samples:\n",
    "    for num_obj in num_objs:\n",
    "        data = setup_func(num_obj, num_sample)\n",
    "        pygmonds = nds(data)[0]\n",
    "        numbands = indices_from_bool(fast_non_dominated_sort(data))\n",
    "        print(\"Success!\")\n",
    "        for i in range(len(pygmonds)):\n",
    "            if not (numbands[i] == np.sort(pygmonds[i])).all():\n",
    "                print(f\"oh no @ {num_sample}, {num_obj}\")"
   ]
  },
  {
   "cell_type": "code",
   "execution_count": 37,
   "id": "wooden-scoop",
   "metadata": {},
   "outputs": [
    {
     "data": {
      "text/plain": [
       "True"
      ]
     },
     "execution_count": 37,
     "metadata": {},
     "output_type": "execute_result"
    }
   ],
   "source": [
    "(np.where(numbands[i])[0] == np.sort(pygmonds[i])).all()"
   ]
  },
  {
   "cell_type": "code",
   "execution_count": null,
   "id": "opponent-prediction",
   "metadata": {},
   "outputs": [],
   "source": []
  }
 ],
 "metadata": {
  "kernelspec": {
   "display_name": "ScratchPad",
   "language": "python",
   "name": "scratchpad"
  },
  "language_info": {
   "codemirror_mode": {
    "name": "ipython",
    "version": 3
   },
   "file_extension": ".py",
   "mimetype": "text/x-python",
   "name": "python",
   "nbconvert_exporter": "python",
   "pygments_lexer": "ipython3",
   "version": "3.7.9"
  }
 },
 "nbformat": 4,
 "nbformat_minor": 5
}
