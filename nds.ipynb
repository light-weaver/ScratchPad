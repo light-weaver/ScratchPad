{
 "cells": [
  {
   "cell_type": "code",
   "execution_count": 1,
   "metadata": {},
   "outputs": [],
   "source": [
    "import numpy as np\n",
    "from pygmo import fast_non_dominated_sorting as nds\n",
    "from timeit import timeit"
   ]
  },
  {
   "cell_type": "code",
   "execution_count": 29,
   "metadata": {},
   "outputs": [],
   "source": [
    "num_var = 7\n",
    "num_samples=30\n",
    "mean = 0.5\n",
    "std_dev = 0.1\n",
    "means = [mean] * num_var\n",
    "cov = np.eye(num_var) * np.square(std_dev)\n",
    "data = np.random.multivariate_normal(means, cov, num_samples)\n",
    "data = np.vstack((data,data))"
   ]
  },
  {
   "cell_type": "code",
   "execution_count": 32,
   "metadata": {},
   "outputs": [],
   "source": [
    "data = np.asarray([[1,1],[1,2],[2,2],[3,3],[2,4]])"
   ]
  },
  {
   "cell_type": "code",
   "execution_count": 35,
   "metadata": {},
   "outputs": [
    {
     "data": {
      "text/plain": [
       "[array([0], dtype=uint64),\n",
       " array([1], dtype=uint64),\n",
       " array([2], dtype=uint64),\n",
       " array([3, 4], dtype=uint64)]"
      ]
     },
     "execution_count": 35,
     "metadata": {},
     "output_type": "execute_result"
    }
   ],
   "source": [
    "nds(data)[0]"
   ]
  },
  {
   "cell_type": "code",
   "execution_count": 37,
   "metadata": {},
   "outputs": [
    {
     "data": {
      "text/plain": [
       "[array([0]), array([1]), array([2]), array([3, 4])]"
      ]
     },
     "execution_count": 37,
     "metadata": {},
     "output_type": "execute_result"
    }
   ],
   "source": [
    "comp3 = (data > data[:, None]).any(axis=2)\n",
    "comp4 = (data >= data[:,None]).all(axis=2)\n",
    "\n",
    "i_dom_by_j = comp3 & comp4\n",
    "\n",
    "taken = np.where(i_dom_by_j.sum(axis=0)==0)[0]\n",
    "ranks = []\n",
    "ranks_new = taken\n",
    "left = data.shape[0]\n",
    "\n",
    "\n",
    "while left:\n",
    "    ranks.append(ranks_new)\n",
    "    left = left - len(ranks_new)\n",
    "    i_dom_by_j[ranks_new] = 0\n",
    "    ranks_new = np.where(i_dom_by_j.sum(axis=0)==0)[0]\n",
    "    ranks_new = np.setdiff1d(ranks_new, taken)\n",
    "    taken = np.append(taken, ranks_new)\n",
    "ranks"
   ]
  },
  {
   "cell_type": "code",
   "execution_count": 2,
   "metadata": {},
   "outputs": [],
   "source": [
    "setup = \"\"\"\n",
    "import numpy as np\n",
    "from pygmo import fast_non_dominated_sorting as nds\n",
    "\n",
    "num_var = 5\n",
    "num_samples=2000\n",
    "mean = 0.5\n",
    "std_dev = 0.1\n",
    "means = [mean] * num_var\n",
    "cov = np.eye(num_var) * np.square(std_dev)\n",
    "data = np.random.multivariate_normal(means, cov, num_samples)\n",
    "\"\"\""
   ]
  },
  {
   "cell_type": "code",
   "execution_count": 11,
   "metadata": {},
   "outputs": [],
   "source": [
    "code1 = \"\"\"nds(data)[0]\"\"\"\n",
    "\n",
    "\n",
    "code2 = \"\"\"\n",
    "comp3 = data > data[:, None]\n",
    "comp4 = data >= data[:,None]\n",
    "i_dom_by_j = np.logical_and(np.any(comp3, axis=2), np.all(comp4, axis=2))\n",
    "\"\"\"\n",
    "\n",
    "code3 = \"\"\"\n",
    "comp3 = (data > data[:, None]).any(axis=2)\n",
    "comp4 = (data >= data[:,None]).all(axis=2)\n",
    "i_dom_by_j = comp3&comp4\n",
    "\"\"\"\n",
    "\n",
    "code4 = \"\"\"\n",
    "comp3 = (data > data[:, None]).any(axis=2)\n",
    "comp4 = (data >= data[:,None]).all(axis=2)\n",
    "\n",
    "i_dom_by_j = comp3 & comp4\n",
    "\n",
    "taken = np.where(i_dom_by_j.sum(axis=0)==0)[0]\n",
    "ranks = []\n",
    "ranks_new = taken\n",
    "left = data.shape[0]\n",
    "\n",
    "\n",
    "while left:\n",
    "    ranks.append(ranks_new)\n",
    "    left = left - len(ranks_new)\n",
    "    i_dom_by_j[ranks_new] = 0\n",
    "    ranks_new = np.where(i_dom_by_j.sum(axis=0)==0)[0]\n",
    "    ranks_new = np.setdiff1d(ranks_new, taken)\n",
    "    taken = np.append(taken, ranks_new)\n",
    "    \"\"\"\n",
    "code5 = \"\"\"comp3 = data > data[:, None]\n",
    "comp4 = data >= data[:,None]\n",
    "i_dom_by_j = (comp3 & comp4).all(axis=2)\"\"\"\n",
    "\n",
    "code6 = \"\"\"\n",
    "comp3 = data > data[:, None]\n",
    "comp4 = data >= data[:,None]\n",
    "i_dom_by_j = (comp3 & comp4).all(axis=2)\n",
    "\n",
    "taken = np.where(i_dom_by_j.sum(axis=0)==0)[0]\n",
    "ranks = []\n",
    "ranks_new = taken\n",
    "left = data.shape[0]\n",
    "\n",
    "\n",
    "while left:\n",
    "    ranks.append(ranks_new)\n",
    "    left = left - len(ranks_new)\n",
    "    i_dom_by_j[ranks_new] = 0\n",
    "    ranks_new = np.where(i_dom_by_j.sum(axis=0)==0)[0]\n",
    "    ranks_new = np.setdiff1d(ranks_new, taken)\n",
    "    taken = np.append(taken, ranks_new)\n",
    "\"\"\""
   ]
  },
  {
   "cell_type": "code",
   "execution_count": 73,
   "metadata": {},
   "outputs": [
    {
     "data": {
      "text/plain": [
       "0.9377404320002825"
      ]
     },
     "execution_count": 73,
     "metadata": {},
     "output_type": "execute_result"
    }
   ],
   "source": [
    "timeit(code1, setup, number=10)"
   ]
  },
  {
   "cell_type": "code",
   "execution_count": 14,
   "metadata": {},
   "outputs": [
    {
     "data": {
      "text/plain": [
       "1.842095836000226"
      ]
     },
     "execution_count": 14,
     "metadata": {},
     "output_type": "execute_result"
    }
   ],
   "source": [
    "timeit(code2, setup, number=10)"
   ]
  },
  {
   "cell_type": "code",
   "execution_count": 15,
   "metadata": {},
   "outputs": [
    {
     "data": {
      "text/plain": [
       "1.8395706219998829"
      ]
     },
     "execution_count": 15,
     "metadata": {},
     "output_type": "execute_result"
    }
   ],
   "source": [
    "timeit(code3, setup, number=10)"
   ]
  },
  {
   "cell_type": "code",
   "execution_count": 74,
   "metadata": {},
   "outputs": [
    {
     "data": {
      "text/plain": [
       "2.0862643840009696"
      ]
     },
     "execution_count": 74,
     "metadata": {},
     "output_type": "execute_result"
    }
   ],
   "source": [
    "timeit(code4, setup, number=10)"
   ]
  },
  {
   "cell_type": "code",
   "execution_count": 16,
   "metadata": {},
   "outputs": [
    {
     "data": {
      "text/plain": [
       "1.2949060640021344"
      ]
     },
     "execution_count": 16,
     "metadata": {},
     "output_type": "execute_result"
    }
   ],
   "source": [
    "timeit(code5, setup, number=10)"
   ]
  },
  {
   "cell_type": "code",
   "execution_count": 18,
   "metadata": {},
   "outputs": [
    {
     "data": {
      "text/plain": [
       "1.6276612289984769"
      ]
     },
     "execution_count": 18,
     "metadata": {},
     "output_type": "execute_result"
    }
   ],
   "source": [
    "timeit(code6, setup, number=10)"
   ]
  },
  {
   "cell_type": "code",
   "execution_count": 221,
   "metadata": {},
   "outputs": [
    {
     "data": {
      "text/plain": [
       "0.35281351400044514"
      ]
     },
     "execution_count": 221,
     "metadata": {},
     "output_type": "execute_result"
    }
   ],
   "source": [
    "timeit(\"data>data[:,None]\", setup, number=10)"
   ]
  },
  {
   "cell_type": "code",
   "execution_count": 222,
   "metadata": {},
   "outputs": [
    {
     "data": {
      "text/plain": [
       "0.920774430000165"
      ]
     },
     "execution_count": 222,
     "metadata": {},
     "output_type": "execute_result"
    }
   ],
   "source": [
    "timeit(\"(data>data[:,None]).any(axis=2)\", setup, number=10)"
   ]
  },
  {
   "cell_type": "code",
   "execution_count": 219,
   "metadata": {},
   "outputs": [
    {
     "data": {
      "text/plain": [
       "1.8461779300014314"
      ]
     },
     "execution_count": 219,
     "metadata": {},
     "output_type": "execute_result"
    }
   ],
   "source": [
    "timeit(\"np.logical_or.reduce((data>data[:,None]),axis=2)\", setup, number=20)"
   ]
  },
  {
   "cell_type": "code",
   "execution_count": 33,
   "metadata": {},
   "outputs": [],
   "source": [
    "i_dom_by_j = np.empty((data.shape[0],data.shape[0]), dtype=bool)"
   ]
  },
  {
   "cell_type": "code",
   "execution_count": 42,
   "metadata": {},
   "outputs": [],
   "source": [
    "for i, dat in enumerate(data):\n",
    "    i_dom_by_j[i] = (dat > data).any(axis=1) & (dat >= data).all(axis=1)\n",
    "test = i_dom_by_j * 1"
   ]
  },
  {
   "cell_type": "code",
   "execution_count": 37,
   "metadata": {},
   "outputs": [],
   "source": [
    "comp3 = data > data[:, None]\n",
    "comp4 = data >= data[:,None]\n",
    "\n",
    "i_dom_by_j = np.logical_and(np.any(comp3, axis=2), np.all(comp4, axis=2)) * 1\n",
    "test2 = i_dom_by_j"
   ]
  },
  {
   "cell_type": "code",
   "execution_count": 228,
   "metadata": {},
   "outputs": [],
   "source": [
    "comp3 = (data > data[:, None]).any(axis=2)\n",
    "comp4 = (data >= data[:,None]).all(axis=2)\n",
    "a = comp3&comp4"
   ]
  },
  {
   "cell_type": "code",
   "execution_count": 232,
   "metadata": {},
   "outputs": [],
   "source": [
    "comp3 = data > data[:, None]\n",
    "comp4 = data >= data[:,None]\n",
    "b = (comp3 & comp4).all(axis=2)"
   ]
  },
  {
   "cell_type": "code",
   "execution_count": 231,
   "metadata": {},
   "outputs": [
    {
     "data": {
      "text/plain": [
       "(array([ 0,  0,  2,  2,  3,  3,  6,  6,  9, 10, 13, 13, 18, 18, 18, 26, 26,\n",
       "        26, 26, 26, 26, 26, 26, 26, 26, 26, 26, 26, 26]),\n",
       " array([11, 15, 11, 21,  5, 21, 11, 22,  5,  5,  5, 17,  5, 17, 31,  1,  2,\n",
       "         5,  7, 11, 16, 19, 20, 21, 22, 25, 28, 29, 30]))"
      ]
     },
     "execution_count": 231,
     "metadata": {},
     "output_type": "execute_result"
    }
   ],
   "source": [
    "np.where(a==True)"
   ]
  },
  {
   "cell_type": "code",
   "execution_count": 233,
   "metadata": {},
   "outputs": [
    {
     "data": {
      "text/plain": [
       "(array([ 0,  0,  2,  2,  3,  3,  6,  6,  9, 10, 13, 13, 18, 18, 18, 26, 26,\n",
       "        26, 26, 26, 26, 26, 26, 26, 26, 26, 26, 26, 26]),\n",
       " array([11, 15, 11, 21,  5, 21, 11, 22,  5,  5,  5, 17,  5, 17, 31,  1,  2,\n",
       "         5,  7, 11, 16, 19, 20, 21, 22, 25, 28, 29, 30]))"
      ]
     },
     "execution_count": 233,
     "metadata": {},
     "output_type": "execute_result"
    }
   ],
   "source": [
    "np.where(b==True)"
   ]
  },
  {
   "cell_type": "code",
   "execution_count": 237,
   "metadata": {},
   "outputs": [
    {
     "data": {
      "text/plain": [
       "(array([], dtype=int64), array([], dtype=int64))"
      ]
     },
     "execution_count": 237,
     "metadata": {},
     "output_type": "execute_result"
    }
   ],
   "source": [
    "np.where((a!=b))"
   ]
  },
  {
   "cell_type": "code",
   "execution_count": 71,
   "metadata": {},
   "outputs": [
    {
     "data": {
      "text/plain": [
       "0.03790868199939723"
      ]
     },
     "execution_count": 71,
     "metadata": {},
     "output_type": "execute_result"
    }
   ],
   "source": [
    "timeit(\"a.append(b)\", \"import numpy as np;a=[];b=np.asarray([1,3,4,5,6]*3000)\")"
   ]
  },
  {
   "cell_type": "code",
   "execution_count": 72,
   "metadata": {},
   "outputs": [
    {
     "data": {
      "text/plain": [
       "0.09325137600171729"
      ]
     },
     "execution_count": 72,
     "metadata": {},
     "output_type": "execute_result"
    }
   ],
   "source": [
    "timeit(\"a+=b.shape[0]\", \"import numpy as np;a=0;b=np.asarray([1,3,4,5,6]*3000)\")"
   ]
  },
  {
   "cell_type": "code",
   "execution_count": null,
   "metadata": {},
   "outputs": [],
   "source": []
  }
 ],
 "metadata": {
  "kernelspec": {
   "display_name": "Python 3",
   "language": "python",
   "name": "python3"
  },
  "language_info": {
   "codemirror_mode": {
    "name": "ipython",
    "version": 3
   },
   "file_extension": ".py",
   "mimetype": "text/x-python",
   "name": "python",
   "nbconvert_exporter": "python",
   "pygments_lexer": "ipython3",
   "version": "3.7.5rc1"
  }
 },
 "nbformat": 4,
 "nbformat_minor": 4
}
