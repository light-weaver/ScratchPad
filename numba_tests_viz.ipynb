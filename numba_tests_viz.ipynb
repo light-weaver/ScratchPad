{
 "cells": [
  {
   "cell_type": "code",
   "execution_count": 34,
   "id": "physical-converter",
   "metadata": {},
   "outputs": [],
   "source": [
    "import plotly.express as ex\n",
    "import pandas as pd"
   ]
  },
  {
   "cell_type": "code",
   "execution_count": 41,
   "id": "binding-resort",
   "metadata": {},
   "outputs": [],
   "source": [
    "data = pd.read_csv(\"numba_tests.csv\", index_col=0)"
   ]
  },
  {
   "cell_type": "code",
   "execution_count": 42,
   "id": "beneficial-preparation",
   "metadata": {},
   "outputs": [],
   "source": [
    "long_data = data.melt(value_vars=[\"pygmo\", \"numba\"], id_vars=[\"num_samples\", \"num_obj\"], value_name=\"Time\", var_name=\"Algorithm\")"
   ]
  },
  {
   "cell_type": "code",
   "execution_count": 83,
   "id": "competent-algorithm",
   "metadata": {},
   "outputs": [],
   "source": [
    "fig1 = ex.line(long_data,\n",
    "        x=\"num_samples\",\n",
    "        y=\"time\",\n",
    "        color=\"Algorithm\",\n",
    "        range_y=[0, long_data[\"time\"].max()],\n",
    "        animation_frame=\"num_obj\")"
   ]
  },
  {
   "cell_type": "code",
   "execution_count": 85,
   "id": "local-compensation",
   "metadata": {},
   "outputs": [],
   "source": [
    "fig1.write_html(\"numba1.html\")"
   ]
  },
  {
   "cell_type": "code",
   "execution_count": 59,
   "id": "protected-region",
   "metadata": {
    "collapsed": true,
    "jupyter": {
     "outputs_hidden": true,
     "source_hidden": true
    }
   },
   "outputs": [
    {
     "data": {
      "application/vnd.plotly.v1+json": {
       "config": {
        "plotlyServerURL": "https://plot.ly"
       },
       "data": [
        {
         "hovertemplate": "Algorithm=pygmo<br>num_samples=100.0<br>num_obj=%{x}<br>time=%{y}<extra></extra>",
         "legendgroup": "pygmo",
         "line": {
          "color": "#636efa",
          "dash": "solid"
         },
         "mode": "lines",
         "name": "pygmo",
         "orientation": "v",
         "showlegend": true,
         "type": "scatter",
         "x": [
          3,
          4,
          5,
          6,
          7,
          8,
          9,
          10,
          20
         ],
         "xaxis": "x",
         "y": [
          0.0015819569998711813,
          0.0014373129997693466,
          0.0013805849994241726,
          0.0013689040024473798,
          0.0013247700007923413,
          0.0013027679997321686,
          0.0012430050010152627,
          0.0012228670020704158,
          0.0012158640020061284
         ],
         "yaxis": "y"
        },
        {
         "hovertemplate": "Algorithm=numba<br>num_samples=100.0<br>num_obj=%{x}<br>time=%{y}<extra></extra>",
         "legendgroup": "numba",
         "line": {
          "color": "#EF553B",
          "dash": "solid"
         },
         "mode": "lines",
         "name": "numba",
         "orientation": "v",
         "showlegend": true,
         "type": "scatter",
         "x": [
          3,
          4,
          5,
          6,
          7,
          8,
          9,
          10,
          20
         ],
         "xaxis": "x",
         "y": [
          0.000311329000396654,
          0.00034359100027359085,
          0.0004390419999253936,
          0.00040344399894820526,
          0.00043647700294968667,
          0.00044212700231582863,
          0.00045271800263435585,
          0.0004928029993607197,
          0.0005085230004624464
         ],
         "yaxis": "y"
        }
       ],
       "frames": [
        {
         "data": [
          {
           "hovertemplate": "Algorithm=pygmo<br>num_samples=100.0<br>num_obj=%{x}<br>time=%{y}<extra></extra>",
           "legendgroup": "pygmo",
           "line": {
            "color": "#636efa",
            "dash": "solid"
           },
           "mode": "lines",
           "name": "pygmo",
           "orientation": "v",
           "showlegend": true,
           "type": "scatter",
           "x": [
            3,
            4,
            5,
            6,
            7,
            8,
            9,
            10,
            20
           ],
           "xaxis": "x",
           "y": [
            0.0015819569998711813,
            0.0014373129997693466,
            0.0013805849994241726,
            0.0013689040024473798,
            0.0013247700007923413,
            0.0013027679997321686,
            0.0012430050010152627,
            0.0012228670020704158,
            0.0012158640020061284
           ],
           "yaxis": "y"
          },
          {
           "hovertemplate": "Algorithm=numba<br>num_samples=100.0<br>num_obj=%{x}<br>time=%{y}<extra></extra>",
           "legendgroup": "numba",
           "line": {
            "color": "#EF553B",
            "dash": "solid"
           },
           "mode": "lines",
           "name": "numba",
           "orientation": "v",
           "showlegend": true,
           "type": "scatter",
           "x": [
            3,
            4,
            5,
            6,
            7,
            8,
            9,
            10,
            20
           ],
           "xaxis": "x",
           "y": [
            0.000311329000396654,
            0.00034359100027359085,
            0.0004390419999253936,
            0.00040344399894820526,
            0.00043647700294968667,
            0.00044212700231582863,
            0.00045271800263435585,
            0.0004928029993607197,
            0.0005085230004624464
           ],
           "yaxis": "y"
          }
         ],
         "name": "100.0"
        },
        {
         "data": [
          {
           "hovertemplate": "Algorithm=pygmo<br>num_samples=200.0<br>num_obj=%{x}<br>time=%{y}<extra></extra>",
           "legendgroup": "pygmo",
           "line": {
            "color": "#636efa",
            "dash": "solid"
           },
           "mode": "lines",
           "name": "pygmo",
           "orientation": "v",
           "showlegend": true,
           "type": "scatter",
           "x": [
            3,
            4,
            5,
            6,
            7,
            8,
            9,
            10,
            20
           ],
           "xaxis": "x",
           "y": [
            0.004893061999609928,
            0.0049210940014745574,
            0.0048277470013999855,
            0.0045525759996962725,
            0.004658628000470344,
            0.004376854001748143,
            0.004319564999605063,
            0.004278405998775271,
            0.004049283001222648
           ],
           "yaxis": "y"
          },
          {
           "hovertemplate": "Algorithm=numba<br>num_samples=200.0<br>num_obj=%{x}<br>time=%{y}<extra></extra>",
           "legendgroup": "numba",
           "line": {
            "color": "#EF553B",
            "dash": "solid"
           },
           "mode": "lines",
           "name": "numba",
           "orientation": "v",
           "showlegend": true,
           "type": "scatter",
           "x": [
            3,
            4,
            5,
            6,
            7,
            8,
            9,
            10,
            20
           ],
           "xaxis": "x",
           "y": [
            0.00117641999895568,
            0.0015889310016063973,
            0.0013041310012340546,
            0.001375837000523461,
            0.0018958020009449683,
            0.001900931001728168,
            0.002075222000712529,
            0.0020888879989797715,
            0.002259662000142271
           ],
           "yaxis": "y"
          }
         ],
         "name": "200.0"
        },
        {
         "data": [
          {
           "hovertemplate": "Algorithm=pygmo<br>num_samples=500.0<br>num_obj=%{x}<br>time=%{y}<extra></extra>",
           "legendgroup": "pygmo",
           "line": {
            "color": "#636efa",
            "dash": "solid"
           },
           "mode": "lines",
           "name": "pygmo",
           "orientation": "v",
           "showlegend": true,
           "type": "scatter",
           "x": [
            3,
            4,
            5,
            6,
            7,
            8,
            9,
            10,
            20
           ],
           "xaxis": "x",
           "y": [
            0.026304904000426173,
            0.026620974000252318,
            0.026300648001779336,
            0.02560352799991961,
            0.027042314999562226,
            0.024699574998521708,
            0.02647600199998124,
            0.024758376999670872,
            0.038622950996796135
           ],
           "yaxis": "y"
          },
          {
           "hovertemplate": "Algorithm=numba<br>num_samples=500.0<br>num_obj=%{x}<br>time=%{y}<extra></extra>",
           "legendgroup": "numba",
           "line": {
            "color": "#EF553B",
            "dash": "solid"
           },
           "mode": "lines",
           "name": "numba",
           "orientation": "v",
           "showlegend": true,
           "type": "scatter",
           "x": [
            3,
            4,
            5,
            6,
            7,
            8,
            9,
            10,
            20
           ],
           "xaxis": "x",
           "y": [
            0.006275371000810992,
            0.006717148000461748,
            0.009190625998598987,
            0.010280860999046126,
            0.011926280003535794,
            0.012248972001543734,
            0.012613802999112522,
            0.01324029099851032,
            0.014767926000786247
           ],
           "yaxis": "y"
          }
         ],
         "name": "500.0"
        },
        {
         "data": [
          {
           "hovertemplate": "Algorithm=pygmo<br>num_samples=1000.0<br>num_obj=%{x}<br>time=%{y}<extra></extra>",
           "legendgroup": "pygmo",
           "line": {
            "color": "#636efa",
            "dash": "solid"
           },
           "mode": "lines",
           "name": "pygmo",
           "orientation": "v",
           "showlegend": true,
           "type": "scatter",
           "x": [
            3,
            4,
            5,
            6,
            7,
            8,
            9,
            10,
            20
           ],
           "xaxis": "x",
           "y": [
            0.0975422779993096,
            0.09883509899736964,
            0.10208218499974464,
            0.09744387600221673,
            0.0985390929999994,
            0.09620225699836736,
            0.09560962499745074,
            0.09583075599948644,
            0.09080217799782986
           ],
           "yaxis": "y"
          },
          {
           "hovertemplate": "Algorithm=numba<br>num_samples=1000.0<br>num_obj=%{x}<br>time=%{y}<extra></extra>",
           "legendgroup": "numba",
           "line": {
            "color": "#EF553B",
            "dash": "solid"
           },
           "mode": "lines",
           "name": "numba",
           "orientation": "v",
           "showlegend": true,
           "type": "scatter",
           "x": [
            3,
            4,
            5,
            6,
            7,
            8,
            9,
            10,
            20
           ],
           "xaxis": "x",
           "y": [
            0.019584853998821927,
            0.02484300899959635,
            0.0308713149970572,
            0.03987377600060426,
            0.041645714001788285,
            0.04567104399757227,
            0.05083478999949875,
            0.05197531299927505,
            0.06000111500179627
           ],
           "yaxis": "y"
          }
         ],
         "name": "1000.0"
        },
        {
         "data": [
          {
           "hovertemplate": "Algorithm=pygmo<br>num_samples=2000.0<br>num_obj=%{x}<br>time=%{y}<extra></extra>",
           "legendgroup": "pygmo",
           "line": {
            "color": "#636efa",
            "dash": "solid"
           },
           "mode": "lines",
           "name": "pygmo",
           "orientation": "v",
           "showlegend": true,
           "type": "scatter",
           "x": [
            3,
            4,
            5,
            6,
            7,
            8,
            9,
            10,
            20
           ],
           "xaxis": "x",
           "y": [
            0.3879895930003841,
            0.3716591219999827,
            0.3728979089974018,
            0.3763092629997118,
            0.3701089989990578,
            0.369383471999754,
            0.3637776359973941,
            0.35989363200133084,
            0.3491145689986297
           ],
           "yaxis": "y"
          },
          {
           "hovertemplate": "Algorithm=numba<br>num_samples=2000.0<br>num_obj=%{x}<br>time=%{y}<extra></extra>",
           "legendgroup": "numba",
           "line": {
            "color": "#EF553B",
            "dash": "solid"
           },
           "mode": "lines",
           "name": "numba",
           "orientation": "v",
           "showlegend": true,
           "type": "scatter",
           "x": [
            3,
            4,
            5,
            6,
            7,
            8,
            9,
            10,
            20
           ],
           "xaxis": "x",
           "y": [
            0.06934712799920817,
            0.08532485199975781,
            0.1156416519988852,
            0.14330069700008607,
            0.16099387499707518,
            0.18035354099993128,
            0.18317790800210787,
            0.18804261300101646,
            0.23472897600004214
           ],
           "yaxis": "y"
          }
         ],
         "name": "2000.0"
        },
        {
         "data": [
          {
           "hovertemplate": "Algorithm=pygmo<br>num_samples=3000.0<br>num_obj=%{x}<br>time=%{y}<extra></extra>",
           "legendgroup": "pygmo",
           "line": {
            "color": "#636efa",
            "dash": "solid"
           },
           "mode": "lines",
           "name": "pygmo",
           "orientation": "v",
           "showlegend": true,
           "type": "scatter",
           "x": [
            3,
            4,
            5,
            6,
            7,
            8,
            9,
            10,
            20
           ],
           "xaxis": "x",
           "y": [
            0.8526756289975309,
            0.8453567790020315,
            0.8198085139993054,
            0.8250055889984651,
            0.8160099899978377,
            0.8220576860003348,
            0.8481580059997214,
            0.8232800510013476,
            0.8009259509999538
           ],
           "yaxis": "y"
          },
          {
           "hovertemplate": "Algorithm=numba<br>num_samples=3000.0<br>num_obj=%{x}<br>time=%{y}<extra></extra>",
           "legendgroup": "numba",
           "line": {
            "color": "#EF553B",
            "dash": "solid"
           },
           "mode": "lines",
           "name": "numba",
           "orientation": "v",
           "showlegend": true,
           "type": "scatter",
           "x": [
            3,
            4,
            5,
            6,
            7,
            8,
            9,
            10,
            20
           ],
           "xaxis": "x",
           "y": [
            0.14908640399880824,
            0.18362200800038408,
            0.24612142000114545,
            0.3044005849988025,
            0.3317963649969897,
            0.3682432800014793,
            0.4123839540006884,
            0.4572376729993266,
            0.5356901179984561
           ],
           "yaxis": "y"
          }
         ],
         "name": "3000.0"
        },
        {
         "data": [
          {
           "hovertemplate": "Algorithm=pygmo<br>num_samples=5000.0<br>num_obj=%{x}<br>time=%{y}<extra></extra>",
           "legendgroup": "pygmo",
           "line": {
            "color": "#636efa",
            "dash": "solid"
           },
           "mode": "lines",
           "name": "pygmo",
           "orientation": "v",
           "showlegend": true,
           "type": "scatter",
           "x": [
            3,
            4,
            5,
            6,
            7,
            8,
            9,
            10,
            20
           ],
           "xaxis": "x",
           "y": [
            2.4276888189997408,
            2.3803081879996166,
            2.341305134999857,
            2.357324804001109,
            2.2695232649966783,
            2.311865891999332,
            2.3355233619986397,
            2.2954130699981756,
            2.2380097489985933
           ],
           "yaxis": "y"
          },
          {
           "hovertemplate": "Algorithm=numba<br>num_samples=5000.0<br>num_obj=%{x}<br>time=%{y}<extra></extra>",
           "legendgroup": "numba",
           "line": {
            "color": "#EF553B",
            "dash": "solid"
           },
           "mode": "lines",
           "name": "numba",
           "orientation": "v",
           "showlegend": true,
           "type": "scatter",
           "x": [
            3,
            4,
            5,
            6,
            7,
            8,
            9,
            10,
            20
           ],
           "xaxis": "x",
           "y": [
            0.3794947399983357,
            0.4801402970006166,
            0.6111969939993287,
            0.7977699289986049,
            0.8926142189993698,
            1.0267423919976864,
            1.1325868449966947,
            1.2233235630010313,
            1.4785478160010823
           ],
           "yaxis": "y"
          }
         ],
         "name": "5000.0"
        },
        {
         "data": [
          {
           "hovertemplate": "Algorithm=pygmo<br>num_samples=10000.0<br>num_obj=%{x}<br>time=%{y}<extra></extra>",
           "legendgroup": "pygmo",
           "line": {
            "color": "#636efa",
            "dash": "solid"
           },
           "mode": "lines",
           "name": "pygmo",
           "orientation": "v",
           "showlegend": true,
           "type": "scatter",
           "x": [
            3,
            4,
            5,
            6,
            7,
            8,
            9,
            10,
            20
           ],
           "xaxis": "x",
           "y": [
            9.87230174800061,
            9.784777578999636,
            9.631244444997721,
            10.118985641998734,
            9.636076622002292,
            9.53247297100097,
            9.208737783999824,
            9.23942179700316,
            8.989115193999167
           ],
           "yaxis": "y"
          },
          {
           "hovertemplate": "Algorithm=numba<br>num_samples=10000.0<br>num_obj=%{x}<br>time=%{y}<extra></extra>",
           "legendgroup": "numba",
           "line": {
            "color": "#EF553B",
            "dash": "solid"
           },
           "mode": "lines",
           "name": "numba",
           "orientation": "v",
           "showlegend": true,
           "type": "scatter",
           "x": [
            3,
            4,
            5,
            6,
            7,
            8,
            9,
            10,
            20
           ],
           "xaxis": "x",
           "y": [
            1.5948417390027316,
            1.9454447600001004,
            2.5751872879991424,
            3.2667729929999036,
            3.667468151001231,
            4.284099521999451,
            4.474993058996915,
            4.877335465997021,
            6.073842777997926
           ],
           "yaxis": "y"
          }
         ],
         "name": "10000.0"
        }
       ],
       "layout": {
        "autosize": true,
        "legend": {
         "title": {
          "text": "Algorithm"
         },
         "tracegroupgap": 0
        },
        "margin": {
         "t": 60
        },
        "sliders": [
         {
          "active": 0,
          "currentvalue": {
           "prefix": "num_samples="
          },
          "len": 0.9,
          "pad": {
           "b": 10,
           "t": 60
          },
          "steps": [
           {
            "args": [
             [
              "100.0"
             ],
             {
              "frame": {
               "duration": 0,
               "redraw": false
              },
              "fromcurrent": true,
              "mode": "immediate",
              "transition": {
               "duration": 0,
               "easing": "linear"
              }
             }
            ],
            "label": "100.0",
            "method": "animate"
           },
           {
            "args": [
             [
              "200.0"
             ],
             {
              "frame": {
               "duration": 0,
               "redraw": false
              },
              "fromcurrent": true,
              "mode": "immediate",
              "transition": {
               "duration": 0,
               "easing": "linear"
              }
             }
            ],
            "label": "200.0",
            "method": "animate"
           },
           {
            "args": [
             [
              "500.0"
             ],
             {
              "frame": {
               "duration": 0,
               "redraw": false
              },
              "fromcurrent": true,
              "mode": "immediate",
              "transition": {
               "duration": 0,
               "easing": "linear"
              }
             }
            ],
            "label": "500.0",
            "method": "animate"
           },
           {
            "args": [
             [
              "1000.0"
             ],
             {
              "frame": {
               "duration": 0,
               "redraw": false
              },
              "fromcurrent": true,
              "mode": "immediate",
              "transition": {
               "duration": 0,
               "easing": "linear"
              }
             }
            ],
            "label": "1000.0",
            "method": "animate"
           },
           {
            "args": [
             [
              "2000.0"
             ],
             {
              "frame": {
               "duration": 0,
               "redraw": false
              },
              "fromcurrent": true,
              "mode": "immediate",
              "transition": {
               "duration": 0,
               "easing": "linear"
              }
             }
            ],
            "label": "2000.0",
            "method": "animate"
           },
           {
            "args": [
             [
              "3000.0"
             ],
             {
              "frame": {
               "duration": 0,
               "redraw": false
              },
              "fromcurrent": true,
              "mode": "immediate",
              "transition": {
               "duration": 0,
               "easing": "linear"
              }
             }
            ],
            "label": "3000.0",
            "method": "animate"
           },
           {
            "args": [
             [
              "5000.0"
             ],
             {
              "frame": {
               "duration": 0,
               "redraw": false
              },
              "fromcurrent": true,
              "mode": "immediate",
              "transition": {
               "duration": 0,
               "easing": "linear"
              }
             }
            ],
            "label": "5000.0",
            "method": "animate"
           },
           {
            "args": [
             [
              "10000.0"
             ],
             {
              "frame": {
               "duration": 0,
               "redraw": false
              },
              "fromcurrent": true,
              "mode": "immediate",
              "transition": {
               "duration": 0,
               "easing": "linear"
              }
             }
            ],
            "label": "10000.0",
            "method": "animate"
           }
          ],
          "x": 0.1,
          "xanchor": "left",
          "y": 0,
          "yanchor": "top"
         }
        ],
        "template": {
         "data": {
          "bar": [
           {
            "error_x": {
             "color": "#2a3f5f"
            },
            "error_y": {
             "color": "#2a3f5f"
            },
            "marker": {
             "line": {
              "color": "#E5ECF6",
              "width": 0.5
             }
            },
            "type": "bar"
           }
          ],
          "barpolar": [
           {
            "marker": {
             "line": {
              "color": "#E5ECF6",
              "width": 0.5
             }
            },
            "type": "barpolar"
           }
          ],
          "carpet": [
           {
            "aaxis": {
             "endlinecolor": "#2a3f5f",
             "gridcolor": "white",
             "linecolor": "white",
             "minorgridcolor": "white",
             "startlinecolor": "#2a3f5f"
            },
            "baxis": {
             "endlinecolor": "#2a3f5f",
             "gridcolor": "white",
             "linecolor": "white",
             "minorgridcolor": "white",
             "startlinecolor": "#2a3f5f"
            },
            "type": "carpet"
           }
          ],
          "choropleth": [
           {
            "colorbar": {
             "outlinewidth": 0,
             "ticks": ""
            },
            "type": "choropleth"
           }
          ],
          "contour": [
           {
            "colorbar": {
             "outlinewidth": 0,
             "ticks": ""
            },
            "colorscale": [
             [
              0,
              "#0d0887"
             ],
             [
              0.1111111111111111,
              "#46039f"
             ],
             [
              0.2222222222222222,
              "#7201a8"
             ],
             [
              0.3333333333333333,
              "#9c179e"
             ],
             [
              0.4444444444444444,
              "#bd3786"
             ],
             [
              0.5555555555555556,
              "#d8576b"
             ],
             [
              0.6666666666666666,
              "#ed7953"
             ],
             [
              0.7777777777777778,
              "#fb9f3a"
             ],
             [
              0.8888888888888888,
              "#fdca26"
             ],
             [
              1,
              "#f0f921"
             ]
            ],
            "type": "contour"
           }
          ],
          "contourcarpet": [
           {
            "colorbar": {
             "outlinewidth": 0,
             "ticks": ""
            },
            "type": "contourcarpet"
           }
          ],
          "heatmap": [
           {
            "colorbar": {
             "outlinewidth": 0,
             "ticks": ""
            },
            "colorscale": [
             [
              0,
              "#0d0887"
             ],
             [
              0.1111111111111111,
              "#46039f"
             ],
             [
              0.2222222222222222,
              "#7201a8"
             ],
             [
              0.3333333333333333,
              "#9c179e"
             ],
             [
              0.4444444444444444,
              "#bd3786"
             ],
             [
              0.5555555555555556,
              "#d8576b"
             ],
             [
              0.6666666666666666,
              "#ed7953"
             ],
             [
              0.7777777777777778,
              "#fb9f3a"
             ],
             [
              0.8888888888888888,
              "#fdca26"
             ],
             [
              1,
              "#f0f921"
             ]
            ],
            "type": "heatmap"
           }
          ],
          "heatmapgl": [
           {
            "colorbar": {
             "outlinewidth": 0,
             "ticks": ""
            },
            "colorscale": [
             [
              0,
              "#0d0887"
             ],
             [
              0.1111111111111111,
              "#46039f"
             ],
             [
              0.2222222222222222,
              "#7201a8"
             ],
             [
              0.3333333333333333,
              "#9c179e"
             ],
             [
              0.4444444444444444,
              "#bd3786"
             ],
             [
              0.5555555555555556,
              "#d8576b"
             ],
             [
              0.6666666666666666,
              "#ed7953"
             ],
             [
              0.7777777777777778,
              "#fb9f3a"
             ],
             [
              0.8888888888888888,
              "#fdca26"
             ],
             [
              1,
              "#f0f921"
             ]
            ],
            "type": "heatmapgl"
           }
          ],
          "histogram": [
           {
            "marker": {
             "colorbar": {
              "outlinewidth": 0,
              "ticks": ""
             }
            },
            "type": "histogram"
           }
          ],
          "histogram2d": [
           {
            "colorbar": {
             "outlinewidth": 0,
             "ticks": ""
            },
            "colorscale": [
             [
              0,
              "#0d0887"
             ],
             [
              0.1111111111111111,
              "#46039f"
             ],
             [
              0.2222222222222222,
              "#7201a8"
             ],
             [
              0.3333333333333333,
              "#9c179e"
             ],
             [
              0.4444444444444444,
              "#bd3786"
             ],
             [
              0.5555555555555556,
              "#d8576b"
             ],
             [
              0.6666666666666666,
              "#ed7953"
             ],
             [
              0.7777777777777778,
              "#fb9f3a"
             ],
             [
              0.8888888888888888,
              "#fdca26"
             ],
             [
              1,
              "#f0f921"
             ]
            ],
            "type": "histogram2d"
           }
          ],
          "histogram2dcontour": [
           {
            "colorbar": {
             "outlinewidth": 0,
             "ticks": ""
            },
            "colorscale": [
             [
              0,
              "#0d0887"
             ],
             [
              0.1111111111111111,
              "#46039f"
             ],
             [
              0.2222222222222222,
              "#7201a8"
             ],
             [
              0.3333333333333333,
              "#9c179e"
             ],
             [
              0.4444444444444444,
              "#bd3786"
             ],
             [
              0.5555555555555556,
              "#d8576b"
             ],
             [
              0.6666666666666666,
              "#ed7953"
             ],
             [
              0.7777777777777778,
              "#fb9f3a"
             ],
             [
              0.8888888888888888,
              "#fdca26"
             ],
             [
              1,
              "#f0f921"
             ]
            ],
            "type": "histogram2dcontour"
           }
          ],
          "mesh3d": [
           {
            "colorbar": {
             "outlinewidth": 0,
             "ticks": ""
            },
            "type": "mesh3d"
           }
          ],
          "parcoords": [
           {
            "line": {
             "colorbar": {
              "outlinewidth": 0,
              "ticks": ""
             }
            },
            "type": "parcoords"
           }
          ],
          "pie": [
           {
            "automargin": true,
            "type": "pie"
           }
          ],
          "scatter": [
           {
            "marker": {
             "colorbar": {
              "outlinewidth": 0,
              "ticks": ""
             }
            },
            "type": "scatter"
           }
          ],
          "scatter3d": [
           {
            "line": {
             "colorbar": {
              "outlinewidth": 0,
              "ticks": ""
             }
            },
            "marker": {
             "colorbar": {
              "outlinewidth": 0,
              "ticks": ""
             }
            },
            "type": "scatter3d"
           }
          ],
          "scattercarpet": [
           {
            "marker": {
             "colorbar": {
              "outlinewidth": 0,
              "ticks": ""
             }
            },
            "type": "scattercarpet"
           }
          ],
          "scattergeo": [
           {
            "marker": {
             "colorbar": {
              "outlinewidth": 0,
              "ticks": ""
             }
            },
            "type": "scattergeo"
           }
          ],
          "scattergl": [
           {
            "marker": {
             "colorbar": {
              "outlinewidth": 0,
              "ticks": ""
             }
            },
            "type": "scattergl"
           }
          ],
          "scattermapbox": [
           {
            "marker": {
             "colorbar": {
              "outlinewidth": 0,
              "ticks": ""
             }
            },
            "type": "scattermapbox"
           }
          ],
          "scatterpolar": [
           {
            "marker": {
             "colorbar": {
              "outlinewidth": 0,
              "ticks": ""
             }
            },
            "type": "scatterpolar"
           }
          ],
          "scatterpolargl": [
           {
            "marker": {
             "colorbar": {
              "outlinewidth": 0,
              "ticks": ""
             }
            },
            "type": "scatterpolargl"
           }
          ],
          "scatterternary": [
           {
            "marker": {
             "colorbar": {
              "outlinewidth": 0,
              "ticks": ""
             }
            },
            "type": "scatterternary"
           }
          ],
          "surface": [
           {
            "colorbar": {
             "outlinewidth": 0,
             "ticks": ""
            },
            "colorscale": [
             [
              0,
              "#0d0887"
             ],
             [
              0.1111111111111111,
              "#46039f"
             ],
             [
              0.2222222222222222,
              "#7201a8"
             ],
             [
              0.3333333333333333,
              "#9c179e"
             ],
             [
              0.4444444444444444,
              "#bd3786"
             ],
             [
              0.5555555555555556,
              "#d8576b"
             ],
             [
              0.6666666666666666,
              "#ed7953"
             ],
             [
              0.7777777777777778,
              "#fb9f3a"
             ],
             [
              0.8888888888888888,
              "#fdca26"
             ],
             [
              1,
              "#f0f921"
             ]
            ],
            "type": "surface"
           }
          ],
          "table": [
           {
            "cells": {
             "fill": {
              "color": "#EBF0F8"
             },
             "line": {
              "color": "white"
             }
            },
            "header": {
             "fill": {
              "color": "#C8D4E3"
             },
             "line": {
              "color": "white"
             }
            },
            "type": "table"
           }
          ]
         },
         "layout": {
          "annotationdefaults": {
           "arrowcolor": "#2a3f5f",
           "arrowhead": 0,
           "arrowwidth": 1
          },
          "autotypenumbers": "strict",
          "coloraxis": {
           "colorbar": {
            "outlinewidth": 0,
            "ticks": ""
           }
          },
          "colorscale": {
           "diverging": [
            [
             0,
             "#8e0152"
            ],
            [
             0.1,
             "#c51b7d"
            ],
            [
             0.2,
             "#de77ae"
            ],
            [
             0.3,
             "#f1b6da"
            ],
            [
             0.4,
             "#fde0ef"
            ],
            [
             0.5,
             "#f7f7f7"
            ],
            [
             0.6,
             "#e6f5d0"
            ],
            [
             0.7,
             "#b8e186"
            ],
            [
             0.8,
             "#7fbc41"
            ],
            [
             0.9,
             "#4d9221"
            ],
            [
             1,
             "#276419"
            ]
           ],
           "sequential": [
            [
             0,
             "#0d0887"
            ],
            [
             0.1111111111111111,
             "#46039f"
            ],
            [
             0.2222222222222222,
             "#7201a8"
            ],
            [
             0.3333333333333333,
             "#9c179e"
            ],
            [
             0.4444444444444444,
             "#bd3786"
            ],
            [
             0.5555555555555556,
             "#d8576b"
            ],
            [
             0.6666666666666666,
             "#ed7953"
            ],
            [
             0.7777777777777778,
             "#fb9f3a"
            ],
            [
             0.8888888888888888,
             "#fdca26"
            ],
            [
             1,
             "#f0f921"
            ]
           ],
           "sequentialminus": [
            [
             0,
             "#0d0887"
            ],
            [
             0.1111111111111111,
             "#46039f"
            ],
            [
             0.2222222222222222,
             "#7201a8"
            ],
            [
             0.3333333333333333,
             "#9c179e"
            ],
            [
             0.4444444444444444,
             "#bd3786"
            ],
            [
             0.5555555555555556,
             "#d8576b"
            ],
            [
             0.6666666666666666,
             "#ed7953"
            ],
            [
             0.7777777777777778,
             "#fb9f3a"
            ],
            [
             0.8888888888888888,
             "#fdca26"
            ],
            [
             1,
             "#f0f921"
            ]
           ]
          },
          "colorway": [
           "#636efa",
           "#EF553B",
           "#00cc96",
           "#ab63fa",
           "#FFA15A",
           "#19d3f3",
           "#FF6692",
           "#B6E880",
           "#FF97FF",
           "#FECB52"
          ],
          "font": {
           "color": "#2a3f5f"
          },
          "geo": {
           "bgcolor": "white",
           "lakecolor": "white",
           "landcolor": "#E5ECF6",
           "showlakes": true,
           "showland": true,
           "subunitcolor": "white"
          },
          "hoverlabel": {
           "align": "left"
          },
          "hovermode": "closest",
          "mapbox": {
           "style": "light"
          },
          "paper_bgcolor": "white",
          "plot_bgcolor": "#E5ECF6",
          "polar": {
           "angularaxis": {
            "gridcolor": "white",
            "linecolor": "white",
            "ticks": ""
           },
           "bgcolor": "#E5ECF6",
           "radialaxis": {
            "gridcolor": "white",
            "linecolor": "white",
            "ticks": ""
           }
          },
          "scene": {
           "xaxis": {
            "backgroundcolor": "#E5ECF6",
            "gridcolor": "white",
            "gridwidth": 2,
            "linecolor": "white",
            "showbackground": true,
            "ticks": "",
            "zerolinecolor": "white"
           },
           "yaxis": {
            "backgroundcolor": "#E5ECF6",
            "gridcolor": "white",
            "gridwidth": 2,
            "linecolor": "white",
            "showbackground": true,
            "ticks": "",
            "zerolinecolor": "white"
           },
           "zaxis": {
            "backgroundcolor": "#E5ECF6",
            "gridcolor": "white",
            "gridwidth": 2,
            "linecolor": "white",
            "showbackground": true,
            "ticks": "",
            "zerolinecolor": "white"
           }
          },
          "shapedefaults": {
           "line": {
            "color": "#2a3f5f"
           }
          },
          "ternary": {
           "aaxis": {
            "gridcolor": "white",
            "linecolor": "white",
            "ticks": ""
           },
           "baxis": {
            "gridcolor": "white",
            "linecolor": "white",
            "ticks": ""
           },
           "bgcolor": "#E5ECF6",
           "caxis": {
            "gridcolor": "white",
            "linecolor": "white",
            "ticks": ""
           }
          },
          "title": {
           "x": 0.05
          },
          "xaxis": {
           "automargin": true,
           "gridcolor": "white",
           "linecolor": "white",
           "ticks": "",
           "title": {
            "standoff": 15
           },
           "zerolinecolor": "white",
           "zerolinewidth": 2
          },
          "yaxis": {
           "automargin": true,
           "gridcolor": "white",
           "linecolor": "white",
           "ticks": "",
           "title": {
            "standoff": 15
           },
           "zerolinecolor": "white",
           "zerolinewidth": 2
          }
         }
        },
        "updatemenus": [
         {
          "buttons": [
           {
            "args": [
             null,
             {
              "frame": {
               "duration": 500,
               "redraw": false
              },
              "fromcurrent": true,
              "mode": "immediate",
              "transition": {
               "duration": 500,
               "easing": "linear"
              }
             }
            ],
            "label": "&#9654;",
            "method": "animate"
           },
           {
            "args": [
             [
              null
             ],
             {
              "frame": {
               "duration": 0,
               "redraw": false
              },
              "fromcurrent": true,
              "mode": "immediate",
              "transition": {
               "duration": 0,
               "easing": "linear"
              }
             }
            ],
            "label": "&#9724;",
            "method": "animate"
           }
          ],
          "direction": "left",
          "pad": {
           "r": 10,
           "t": 70
          },
          "showactive": false,
          "type": "buttons",
          "x": 0.1,
          "xanchor": "right",
          "y": 0,
          "yanchor": "top"
         }
        ],
        "xaxis": {
         "anchor": "y",
         "autorange": true,
         "domain": [
          0,
          1
         ],
         "range": [
          3,
          20
         ],
         "title": {
          "text": "num_obj"
         },
         "type": "linear"
        },
        "yaxis": {
         "anchor": "x",
         "domain": [
          0,
          1
         ],
         "range": [
          0.000311329000396654,
          10.118985641998734
         ],
         "title": {
          "text": "time"
         },
         "type": "linear"
        }
       }
      },
      "image/png": "[encoded data removed]",
      "text/html": [
       "<div>                            <div id=\"209b5121-a876-4170-8b5d-2377725ad414\" class=\"plotly-graph-div\" style=\"height:525px; width:100%;\"></div>            <script type=\"text/javascript\">                require([\"plotly\"], function(Plotly) {                    window.PLOTLYENV=window.PLOTLYENV || {};                                    if (document.getElementById(\"209b5121-a876-4170-8b5d-2377725ad414\")) {                    Plotly.newPlot(                        \"209b5121-a876-4170-8b5d-2377725ad414\",                        [{\"hovertemplate\": \"Algorithm=pygmo<br>num_samples=100.0<br>num_obj=%{x}<br>time=%{y}<extra></extra>\", \"legendgroup\": \"pygmo\", \"line\": {\"color\": \"#636efa\", \"dash\": \"solid\"}, \"mode\": \"lines\", \"name\": \"pygmo\", \"orientation\": \"v\", \"showlegend\": true, \"type\": \"scatter\", \"x\": [3.0, 4.0, 5.0, 6.0, 7.0, 8.0, 9.0, 10.0, 20.0], \"xaxis\": \"x\", \"y\": [0.0015819569998711813, 0.0014373129997693466, 0.0013805849994241726, 0.0013689040024473798, 0.0013247700007923413, 0.0013027679997321686, 0.0012430050010152627, 0.0012228670020704158, 0.0012158640020061284], \"yaxis\": \"y\"}, {\"hovertemplate\": \"Algorithm=numba<br>num_samples=100.0<br>num_obj=%{x}<br>time=%{y}<extra></extra>\", \"legendgroup\": \"numba\", \"line\": {\"color\": \"#EF553B\", \"dash\": \"solid\"}, \"mode\": \"lines\", \"name\": \"numba\", \"orientation\": \"v\", \"showlegend\": true, \"type\": \"scatter\", \"x\": [3.0, 4.0, 5.0, 6.0, 7.0, 8.0, 9.0, 10.0, 20.0], \"xaxis\": \"x\", \"y\": [0.000311329000396654, 0.00034359100027359085, 0.0004390419999253936, 0.00040344399894820526, 0.00043647700294968667, 0.00044212700231582863, 0.00045271800263435585, 0.0004928029993607197, 0.0005085230004624464], \"yaxis\": \"y\"}],                        {\"legend\": {\"title\": {\"text\": \"Algorithm\"}, \"tracegroupgap\": 0}, \"margin\": {\"t\": 60}, \"sliders\": [{\"active\": 0, \"currentvalue\": {\"prefix\": \"num_samples=\"}, \"len\": 0.9, \"pad\": {\"b\": 10, \"t\": 60}, \"steps\": [{\"args\": [[\"100.0\"], {\"frame\": {\"duration\": 0, \"redraw\": false}, \"fromcurrent\": true, \"mode\": \"immediate\", \"transition\": {\"duration\": 0, \"easing\": \"linear\"}}], \"label\": \"100.0\", \"method\": \"animate\"}, {\"args\": [[\"200.0\"], {\"frame\": {\"duration\": 0, \"redraw\": false}, \"fromcurrent\": true, \"mode\": \"immediate\", \"transition\": {\"duration\": 0, \"easing\": \"linear\"}}], \"label\": \"200.0\", \"method\": \"animate\"}, {\"args\": [[\"500.0\"], {\"frame\": {\"duration\": 0, \"redraw\": false}, \"fromcurrent\": true, \"mode\": \"immediate\", \"transition\": {\"duration\": 0, \"easing\": \"linear\"}}], \"label\": \"500.0\", \"method\": \"animate\"}, {\"args\": [[\"1000.0\"], {\"frame\": {\"duration\": 0, \"redraw\": false}, \"fromcurrent\": true, \"mode\": \"immediate\", \"transition\": {\"duration\": 0, \"easing\": \"linear\"}}], \"label\": \"1000.0\", \"method\": \"animate\"}, {\"args\": [[\"2000.0\"], {\"frame\": {\"duration\": 0, \"redraw\": false}, \"fromcurrent\": true, \"mode\": \"immediate\", \"transition\": {\"duration\": 0, \"easing\": \"linear\"}}], \"label\": \"2000.0\", \"method\": \"animate\"}, {\"args\": [[\"3000.0\"], {\"frame\": {\"duration\": 0, \"redraw\": false}, \"fromcurrent\": true, \"mode\": \"immediate\", \"transition\": {\"duration\": 0, \"easing\": \"linear\"}}], \"label\": \"3000.0\", \"method\": \"animate\"}, {\"args\": [[\"5000.0\"], {\"frame\": {\"duration\": 0, \"redraw\": false}, \"fromcurrent\": true, \"mode\": \"immediate\", \"transition\": {\"duration\": 0, \"easing\": \"linear\"}}], \"label\": \"5000.0\", \"method\": \"animate\"}, {\"args\": [[\"10000.0\"], {\"frame\": {\"duration\": 0, \"redraw\": false}, \"fromcurrent\": true, \"mode\": \"immediate\", \"transition\": {\"duration\": 0, \"easing\": \"linear\"}}], \"label\": \"10000.0\", \"method\": \"animate\"}], \"x\": 0.1, \"xanchor\": \"left\", \"y\": 0, \"yanchor\": \"top\"}], \"template\": {\"data\": {\"bar\": [{\"error_x\": {\"color\": \"#2a3f5f\"}, \"error_y\": {\"color\": \"#2a3f5f\"}, \"marker\": {\"line\": {\"color\": \"#E5ECF6\", \"width\": 0.5}}, \"type\": \"bar\"}], \"barpolar\": [{\"marker\": {\"line\": {\"color\": \"#E5ECF6\", \"width\": 0.5}}, \"type\": \"barpolar\"}], \"carpet\": [{\"aaxis\": {\"endlinecolor\": \"#2a3f5f\", \"gridcolor\": \"white\", \"linecolor\": \"white\", \"minorgridcolor\": \"white\", \"startlinecolor\": \"#2a3f5f\"}, \"baxis\": {\"endlinecolor\": \"#2a3f5f\", \"gridcolor\": \"white\", \"linecolor\": \"white\", \"minorgridcolor\": \"white\", \"startlinecolor\": \"#2a3f5f\"}, \"type\": \"carpet\"}], \"choropleth\": [{\"colorbar\": {\"outlinewidth\": 0, \"ticks\": \"\"}, \"type\": \"choropleth\"}], \"contour\": [{\"colorbar\": {\"outlinewidth\": 0, \"ticks\": \"\"}, \"colorscale\": [[0.0, \"#0d0887\"], [0.1111111111111111, \"#46039f\"], [0.2222222222222222, \"#7201a8\"], [0.3333333333333333, \"#9c179e\"], [0.4444444444444444, \"#bd3786\"], [0.5555555555555556, \"#d8576b\"], [0.6666666666666666, \"#ed7953\"], [0.7777777777777778, \"#fb9f3a\"], [0.8888888888888888, \"#fdca26\"], [1.0, \"#f0f921\"]], \"type\": \"contour\"}], \"contourcarpet\": [{\"colorbar\": {\"outlinewidth\": 0, \"ticks\": \"\"}, \"type\": \"contourcarpet\"}], \"heatmap\": [{\"colorbar\": {\"outlinewidth\": 0, \"ticks\": \"\"}, \"colorscale\": [[0.0, \"#0d0887\"], [0.1111111111111111, \"#46039f\"], [0.2222222222222222, \"#7201a8\"], [0.3333333333333333, \"#9c179e\"], [0.4444444444444444, \"#bd3786\"], [0.5555555555555556, \"#d8576b\"], [0.6666666666666666, \"#ed7953\"], [0.7777777777777778, \"#fb9f3a\"], [0.8888888888888888, \"#fdca26\"], [1.0, \"#f0f921\"]], \"type\": \"heatmap\"}], \"heatmapgl\": [{\"colorbar\": {\"outlinewidth\": 0, \"ticks\": \"\"}, \"colorscale\": [[0.0, \"#0d0887\"], [0.1111111111111111, \"#46039f\"], [0.2222222222222222, \"#7201a8\"], [0.3333333333333333, \"#9c179e\"], [0.4444444444444444, \"#bd3786\"], [0.5555555555555556, \"#d8576b\"], [0.6666666666666666, \"#ed7953\"], [0.7777777777777778, \"#fb9f3a\"], [0.8888888888888888, \"#fdca26\"], [1.0, \"#f0f921\"]], \"type\": \"heatmapgl\"}], \"histogram\": [{\"marker\": {\"colorbar\": {\"outlinewidth\": 0, \"ticks\": \"\"}}, \"type\": \"histogram\"}], \"histogram2d\": [{\"colorbar\": {\"outlinewidth\": 0, \"ticks\": \"\"}, \"colorscale\": [[0.0, \"#0d0887\"], [0.1111111111111111, \"#46039f\"], [0.2222222222222222, \"#7201a8\"], [0.3333333333333333, \"#9c179e\"], [0.4444444444444444, \"#bd3786\"], [0.5555555555555556, \"#d8576b\"], [0.6666666666666666, \"#ed7953\"], [0.7777777777777778, \"#fb9f3a\"], [0.8888888888888888, \"#fdca26\"], [1.0, \"#f0f921\"]], \"type\": \"histogram2d\"}], \"histogram2dcontour\": [{\"colorbar\": {\"outlinewidth\": 0, \"ticks\": \"\"}, \"colorscale\": [[0.0, \"#0d0887\"], [0.1111111111111111, \"#46039f\"], [0.2222222222222222, \"#7201a8\"], [0.3333333333333333, \"#9c179e\"], [0.4444444444444444, \"#bd3786\"], [0.5555555555555556, \"#d8576b\"], [0.6666666666666666, \"#ed7953\"], [0.7777777777777778, \"#fb9f3a\"], [0.8888888888888888, \"#fdca26\"], [1.0, \"#f0f921\"]], \"type\": \"histogram2dcontour\"}], \"mesh3d\": [{\"colorbar\": {\"outlinewidth\": 0, \"ticks\": \"\"}, \"type\": \"mesh3d\"}], \"parcoords\": [{\"line\": {\"colorbar\": {\"outlinewidth\": 0, \"ticks\": \"\"}}, \"type\": \"parcoords\"}], \"pie\": [{\"automargin\": true, \"type\": \"pie\"}], \"scatter\": [{\"marker\": {\"colorbar\": {\"outlinewidth\": 0, \"ticks\": \"\"}}, \"type\": \"scatter\"}], \"scatter3d\": [{\"line\": {\"colorbar\": {\"outlinewidth\": 0, \"ticks\": \"\"}}, \"marker\": {\"colorbar\": {\"outlinewidth\": 0, \"ticks\": \"\"}}, \"type\": \"scatter3d\"}], \"scattercarpet\": [{\"marker\": {\"colorbar\": {\"outlinewidth\": 0, \"ticks\": \"\"}}, \"type\": \"scattercarpet\"}], \"scattergeo\": [{\"marker\": {\"colorbar\": {\"outlinewidth\": 0, \"ticks\": \"\"}}, \"type\": \"scattergeo\"}], \"scattergl\": [{\"marker\": {\"colorbar\": {\"outlinewidth\": 0, \"ticks\": \"\"}}, \"type\": \"scattergl\"}], \"scattermapbox\": [{\"marker\": {\"colorbar\": {\"outlinewidth\": 0, \"ticks\": \"\"}}, \"type\": \"scattermapbox\"}], \"scatterpolar\": [{\"marker\": {\"colorbar\": {\"outlinewidth\": 0, \"ticks\": \"\"}}, \"type\": \"scatterpolar\"}], \"scatterpolargl\": [{\"marker\": {\"colorbar\": {\"outlinewidth\": 0, \"ticks\": \"\"}}, \"type\": \"scatterpolargl\"}], \"scatterternary\": [{\"marker\": {\"colorbar\": {\"outlinewidth\": 0, \"ticks\": \"\"}}, \"type\": \"scatterternary\"}], \"surface\": [{\"colorbar\": {\"outlinewidth\": 0, \"ticks\": \"\"}, \"colorscale\": [[0.0, \"#0d0887\"], [0.1111111111111111, \"#46039f\"], [0.2222222222222222, \"#7201a8\"], [0.3333333333333333, \"#9c179e\"], [0.4444444444444444, \"#bd3786\"], [0.5555555555555556, \"#d8576b\"], [0.6666666666666666, \"#ed7953\"], [0.7777777777777778, \"#fb9f3a\"], [0.8888888888888888, \"#fdca26\"], [1.0, \"#f0f921\"]], \"type\": \"surface\"}], \"table\": [{\"cells\": {\"fill\": {\"color\": \"#EBF0F8\"}, \"line\": {\"color\": \"white\"}}, \"header\": {\"fill\": {\"color\": \"#C8D4E3\"}, \"line\": {\"color\": \"white\"}}, \"type\": \"table\"}]}, \"layout\": {\"annotationdefaults\": {\"arrowcolor\": \"#2a3f5f\", \"arrowhead\": 0, \"arrowwidth\": 1}, \"autotypenumbers\": \"strict\", \"coloraxis\": {\"colorbar\": {\"outlinewidth\": 0, \"ticks\": \"\"}}, \"colorscale\": {\"diverging\": [[0, \"#8e0152\"], [0.1, \"#c51b7d\"], [0.2, \"#de77ae\"], [0.3, \"#f1b6da\"], [0.4, \"#fde0ef\"], [0.5, \"#f7f7f7\"], [0.6, \"#e6f5d0\"], [0.7, \"#b8e186\"], [0.8, \"#7fbc41\"], [0.9, \"#4d9221\"], [1, \"#276419\"]], \"sequential\": [[0.0, \"#0d0887\"], [0.1111111111111111, \"#46039f\"], [0.2222222222222222, \"#7201a8\"], [0.3333333333333333, \"#9c179e\"], [0.4444444444444444, \"#bd3786\"], [0.5555555555555556, \"#d8576b\"], [0.6666666666666666, \"#ed7953\"], [0.7777777777777778, \"#fb9f3a\"], [0.8888888888888888, \"#fdca26\"], [1.0, \"#f0f921\"]], \"sequentialminus\": [[0.0, \"#0d0887\"], [0.1111111111111111, \"#46039f\"], [0.2222222222222222, \"#7201a8\"], [0.3333333333333333, \"#9c179e\"], [0.4444444444444444, \"#bd3786\"], [0.5555555555555556, \"#d8576b\"], [0.6666666666666666, \"#ed7953\"], [0.7777777777777778, \"#fb9f3a\"], [0.8888888888888888, \"#fdca26\"], [1.0, \"#f0f921\"]]}, \"colorway\": [\"#636efa\", \"#EF553B\", \"#00cc96\", \"#ab63fa\", \"#FFA15A\", \"#19d3f3\", \"#FF6692\", \"#B6E880\", \"#FF97FF\", \"#FECB52\"], \"font\": {\"color\": \"#2a3f5f\"}, \"geo\": {\"bgcolor\": \"white\", \"lakecolor\": \"white\", \"landcolor\": \"#E5ECF6\", \"showlakes\": true, \"showland\": true, \"subunitcolor\": \"white\"}, \"hoverlabel\": {\"align\": \"left\"}, \"hovermode\": \"closest\", \"mapbox\": {\"style\": \"light\"}, \"paper_bgcolor\": \"white\", \"plot_bgcolor\": \"#E5ECF6\", \"polar\": {\"angularaxis\": {\"gridcolor\": \"white\", \"linecolor\": \"white\", \"ticks\": \"\"}, \"bgcolor\": \"#E5ECF6\", \"radialaxis\": {\"gridcolor\": \"white\", \"linecolor\": \"white\", \"ticks\": \"\"}}, \"scene\": {\"xaxis\": {\"backgroundcolor\": \"#E5ECF6\", \"gridcolor\": \"white\", \"gridwidth\": 2, \"linecolor\": \"white\", \"showbackground\": true, \"ticks\": \"\", \"zerolinecolor\": \"white\"}, \"yaxis\": {\"backgroundcolor\": \"#E5ECF6\", \"gridcolor\": \"white\", \"gridwidth\": 2, \"linecolor\": \"white\", \"showbackground\": true, \"ticks\": \"\", \"zerolinecolor\": \"white\"}, \"zaxis\": {\"backgroundcolor\": \"#E5ECF6\", \"gridcolor\": \"white\", \"gridwidth\": 2, \"linecolor\": \"white\", \"showbackground\": true, \"ticks\": \"\", \"zerolinecolor\": \"white\"}}, \"shapedefaults\": {\"line\": {\"color\": \"#2a3f5f\"}}, \"ternary\": {\"aaxis\": {\"gridcolor\": \"white\", \"linecolor\": \"white\", \"ticks\": \"\"}, \"baxis\": {\"gridcolor\": \"white\", \"linecolor\": \"white\", \"ticks\": \"\"}, \"bgcolor\": \"#E5ECF6\", \"caxis\": {\"gridcolor\": \"white\", \"linecolor\": \"white\", \"ticks\": \"\"}}, \"title\": {\"x\": 0.05}, \"xaxis\": {\"automargin\": true, \"gridcolor\": \"white\", \"linecolor\": \"white\", \"ticks\": \"\", \"title\": {\"standoff\": 15}, \"zerolinecolor\": \"white\", \"zerolinewidth\": 2}, \"yaxis\": {\"automargin\": true, \"gridcolor\": \"white\", \"linecolor\": \"white\", \"ticks\": \"\", \"title\": {\"standoff\": 15}, \"zerolinecolor\": \"white\", \"zerolinewidth\": 2}}}, \"updatemenus\": [{\"buttons\": [{\"args\": [null, {\"frame\": {\"duration\": 500, \"redraw\": false}, \"fromcurrent\": true, \"mode\": \"immediate\", \"transition\": {\"duration\": 500, \"easing\": \"linear\"}}], \"label\": \"&#9654;\", \"method\": \"animate\"}, {\"args\": [[null], {\"frame\": {\"duration\": 0, \"redraw\": false}, \"fromcurrent\": true, \"mode\": \"immediate\", \"transition\": {\"duration\": 0, \"easing\": \"linear\"}}], \"label\": \"&#9724;\", \"method\": \"animate\"}], \"direction\": \"left\", \"pad\": {\"r\": 10, \"t\": 70}, \"showactive\": false, \"type\": \"buttons\", \"x\": 0.1, \"xanchor\": \"right\", \"y\": 0, \"yanchor\": \"top\"}], \"xaxis\": {\"anchor\": \"y\", \"domain\": [0.0, 1.0], \"title\": {\"text\": \"num_obj\"}}, \"yaxis\": {\"anchor\": \"x\", \"domain\": [0.0, 1.0], \"range\": [0.000311329000396654, 10.118985641998734], \"title\": {\"text\": \"time\"}}},                        {\"responsive\": true}                    ).then(function(){\n",
       "                            Plotly.addFrames('209b5121-a876-4170-8b5d-2377725ad414', [{\"data\": [{\"hovertemplate\": \"Algorithm=pygmo<br>num_samples=100.0<br>num_obj=%{x}<br>time=%{y}<extra></extra>\", \"legendgroup\": \"pygmo\", \"line\": {\"color\": \"#636efa\", \"dash\": \"solid\"}, \"mode\": \"lines\", \"name\": \"pygmo\", \"orientation\": \"v\", \"showlegend\": true, \"x\": [3.0, 4.0, 5.0, 6.0, 7.0, 8.0, 9.0, 10.0, 20.0], \"xaxis\": \"x\", \"y\": [0.0015819569998711813, 0.0014373129997693466, 0.0013805849994241726, 0.0013689040024473798, 0.0013247700007923413, 0.0013027679997321686, 0.0012430050010152627, 0.0012228670020704158, 0.0012158640020061284], \"yaxis\": \"y\", \"type\": \"scatter\"}, {\"hovertemplate\": \"Algorithm=numba<br>num_samples=100.0<br>num_obj=%{x}<br>time=%{y}<extra></extra>\", \"legendgroup\": \"numba\", \"line\": {\"color\": \"#EF553B\", \"dash\": \"solid\"}, \"mode\": \"lines\", \"name\": \"numba\", \"orientation\": \"v\", \"showlegend\": true, \"x\": [3.0, 4.0, 5.0, 6.0, 7.0, 8.0, 9.0, 10.0, 20.0], \"xaxis\": \"x\", \"y\": [0.000311329000396654, 0.00034359100027359085, 0.0004390419999253936, 0.00040344399894820526, 0.00043647700294968667, 0.00044212700231582863, 0.00045271800263435585, 0.0004928029993607197, 0.0005085230004624464], \"yaxis\": \"y\", \"type\": \"scatter\"}], \"name\": \"100.0\"}, {\"data\": [{\"hovertemplate\": \"Algorithm=pygmo<br>num_samples=200.0<br>num_obj=%{x}<br>time=%{y}<extra></extra>\", \"legendgroup\": \"pygmo\", \"line\": {\"color\": \"#636efa\", \"dash\": \"solid\"}, \"mode\": \"lines\", \"name\": \"pygmo\", \"orientation\": \"v\", \"showlegend\": true, \"x\": [3.0, 4.0, 5.0, 6.0, 7.0, 8.0, 9.0, 10.0, 20.0], \"xaxis\": \"x\", \"y\": [0.004893061999609928, 0.0049210940014745574, 0.0048277470013999855, 0.0045525759996962725, 0.004658628000470344, 0.004376854001748143, 0.004319564999605063, 0.004278405998775271, 0.004049283001222648], \"yaxis\": \"y\", \"type\": \"scatter\"}, {\"hovertemplate\": \"Algorithm=numba<br>num_samples=200.0<br>num_obj=%{x}<br>time=%{y}<extra></extra>\", \"legendgroup\": \"numba\", \"line\": {\"color\": \"#EF553B\", \"dash\": \"solid\"}, \"mode\": \"lines\", \"name\": \"numba\", \"orientation\": \"v\", \"showlegend\": true, \"x\": [3.0, 4.0, 5.0, 6.0, 7.0, 8.0, 9.0, 10.0, 20.0], \"xaxis\": \"x\", \"y\": [0.00117641999895568, 0.0015889310016063973, 0.0013041310012340546, 0.001375837000523461, 0.0018958020009449683, 0.001900931001728168, 0.002075222000712529, 0.0020888879989797715, 0.002259662000142271], \"yaxis\": \"y\", \"type\": \"scatter\"}], \"name\": \"200.0\"}, {\"data\": [{\"hovertemplate\": \"Algorithm=pygmo<br>num_samples=500.0<br>num_obj=%{x}<br>time=%{y}<extra></extra>\", \"legendgroup\": \"pygmo\", \"line\": {\"color\": \"#636efa\", \"dash\": \"solid\"}, \"mode\": \"lines\", \"name\": \"pygmo\", \"orientation\": \"v\", \"showlegend\": true, \"x\": [3.0, 4.0, 5.0, 6.0, 7.0, 8.0, 9.0, 10.0, 20.0], \"xaxis\": \"x\", \"y\": [0.026304904000426173, 0.026620974000252318, 0.026300648001779336, 0.02560352799991961, 0.027042314999562226, 0.024699574998521708, 0.02647600199998124, 0.024758376999670872, 0.038622950996796135], \"yaxis\": \"y\", \"type\": \"scatter\"}, {\"hovertemplate\": \"Algorithm=numba<br>num_samples=500.0<br>num_obj=%{x}<br>time=%{y}<extra></extra>\", \"legendgroup\": \"numba\", \"line\": {\"color\": \"#EF553B\", \"dash\": \"solid\"}, \"mode\": \"lines\", \"name\": \"numba\", \"orientation\": \"v\", \"showlegend\": true, \"x\": [3.0, 4.0, 5.0, 6.0, 7.0, 8.0, 9.0, 10.0, 20.0], \"xaxis\": \"x\", \"y\": [0.006275371000810992, 0.006717148000461748, 0.009190625998598987, 0.010280860999046126, 0.011926280003535794, 0.012248972001543734, 0.012613802999112522, 0.01324029099851032, 0.014767926000786247], \"yaxis\": \"y\", \"type\": \"scatter\"}], \"name\": \"500.0\"}, {\"data\": [{\"hovertemplate\": \"Algorithm=pygmo<br>num_samples=1000.0<br>num_obj=%{x}<br>time=%{y}<extra></extra>\", \"legendgroup\": \"pygmo\", \"line\": {\"color\": \"#636efa\", \"dash\": \"solid\"}, \"mode\": \"lines\", \"name\": \"pygmo\", \"orientation\": \"v\", \"showlegend\": true, \"x\": [3.0, 4.0, 5.0, 6.0, 7.0, 8.0, 9.0, 10.0, 20.0], \"xaxis\": \"x\", \"y\": [0.0975422779993096, 0.09883509899736964, 0.10208218499974464, 0.09744387600221673, 0.0985390929999994, 0.09620225699836736, 0.09560962499745074, 0.09583075599948644, 0.09080217799782986], \"yaxis\": \"y\", \"type\": \"scatter\"}, {\"hovertemplate\": \"Algorithm=numba<br>num_samples=1000.0<br>num_obj=%{x}<br>time=%{y}<extra></extra>\", \"legendgroup\": \"numba\", \"line\": {\"color\": \"#EF553B\", \"dash\": \"solid\"}, \"mode\": \"lines\", \"name\": \"numba\", \"orientation\": \"v\", \"showlegend\": true, \"x\": [3.0, 4.0, 5.0, 6.0, 7.0, 8.0, 9.0, 10.0, 20.0], \"xaxis\": \"x\", \"y\": [0.019584853998821927, 0.02484300899959635, 0.0308713149970572, 0.03987377600060426, 0.041645714001788285, 0.04567104399757227, 0.05083478999949875, 0.05197531299927505, 0.06000111500179627], \"yaxis\": \"y\", \"type\": \"scatter\"}], \"name\": \"1000.0\"}, {\"data\": [{\"hovertemplate\": \"Algorithm=pygmo<br>num_samples=2000.0<br>num_obj=%{x}<br>time=%{y}<extra></extra>\", \"legendgroup\": \"pygmo\", \"line\": {\"color\": \"#636efa\", \"dash\": \"solid\"}, \"mode\": \"lines\", \"name\": \"pygmo\", \"orientation\": \"v\", \"showlegend\": true, \"x\": [3.0, 4.0, 5.0, 6.0, 7.0, 8.0, 9.0, 10.0, 20.0], \"xaxis\": \"x\", \"y\": [0.3879895930003841, 0.3716591219999827, 0.3728979089974018, 0.3763092629997118, 0.3701089989990578, 0.369383471999754, 0.3637776359973941, 0.35989363200133084, 0.3491145689986297], \"yaxis\": \"y\", \"type\": \"scatter\"}, {\"hovertemplate\": \"Algorithm=numba<br>num_samples=2000.0<br>num_obj=%{x}<br>time=%{y}<extra></extra>\", \"legendgroup\": \"numba\", \"line\": {\"color\": \"#EF553B\", \"dash\": \"solid\"}, \"mode\": \"lines\", \"name\": \"numba\", \"orientation\": \"v\", \"showlegend\": true, \"x\": [3.0, 4.0, 5.0, 6.0, 7.0, 8.0, 9.0, 10.0, 20.0], \"xaxis\": \"x\", \"y\": [0.06934712799920817, 0.08532485199975781, 0.1156416519988852, 0.14330069700008607, 0.16099387499707518, 0.18035354099993128, 0.18317790800210787, 0.18804261300101646, 0.23472897600004214], \"yaxis\": \"y\", \"type\": \"scatter\"}], \"name\": \"2000.0\"}, {\"data\": [{\"hovertemplate\": \"Algorithm=pygmo<br>num_samples=3000.0<br>num_obj=%{x}<br>time=%{y}<extra></extra>\", \"legendgroup\": \"pygmo\", \"line\": {\"color\": \"#636efa\", \"dash\": \"solid\"}, \"mode\": \"lines\", \"name\": \"pygmo\", \"orientation\": \"v\", \"showlegend\": true, \"x\": [3.0, 4.0, 5.0, 6.0, 7.0, 8.0, 9.0, 10.0, 20.0], \"xaxis\": \"x\", \"y\": [0.8526756289975309, 0.8453567790020315, 0.8198085139993054, 0.8250055889984651, 0.8160099899978377, 0.8220576860003348, 0.8481580059997214, 0.8232800510013476, 0.8009259509999538], \"yaxis\": \"y\", \"type\": \"scatter\"}, {\"hovertemplate\": \"Algorithm=numba<br>num_samples=3000.0<br>num_obj=%{x}<br>time=%{y}<extra></extra>\", \"legendgroup\": \"numba\", \"line\": {\"color\": \"#EF553B\", \"dash\": \"solid\"}, \"mode\": \"lines\", \"name\": \"numba\", \"orientation\": \"v\", \"showlegend\": true, \"x\": [3.0, 4.0, 5.0, 6.0, 7.0, 8.0, 9.0, 10.0, 20.0], \"xaxis\": \"x\", \"y\": [0.14908640399880824, 0.18362200800038408, 0.24612142000114545, 0.3044005849988025, 0.3317963649969897, 0.3682432800014793, 0.4123839540006884, 0.4572376729993266, 0.5356901179984561], \"yaxis\": \"y\", \"type\": \"scatter\"}], \"name\": \"3000.0\"}, {\"data\": [{\"hovertemplate\": \"Algorithm=pygmo<br>num_samples=5000.0<br>num_obj=%{x}<br>time=%{y}<extra></extra>\", \"legendgroup\": \"pygmo\", \"line\": {\"color\": \"#636efa\", \"dash\": \"solid\"}, \"mode\": \"lines\", \"name\": \"pygmo\", \"orientation\": \"v\", \"showlegend\": true, \"x\": [3.0, 4.0, 5.0, 6.0, 7.0, 8.0, 9.0, 10.0, 20.0], \"xaxis\": \"x\", \"y\": [2.4276888189997408, 2.3803081879996166, 2.341305134999857, 2.357324804001109, 2.2695232649966783, 2.311865891999332, 2.3355233619986397, 2.2954130699981756, 2.2380097489985933], \"yaxis\": \"y\", \"type\": \"scatter\"}, {\"hovertemplate\": \"Algorithm=numba<br>num_samples=5000.0<br>num_obj=%{x}<br>time=%{y}<extra></extra>\", \"legendgroup\": \"numba\", \"line\": {\"color\": \"#EF553B\", \"dash\": \"solid\"}, \"mode\": \"lines\", \"name\": \"numba\", \"orientation\": \"v\", \"showlegend\": true, \"x\": [3.0, 4.0, 5.0, 6.0, 7.0, 8.0, 9.0, 10.0, 20.0], \"xaxis\": \"x\", \"y\": [0.3794947399983357, 0.4801402970006166, 0.6111969939993287, 0.7977699289986049, 0.8926142189993698, 1.0267423919976864, 1.1325868449966947, 1.2233235630010313, 1.4785478160010823], \"yaxis\": \"y\", \"type\": \"scatter\"}], \"name\": \"5000.0\"}, {\"data\": [{\"hovertemplate\": \"Algorithm=pygmo<br>num_samples=10000.0<br>num_obj=%{x}<br>time=%{y}<extra></extra>\", \"legendgroup\": \"pygmo\", \"line\": {\"color\": \"#636efa\", \"dash\": \"solid\"}, \"mode\": \"lines\", \"name\": \"pygmo\", \"orientation\": \"v\", \"showlegend\": true, \"x\": [3.0, 4.0, 5.0, 6.0, 7.0, 8.0, 9.0, 10.0, 20.0], \"xaxis\": \"x\", \"y\": [9.87230174800061, 9.784777578999636, 9.631244444997721, 10.118985641998734, 9.636076622002292, 9.53247297100097, 9.208737783999824, 9.23942179700316, 8.989115193999167], \"yaxis\": \"y\", \"type\": \"scatter\"}, {\"hovertemplate\": \"Algorithm=numba<br>num_samples=10000.0<br>num_obj=%{x}<br>time=%{y}<extra></extra>\", \"legendgroup\": \"numba\", \"line\": {\"color\": \"#EF553B\", \"dash\": \"solid\"}, \"mode\": \"lines\", \"name\": \"numba\", \"orientation\": \"v\", \"showlegend\": true, \"x\": [3.0, 4.0, 5.0, 6.0, 7.0, 8.0, 9.0, 10.0, 20.0], \"xaxis\": \"x\", \"y\": [1.5948417390027316, 1.9454447600001004, 2.5751872879991424, 3.2667729929999036, 3.667468151001231, 4.284099521999451, 4.474993058996915, 4.877335465997021, 6.073842777997926], \"yaxis\": \"y\", \"type\": \"scatter\"}], \"name\": \"10000.0\"}]);\n",
       "                        }).then(function(){\n",
       "                            \n",
       "var gd = document.getElementById('209b5121-a876-4170-8b5d-2377725ad414');\n",
       "var x = new MutationObserver(function (mutations, observer) {{\n",
       "        var display = window.getComputedStyle(gd).display;\n",
       "        if (!display || display === 'none') {{\n",
       "            console.log([gd, 'removed!']);\n",
       "            Plotly.purge(gd);\n",
       "            observer.disconnect();\n",
       "        }}\n",
       "}});\n",
       "\n",
       "// Listen for the removal of the full notebook cells\n",
       "var notebookContainer = gd.closest('#notebook-container');\n",
       "if (notebookContainer) {{\n",
       "    x.observe(notebookContainer, {childList: true});\n",
       "}}\n",
       "\n",
       "// Listen for the clearing of the current output cell\n",
       "var outputEl = gd.closest('.output');\n",
       "if (outputEl) {{\n",
       "    x.observe(outputEl, {childList: true});\n",
       "}}\n",
       "\n",
       "                        })                };                });            </script>        </div>"
      ]
     },
     "metadata": {},
     "output_type": "display_data"
    }
   ],
   "source": [
    "ex.line(\n",
    "    long_data,\n",
    "    x=\"num_obj\",\n",
    "    y=\"time\",\n",
    "    color=\"Algorithm\",\n",
    "    animation_frame=\"num_samples\",\n",
    "    range_y=[long_data[\"time\"].min(), long_data[\"time\"].max()])"
   ]
  },
  {
   "cell_type": "code",
   "execution_count": 62,
   "id": "thousand-expansion",
   "metadata": {},
   "outputs": [],
   "source": [
    "data[\"time-ratio\"] = data[\"numba\"]/data[\"pygmo\"]"
   ]
  },
  {
   "cell_type": "code",
   "execution_count": 86,
   "id": "legitimate-toner",
   "metadata": {},
   "outputs": [],
   "source": [
    "fig2 = ex.line(\n",
    "    data,\n",
    "    x=\"num_obj\",\n",
    "    y=\"time-ratio\",\n",
    "    color=\"num_samples\")"
   ]
  },
  {
   "cell_type": "code",
   "execution_count": 87,
   "id": "resistant-asbestos",
   "metadata": {},
   "outputs": [],
   "source": [
    "fig2.write_html(\"numba2.html\")"
   ]
  },
  {
   "cell_type": "code",
   "execution_count": null,
   "id": "responsible-buddy",
   "metadata": {},
   "outputs": [],
   "source": []
  }
 ],
 "metadata": {
  "kernelspec": {
   "display_name": "ScratchPad",
   "language": "python",
   "name": "scratchpad"
  },
  "language_info": {
   "codemirror_mode": {
    "name": "ipython",
    "version": 3
   },
   "file_extension": ".py",
   "mimetype": "text/x-python",
   "name": "python",
   "nbconvert_exporter": "python",
   "pygments_lexer": "ipython3",
   "version": "3.7.9"
  }
 },
 "nbformat": 4,
 "nbformat_minor": 5
}
