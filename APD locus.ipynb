{
 "cells": [
  {
   "cell_type": "code",
   "execution_count": 4,
   "metadata": {},
   "outputs": [],
   "source": [
    "import numpy as np\n",
    "from ipywidgets import interact\n",
    "import plotly.graph_objs as go"
   ]
  },
  {
   "cell_type": "code",
   "execution_count": 5,
   "metadata": {},
   "outputs": [],
   "source": [
    "def locus(t_by_tmax=1/1000, alpha=2, gamma=np.pi/100, phi=np.pi/4, vec_length=1):\n",
    "    M=2\n",
    "    theta_RVEA = lambda angle : abs(angle - phi)\n",
    "    penalty = lambda angle : M * (t_by_tmax ** alpha) * (angle/gamma)\n",
    "    d = lambda angle : vec_length/(1 + penalty(theta_RVEA(angle)))\n",
    "    theta = np.linspace(0, np.pi/2,1000)\n",
    "    r = d(theta)\n",
    "    x = r * np.cos(theta)\n",
    "    y = r * np.sin(theta)\n",
    "    return (x,y)"
   ]
  },
  {
   "cell_type": "code",
   "execution_count": 12,
   "metadata": {},
   "outputs": [
    {
     "data": {
      "application/vnd.jupyter.widget-view+json": {
       "model_id": "e286a122d4304d68a9906d0a7f5cf7a9",
       "version_major": 2,
       "version_minor": 0
      },
      "text/plain": [
       "interactive(children=(FloatSlider(value=0.001, description='t_by_tmax', max=1.0, step=0.01), FloatSlider(value…"
      ]
     },
     "metadata": {},
     "output_type": "display_data"
    },
    {
     "data": {
      "application/vnd.jupyter.widget-view+json": {
       "model_id": "e2bb0c8b506143668d53ced6d9f1815b",
       "version_major": 2,
       "version_minor": 0
      },
      "text/plain": [
       "FigureWidget({\n",
       "    'data': [{'type': 'scatter',\n",
       "              'uid': 'f1c0b491-7f62-447c-8f1b-fa748ddf388b',\n",
       " …"
      ]
     },
     "metadata": {},
     "output_type": "display_data"
    }
   ],
   "source": [
    "fig = go.FigureWidget()\n",
    "fig.add_scatter()\n",
    "fig.add_scatter()\n",
    "fig.add_scatter()\n",
    "fig.add_scatter()\n",
    "fig.add_scatter()\n",
    "fig.add_scatter()\n",
    "fig.update_layout(width=600, height =600)\n",
    "\n",
    "@interact(t_by_tmax=(0, 1, 0.01), alpha=(0.5, 10, 0.5), gamma=(np.pi/100, np.pi/10, np.pi/100), phi=(0,np.pi/2,np.pi/20))\n",
    "def update(t_by_tmax=1/1000, alpha=2, gamma=np.pi/100, phi=np.pi/4):\n",
    "    with fig.batch_update():\n",
    "        x, y = locus(t_by_tmax, alpha, gamma, phi, vec_length=1)\n",
    "        fig.data[0].x=x\n",
    "        fig.data[0].y=y\n",
    "        x, y = locus(t_by_tmax, alpha, gamma, phi, vec_length=0.2)\n",
    "        fig.data[1].x=x\n",
    "        fig.data[1].y=y\n",
    "        x, y = locus(t_by_tmax, alpha, gamma, phi, vec_length=0.4)\n",
    "        fig.data[2].x=x\n",
    "        fig.data[2].y=y\n",
    "        x, y = locus(t_by_tmax, alpha, gamma, phi, vec_length=0.6)\n",
    "        fig.data[3].x=x\n",
    "        fig.data[3].y=y\n",
    "        x, y = locus(t_by_tmax, alpha, gamma, phi, vec_length=0.8)\n",
    "        fig.data[4].x=x\n",
    "        fig.data[4].y=y\n",
    "        fig.data[5].x=[1]\n",
    "        fig.data[5].y=[1]\n",
    "fig"
   ]
  },
  {
   "cell_type": "code",
   "execution_count": null,
   "metadata": {},
   "outputs": [],
   "source": []
  }
 ],
 "metadata": {
  "kernelspec": {
   "display_name": "ScratchPad",
   "language": "python",
   "name": "scratchpad"
  },
  "language_info": {
   "codemirror_mode": {
    "name": "ipython",
    "version": 3
   },
   "file_extension": ".py",
   "mimetype": "text/x-python",
   "name": "python",
   "nbconvert_exporter": "python",
   "pygments_lexer": "ipython3",
   "version": "3.7.3"
  },
  "widgets": {
   "application/vnd.jupyter.widget-state+json": {
    "state": {
     "00b5a64c9f344b7c8c62c8d254b4db96": {
      "model_module": "@jupyter-widgets/base",
      "model_module_version": "1.2.0",
      "model_name": "LayoutModel",
      "state": {}
     },
     "01e3353424614a0492e92c54a46d673b": {
      "model_module": "@jupyter-widgets/base",
      "model_module_version": "1.2.0",
      "model_name": "LayoutModel",
      "state": {}
     },
     "021a5a081c27442ab26b1abed8c72cc3": {
      "model_module": "@jupyter-widgets/controls",
      "model_module_version": "1.5.0",
      "model_name": "IntSliderModel",
      "state": {
       "description": "alpha",
       "layout": "IPY_MODEL_8af8fd231f3047b49fe9ee998cacf353",
       "max": 6,
       "min": -2,
       "style": "IPY_MODEL_d68286a83a3847b28e092c080062f8d8",
       "value": 2
      }
     },
     "022c3d624ae14eaf86658f3f574a8cdb": {
      "model_module": "@jupyter-widgets/output",
      "model_module_version": "1.0.0",
      "model_name": "OutputModel",
      "state": {
       "layout": "IPY_MODEL_3f660d876d614be28125f117d09e7174"
      }
     },
     "05dfde8130dd4594936be59dcde6e8da": {
      "model_module": "@jupyter-widgets/controls",
      "model_module_version": "1.5.0",
      "model_name": "FloatSliderModel",
      "state": {
       "description": "b",
       "layout": "IPY_MODEL_4eef5b9c90724e988d1d2b5d308f5073",
       "max": 10,
       "step": 0.01,
       "style": "IPY_MODEL_b193621e2a1a4db5a959290fade6bd1d",
       "value": 4.3
      }
     },
     "06d608261d9d4288a1d35ef87a5be55b": {
      "model_module": "@jupyter-widgets/controls",
      "model_module_version": "1.5.0",
      "model_name": "SliderStyleModel",
      "state": {
       "description_width": ""
      }
     },
     "080daa4699714cefbb8404728abeae77": {
      "model_module": "@jupyter-widgets/controls",
      "model_module_version": "1.5.0",
      "model_name": "FloatSliderModel",
      "state": {
       "description": "t_by_tmax",
       "layout": "IPY_MODEL_39605f6af52a48b6a50ecc008af070a2",
       "max": 1,
       "step": 0.01,
       "style": "IPY_MODEL_58e78b5bd6de4ec19052077bf69a3f23"
      }
     },
     "08491f8ee0ae4fe8a94740724f9ecc9d": {
      "model_module": "@jupyter-widgets/controls",
      "model_module_version": "1.5.0",
      "model_name": "SliderStyleModel",
      "state": {
       "description_width": ""
      }
     },
     "084f0cf1841c4100a0fab8d8d6be56ae": {
      "model_module": "@jupyter-widgets/controls",
      "model_module_version": "1.5.0",
      "model_name": "SliderStyleModel",
      "state": {
       "description_width": ""
      }
     },
     "085739e0f0bb4bf0a919691a43306582": {
      "model_module": "@jupyter-widgets/output",
      "model_module_version": "1.0.0",
      "model_name": "OutputModel",
      "state": {
       "layout": "IPY_MODEL_a692435b38b14a14a1d1faad6a2de69d"
      }
     },
     "08b95e9930e5462698aa03027c5aba60": {
      "model_module": "@jupyter-widgets/base",
      "model_module_version": "1.2.0",
      "model_name": "LayoutModel",
      "state": {}
     },
     "0913387d4b0c4859ac9d1cb3dbc927ee": {
      "model_module": "@jupyter-widgets/controls",
      "model_module_version": "1.5.0",
      "model_name": "DescriptionStyleModel",
      "state": {
       "description_width": ""
      }
     },
     "0a534a5daa6d471c8a55797d58b06cca": {
      "model_module": "@jupyter-widgets/controls",
      "model_module_version": "1.5.0",
      "model_name": "SliderStyleModel",
      "state": {
       "description_width": ""
      }
     },
     "0b0677f282ce494a8cc99a9c94758bba": {
      "model_module": "@jupyter-widgets/controls",
      "model_module_version": "1.5.0",
      "model_name": "FloatSliderModel",
      "state": {
       "description": "gamma",
       "layout": "IPY_MODEL_824403400c2d4aa1913df5fd60d427b0",
       "max": 0.0942477796076938,
       "min": -0.031415926535897934,
       "step": 0.1,
       "style": "IPY_MODEL_3ad30ad4312c4d37b75ffff636c7f01b",
       "value": 0.031415926535897934
      }
     },
     "0b4732d2e79748978c0501b8eeb41a4d": {
      "model_module": "@jupyter-widgets/controls",
      "model_module_version": "1.5.0",
      "model_name": "VBoxModel",
      "state": {
       "_dom_classes": [
        "widget-interact"
       ],
       "children": [
        "IPY_MODEL_43209ee875a24bbc8fbe92055add270f",
        "IPY_MODEL_021a5a081c27442ab26b1abed8c72cc3",
        "IPY_MODEL_c57435e5f01e42499a1a1e9775193160",
        "IPY_MODEL_4ee04b84f0f74b4c9cca96635ecd312c",
        "IPY_MODEL_1336acd568db411ab820f83008fb06d4"
       ],
       "layout": "IPY_MODEL_c092b6c69791417387792a05bffd1082"
      }
     },
     "0b8b8ea798bc48179c99819de4f2f695": {
      "model_module": "@jupyter-widgets/controls",
      "model_module_version": "1.5.0",
      "model_name": "SliderStyleModel",
      "state": {
       "description_width": ""
      }
     },
     "0baaa5ae59f24431983057fbcb4d8127": {
      "model_module": "@jupyter-widgets/base",
      "model_module_version": "1.2.0",
      "model_name": "LayoutModel",
      "state": {}
     },
     "0bed2e37550048e1b71044af9d2f952a": {
      "model_module": "@jupyter-widgets/controls",
      "model_module_version": "1.5.0",
      "model_name": "SliderStyleModel",
      "state": {
       "description_width": ""
      }
     },
     "0c6f04c141f0406a802f70f337ffdbd9": {
      "model_module": "@jupyter-widgets/controls",
      "model_module_version": "1.5.0",
      "model_name": "SliderStyleModel",
      "state": {
       "description_width": ""
      }
     },
     "0f8caef60ecd4a6daed5e2230917c086": {
      "model_module": "@jupyter-widgets/controls",
      "model_module_version": "1.5.0",
      "model_name": "SliderStyleModel",
      "state": {
       "description_width": ""
      }
     },
     "0fcdabca77ab4967b837b007135c691b": {
      "model_module": "@jupyter-widgets/output",
      "model_module_version": "1.0.0",
      "model_name": "OutputModel",
      "state": {
       "layout": "IPY_MODEL_fa382091763045b6b078569d8fe045c6"
      }
     },
     "0fd605328bc94f2390de21a6def25a5b": {
      "model_module": "@jupyter-widgets/controls",
      "model_module_version": "1.5.0",
      "model_name": "FloatSliderModel",
      "state": {
       "layout": "IPY_MODEL_9d78212e8ea54c4bbf3d130727b67cb0",
       "max": 1.5707963267948966,
       "step": 0.15707963267948966,
       "style": "IPY_MODEL_a2bcf8909fcb4d9ead568861de1b48d7",
       "value": 1.5707963267948966
      }
     },
     "108ba254d19f4a2fbf5d1bcfd7e213da": {
      "model_module": "@jupyter-widgets/base",
      "model_module_version": "1.2.0",
      "model_name": "LayoutModel",
      "state": {}
     },
     "10e16715ce5741e5a51daa2c0233144e": {
      "model_module": "@jupyter-widgets/controls",
      "model_module_version": "1.5.0",
      "model_name": "FloatSliderModel",
      "state": {
       "description": "t_by_tmax",
       "layout": "IPY_MODEL_45914ee589c449c8b6ce2a3323d51ec1",
       "max": 1,
       "step": 0.01,
       "style": "IPY_MODEL_b1291df78f8d457dbe408aa2c1f4579a"
      }
     },
     "114dd180913c48f3b172da3a6f5598de": {
      "model_module": "@jupyter-widgets/base",
      "model_module_version": "1.2.0",
      "model_name": "LayoutModel",
      "state": {}
     },
     "1336acd568db411ab820f83008fb06d4": {
      "model_module": "@jupyter-widgets/output",
      "model_module_version": "1.0.0",
      "model_name": "OutputModel",
      "state": {
       "layout": "IPY_MODEL_a6ff6920cdaf4fce978126fa1bfd2676"
      }
     },
     "133cdbfd9f4f49689c48ffdfc30de4b0": {
      "model_module": "@jupyter-widgets/base",
      "model_module_version": "1.2.0",
      "model_name": "LayoutModel",
      "state": {}
     },
     "14ba101d3986461e96dbd090a5d8dd82": {
      "model_module": "@jupyter-widgets/controls",
      "model_module_version": "1.5.0",
      "model_name": "SliderStyleModel",
      "state": {
       "description_width": ""
      }
     },
     "1808b97b78654375930425aa9f8c952e": {
      "model_module": "@jupyter-widgets/controls",
      "model_module_version": "1.5.0",
      "model_name": "FloatSliderModel",
      "state": {
       "description": "b",
       "layout": "IPY_MODEL_3246243a536b4868bfefb08ff64b1ef1",
       "max": 10,
       "step": 0.01,
       "style": "IPY_MODEL_97b4bd6318cd4adea444c01e89b945a1",
       "value": 4.3
      }
     },
     "1831cd6a8513416195cb9457b42cff3c": {
      "model_module": "@jupyter-widgets/controls",
      "model_module_version": "1.5.0",
      "model_name": "VBoxModel",
      "state": {
       "_dom_classes": [
        "widget-interact"
       ],
       "children": [
        "IPY_MODEL_49175ae8e1c54f8f94bbc763fc156d2f",
        "IPY_MODEL_e2ef742c95e04397931333c804ac371c",
        "IPY_MODEL_f8d11a16d2d1450daea1ad24615cdc0b",
        "IPY_MODEL_6cf33108e38c46bb87e3024dd5f593f9",
        "IPY_MODEL_ed44f44417b647308c2502ff7a2f602e"
       ],
       "layout": "IPY_MODEL_aa44f7fe218b43668ee91a75df735acf"
      }
     },
     "1879f18766444007aba408b4ed77fce1": {
      "model_module": "@jupyter-widgets/base",
      "model_module_version": "1.2.0",
      "model_name": "LayoutModel",
      "state": {}
     },
     "1913823a0fa74848ba1f4bbcdb4625ac": {
      "model_module": "@jupyter-widgets/base",
      "model_module_version": "1.2.0",
      "model_name": "LayoutModel",
      "state": {}
     },
     "192e6c6d57f3482d870f3a023280862b": {
      "model_module": "@jupyter-widgets/base",
      "model_module_version": "1.2.0",
      "model_name": "LayoutModel",
      "state": {}
     },
     "193241cfd3dd4c54bff14440f87d16d0": {
      "model_module": "@jupyter-widgets/controls",
      "model_module_version": "1.5.0",
      "model_name": "SliderStyleModel",
      "state": {
       "description_width": ""
      }
     },
     "199f9d72017340208955db422d620e19": {
      "model_module": "@jupyter-widgets/base",
      "model_module_version": "1.2.0",
      "model_name": "LayoutModel",
      "state": {}
     },
     "1ab6da8c1cc447389724297f3a0c0c0e": {
      "model_module": "@jupyter-widgets/base",
      "model_module_version": "1.2.0",
      "model_name": "LayoutModel",
      "state": {}
     },
     "1b0a8f06473b4270ad486057a90a3604": {
      "model_module": "@jupyter-widgets/base",
      "model_module_version": "1.2.0",
      "model_name": "LayoutModel",
      "state": {}
     },
     "1b35a659eaa441d3bf3da87930cb4139": {
      "model_module": "@jupyter-widgets/controls",
      "model_module_version": "1.5.0",
      "model_name": "FloatSliderModel",
      "state": {
       "description": "alpha",
       "layout": "IPY_MODEL_cf3d685087ed454abf4648d9bdfc4602",
       "max": 10,
       "min": 0.5,
       "step": 0.5,
       "style": "IPY_MODEL_50285ab0ae204690819b3aae1a6455dd",
       "value": 2
      }
     },
     "1b3d9586e747473b80e6250134bc3d2c": {
      "model_module": "@jupyter-widgets/output",
      "model_module_version": "1.0.0",
      "model_name": "OutputModel",
      "state": {
       "layout": "IPY_MODEL_26ddaf2b826c4ce4b3cee9f3fcdd4882",
       "outputs": [
        {
         "ename": "AttributeError",
         "evalue": "x",
         "output_type": "error",
         "traceback": [
          "\u001b[0;31m---------------------------------------------------------------------------\u001b[0m",
          "\u001b[0;31mAttributeError\u001b[0m                            Traceback (most recent call last)",
          "\u001b[0;32m~/.virtualenvs/ScratchPad/lib/python3.7/site-packages/ipywidgets/widgets/interaction.py\u001b[0m in \u001b[0;36mupdate\u001b[0;34m(self, *args)\u001b[0m\n\u001b[1;32m    254\u001b[0m                     \u001b[0mvalue\u001b[0m \u001b[0;34m=\u001b[0m \u001b[0mwidget\u001b[0m\u001b[0;34m.\u001b[0m\u001b[0mget_interact_value\u001b[0m\u001b[0;34m(\u001b[0m\u001b[0;34m)\u001b[0m\u001b[0;34m\u001b[0m\u001b[0;34m\u001b[0m\u001b[0m\n\u001b[1;32m    255\u001b[0m                     \u001b[0mself\u001b[0m\u001b[0;34m.\u001b[0m\u001b[0mkwargs\u001b[0m\u001b[0;34m[\u001b[0m\u001b[0mwidget\u001b[0m\u001b[0;34m.\u001b[0m\u001b[0m_kwarg\u001b[0m\u001b[0;34m]\u001b[0m \u001b[0;34m=\u001b[0m \u001b[0mvalue\u001b[0m\u001b[0;34m\u001b[0m\u001b[0;34m\u001b[0m\u001b[0m\n\u001b[0;32m--> 256\u001b[0;31m                 \u001b[0mself\u001b[0m\u001b[0;34m.\u001b[0m\u001b[0mresult\u001b[0m \u001b[0;34m=\u001b[0m \u001b[0mself\u001b[0m\u001b[0;34m.\u001b[0m\u001b[0mf\u001b[0m\u001b[0;34m(\u001b[0m\u001b[0;34m**\u001b[0m\u001b[0mself\u001b[0m\u001b[0;34m.\u001b[0m\u001b[0mkwargs\u001b[0m\u001b[0;34m)\u001b[0m\u001b[0;34m\u001b[0m\u001b[0;34m\u001b[0m\u001b[0m\n\u001b[0m\u001b[1;32m    257\u001b[0m                 \u001b[0mshow_inline_matplotlib_plots\u001b[0m\u001b[0;34m(\u001b[0m\u001b[0;34m)\u001b[0m\u001b[0;34m\u001b[0m\u001b[0;34m\u001b[0m\u001b[0m\n\u001b[1;32m    258\u001b[0m                 \u001b[0;32mif\u001b[0m \u001b[0mself\u001b[0m\u001b[0;34m.\u001b[0m\u001b[0mauto_display\u001b[0m \u001b[0;32mand\u001b[0m \u001b[0mself\u001b[0m\u001b[0;34m.\u001b[0m\u001b[0mresult\u001b[0m \u001b[0;32mis\u001b[0m \u001b[0;32mnot\u001b[0m \u001b[0;32mNone\u001b[0m\u001b[0;34m:\u001b[0m\u001b[0;34m\u001b[0m\u001b[0;34m\u001b[0m\u001b[0m\n",
          "\u001b[0;32m<ipython-input-106-158840819243>\u001b[0m in \u001b[0;36mupdate\u001b[0;34m(a, b, color)\u001b[0m\n\u001b[1;32m      7\u001b[0m \u001b[0;32mdef\u001b[0m \u001b[0mupdate\u001b[0m\u001b[0;34m(\u001b[0m\u001b[0ma\u001b[0m\u001b[0;34m=\u001b[0m\u001b[0;36m3.6\u001b[0m\u001b[0;34m,\u001b[0m \u001b[0mb\u001b[0m\u001b[0;34m=\u001b[0m\u001b[0;36m4.3\u001b[0m\u001b[0;34m,\u001b[0m \u001b[0mcolor\u001b[0m\u001b[0;34m=\u001b[0m\u001b[0;34m'blue'\u001b[0m\u001b[0;34m)\u001b[0m\u001b[0;34m:\u001b[0m\u001b[0;34m\u001b[0m\u001b[0;34m\u001b[0m\u001b[0m\n\u001b[1;32m      8\u001b[0m     \u001b[0;32mwith\u001b[0m \u001b[0mfig\u001b[0m\u001b[0;34m.\u001b[0m\u001b[0mbatch_update\u001b[0m\u001b[0;34m(\u001b[0m\u001b[0;34m)\u001b[0m\u001b[0;34m:\u001b[0m\u001b[0;34m\u001b[0m\u001b[0;34m\u001b[0m\u001b[0m\n\u001b[0;32m----> 9\u001b[0;31m         \u001b[0mscatt\u001b[0m\u001b[0;34m.\u001b[0m\u001b[0mx\u001b[0m\u001b[0;34m=\u001b[0m\u001b[0mxs\u001b[0m\u001b[0;34m\u001b[0m\u001b[0;34m\u001b[0m\u001b[0m\n\u001b[0m\u001b[1;32m     10\u001b[0m         \u001b[0mscatt\u001b[0m\u001b[0;34m.\u001b[0m\u001b[0my\u001b[0m\u001b[0;34m=\u001b[0m\u001b[0mnp\u001b[0m\u001b[0;34m.\u001b[0m\u001b[0msin\u001b[0m\u001b[0;34m(\u001b[0m\u001b[0ma\u001b[0m\u001b[0;34m*\u001b[0m\u001b[0mxs\u001b[0m\u001b[0;34m-\u001b[0m\u001b[0mb\u001b[0m\u001b[0;34m)\u001b[0m\u001b[0;34m\u001b[0m\u001b[0;34m\u001b[0m\u001b[0m\n\u001b[1;32m     11\u001b[0m         \u001b[0mscatt\u001b[0m\u001b[0;34m.\u001b[0m\u001b[0mline\u001b[0m\u001b[0;34m.\u001b[0m\u001b[0mcolor\u001b[0m\u001b[0;34m=\u001b[0m\u001b[0mcolor\u001b[0m\u001b[0;34m\u001b[0m\u001b[0;34m\u001b[0m\u001b[0m\n",
          "\u001b[0;32m~/.virtualenvs/ScratchPad/lib/python3.7/site-packages/plotly/basedatatypes.py\u001b[0m in \u001b[0;36m__setattr__\u001b[0;34m(self, prop, value)\u001b[0m\n\u001b[1;32m    349\u001b[0m         \u001b[0;32melse\u001b[0m\u001b[0;34m:\u001b[0m\u001b[0;34m\u001b[0m\u001b[0;34m\u001b[0m\u001b[0m\n\u001b[1;32m    350\u001b[0m             \u001b[0;31m# Raise error on unknown public properties\u001b[0m\u001b[0;34m\u001b[0m\u001b[0;34m\u001b[0m\u001b[0;34m\u001b[0m\u001b[0m\n\u001b[0;32m--> 351\u001b[0;31m             \u001b[0;32mraise\u001b[0m \u001b[0mAttributeError\u001b[0m\u001b[0;34m(\u001b[0m\u001b[0mprop\u001b[0m\u001b[0;34m)\u001b[0m\u001b[0;34m\u001b[0m\u001b[0;34m\u001b[0m\u001b[0m\n\u001b[0m\u001b[1;32m    352\u001b[0m \u001b[0;34m\u001b[0m\u001b[0m\n\u001b[1;32m    353\u001b[0m     \u001b[0;32mdef\u001b[0m \u001b[0m__getitem__\u001b[0m\u001b[0;34m(\u001b[0m\u001b[0mself\u001b[0m\u001b[0;34m,\u001b[0m \u001b[0mprop\u001b[0m\u001b[0;34m)\u001b[0m\u001b[0;34m:\u001b[0m\u001b[0;34m\u001b[0m\u001b[0;34m\u001b[0m\u001b[0m\n",
          "\u001b[0;31mAttributeError\u001b[0m: x"
         ]
        }
       ]
      }
     },
     "1b74d1ca8f7d4e8c8e8e65b849349141": {
      "model_module": "@jupyter-widgets/controls",
      "model_module_version": "1.5.0",
      "model_name": "FloatSliderModel",
      "state": {
       "description": "phi",
       "layout": "IPY_MODEL_00b5a64c9f344b7c8c62c8d254b4db96",
       "max": 2.356194490192345,
       "min": -0.7853981633974483,
       "step": 0.1,
       "style": "IPY_MODEL_366595d5ed744a97a74246e86296a3bc",
       "value": 0.7853981633974483
      }
     },
     "1c575d7afd154b6c8a7046bbdbceba1f": {
      "model_module": "@jupyter-widgets/controls",
      "model_module_version": "1.5.0",
      "model_name": "DropdownModel",
      "state": {
       "_options_labels": [
        "red",
        "green",
        "blue"
       ],
       "description": "color",
       "index": 0,
       "layout": "IPY_MODEL_1b0a8f06473b4270ad486057a90a3604",
       "style": "IPY_MODEL_d5e11b6f887a481fb75f937b00e15f70"
      }
     },
     "1c6898000f3140889501612a7a15d618": {
      "model_module": "@jupyter-widgets/output",
      "model_module_version": "1.0.0",
      "model_name": "OutputModel",
      "state": {
       "layout": "IPY_MODEL_6ab4853327a34861abd10133feeebe28"
      }
     },
     "1ce19188efee4a5eb68c5b4b5e3e820c": {
      "model_module": "@jupyter-widgets/controls",
      "model_module_version": "1.5.0",
      "model_name": "VBoxModel",
      "state": {
       "_dom_classes": [
        "widget-interact"
       ],
       "children": [
        "IPY_MODEL_d08aa6ddae014493b4611fcbfb8b7c2e",
        "IPY_MODEL_ee06260ad4b74dd49cad1790ece91824",
        "IPY_MODEL_0b0677f282ce494a8cc99a9c94758bba",
        "IPY_MODEL_2427b244349649cbbf1bd4d00bf96876",
        "IPY_MODEL_cec2c0ba07a540468cf391e437190b8f"
       ],
       "layout": "IPY_MODEL_114dd180913c48f3b172da3a6f5598de"
      }
     },
     "1e836b0eb7f74ee9a952f391cc936121": {
      "model_module": "@jupyter-widgets/base",
      "model_module_version": "1.2.0",
      "model_name": "LayoutModel",
      "state": {}
     },
     "1ed88b83a7f4481a8baa0ff237fb30b3": {
      "model_module": "@jupyter-widgets/controls",
      "model_module_version": "1.5.0",
      "model_name": "VBoxModel",
      "state": {
       "_dom_classes": [
        "widget-interact"
       ],
       "children": [
        "IPY_MODEL_48089b9b02074ef5a87a42d82d89b52a",
        "IPY_MODEL_da784114fe3147bc861b06f909fe7e36",
        "IPY_MODEL_9c57885e36c848d2a25639ba0feae88e",
        "IPY_MODEL_6977b94e0b9a4b4988bea967e7abbf50",
        "IPY_MODEL_8e4768f44f464a8abaa660b7d32221ae"
       ],
       "layout": "IPY_MODEL_8a322bb46dce42b3b363c9e53ac67733"
      }
     },
     "1f6fabb861b0418283a8cc10887dae0e": {
      "model_module": "@jupyter-widgets/base",
      "model_module_version": "1.2.0",
      "model_name": "LayoutModel",
      "state": {}
     },
     "1f98a075dfbd42ec8bfad49a8facb4a5": {
      "model_module": "@jupyter-widgets/controls",
      "model_module_version": "1.5.0",
      "model_name": "SliderStyleModel",
      "state": {
       "description_width": ""
      }
     },
     "20f88742f0a54d7fb3f4567dda7144d1": {
      "model_module": "@jupyter-widgets/base",
      "model_module_version": "1.2.0",
      "model_name": "LayoutModel",
      "state": {}
     },
     "2149839a57454d05a2e2b25856617236": {
      "model_module": "@jupyter-widgets/base",
      "model_module_version": "1.2.0",
      "model_name": "LayoutModel",
      "state": {}
     },
     "217fd01d82c04040a6364ab3b6a65564": {
      "model_module": "@jupyter-widgets/controls",
      "model_module_version": "1.5.0",
      "model_name": "DescriptionStyleModel",
      "state": {
       "description_width": ""
      }
     },
     "21845b55a8ac45ff8632738efaa26d17": {
      "model_module": "@jupyter-widgets/base",
      "model_module_version": "1.2.0",
      "model_name": "LayoutModel",
      "state": {}
     },
     "21b699374c334744b0f7c46e8c52181e": {
      "model_module": "@jupyter-widgets/base",
      "model_module_version": "1.2.0",
      "model_name": "LayoutModel",
      "state": {}
     },
     "233f89cb4de8496f8444df20d266026b": {
      "model_module": "@jupyter-widgets/controls",
      "model_module_version": "1.5.0",
      "model_name": "SliderStyleModel",
      "state": {
       "description_width": ""
      }
     },
     "236e25acc5314ea78048121450428b4e": {
      "buffers": [
       {
        "data": "AAAAAAAAAAAIH3zwwQevPwgffPDBB78/RhdddNFFxz8IH3zwwQfPP2WTTTbZZNM/RhdddNFF1z8nm2yyySbbPwgffPDBB98/dNFFF1104T9lk0022WTjP1ZVVVVVVeU/RhdddNFF5z822WSTTTbpPyebbLLJJus/GF100UUX7T8IH3zwwQfvP3zwwQcffPA/dNFFF1108T9tsskmm2zyP2WTTTbZZPM/XXTRRRdd9D9WVVVVVVX1P0422WSTTfY/RhdddNFF9z8++OCDDz74PzbZZJNNNvk/L7rooosu+j8nm2yyySb7Px988MEHH/w/GF100UUX/T8QPvjggw/+PwgffPDBB/8/AAAAAAAAAEB88MEHH3wAQPjggw8++ABAdNFFF110AUDxwQcffPABQG2yySabbAJA6aKLLrroAkBlk0022WQDQOGDDz744ANAXXTRRRddBEDZZJNNNtkEQFZVVVVVVQVA0kUXXXTRBUBONtlkk00GQMomm2yyyQZARhdddNFFB0DCBx988MEHQD744IMPPghAuuiiiy66CEA22WSTTTYJQLPJJptssglAL7rooosuCkCrqqqqqqoKQCebbLLJJgtAo4suuuiiC0AffPDBBx8MQJtssskmmwxAGF100UUXDUCUTTbZZJMNQBA++OCDDw5AjC666KKLDkAIH3zwwQcPQIQPPvjggw9AAAAAAAAAEEA++OCDDz4QQHzwwQcffBBAuuiiiy66EED44IMPPvgQQDbZZJNNNhFAdNFFF110EUCzySabbLIRQPHBBx988BFAL7rooosuEkBtsskmm2wSQKuqqqqqqhJA6aKLLrroEkAnm2yyySYTQGWTTTbZZBNAo4suuuiiE0Dhgw8++OATQB988MEHHxRAXXTRRRddFECbbLLJJpsUQNlkk0022RRAF1100UUXFUBWVVVVVVUVQJRNNtlkkxVA0kUXXXTRFUAQPvjggw8WQE422WSTTRZAjC666KKLFkDKJptssskWQAgffPDBBxdARhdddNFFF0CEDz744IMXQMIHH3zwwRdAAAAAAAAAGEA=",
        "encoding": "base64",
        "path": [
         "_data",
         0,
         "x",
         "value"
        ]
       },
       {
        "data": "TxNxGlfn7z83jB/Iys7vP6L9VUyAme4/F+jDa0hS7D+8zaUciA3pP2rNyvSB6OQ/yEj3OVAI4D90B/t6MTHVP/hRhYEYKMM/KmkRYr32or/ePIROBnnMv6bImAK9mtm//pBheOAJ4r9q5hxE56Tmv3s/ZkM4deq/Hg+2fa9Y7b8kUi5DcTXvv2kg86fR+u+/nwWKwumh779LNzl11S3uvzLDSZmXq+u/V0xRhaUx6L/rFDMBHt/jv5Q8Ol9ltd2/42LXVZui0r+8aW2S+6O7vx9C1kvmObQ/XG93663Y0D9h1jk4EwzcP7nAJEsyIuM/pzD6YxKT5z+ntrSb6DDrPyjBV95U2+0/LDeVIXp67z9nntgE1P/vP5VGPMa4Zu8/hToJAYO07T8gkRDAYfjqP5jd65DQSuc/VMDwWLzM4j+kPKoruUzbP8OhLrGWC9A/PoB3jETrsD98DbkeR+++v5zog2E5bdO/IcKSv7hw3r8N1Mbj2zHkv1KdW+aSdui/EWmab0vg679uABP2d1DuvwpkHOFEse+/kX/q7Fv2778XW0ybUh3vv3+WadS/Le2/EV3i9fc46r+yl4awcVnmvz8XZiHZseG/yX/w3bLX2L9uwrYTn9rKv0d0Ej2Xq5i/kE4JZ1TLxD+E5Amr+vjVPxfNIzPMY+A/GbPVV2I45T/OJOLbAU/pP3t7RGQRg+w/4yIDxeO37j9n90C3uNnvP7qM9aht3u8/bix8d9jF7j+ot8XoyJnsP7bH/NWwbek/CazkGfZd5T8PWzZZ9I7gP2ywdhFvV9Y/mf87S+qRxT+S/XxBDWGSv7pEvqmcFcq/PpDH48p62L8V+6Wa0Yfhv1BMPN9ONea/WpM+V/0b6r/Es83T8Bjtv4S3+H9pEe+/h8luVsPz77/MI9oMFLjvv3fRMu9xYO6/70y6MOH4678leuFZ6Jbov7uxEZbPWOS/poS4PCPJ3r+WZ5h3D83Tv7CgyRNzP8C/1wLbdLCyrj+kTRCWF1TPPwv7A6eH8do/DVC+deij4j8I9AAKLyjnP31WgJko3eo/VhCR7qWh7T8=",
        "encoding": "base64",
        "path": [
         "_data",
         0,
         "y",
         "value"
        ]
       }
      ],
      "model_module": "plotlywidget",
      "model_module_version": "^1.0.0",
      "model_name": "FigureModel",
      "state": {
       "_config": {
        "plotlyServerURL": "https://plot.ly"
       },
       "_data": [
        {
         "line": {
          "color": "red"
         },
         "type": "scatter",
         "uid": "10b27868-ddd0-4c36-b50d-74a5faebd74d",
         "x": {
          "dtype": "float64",
          "shape": [
           100
          ],
          "value": {}
         },
         "y": {
          "dtype": "float64",
          "shape": [
           100
          ],
          "value": {}
         }
        }
       ],
       "_js2py_pointsCallback": {},
       "_js2py_relayout": {},
       "_js2py_restyle": {},
       "_js2py_update": {},
       "_last_layout_edit_id": 67,
       "_last_trace_edit_id": 67,
       "_layout": {
        "template": {
         "data": {
          "bar": [
           {
            "error_x": {
             "color": "#2a3f5f"
            },
            "error_y": {
             "color": "#2a3f5f"
            },
            "marker": {
             "line": {
              "color": "#E5ECF6",
              "width": 0.5
             }
            },
            "type": "bar"
           }
          ],
          "barpolar": [
           {
            "marker": {
             "line": {
              "color": "#E5ECF6",
              "width": 0.5
             }
            },
            "type": "barpolar"
           }
          ],
          "carpet": [
           {
            "aaxis": {
             "endlinecolor": "#2a3f5f",
             "gridcolor": "white",
             "linecolor": "white",
             "minorgridcolor": "white",
             "startlinecolor": "#2a3f5f"
            },
            "baxis": {
             "endlinecolor": "#2a3f5f",
             "gridcolor": "white",
             "linecolor": "white",
             "minorgridcolor": "white",
             "startlinecolor": "#2a3f5f"
            },
            "type": "carpet"
           }
          ],
          "choropleth": [
           {
            "colorbar": {
             "outlinewidth": 0,
             "ticks": ""
            },
            "type": "choropleth"
           }
          ],
          "contour": [
           {
            "colorbar": {
             "outlinewidth": 0,
             "ticks": ""
            },
            "colorscale": [
             [
              0,
              "#0d0887"
             ],
             [
              0.1111111111111111,
              "#46039f"
             ],
             [
              0.2222222222222222,
              "#7201a8"
             ],
             [
              0.3333333333333333,
              "#9c179e"
             ],
             [
              0.4444444444444444,
              "#bd3786"
             ],
             [
              0.5555555555555556,
              "#d8576b"
             ],
             [
              0.6666666666666666,
              "#ed7953"
             ],
             [
              0.7777777777777778,
              "#fb9f3a"
             ],
             [
              0.8888888888888888,
              "#fdca26"
             ],
             [
              1,
              "#f0f921"
             ]
            ],
            "type": "contour"
           }
          ],
          "contourcarpet": [
           {
            "colorbar": {
             "outlinewidth": 0,
             "ticks": ""
            },
            "type": "contourcarpet"
           }
          ],
          "heatmap": [
           {
            "colorbar": {
             "outlinewidth": 0,
             "ticks": ""
            },
            "colorscale": [
             [
              0,
              "#0d0887"
             ],
             [
              0.1111111111111111,
              "#46039f"
             ],
             [
              0.2222222222222222,
              "#7201a8"
             ],
             [
              0.3333333333333333,
              "#9c179e"
             ],
             [
              0.4444444444444444,
              "#bd3786"
             ],
             [
              0.5555555555555556,
              "#d8576b"
             ],
             [
              0.6666666666666666,
              "#ed7953"
             ],
             [
              0.7777777777777778,
              "#fb9f3a"
             ],
             [
              0.8888888888888888,
              "#fdca26"
             ],
             [
              1,
              "#f0f921"
             ]
            ],
            "type": "heatmap"
           }
          ],
          "heatmapgl": [
           {
            "colorbar": {
             "outlinewidth": 0,
             "ticks": ""
            },
            "colorscale": [
             [
              0,
              "#0d0887"
             ],
             [
              0.1111111111111111,
              "#46039f"
             ],
             [
              0.2222222222222222,
              "#7201a8"
             ],
             [
              0.3333333333333333,
              "#9c179e"
             ],
             [
              0.4444444444444444,
              "#bd3786"
             ],
             [
              0.5555555555555556,
              "#d8576b"
             ],
             [
              0.6666666666666666,
              "#ed7953"
             ],
             [
              0.7777777777777778,
              "#fb9f3a"
             ],
             [
              0.8888888888888888,
              "#fdca26"
             ],
             [
              1,
              "#f0f921"
             ]
            ],
            "type": "heatmapgl"
           }
          ],
          "histogram": [
           {
            "marker": {
             "colorbar": {
              "outlinewidth": 0,
              "ticks": ""
             }
            },
            "type": "histogram"
           }
          ],
          "histogram2d": [
           {
            "colorbar": {
             "outlinewidth": 0,
             "ticks": ""
            },
            "colorscale": [
             [
              0,
              "#0d0887"
             ],
             [
              0.1111111111111111,
              "#46039f"
             ],
             [
              0.2222222222222222,
              "#7201a8"
             ],
             [
              0.3333333333333333,
              "#9c179e"
             ],
             [
              0.4444444444444444,
              "#bd3786"
             ],
             [
              0.5555555555555556,
              "#d8576b"
             ],
             [
              0.6666666666666666,
              "#ed7953"
             ],
             [
              0.7777777777777778,
              "#fb9f3a"
             ],
             [
              0.8888888888888888,
              "#fdca26"
             ],
             [
              1,
              "#f0f921"
             ]
            ],
            "type": "histogram2d"
           }
          ],
          "histogram2dcontour": [
           {
            "colorbar": {
             "outlinewidth": 0,
             "ticks": ""
            },
            "colorscale": [
             [
              0,
              "#0d0887"
             ],
             [
              0.1111111111111111,
              "#46039f"
             ],
             [
              0.2222222222222222,
              "#7201a8"
             ],
             [
              0.3333333333333333,
              "#9c179e"
             ],
             [
              0.4444444444444444,
              "#bd3786"
             ],
             [
              0.5555555555555556,
              "#d8576b"
             ],
             [
              0.6666666666666666,
              "#ed7953"
             ],
             [
              0.7777777777777778,
              "#fb9f3a"
             ],
             [
              0.8888888888888888,
              "#fdca26"
             ],
             [
              1,
              "#f0f921"
             ]
            ],
            "type": "histogram2dcontour"
           }
          ],
          "mesh3d": [
           {
            "colorbar": {
             "outlinewidth": 0,
             "ticks": ""
            },
            "type": "mesh3d"
           }
          ],
          "parcoords": [
           {
            "line": {
             "colorbar": {
              "outlinewidth": 0,
              "ticks": ""
             }
            },
            "type": "parcoords"
           }
          ],
          "scatter": [
           {
            "marker": {
             "colorbar": {
              "outlinewidth": 0,
              "ticks": ""
             }
            },
            "type": "scatter"
           }
          ],
          "scatter3d": [
           {
            "line": {
             "colorbar": {
              "outlinewidth": 0,
              "ticks": ""
             }
            },
            "marker": {
             "colorbar": {
              "outlinewidth": 0,
              "ticks": ""
             }
            },
            "type": "scatter3d"
           }
          ],
          "scattercarpet": [
           {
            "marker": {
             "colorbar": {
              "outlinewidth": 0,
              "ticks": ""
             }
            },
            "type": "scattercarpet"
           }
          ],
          "scattergeo": [
           {
            "marker": {
             "colorbar": {
              "outlinewidth": 0,
              "ticks": ""
             }
            },
            "type": "scattergeo"
           }
          ],
          "scattergl": [
           {
            "marker": {
             "colorbar": {
              "outlinewidth": 0,
              "ticks": ""
             }
            },
            "type": "scattergl"
           }
          ],
          "scattermapbox": [
           {
            "marker": {
             "colorbar": {
              "outlinewidth": 0,
              "ticks": ""
             }
            },
            "type": "scattermapbox"
           }
          ],
          "scatterpolar": [
           {
            "marker": {
             "colorbar": {
              "outlinewidth": 0,
              "ticks": ""
             }
            },
            "type": "scatterpolar"
           }
          ],
          "scatterpolargl": [
           {
            "marker": {
             "colorbar": {
              "outlinewidth": 0,
              "ticks": ""
             }
            },
            "type": "scatterpolargl"
           }
          ],
          "scatterternary": [
           {
            "marker": {
             "colorbar": {
              "outlinewidth": 0,
              "ticks": ""
             }
            },
            "type": "scatterternary"
           }
          ],
          "surface": [
           {
            "colorbar": {
             "outlinewidth": 0,
             "ticks": ""
            },
            "colorscale": [
             [
              0,
              "#0d0887"
             ],
             [
              0.1111111111111111,
              "#46039f"
             ],
             [
              0.2222222222222222,
              "#7201a8"
             ],
             [
              0.3333333333333333,
              "#9c179e"
             ],
             [
              0.4444444444444444,
              "#bd3786"
             ],
             [
              0.5555555555555556,
              "#d8576b"
             ],
             [
              0.6666666666666666,
              "#ed7953"
             ],
             [
              0.7777777777777778,
              "#fb9f3a"
             ],
             [
              0.8888888888888888,
              "#fdca26"
             ],
             [
              1,
              "#f0f921"
             ]
            ],
            "type": "surface"
           }
          ],
          "table": [
           {
            "cells": {
             "fill": {
              "color": "#EBF0F8"
             },
             "line": {
              "color": "white"
             }
            },
            "header": {
             "fill": {
              "color": "#C8D4E3"
             },
             "line": {
              "color": "white"
             }
            },
            "type": "table"
           }
          ]
         },
         "layout": {
          "annotationdefaults": {
           "arrowcolor": "#2a3f5f",
           "arrowhead": 0,
           "arrowwidth": 1
          },
          "colorscale": {
           "diverging": [
            [
             0,
             "#8e0152"
            ],
            [
             0.1,
             "#c51b7d"
            ],
            [
             0.2,
             "#de77ae"
            ],
            [
             0.3,
             "#f1b6da"
            ],
            [
             0.4,
             "#fde0ef"
            ],
            [
             0.5,
             "#f7f7f7"
            ],
            [
             0.6,
             "#e6f5d0"
            ],
            [
             0.7,
             "#b8e186"
            ],
            [
             0.8,
             "#7fbc41"
            ],
            [
             0.9,
             "#4d9221"
            ],
            [
             1,
             "#276419"
            ]
           ],
           "sequential": [
            [
             0,
             "#0d0887"
            ],
            [
             0.1111111111111111,
             "#46039f"
            ],
            [
             0.2222222222222222,
             "#7201a8"
            ],
            [
             0.3333333333333333,
             "#9c179e"
            ],
            [
             0.4444444444444444,
             "#bd3786"
            ],
            [
             0.5555555555555556,
             "#d8576b"
            ],
            [
             0.6666666666666666,
             "#ed7953"
            ],
            [
             0.7777777777777778,
             "#fb9f3a"
            ],
            [
             0.8888888888888888,
             "#fdca26"
            ],
            [
             1,
             "#f0f921"
            ]
           ],
           "sequentialminus": [
            [
             0,
             "#0d0887"
            ],
            [
             0.1111111111111111,
             "#46039f"
            ],
            [
             0.2222222222222222,
             "#7201a8"
            ],
            [
             0.3333333333333333,
             "#9c179e"
            ],
            [
             0.4444444444444444,
             "#bd3786"
            ],
            [
             0.5555555555555556,
             "#d8576b"
            ],
            [
             0.6666666666666666,
             "#ed7953"
            ],
            [
             0.7777777777777778,
             "#fb9f3a"
            ],
            [
             0.8888888888888888,
             "#fdca26"
            ],
            [
             1,
             "#f0f921"
            ]
           ]
          },
          "colorway": [
           "#636efa",
           "#EF553B",
           "#00cc96",
           "#ab63fa",
           "#FFA15A",
           "#19d3f3",
           "#FF6692",
           "#B6E880",
           "#FF97FF",
           "#FECB52"
          ],
          "font": {
           "color": "#2a3f5f"
          },
          "geo": {
           "bgcolor": "white",
           "lakecolor": "white",
           "landcolor": "#E5ECF6",
           "showlakes": true,
           "showland": true,
           "subunitcolor": "white"
          },
          "hoverlabel": {
           "align": "left"
          },
          "hovermode": "closest",
          "mapbox": {
           "style": "light"
          },
          "paper_bgcolor": "white",
          "plot_bgcolor": "#E5ECF6",
          "polar": {
           "angularaxis": {
            "gridcolor": "white",
            "linecolor": "white",
            "ticks": ""
           },
           "bgcolor": "#E5ECF6",
           "radialaxis": {
            "gridcolor": "white",
            "linecolor": "white",
            "ticks": ""
           }
          },
          "scene": {
           "xaxis": {
            "backgroundcolor": "#E5ECF6",
            "gridcolor": "white",
            "gridwidth": 2,
            "linecolor": "white",
            "showbackground": true,
            "ticks": "",
            "zerolinecolor": "white"
           },
           "yaxis": {
            "backgroundcolor": "#E5ECF6",
            "gridcolor": "white",
            "gridwidth": 2,
            "linecolor": "white",
            "showbackground": true,
            "ticks": "",
            "zerolinecolor": "white"
           },
           "zaxis": {
            "backgroundcolor": "#E5ECF6",
            "gridcolor": "white",
            "gridwidth": 2,
            "linecolor": "white",
            "showbackground": true,
            "ticks": "",
            "zerolinecolor": "white"
           }
          },
          "shapedefaults": {
           "line": {
            "color": "#2a3f5f"
           }
          },
          "ternary": {
           "aaxis": {
            "gridcolor": "white",
            "linecolor": "white",
            "ticks": ""
           },
           "baxis": {
            "gridcolor": "white",
            "linecolor": "white",
            "ticks": ""
           },
           "bgcolor": "#E5ECF6",
           "caxis": {
            "gridcolor": "white",
            "linecolor": "white",
            "ticks": ""
           }
          },
          "title": {
           "x": 0.05
          },
          "xaxis": {
           "automargin": true,
           "gridcolor": "white",
           "linecolor": "white",
           "ticks": "",
           "zerolinecolor": "white",
           "zerolinewidth": 2
          },
          "yaxis": {
           "automargin": true,
           "gridcolor": "white",
           "linecolor": "white",
           "ticks": "",
           "zerolinecolor": "white",
           "zerolinewidth": 2
          }
         }
        }
       },
       "_py2js_animate": {},
       "_py2js_deleteTraces": {},
       "_py2js_moveTraces": {},
       "_py2js_removeLayoutProps": {},
       "_py2js_removeTraceProps": {},
       "_py2js_restyle": {},
       "_view_count": 0
      }
     },
     "2427b244349649cbbf1bd4d00bf96876": {
      "model_module": "@jupyter-widgets/controls",
      "model_module_version": "1.5.0",
      "model_name": "FloatSliderModel",
      "state": {
       "description": "phi",
       "layout": "IPY_MODEL_af6d5e8d080c4f3d9e21ea695b22264a",
       "max": 2.356194490192345,
       "min": -0.7853981633974483,
       "step": 0.1,
       "style": "IPY_MODEL_50cb3d6c3a2c42e0afae88d1b3da201b",
       "value": 0.7853981633974483
      }
     },
     "248321088b9e452588c621c3981467ff": {
      "model_module": "@jupyter-widgets/base",
      "model_module_version": "1.2.0",
      "model_name": "LayoutModel",
      "state": {}
     },
     "25f5d3b376fe4c428021be461864595d": {
      "model_module": "@jupyter-widgets/controls",
      "model_module_version": "1.5.0",
      "model_name": "SliderStyleModel",
      "state": {
       "description_width": ""
      }
     },
     "26ddaf2b826c4ce4b3cee9f3fcdd4882": {
      "model_module": "@jupyter-widgets/base",
      "model_module_version": "1.2.0",
      "model_name": "LayoutModel",
      "state": {}
     },
     "2789dcbf1ed64014993b4bb4f58e5e8f": {
      "model_module": "@jupyter-widgets/controls",
      "model_module_version": "1.5.0",
      "model_name": "FloatSliderModel",
      "state": {
       "description": "gamma",
       "layout": "IPY_MODEL_cfed336fcff04fe497767e828766000f",
       "max": 0.3141592653589793,
       "min": 0.031415926535897934,
       "step": 0.031415926535897934,
       "style": "IPY_MODEL_14ba101d3986461e96dbd090a5d8dd82",
       "value": 0.031415926535897934
      }
     },
     "284b7c8629b74661816e4c1d7d09f617": {
      "model_module": "@jupyter-widgets/controls",
      "model_module_version": "1.5.0",
      "model_name": "SliderStyleModel",
      "state": {
       "description_width": ""
      }
     },
     "28cd035e4f0b43f9be8b1d182b618251": {
      "model_module": "@jupyter-widgets/controls",
      "model_module_version": "1.5.0",
      "model_name": "VBoxModel",
      "state": {
       "_dom_classes": [
        "widget-interact"
       ],
       "children": [
        "IPY_MODEL_e95808757f4b462085cc985fd7073109",
        "IPY_MODEL_abe24d7263f74e4189e38cfd0df43b47",
        "IPY_MODEL_90dfa88e864c4f39a00ce05c73b684af",
        "IPY_MODEL_7d19530d8696423391fe5f38d3fdb5e4",
        "IPY_MODEL_1c6898000f3140889501612a7a15d618"
       ],
       "layout": "IPY_MODEL_21b699374c334744b0f7c46e8c52181e"
      }
     },
     "29a9122ef8094fe48815d8b44870af27": {
      "model_module": "@jupyter-widgets/controls",
      "model_module_version": "1.5.0",
      "model_name": "FloatSliderModel",
      "state": {
       "layout": "IPY_MODEL_9e6f220525114bea95f6528966a2ecc5",
       "max": 1.5707963267948966,
       "step": 0.15707963267948966,
       "style": "IPY_MODEL_9bf72cf4ece54067adbb4e5edf5b4733",
       "value": 1.5707963267948966
      }
     },
     "29d574a4505c4c478605b127f3b7e7a9": {
      "model_module": "@jupyter-widgets/controls",
      "model_module_version": "1.5.0",
      "model_name": "SliderStyleModel",
      "state": {
       "description_width": ""
      }
     },
     "2a9cf6481a4a4a9a8b48d781c95acd4e": {
      "model_module": "@jupyter-widgets/controls",
      "model_module_version": "1.5.0",
      "model_name": "FloatSliderModel",
      "state": {
       "layout": "IPY_MODEL_51615841104a45da997fb99bfb5031ff",
       "max": 10,
       "min": 0.5,
       "step": 0.5,
       "style": "IPY_MODEL_0bed2e37550048e1b71044af9d2f952a",
       "value": 2
      }
     },
     "2bc74d234520464f82b9657566601c48": {
      "model_module": "@jupyter-widgets/controls",
      "model_module_version": "1.5.0",
      "model_name": "SliderStyleModel",
      "state": {
       "description_width": ""
      }
     },
     "2c948ba45eff40c0baa21ea507b4fc44": {
      "model_module": "@jupyter-widgets/controls",
      "model_module_version": "1.5.0",
      "model_name": "SliderStyleModel",
      "state": {
       "description_width": ""
      }
     },
     "2c97bc87c3254f6bb7943a902c08d568": {
      "model_module": "@jupyter-widgets/controls",
      "model_module_version": "1.5.0",
      "model_name": "FloatSliderModel",
      "state": {
       "description": "t_by_tmax",
       "layout": "IPY_MODEL_9a75319603bd4ad2a0d440fa926d59e4",
       "max": 1,
       "step": 0.01,
       "style": "IPY_MODEL_8dbebc4dd6a947a5888c8eb9432a3e34",
       "value": 0.01
      }
     },
     "2e2939738b5b4b9caa0c8f077d25c49e": {
      "model_module": "@jupyter-widgets/base",
      "model_module_version": "1.2.0",
      "model_name": "LayoutModel",
      "state": {}
     },
     "2e2feef8cba648c290176dd8e5550417": {
      "model_module": "@jupyter-widgets/controls",
      "model_module_version": "1.5.0",
      "model_name": "SliderStyleModel",
      "state": {
       "description_width": ""
      }
     },
     "2f06d387e21a4112a4902da70d5611b3": {
      "model_module": "@jupyter-widgets/controls",
      "model_module_version": "1.5.0",
      "model_name": "FloatSliderModel",
      "state": {
       "description": "phi",
       "layout": "IPY_MODEL_8a78a05c553843f68810448793bad75c",
       "max": 2.356194490192345,
       "min": -0.7853981633974483,
       "step": 0.1,
       "style": "IPY_MODEL_5c9117bd8ef04044b63b29f7d734f09f",
       "value": 0.7853981633974483
      }
     },
     "30271265b0104da2830d89d0d1288053": {
      "model_module": "@jupyter-widgets/controls",
      "model_module_version": "1.5.0",
      "model_name": "FloatSliderModel",
      "state": {
       "description": "t_by_tmax",
       "layout": "IPY_MODEL_abb29e061c1c4e139fedf0a535e1b754",
       "max": 1,
       "step": 0.01,
       "style": "IPY_MODEL_c37569268c944b69a666683030779575"
      }
     },
     "30ce170848d54c5595c8948ccaa78013": {
      "model_module": "@jupyter-widgets/controls",
      "model_module_version": "1.5.0",
      "model_name": "FloatSliderModel",
      "state": {
       "description": "gamma",
       "layout": "IPY_MODEL_248321088b9e452588c621c3981467ff",
       "max": 0.3141592653589793,
       "min": 0.031415926535897934,
       "step": 0.031415926535897934,
       "style": "IPY_MODEL_ffb6682173994f229b045bcee5baeec0",
       "value": 0.031415926535897934
      }
     },
     "30d94f93ace348119ba217ab1c8e4605": {
      "model_module": "@jupyter-widgets/controls",
      "model_module_version": "1.5.0",
      "model_name": "FloatSliderModel",
      "state": {
       "layout": "IPY_MODEL_784d7e020b8941239d5b13dbbd093e33",
       "max": 10,
       "min": 0.5,
       "step": 0.5,
       "style": "IPY_MODEL_d339a942115c429e80eff6d9a2d7e934",
       "value": 2
      }
     },
     "312f7e2266b04284b01e1baab2ba6d3d": {
      "model_module": "@jupyter-widgets/base",
      "model_module_version": "1.2.0",
      "model_name": "LayoutModel",
      "state": {}
     },
     "318cb95835b3408e99b5f15ab0c4bba0": {
      "model_module": "@jupyter-widgets/controls",
      "model_module_version": "1.5.0",
      "model_name": "VBoxModel",
      "state": {
       "_dom_classes": [
        "widget-interact"
       ],
       "children": [
        "IPY_MODEL_10e16715ce5741e5a51daa2c0233144e",
        "IPY_MODEL_c07f809f91ff4f3fa9f52dc50fb3cda9",
        "IPY_MODEL_a53f72e3471144daa29b258999f3c005",
        "IPY_MODEL_2f06d387e21a4112a4902da70d5611b3",
        "IPY_MODEL_61ba971251424d02bc8c94594b8ae7a7"
       ],
       "layout": "IPY_MODEL_f5f9925a3b284dcfa669cf4067eaf856"
      }
     },
     "32021cc15a83435ca82f9a2599d93f63": {
      "model_module": "@jupyter-widgets/base",
      "model_module_version": "1.2.0",
      "model_name": "LayoutModel",
      "state": {}
     },
     "3246243a536b4868bfefb08ff64b1ef1": {
      "model_module": "@jupyter-widgets/base",
      "model_module_version": "1.2.0",
      "model_name": "LayoutModel",
      "state": {}
     },
     "3272b3c66fa84d36bd97ff3763b222ad": {
      "model_module": "@jupyter-widgets/controls",
      "model_module_version": "1.5.0",
      "model_name": "SliderStyleModel",
      "state": {
       "description_width": ""
      }
     },
     "32a670a084bc42a591389573bb2d71c1": {
      "model_module": "@jupyter-widgets/controls",
      "model_module_version": "1.5.0",
      "model_name": "SliderStyleModel",
      "state": {
       "description_width": ""
      }
     },
     "32ca0f1467ba4f75be062f27bb28cbe6": {
      "model_module": "@jupyter-widgets/controls",
      "model_module_version": "1.5.0",
      "model_name": "SliderStyleModel",
      "state": {
       "description_width": ""
      }
     },
     "33d4327d0062483ebe6d1ccaef95257a": {
      "model_module": "@jupyter-widgets/controls",
      "model_module_version": "1.5.0",
      "model_name": "FloatSliderModel",
      "state": {
       "description": "alpha",
       "layout": "IPY_MODEL_55bdfd8c89b9418bbec8b85671dd2de4",
       "max": 10,
       "min": 0.5,
       "step": 0.5,
       "style": "IPY_MODEL_70ea1f5512ec4b6f920ce34b315dff23",
       "value": 2
      }
     },
     "3645688bce15429bb0a841ed3f27a9a3": {
      "model_module": "@jupyter-widgets/controls",
      "model_module_version": "1.5.0",
      "model_name": "FloatSliderModel",
      "state": {
       "description": "t_by_tmax",
       "layout": "IPY_MODEL_1879f18766444007aba408b4ed77fce1",
       "max": 1,
       "step": 0.01,
       "style": "IPY_MODEL_41857be5fd734506aa4514ef063a0046",
       "value": 0.13
      }
     },
     "366595d5ed744a97a74246e86296a3bc": {
      "model_module": "@jupyter-widgets/controls",
      "model_module_version": "1.5.0",
      "model_name": "SliderStyleModel",
      "state": {
       "description_width": ""
      }
     },
     "36706a573320497c900df9563bf1c162": {
      "model_module": "@jupyter-widgets/base",
      "model_module_version": "1.2.0",
      "model_name": "LayoutModel",
      "state": {}
     },
     "36dbe4739b22485d8f59c442c08d82c9": {
      "model_module": "@jupyter-widgets/base",
      "model_module_version": "1.2.0",
      "model_name": "LayoutModel",
      "state": {}
     },
     "36f31c2341184d74a27ec70c7ffb2259": {
      "model_module": "@jupyter-widgets/controls",
      "model_module_version": "1.5.0",
      "model_name": "FloatSliderModel",
      "state": {
       "layout": "IPY_MODEL_e410217a1af24d0fb99c8b0a4fbfde04",
       "max": 0.3141592653589793,
       "min": 0.031415926535897934,
       "step": 0.031415926535897934,
       "style": "IPY_MODEL_25f5d3b376fe4c428021be461864595d",
       "value": 0.031415926535897934
      }
     },
     "377d74c36b2e481da5fa09c12634a0b8": {
      "model_module": "@jupyter-widgets/base",
      "model_module_version": "1.2.0",
      "model_name": "LayoutModel",
      "state": {}
     },
     "37b1a54120bb4c9e83be34361f929c10": {
      "model_module": "@jupyter-widgets/controls",
      "model_module_version": "1.5.0",
      "model_name": "SliderStyleModel",
      "state": {
       "description_width": ""
      }
     },
     "37b9acde34804e3696adc881f0cc15ee": {
      "model_module": "@jupyter-widgets/base",
      "model_module_version": "1.2.0",
      "model_name": "LayoutModel",
      "state": {}
     },
     "38046ae4f8ab4c98b1a7c4deb69213da": {
      "model_module": "@jupyter-widgets/base",
      "model_module_version": "1.2.0",
      "model_name": "LayoutModel",
      "state": {}
     },
     "3863afb7414648fca33ff4f63c5b5c43": {
      "model_module": "@jupyter-widgets/controls",
      "model_module_version": "1.5.0",
      "model_name": "FloatSliderModel",
      "state": {
       "layout": "IPY_MODEL_ee81f01e3d31447e9b9b2dd1c636b1c5",
       "max": 1.5707963267948966,
       "step": 0.15707963267948966,
       "style": "IPY_MODEL_32ca0f1467ba4f75be062f27bb28cbe6",
       "value": 1.5707963267948966
      }
     },
     "39605f6af52a48b6a50ecc008af070a2": {
      "model_module": "@jupyter-widgets/base",
      "model_module_version": "1.2.0",
      "model_name": "LayoutModel",
      "state": {}
     },
     "3ad30ad4312c4d37b75ffff636c7f01b": {
      "model_module": "@jupyter-widgets/controls",
      "model_module_version": "1.5.0",
      "model_name": "SliderStyleModel",
      "state": {
       "description_width": ""
      }
     },
     "3bbba3000366409783f410255460b67b": {
      "model_module": "@jupyter-widgets/base",
      "model_module_version": "1.2.0",
      "model_name": "LayoutModel",
      "state": {}
     },
     "3be566f1aba24eaa9328ffa3507dd5e8": {
      "model_module": "@jupyter-widgets/base",
      "model_module_version": "1.2.0",
      "model_name": "LayoutModel",
      "state": {}
     },
     "3c7551919d024170b7b420f94332a8c3": {
      "model_module": "@jupyter-widgets/controls",
      "model_module_version": "1.5.0",
      "model_name": "FloatSliderModel",
      "state": {
       "layout": "IPY_MODEL_619bddd3b9694fc6b545be649b0613a7",
       "max": 0.3141592653589793,
       "min": 0.031415926535897934,
       "step": 0.031415926535897934,
       "style": "IPY_MODEL_e385ea38957f4303bbb5a55f874382e4",
       "value": 0.031415926535897934
      }
     },
     "3e706e7b94ff437c9e5151ad599d0533": {
      "model_module": "@jupyter-widgets/controls",
      "model_module_version": "1.5.0",
      "model_name": "VBoxModel",
      "state": {
       "_dom_classes": [
        "widget-interact"
       ],
       "children": [
        "IPY_MODEL_2c97bc87c3254f6bb7943a902c08d568",
        "IPY_MODEL_42d15f4ad9fa4595b4a08b75d9828e19",
        "IPY_MODEL_5fab8eff14514b92b68cf0244efa57f4",
        "IPY_MODEL_cee40ad4eda149e3bcc8a6b19b23921f",
        "IPY_MODEL_87f98df66fc04a6cbf42d7f69c49bae7"
       ],
       "layout": "IPY_MODEL_fbe8a2e99b65447eadfcc580a7d5ccc5"
      }
     },
     "3ee448c45a8b4174add0c17206e7a743": {
      "model_module": "@jupyter-widgets/controls",
      "model_module_version": "1.5.0",
      "model_name": "FloatSliderModel",
      "state": {
       "description": "gamma",
       "layout": "IPY_MODEL_c368ac0d483342db901c858721ef5739",
       "max": 0.3141592653589793,
       "min": 0.031415926535897934,
       "step": 0.031415926535897934,
       "style": "IPY_MODEL_836bba22900f42a0afa9ed200d62118c",
       "value": 0.031415926535897934
      }
     },
     "3f3d490dacfa441b909793bd5fd90bae": {
      "model_module": "@jupyter-widgets/controls",
      "model_module_version": "1.5.0",
      "model_name": "FloatSliderModel",
      "state": {
       "description": "phi",
       "layout": "IPY_MODEL_9999a42a4dc74ac09c166437a9a59905",
       "max": 1.5707963267948966,
       "step": 0.15707963267948966,
       "style": "IPY_MODEL_193241cfd3dd4c54bff14440f87d16d0",
       "value": 1.5707963267948966
      }
     },
     "3f660d876d614be28125f117d09e7174": {
      "model_module": "@jupyter-widgets/base",
      "model_module_version": "1.2.0",
      "model_name": "LayoutModel",
      "state": {}
     },
     "3fa862077a104a83bbd5652f44e652b3": {
      "model_module": "@jupyter-widgets/controls",
      "model_module_version": "1.5.0",
      "model_name": "SliderStyleModel",
      "state": {
       "description_width": ""
      }
     },
     "3fae57341fdd4a49b4a62188605d19c1": {
      "model_module": "@jupyter-widgets/controls",
      "model_module_version": "1.5.0",
      "model_name": "FloatSliderModel",
      "state": {
       "layout": "IPY_MODEL_2149839a57454d05a2e2b25856617236",
       "max": 10,
       "min": 0.5,
       "step": 0.5,
       "style": "IPY_MODEL_e7ade3f1a6ac4c91b90c26bb096ccbfc",
       "value": 2
      }
     },
     "3fcdb916e0594046a42c0210275dbea2": {
      "model_module": "@jupyter-widgets/base",
      "model_module_version": "1.2.0",
      "model_name": "LayoutModel",
      "state": {}
     },
     "3fd97b5af9d949868680de91e5c10d99": {
      "model_module": "@jupyter-widgets/base",
      "model_module_version": "1.2.0",
      "model_name": "LayoutModel",
      "state": {}
     },
     "401ce7d7276747e69d6a4f224f5fcac4": {
      "model_module": "@jupyter-widgets/controls",
      "model_module_version": "1.5.0",
      "model_name": "SliderStyleModel",
      "state": {
       "description_width": ""
      }
     },
     "409067946cc341fe9c169a65610c8289": {
      "model_module": "@jupyter-widgets/base",
      "model_module_version": "1.2.0",
      "model_name": "LayoutModel",
      "state": {}
     },
     "41194f028812480f8d1ea0932472fb70": {
      "model_module": "@jupyter-widgets/controls",
      "model_module_version": "1.5.0",
      "model_name": "FloatSliderModel",
      "state": {
       "description": "a",
       "layout": "IPY_MODEL_d1f5e5263ac442a69ac7654d32974cef",
       "max": 4,
       "min": 1,
       "step": 0.01,
       "style": "IPY_MODEL_821784a040474557b50f558c7ee82cfb",
       "value": 1
      }
     },
     "41857be5fd734506aa4514ef063a0046": {
      "model_module": "@jupyter-widgets/controls",
      "model_module_version": "1.5.0",
      "model_name": "SliderStyleModel",
      "state": {
       "description_width": ""
      }
     },
     "42d15f4ad9fa4595b4a08b75d9828e19": {
      "model_module": "@jupyter-widgets/controls",
      "model_module_version": "1.5.0",
      "model_name": "IntSliderModel",
      "state": {
       "description": "alpha",
       "layout": "IPY_MODEL_ecac6dd94bbb407bb07d6bde3521aa6a",
       "max": 6,
       "min": -2,
       "style": "IPY_MODEL_961be0e1637a413ebd2799cdbb614f13",
       "value": 2
      }
     },
     "43209ee875a24bbc8fbe92055add270f": {
      "model_module": "@jupyter-widgets/controls",
      "model_module_version": "1.5.0",
      "model_name": "FloatSliderModel",
      "state": {
       "description": "t_by_tmax",
       "layout": "IPY_MODEL_3fcdb916e0594046a42c0210275dbea2",
       "max": 1,
       "step": 0.01,
       "style": "IPY_MODEL_e8e772d352d3483589addba557000e52",
       "value": 0.01
      }
     },
     "43212bc8071746b5bdfe89ba859b3d7d": {
      "model_module": "@jupyter-widgets/controls",
      "model_module_version": "1.5.0",
      "model_name": "FloatSliderModel",
      "state": {
       "layout": "IPY_MODEL_703fac9bbbbf404eb678a789776f946d",
       "max": 0.3141592653589793,
       "min": 0.031415926535897934,
       "step": 0.031415926535897934,
       "style": "IPY_MODEL_90124f1eff8c461a9db4d6cc210a4ac8",
       "value": 0.031415926535897934
      }
     },
     "43d3387a31954e6288ad57af5ca08b77": {
      "model_module": "@jupyter-widgets/controls",
      "model_module_version": "1.5.0",
      "model_name": "VBoxModel",
      "state": {
       "_dom_classes": [
        "widget-interact"
       ],
       "children": [
        "IPY_MODEL_30271265b0104da2830d89d0d1288053",
        "IPY_MODEL_9322e71a78a9408dae491c18f4f68faa",
        "IPY_MODEL_7f53c0fd05c449939d27780a6613b08f",
        "IPY_MODEL_a35333675aff4179bcfa0df48e9c84d1",
        "IPY_MODEL_790e9e97141849999197b9f9213c1efd"
       ],
       "layout": "IPY_MODEL_3be566f1aba24eaa9328ffa3507dd5e8"
      }
     },
     "44eb8248d3a74a7bb7d1364951768e7d": {
      "model_module": "@jupyter-widgets/controls",
      "model_module_version": "1.5.0",
      "model_name": "SliderStyleModel",
      "state": {
       "description_width": ""
      }
     },
     "45914ee589c449c8b6ce2a3323d51ec1": {
      "model_module": "@jupyter-widgets/base",
      "model_module_version": "1.2.0",
      "model_name": "LayoutModel",
      "state": {}
     },
     "467004da94c9446188df7829cb55321b": {
      "model_module": "@jupyter-widgets/controls",
      "model_module_version": "1.5.0",
      "model_name": "VBoxModel",
      "state": {
       "_dom_classes": [
        "widget-interact"
       ],
       "children": [
        "IPY_MODEL_8b17c70227c84786985dbb0a4d1ca977",
        "IPY_MODEL_33d4327d0062483ebe6d1ccaef95257a",
        "IPY_MODEL_add599309cab4bb9a5c6fbf2537c4cca",
        "IPY_MODEL_e9072faf72064319a1455cc9213b8917",
        "IPY_MODEL_0fcdabca77ab4967b837b007135c691b"
       ],
       "layout": "IPY_MODEL_2e2939738b5b4b9caa0c8f077d25c49e"
      }
     },
     "46828a397e0246deb70562e8f58ae88c": {
      "model_module": "@jupyter-widgets/controls",
      "model_module_version": "1.5.0",
      "model_name": "VBoxModel",
      "state": {
       "_dom_classes": [
        "widget-interact"
       ],
       "children": [
        "IPY_MODEL_41194f028812480f8d1ea0932472fb70",
        "IPY_MODEL_05dfde8130dd4594936be59dcde6e8da",
        "IPY_MODEL_4cf2b65e398d4bf081a18c1ba637fd42",
        "IPY_MODEL_6abe9b9bba0d44d1812c7c9af6c9a701"
       ],
       "layout": "IPY_MODEL_e6300c2d168840ee85f7c9015056e921"
      }
     },
     "473ceadb3a854986834846bb1ecaaa2a": {
      "model_module": "@jupyter-widgets/controls",
      "model_module_version": "1.5.0",
      "model_name": "SliderStyleModel",
      "state": {
       "description_width": ""
      }
     },
     "48089b9b02074ef5a87a42d82d89b52a": {
      "model_module": "@jupyter-widgets/controls",
      "model_module_version": "1.5.0",
      "model_name": "FloatSliderModel",
      "state": {
       "description": "t_by_tmax",
       "layout": "IPY_MODEL_1f6fabb861b0418283a8cc10887dae0e",
       "max": 1,
       "step": 0.01,
       "style": "IPY_MODEL_542f3bdaf31a426da7b051642e4ccc3a",
       "value": 0.01
      }
     },
     "48a04ae53c424e909ba4846574b62939": {
      "model_module": "@jupyter-widgets/base",
      "model_module_version": "1.2.0",
      "model_name": "LayoutModel",
      "state": {}
     },
     "49175ae8e1c54f8f94bbc763fc156d2f": {
      "model_module": "@jupyter-widgets/controls",
      "model_module_version": "1.5.0",
      "model_name": "FloatSliderModel",
      "state": {
       "description": "t_by_tmax",
       "layout": "IPY_MODEL_1e836b0eb7f74ee9a952f391cc936121",
       "max": 1,
       "step": 0.01,
       "style": "IPY_MODEL_3272b3c66fa84d36bd97ff3763b222ad"
      }
     },
     "4a9de33e307e4845a19ee0f05a111e5e": {
      "model_module": "@jupyter-widgets/controls",
      "model_module_version": "1.5.0",
      "model_name": "DescriptionStyleModel",
      "state": {
       "description_width": ""
      }
     },
     "4ba2148f90024e088a107ed5d2c09f95": {
      "model_module": "@jupyter-widgets/base",
      "model_module_version": "1.2.0",
      "model_name": "LayoutModel",
      "state": {}
     },
     "4cf2b65e398d4bf081a18c1ba637fd42": {
      "model_module": "@jupyter-widgets/controls",
      "model_module_version": "1.5.0",
      "model_name": "DropdownModel",
      "state": {
       "_options_labels": [
        "red",
        "green",
        "blue"
       ],
       "description": "color",
       "index": 2,
       "layout": "IPY_MODEL_91763c975ba04b8fa01469334979c982",
       "style": "IPY_MODEL_0913387d4b0c4859ac9d1cb3dbc927ee"
      }
     },
     "4dc8fbca6297430ba908cd03c94b293f": {
      "model_module": "@jupyter-widgets/base",
      "model_module_version": "1.2.0",
      "model_name": "LayoutModel",
      "state": {}
     },
     "4e30bd9f6b144951be2376d34940ff35": {
      "model_module": "@jupyter-widgets/controls",
      "model_module_version": "1.5.0",
      "model_name": "SliderStyleModel",
      "state": {
       "description_width": ""
      }
     },
     "4e5bb7dfbf3d4eefa00b5ceeddd91f33": {
      "model_module": "@jupyter-widgets/base",
      "model_module_version": "1.2.0",
      "model_name": "LayoutModel",
      "state": {}
     },
     "4ee04b84f0f74b4c9cca96635ecd312c": {
      "model_module": "@jupyter-widgets/controls",
      "model_module_version": "1.5.0",
      "model_name": "FloatSliderModel",
      "state": {
       "description": "phi",
       "layout": "IPY_MODEL_ecd8f05ba82241e5b1c9e2df9622470c",
       "max": 2.356194490192345,
       "min": -0.7853981633974483,
       "step": 0.1,
       "style": "IPY_MODEL_b3d2b8c532314f2094e80f2a6eca75b3",
       "value": 0.7853981633974483
      }
     },
     "4eef5b9c90724e988d1d2b5d308f5073": {
      "model_module": "@jupyter-widgets/base",
      "model_module_version": "1.2.0",
      "model_name": "LayoutModel",
      "state": {}
     },
     "4f8e23f405964a2696128ed7c529db47": {
      "model_module": "@jupyter-widgets/base",
      "model_module_version": "1.2.0",
      "model_name": "LayoutModel",
      "state": {}
     },
     "50285ab0ae204690819b3aae1a6455dd": {
      "model_module": "@jupyter-widgets/controls",
      "model_module_version": "1.5.0",
      "model_name": "SliderStyleModel",
      "state": {
       "description_width": ""
      }
     },
     "506cf430e8f149d297c8737192d997c8": {
      "model_module": "@jupyter-widgets/controls",
      "model_module_version": "1.5.0",
      "model_name": "SliderStyleModel",
      "state": {
       "description_width": ""
      }
     },
     "50cb3d6c3a2c42e0afae88d1b3da201b": {
      "model_module": "@jupyter-widgets/controls",
      "model_module_version": "1.5.0",
      "model_name": "SliderStyleModel",
      "state": {
       "description_width": ""
      }
     },
     "50f3f64c1d75465f8404d2fa4a868bc9": {
      "model_module": "@jupyter-widgets/base",
      "model_module_version": "1.2.0",
      "model_name": "LayoutModel",
      "state": {}
     },
     "51615841104a45da997fb99bfb5031ff": {
      "model_module": "@jupyter-widgets/base",
      "model_module_version": "1.2.0",
      "model_name": "LayoutModel",
      "state": {}
     },
     "529b4133b97f4abb814c3872d055451c": {
      "model_module": "@jupyter-widgets/controls",
      "model_module_version": "1.5.0",
      "model_name": "FloatSliderModel",
      "state": {
       "description": "phi",
       "layout": "IPY_MODEL_e81affbc115b4b12968a543667924feb",
       "max": 2.356194490192345,
       "min": -0.7853981633974483,
       "step": 0.1,
       "style": "IPY_MODEL_233f89cb4de8496f8444df20d266026b",
       "value": 2.2146
      }
     },
     "52fe30de7c7747ab871940ffe6de161f": {
      "model_module": "@jupyter-widgets/base",
      "model_module_version": "1.2.0",
      "model_name": "LayoutModel",
      "state": {}
     },
     "532a6ea403c34f4687dca803e6dbd030": {
      "model_module": "@jupyter-widgets/base",
      "model_module_version": "1.2.0",
      "model_name": "LayoutModel",
      "state": {}
     },
     "542f3bdaf31a426da7b051642e4ccc3a": {
      "model_module": "@jupyter-widgets/controls",
      "model_module_version": "1.5.0",
      "model_name": "SliderStyleModel",
      "state": {
       "description_width": ""
      }
     },
     "54c94b5250fe42cdbc19a8f4a600286e": {
      "model_module": "@jupyter-widgets/base",
      "model_module_version": "1.2.0",
      "model_name": "LayoutModel",
      "state": {}
     },
     "55661a5670774babb1a7486067a788c7": {
      "model_module": "@jupyter-widgets/base",
      "model_module_version": "1.2.0",
      "model_name": "LayoutModel",
      "state": {}
     },
     "55bdfd8c89b9418bbec8b85671dd2de4": {
      "model_module": "@jupyter-widgets/base",
      "model_module_version": "1.2.0",
      "model_name": "LayoutModel",
      "state": {}
     },
     "5680dab0861d483592defcce3210afe7": {
      "model_module": "@jupyter-widgets/controls",
      "model_module_version": "1.5.0",
      "model_name": "VBoxModel",
      "state": {
       "_dom_classes": [
        "widget-interact"
       ],
       "children": [
        "IPY_MODEL_080daa4699714cefbb8404728abeae77",
        "IPY_MODEL_ea3349d7033a4a9d9aeac95abd1b3570",
        "IPY_MODEL_30ce170848d54c5595c8948ccaa78013",
        "IPY_MODEL_7ee55650285844929a358fc6d3f9a38a",
        "IPY_MODEL_022c3d624ae14eaf86658f3f574a8cdb"
       ],
       "layout": "IPY_MODEL_61bc54a691464353b027eecd4fced3b7"
      }
     },
     "56e418d2ff674bbcb46dea5fbd71a8de": {
      "model_module": "@jupyter-widgets/controls",
      "model_module_version": "1.5.0",
      "model_name": "IntSliderModel",
      "state": {
       "description": "alpha",
       "layout": "IPY_MODEL_4ba2148f90024e088a107ed5d2c09f95",
       "max": 6,
       "min": -2,
       "style": "IPY_MODEL_fc289d98602d4b649cfd81cda80ab14a",
       "value": 2
      }
     },
     "58e78b5bd6de4ec19052077bf69a3f23": {
      "model_module": "@jupyter-widgets/controls",
      "model_module_version": "1.5.0",
      "model_name": "SliderStyleModel",
      "state": {
       "description_width": ""
      }
     },
     "590c20cee995430c87df3c7fc20f9854": {
      "model_module": "@jupyter-widgets/base",
      "model_module_version": "1.2.0",
      "model_name": "LayoutModel",
      "state": {}
     },
     "5a4e84aa7f324b62a90d16dcecfd669d": {
      "model_module": "@jupyter-widgets/controls",
      "model_module_version": "1.5.0",
      "model_name": "VBoxModel",
      "state": {
       "_dom_classes": [
        "widget-interact"
       ],
       "children": [
        "IPY_MODEL_df1f2ee423d54fdfbe41d71b702ecf2c",
        "IPY_MODEL_c625ab398de3490d8a631f6587541f22",
        "IPY_MODEL_3ee448c45a8b4174add0c17206e7a743",
        "IPY_MODEL_789df99f309b4adda7dc766cd444b227",
        "IPY_MODEL_7fdc6c550e10439f8d96b82a55dc617d"
       ],
       "layout": "IPY_MODEL_7e0f274c35464053b5cc2d2a387b8b1b"
      }
     },
     "5a68f07257c64db9ae96509c7b4befa7": {
      "model_module": "@jupyter-widgets/output",
      "model_module_version": "1.0.0",
      "model_name": "OutputModel",
      "state": {
       "layout": "IPY_MODEL_c468bfd64a5d43e4ab07edc0e9451612"
      }
     },
     "5adb3dd12e1c4f0781be84519f32254d": {
      "model_module": "@jupyter-widgets/base",
      "model_module_version": "1.2.0",
      "model_name": "LayoutModel",
      "state": {}
     },
     "5b4894cade474fb3b580e91b28285a6a": {
      "model_module": "@jupyter-widgets/controls",
      "model_module_version": "1.5.0",
      "model_name": "SliderStyleModel",
      "state": {
       "description_width": ""
      }
     },
     "5c317f86f98448ccb6cc121001d91550": {
      "buffers": [
       {
        "data": "AAAAAAAA8D9forljFPbvP/RkcL4p7O8/uZ1AD0Di7z+4kUhVV9jvPwByqI9vzu8/vliCvYjE7z9ERvrdorrvPxkeNvC9sO8/JKRd89mm7z+2eZrm9pzvP8IaGMkUk+8/+9oDmjOJ7z/+4oxYU3/vP5Qt5AN0de8/44Q8m5Vr7z+rf8oduGHvP4R+xIrbV+8/Lqli4f9N7z/b694gJUTvP3z0dEhLOu8/HDBiV3Iw7z8tyOVMmibvP/ufQCjDHO8/AVK16OwS7z9aLYiNFwnvPyAz/xVD/+4/7xNigW/17j9NLfrOnOvuPy2HEv7K4e4/aNH3DfrX7j88Yfj9Kc7uP+EuZM1axO4/CNOMe4y67j9whMUHv7DuP3UVY3Hypu4/sfG7tyad7j+OGyjaW5PuP/EpAdiRie4/2EWisMh/7j/7J2hjAHbuP40Wse84bO4/2eLcVHJi7j8F50ySrFjuP7gDZKfnTu4/7p2GkyNF7j+mnBpWYDvuP61mh+6dMe4/aeA1XNwn7j+WaZCeGx7uPyvbArVbFO4/HYX6npwK7j88LOZb3gDuPwgINusg9+0/l8BbTGTt7T91bMp+qOPtP4CO9oHt2e0/3RNWVTPQ7T/ZUWD4ecbtP+QDjmrBvO0/fElZqwmz7T8mpD26UqntP2f1t5acn+0/wnxGQOeV7T+71Wi2MoztP9f1n/h+gu0/pypuBsx47T/OF1ffGW/tPxO134JoZe0/cUyO8Ldb7T8reOonCFLtP+AgfShZSO0/rHvQ8ao+7T8/CHCD/TTtPwaP6NxQK+0/Qx/I/aQh7T89DZ7l+RftP2zw+pNPDu0/mqFwCKYE7T8hOZJC/frsPw8N9EFV8ew/aa8rBq7n7D9c7M+OB97sP33IeNth1Ow/BH+/67zK7D8KgD6/GMHsP9dukVV1t+w/ICBVrtKt7D9VmCfJMKTsP+gJqKWPmuw/ptN2Q++Q7D//fjWiT4fsP2G+hsGwfew/iGsOoRJ07D/hhXFAdWrsP9swVp/YYOw/V7JjvTxX7D/4cEKaoU3sP47ymzUHROw/gdoaj2067D8z6Gqm1DDsP3X1OHs8J+w/6/QyDaUd7D+C8AdcDhTsP+QHaGd4Cuw/7G4EL+MA7D8ebI+yTvfrPyFXvPG67es/QZc/7Cfk6z/koc6hldrrPxn5HxIE0es/ECrrPHPH6z+ky+gh473rP+d80sBTtOs/qONiGcWq6z8Gq1UrN6HrP/eBZ/apl+s/4xlWeh2O6z8uJeC2kYTrP9lVxasGe+s/DVzGWHxx6z/C5KS98mfrP1KYI9ppXus/IRkGruFU6z8yAhE5WkvrP9HlCXvTQes/PEy3c0046z8+suAiyC7rP+aHTohDJes/Ii/Ko78b6z9/+h11PBLrP8QrFfy5COs/t/J7ODj/6j+/ax8qt/XqP6SezdA27Oo/QH1VLLfi6j894oY8ONnqP8uPMgG6z+o/YC4qejzG6j9yS0Cnv7zqP0FYSIhDs+o/j6gWHcip6j9ucYBlTaDqP/jHW2HTluo/J6B/EFqN6j+Wy8Ny4YPqP034AIhpeuo/k68QUPJw6j+yVM3Ke2fqP9gjEvgFXuo/3TC715BU6j8cZqVpHEvqP0eDrq2oQeo/RBy1ozU46j8AmJhLwy7qP1IvOaVRJeo/zOt3sOAb6j+mpjZtcBLqP5cHWNsACeo/uoO/+pH/6T9vXFHLI/bpP0Ke8ky27Ok/0B+Jf0nj6T+ygPti3dnpP2coMfdx0Ok/OkUSPAfH6T80y4cxnb3pPwpze9cztOk/D7nXLcuq6T8g3Ic0Y6HpP5ncd+v7l+k/UHuUUpWO6T+EOMtpL4XpP9hSCjHKe+k/ScZAqGVy6T8sS17PAWnpPyhVU6aeX+k/OhIRLTxW6T+laYlj2kzpPwX7rkl5Q+k/QB113xg66T+X3c8kuTDpP6P+sxlaJ+k/WPcWvvsd6T8Y8u4RnhTpP6/LMhVBC+k/aBLax+QB6T8NBd0pifjoP/6RNDsu7+g/PFba+9Pl6D92nMhretzoPx5c+ooh0+g/cjhrWcnJ6D+efxfXccDoP8Mp/AMbt+g/GdgW4MSt6D/202Vrb6ToP/oN6KUam+g/Fx2dj8aR6D+7PYUoc4joP+JQoXAgf+g/NdvyZ8516D8tBHwOfWzoPy2VP2QsY+g/rvhAadxZ6D9OOYQdjVDoPwcBDoE+R+g/SZjjk/A96D8k5QpWozToP2tqisdWK+g/4UZp6Aoi6D9cNK+4vxjoP/aGZDh1D+g/OCySZysG6D89qkFG4vznP+0efdSZ8+c/JT9PElLq5z/nVcP/CuHnP49D5ZzE1+c/+nzB6X7O5z/LCmXmOcXnP4+I3ZL1u+c/ACQ577Gy5z8tnIb7bqnnP71A1bcsoOc/JPE0JOuW5z/aG7ZAqo3nP5u9aQ1qhOc/nGBhiip75z/NG6+363HnPxSSZZWtaOc/j/GXI3Bf5z/K8lliM1bnPxDYv1H3TOc/nWze8btD5z/pA8tCgTrnP+t4m0RHMec/Vy1m9w0o5z/tCEJb1R7nP714RnCdFec/ZW6LNmYM5z9pXymuLwPnP25EOdf5+eY/jpjUscTw5j+eWBU+kOfmP34CFnxc3uY/XJTxaynV5j8SjMMN98vmP2jmp2HFwuY/aR67Z5S55j+wLBogZLDmP72G4oo0p+Y/Rx4yqAWe5j+OYCd415TmP6014fqpi+Y/9f9+MH2C5j86myAZUXnmPzNc5rQlcOY/yQ/xA/tm5j91+mEG0V3mP5jXWrynVOY/1Nj9JX9L5j9kpW1DV0LmP4BZzRQwOeY/rIVAmgkw5j8lLuvT4ybmPzTK8cG+HeY/jkN5ZJoU5j+49aa7dgvmP2KtoMdTAuY/zaeMiDH55T8skpH+D/DlPwSJ1inv5uU/jheDCs/d5T8iN7+gr9TlP5hOs+yQy+U/rjGI7nLC5T9qIGemVbnlP4rGeRQ5sOU/5zrqOB2n5T/c/uITAp7lP7T9jqXnlOU/EowZ7s2L5T9YZ67ttILlPxe1eaSceeU/fgKoEoVw5T+/Q2Y4bmflP4PT4RVYXuU/WHJIq0JV5T8cRsj4LUzlP3HZj/4ZQ+U/KRvOvAY65T+8XbIz9DDlP7lWbGPiJ+U/NB4sTNEe5T89LiLuwBXlP1Zif0mxDOU/3/Z0XqID5T+YiDQtlPrkPwgU8LWG8eQ///TZ+Hno5D8J5iT2bd/kP+X/A65i1uQ//biqIFjN5D/h5ExOTsTkP76zHjdFu+Q/3LFU2zyy5D8XxyM7NankP1k2wVYuoOQ/E51iLiiX5D/F8j3CIo7kP3CIiRIeheQ/Gwh8Hxp85D9IdEzpFnPkP4EnMnAUauQ/ztNktBJh5D82ghy2EVjkP0KSkXURT+Q/frn88hFG5D/8ApcuEz3kP9TOmSgVNOQ/qtE+4Rcr5D8tFMBYGyLkP6TyV48fGeQ/ZhxBhSQQ5D9xk7Y6KgfkP9yr868w/uM/bAs05Tf14z8WqbPaP+zjP4bMrpBI4+M/qg1iB1La4z80VAo/XNHjPy/X5DdnyOM/fRwv8nK/4z9l+CZuf7bjPyONCqyMreM/akoYrJqk4z/57I5uqZvjPyN+rfO4kuM/WFOzO8mJ4z+6DeBG2oDjP6iZcxXsd+M/SS6up/5u4z8fTdD9EWbjP5XBGhgmXeM/jqDO9jpU4z/3Ry2aUEvjP1ZeeAJnQuM/XtLxL3454z982tsiljDjP3L0eNuuJ+M/3+QLWsge4z/Yttee4hXjP4K7H6r9DOM/lIknfBkE4z8A/TIVNvviP302hnVT8uI/HZtlnXHp4j/m0xWNkODiP2jN20Sw1+I/U7f8xNDO4j8PBL4N8sXiP1NoZR8UveI/vNo4+ja04j9sk36eWqviP5oLfQx/ouI/Nv16RKSZ4j94Yr9GypDiP4N1kRPxh+I//a84qxh/4j+qyvwNQXbiPwa9JTxqbeI/5rz7NZRk4j8QPsf7vlviP9zx0I3qUuI/zcZh7BZK4j8z6MIXREHiP8e9PRByOOI/Susb1qAv4j8kUKdp0CbiPwcHKssAHuI/hmXu+jEV4j+/+z75YwziP/qTZsaWA+I/QTKwYsr64T8NFGfO/vHhP+Wv1gk06eE/+bRKFWrg4T/RCg/xoNfhP+PQb53YzuE/QF65GhHG4T80QThpSr3hP+s+OYmEtOE/FVMJe7+r4T+Lr/U++6LhP/S7S9U3muE/bRVZPnWR4T8rjmt6s4jhPyct0Ynyf+E/vy3YbDJ34T9e/84jc27hPypFBK+0ZeE/otXGDvdc4T9QumVDOlThP2gvME1+S+E/eqN1LMNC4T8Wt4XhCDrhP3Q8sGxPMeE/JDdFzpYo4T+y25QG3x/hP1iP7xUoF+E/n+el/HEO4T8Vqgi7vAXhP+/LaFEI/eA/wHEXwFT04D8Z72UHouvgPz/GpSfw4uA/06coIT/a4D+DckD0jtHgP7UyP6HfyOA/NCJ3KDHA4D/jpzqKg7fgP2dX3MbWruA/2PCu3iqm4D9wYAXSf53gPzq+MqHVlOA/xU2KTCyM4D/QfV/Ug4PgP/jnBTnceuA/dVDRejVy4D++pRWaj2ngP0MAJ5fqYOA/FqJZckZY4D+p9gEso0/gP3aSdMQAR+A/tzIGPF8+4D8XvQuTvjXgP2Y/2skeLeA/S+/G4H8k4D/8KSfY4RvgP+1zULBEE+A/iHiYaagK4D/gCVUEDQLgP89AuAHl8t8/SbUHv7Hh3z/L+URBgNDfP/DhHIlQv98/v4s8lyKu3z8cX1Fs9pzfPycNCQnMi98/uo8RbqN63z/PKBmcfGnfP+9hzpNXWN8/pQvgVTRH3z/uPP3iEjbfP6BS1TvzJN8/9e4XYdUT3z/X+HRTuQLfP3KbnBOf8d4/nUU/oobg3j9EqQ0AcM/eP+y6uC1bvt4/GbHxK0it3j/KA2r7NpzeP/Fr05wni94/4uLfEBp63j/PoUFYDmnePzwhq3MEWN4/dxjPY/xG3j8TfWAp9jXeP1mCEsXxJN4/zpiYN+8T3j+dbaaB7gLePxnq76Pv8d0/PDMpn/Lg3T8XqQZ098/dP1rmPCP+vt0/wb+ArQau3T+iQ4cTEZ3dP1i5BVYdjN0/y6CxdSt73T/zsUBzO2rdP0jcaE9NWd0/RkbgCmFI3T/1TF2mdjfdP1+DliKOJt0/D7JCgKcV3T+e1hjAwgTdPyQj0OLf89w/xP0f6f7i3D8vAMDTH9LcPx33Z6NCwdw/2uHPWGew3D/D8a/0jZ/cP8yJwHe2jtw/CD664uB93D8i01U2DW3cP/A9THM7XNw/9KJWmmtL3D/bVS6snTrcPwjZjKnRKdw/J90rkwcZ3D+aQMVpPwjcPxsPEy5599s/NoHP4LTm2z/S+7SC8tXbP7oPfhQyxds/NnnllnO02z92H6YKt6PbPzwUe3D8kts/TZMfyUOC2z8TAk8VjXHbPxbvxFXYYNs/jhE9iyVQ2z/0SHO2dD/bP4ecI9jFLts/4zoK8Rge2z9/eeMBbg3bP0zUawvF/No/Nu1fDh7s2j+/i3wLedvaP4CcfgPWyto/wjAj9zS62j8MfifnlanaP7DdSNT4mNo/ZcxEv12I2j/E6dioxHfaP/L3wpEtZ9o/I9vAephW2j8vmZBkBUbaPx9Z8E90Ndo/z2KePeUk2j9uHlkuWBTaPygU3yLNA9o/nuvuG0Tz2T+Ua0caveLZP3h5px440tk/+BjOKbXB2T+ba3o8NLHZP1qwa1e1oNk/KENheziQ2T+dnBqpvX/ZP3dRV+FEb9k/RBLXJM5e2T/sqll0WU7ZP1ECn9DmPdk/5RlnOnYt2T9CDXKyBx3ZP8ARgDmbDNk/F3ZR0DD82D/roaZ3yOvYP3UVQDBi29g/Fmne+v3K2D/pTELYm7rYP3CILMk7qtg/I/pdzt2Z2D8Ml5fogYnYP2tqmhgoedg/SJUnX9Bo2D8WTgC9eljYP0/g5TInSNg/D6yZwdU32D+0Jd1phifYP33VcSw5F9g/IlcZCu4G2D96WZUDpfbXPxiepxle5tc/4/gRTRnW1z/FT5ae1sXXPzWa9g6Wtdc/7eD0nlel1z99PVNPG5XXP/PZ0yDhhNc/cfA4FKl01z/cykQqc2TXP3fCuWM/VNc/gj9awQ1E1z/juOhD3jPXP8ezJ+ywI9c/P8PZuoUT1z/mh8GwXAPXP46voc4189Y/0/Q8FRHj1j/LHlaF7tLWP6kAsB/OwtY/XXkN5a+y1j8+czHWk6LWP6zj3vN5ktY/scrYPmKC1j+0MuK3THLWPxMwvl85YtY/z+AvNyhS1j8wbPo+GULWP28C4XcMMtY/Wtym4gEi1j/+Og+A+RHWP0tn3VDzAdY/xLHUVe/x1T8fcriP7eHVP+wGTP/t0dU/TNVSpfDB1T+LSJCC9bHVP8/Rx5f8odU/xue85QWS1T9GBjNtEYLVPwKu7S4fctU/L2SwKy9i1T8ssj5kQVLVPzIlXNlVQtU/A07Mi2wy1T+IwFJ8hSLVP4sTs6ugEtU/W+CwGr4C1T98wg/K3fLUP09Xk7r/4tQ/xz3/7CPT1D8QFhdiSsPUPziBnhpzs9Q/6SBZF56j1D8OlwpZy5PUP4OFduD6g9Q/xI1grix01D+dUIzDYGTUP9RtvSCXVNQ/3oO3xs9E1D+LLz62CjXUP7QLFfBHJdQ/87D/dIcV1D9ItcFFyQXUP9OrHmMN9tM/gCTazVPm0z+0q7eGnNbTPwjKeo7nxtM/8APn5TS30z912b+NhKfTP+PFyIbWl9M/ez/F0SqI0z8kt3hvgXjTPyCYpmDaaNM/v0cSpjVZ0z8NJX9Ak0nTP46IsDDzOdM/7sNpd1Uq0z+rIW4VuhrTP9rkgAshC9M/y0hlWor70j/LgN4C9uvSP823rwVk3NI/KhCcY9TM0j9Jo2YdR73SP2WB0jO8rdI/L7GipzOe0j+WL5p5rY7SP2zve6opf9I/L9kKO6hv0j+wygksKWDSP8yWO36sUNI/LgVjMjJB0j/y0UJJujHSP3itncNEItI/+Ts2otES0j9jFc/lYAPSP/DEKo/y89E/+8gLn4bk0T+dkjQWHdXRP4CFZ/W1xdE/gfdmPVG20T94MPXu7qbRP+9p1AqPl9E/z87GkTGI0T8ue46E1njRP/N77eN9adE/p86lsCda0T8YYXnr00rRPycRKpWCO9E/c6x5rjMs0T8k8Ck45xzRP5OI/DKdDdE/GhGzn1X+0D+6Ew9/EO/QP+gI0tHN39A/Qle9mI3Q0D9KU5LUT8HQPyY/EoYUstA/VEr+rdui0D91kRdNpZPQP/gdH2RxhNA/7OXV8z910D+my/z8EGbQP5SdVIDkVtA/6BWefrpH0D9o2pn4kjjQPxl8CO9tKdA/D3eqYksa0D8gMkBUKwvQP0T9E4kb+M8/bTCQaOXZzz/qSHVItLvPP4JlQyqInc8/5nd6D2F/zz9bRJr5PmHPPxJhIuohQ88/zDWS4gklzz8y+2jk9gbPP4K6JfHo6M4/8kxHCuDKzj8sW0wx3KzOP/Fcs2fdjs4/dpj6ruNwzj8EIqAI71LOP2DbIXb/NM4/anP9+BQXzj+AZbCSL/nNPyz5t0RP280/ckGREHS9zT+QHLn3nZ/NP04zrPvMgc0/p/jmHQFkzT9DqeVfOkbNP/BKJMN4KM0/RaweSbwKzT8BZFDzBO3MP8bQNMNSz8w/ZBhHuqWxzD+YJwLa/ZPMP2ex4CNbdsw/0i5dmb1YzD8x3vE7JTvMP+LCGA2SHcw/uKRLDgQAzD+UDwRBe+LLP/ZSu6b3xMs/Y4HqQHmnyz8dcAoRAIrLP462kxiMbMs/663+WB1Pyz+hcMPTszHLPwraWYpPFMs/yoU5fvD2yj+Rz9mwltnKP2vSsSNCvMo/kGg42PKeyj+wKuTPqIHKP7VvKwxkZMo/O0yEjiRHyj8UkmRY6inKP/DPQWu1DMo/1lCRyIXvyT/IG8hxW9LJPzvzWmg2tck/wVS+rRaYyT9+eGZD/HrJP91QxyrnXck/7YlUZddAyT8ziYH0zCPJP/5swdnHBsk/JgyHFsjpyD+L9USszczIP55vbZzYr8g/E3hy6OiSyD9Pw8WR/nXIPx682JkZWcg/KIMcAjo8yD+l7gHMXx/IP82J+fiKAsg/lJRzirvlxz8aA+CB8cjHP2d9ruAsrMc/0V5OqG2Pxz/FtS7as3LHPz5Dvnf/Vcc/WnprglA5xz8IgKT7phzHP4Iq1+QCAMc/AwFxP2Tjxj9CO98My8bGPyTBjk43qsY/OSrsBamNxj91vWM0IHHGP6dwYducVMY/MOhQ/B44xj+Ddp2YphvGP9gbsrEz/8U/t4X5SMbixT+JDt5fXsbFP0+9yff7qcU/G0UmEp+NxT/PBF2wR3HFP5cG19P1VMU/ov/8fak4xT+hTzewYhzFP4MA7mshAMU/8MWIsuXjxD8J/W6Fr8fEP+SrB+Z+q8Q/Q4G51VOPxD8q1OpVLnPEP26jAWgOV8Q/bpVjDfQ6xD+W93VH3x7EPx6+nRfQAsQ/g4M/f8bmwz9NiL9/wsrDP4qygRrErsM/j43pUMuSwz9/SVok2HbDP/+6NpbqWsM/wFrhpwI/wz89RbxaICPDP0Y6KbBDB8M/oZyJqWzrwj/FcT5Im8/CP1RhqI3Ps8I/6rQnewmYwj+UVxwSSXzCP57V5VOOYMI/C1zjQdlEwj9kuHPdKSnCPyxY9SeADcI/uEjGItzxwT+fNkTPPdbBP41tzC6lusE/zNe7QhKfwT/m/W4MhYPBP2YGQo39Z8E/VrWQxntMwT8RbLa5/zDBP70oDmiJFcE/F4by0hj6wD/9ur37rd7APymayeNIw8A/x5FvjOmnwD8wqwj3j4zAP3mK7SQ8ccA/MG52F+5VwD8EL/vPpTrAP1A/009jH8A/7qpVmCYEwD95LbJV39G/P7qAZxF9m78/m/t2ZiZlvz9NeotX2y6/P1YIT+eb+L4/G+BqGGjCvj/2aYftP4y+P847TGkjVr4/SRhgjhIgvj8L7mhfDeq9P0PXC98TtL0/0RjtDyZ+vT/GIbD0Q0i9P4uK949tEr0/dxRl5KLcvD/mqJn046a8P89YNcMwcbw/41vXUok7vD8oEB6m7QW8Pwv5pr9d0Ls/AL8Ootmauz+1LvFPYWW7P2o46cv0L7s/c++QGJT6uj9eiYE4P8W6P5JdUy72j7o/auSd/Lhauj/RtvelhyW6P2GN9ixi8Lk/DUAvlEi7uT8vxTXeOoa5PzUxnQ05Ubk/v7X3JEMcuT82odYmWee4PxheyhV7srg/OnJi9Kh9uD9zfi3F4ki4P6s9uYooFLg/lISSR3rftz+yQEX+16q3Px94XLFBdrc/lUhiY7dBtz8k598WOQ23P02fXc7G2LY/stJijGCktj80+HVTBnC2P5GbHCa4O7Y/wFzbBnYHtj8u7zX4P9O1P3UZr/wVn7U/arTIFvhqtT/dqgNJ5ja1P7r435XgArU/qqrc/+bOtD9Q3XeJ+Zq0P+O8LjUYZ7Q/ZIR9BUMztD9Dfd/8ef+zP4/+zh29y7M/nGzFagyYsz9OODvmZ2SzP37ep5LPMLM/k+eBckP9sj+55j6Iw8myP4J5U9ZPlrI/LEczX+hisj86AFEljS+yP69dHis+/LE/vSAMc/vIsT/3EYr/xJWxPwIBB9OaYrE/vMPw73wvsT/7NbRYa/ywP9Q4vQ9mybA/A7J2F22WsD+Ki0pygGOwP/KyoSKgMLA/7DHIVZj7rz92YfEaCZavPwffipmSMK8/ypde1jTLrj8EezTW72WuP3B40p3DAK4/u3/8MbCbrT/rfnSXtTatP71h+tLT0aw/aRBM6QptrD9gbiXfWgisP61ZQLnDo6s/ZalUfEU/qz8iLRgt4NqqP2qrPtCTdqo/MeF5amASqj9BgHkARq6pP7su65ZESqk/ioV6MlzmqD/VD9HXjIKoP4RJlovWHqg/nJ5vUjm7pz8PagAxtVenP4j06StK9KY/2HPLR/iQpj9pCUKJvy2mP8rB6PSfyqU/HJNYj5lnpT+dXChdrASlPyrl7GLYoaQ/qto4pR0/pD+w0JwofNyjP90/p/HzeaM/eoTkBIUXoz/c3d5mL7WiPz9tHhzzUqI/nzQpKdDwoT8iFoOSxo6hP6vSrVzWLKE/VgkpjP/KoD8LNnIlQmmgP/ywBC2eB6A/b1qzTidMnz9ZcNAxRYmeP3VwSgyWxp0/TtgG5xkEnT8B1ObK0EGcP/c7x8C6f5s/zZOA0de9mj+TB+cFKPyZP8hqymarOpk/mzX2/GF5mD/vgzHRS7iXP5oSP+xo95Y/cz7dVrk2lj+MAcYZPXaVP0fyrj30tZQ/kEBJy971kz/itEHL/DWTPwquQEZOdpI/CR/qRNO2kT8Pjt3Pi/eQP74Rtu93OJA/j6AUWi/zjj9z+dgg1nWNPzOs1ETk+Is/ZUka11l8ij92crPoNgCJPznUoIp7hIc/RiXazScJhj+KIE7DO46EP22D4nu3E4M/mAl0CJuZgT/IaNZ55h+AP+qdqMEzTX0/7rlenGpbej/fSUClcWp3P/xJrP1IenQ/TYvvxvCKcT80UolE0jhtP40LqGFkXWc/pYBnJ5iDYT//xJ6v21ZXPyoBC9OWU0c/YWPCSKXxfzw=",
        "encoding": "base64",
        "path": [
         "_data",
         0,
         "x",
         "value"
        ]
       },
       {
        "data": "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",
        "encoding": "base64",
        "path": [
         "_data",
         0,
         "y",
         "value"
        ]
       }
      ],
      "model_module": "plotlywidget",
      "model_module_version": "^1.0.0",
      "model_name": "FigureModel",
      "state": {
       "_config": {
        "plotlyServerURL": "https://plot.ly"
       },
       "_data": [
        {
         "type": "scatter",
         "uid": "d7a49eb1-6ae2-4933-b2fc-cc6ebb36b02d",
         "x": {
          "dtype": "float64",
          "shape": [
           1000
          ],
          "value": {}
         },
         "y": {
          "dtype": "float64",
          "shape": [
           1000
          ],
          "value": {}
         }
        }
       ],
       "_js2py_pointsCallback": {},
       "_js2py_relayout": {},
       "_js2py_restyle": {},
       "_js2py_update": {},
       "_last_layout_edit_id": 126,
       "_last_trace_edit_id": 126,
       "_layout": {
        "template": {
         "data": {
          "bar": [
           {
            "error_x": {
             "color": "#2a3f5f"
            },
            "error_y": {
             "color": "#2a3f5f"
            },
            "marker": {
             "line": {
              "color": "#E5ECF6",
              "width": 0.5
             }
            },
            "type": "bar"
           }
          ],
          "barpolar": [
           {
            "marker": {
             "line": {
              "color": "#E5ECF6",
              "width": 0.5
             }
            },
            "type": "barpolar"
           }
          ],
          "carpet": [
           {
            "aaxis": {
             "endlinecolor": "#2a3f5f",
             "gridcolor": "white",
             "linecolor": "white",
             "minorgridcolor": "white",
             "startlinecolor": "#2a3f5f"
            },
            "baxis": {
             "endlinecolor": "#2a3f5f",
             "gridcolor": "white",
             "linecolor": "white",
             "minorgridcolor": "white",
             "startlinecolor": "#2a3f5f"
            },
            "type": "carpet"
           }
          ],
          "choropleth": [
           {
            "colorbar": {
             "outlinewidth": 0,
             "ticks": ""
            },
            "type": "choropleth"
           }
          ],
          "contour": [
           {
            "colorbar": {
             "outlinewidth": 0,
             "ticks": ""
            },
            "colorscale": [
             [
              0,
              "#0d0887"
             ],
             [
              0.1111111111111111,
              "#46039f"
             ],
             [
              0.2222222222222222,
              "#7201a8"
             ],
             [
              0.3333333333333333,
              "#9c179e"
             ],
             [
              0.4444444444444444,
              "#bd3786"
             ],
             [
              0.5555555555555556,
              "#d8576b"
             ],
             [
              0.6666666666666666,
              "#ed7953"
             ],
             [
              0.7777777777777778,
              "#fb9f3a"
             ],
             [
              0.8888888888888888,
              "#fdca26"
             ],
             [
              1,
              "#f0f921"
             ]
            ],
            "type": "contour"
           }
          ],
          "contourcarpet": [
           {
            "colorbar": {
             "outlinewidth": 0,
             "ticks": ""
            },
            "type": "contourcarpet"
           }
          ],
          "heatmap": [
           {
            "colorbar": {
             "outlinewidth": 0,
             "ticks": ""
            },
            "colorscale": [
             [
              0,
              "#0d0887"
             ],
             [
              0.1111111111111111,
              "#46039f"
             ],
             [
              0.2222222222222222,
              "#7201a8"
             ],
             [
              0.3333333333333333,
              "#9c179e"
             ],
             [
              0.4444444444444444,
              "#bd3786"
             ],
             [
              0.5555555555555556,
              "#d8576b"
             ],
             [
              0.6666666666666666,
              "#ed7953"
             ],
             [
              0.7777777777777778,
              "#fb9f3a"
             ],
             [
              0.8888888888888888,
              "#fdca26"
             ],
             [
              1,
              "#f0f921"
             ]
            ],
            "type": "heatmap"
           }
          ],
          "heatmapgl": [
           {
            "colorbar": {
             "outlinewidth": 0,
             "ticks": ""
            },
            "colorscale": [
             [
              0,
              "#0d0887"
             ],
             [
              0.1111111111111111,
              "#46039f"
             ],
             [
              0.2222222222222222,
              "#7201a8"
             ],
             [
              0.3333333333333333,
              "#9c179e"
             ],
             [
              0.4444444444444444,
              "#bd3786"
             ],
             [
              0.5555555555555556,
              "#d8576b"
             ],
             [
              0.6666666666666666,
              "#ed7953"
             ],
             [
              0.7777777777777778,
              "#fb9f3a"
             ],
             [
              0.8888888888888888,
              "#fdca26"
             ],
             [
              1,
              "#f0f921"
             ]
            ],
            "type": "heatmapgl"
           }
          ],
          "histogram": [
           {
            "marker": {
             "colorbar": {
              "outlinewidth": 0,
              "ticks": ""
             }
            },
            "type": "histogram"
           }
          ],
          "histogram2d": [
           {
            "colorbar": {
             "outlinewidth": 0,
             "ticks": ""
            },
            "colorscale": [
             [
              0,
              "#0d0887"
             ],
             [
              0.1111111111111111,
              "#46039f"
             ],
             [
              0.2222222222222222,
              "#7201a8"
             ],
             [
              0.3333333333333333,
              "#9c179e"
             ],
             [
              0.4444444444444444,
              "#bd3786"
             ],
             [
              0.5555555555555556,
              "#d8576b"
             ],
             [
              0.6666666666666666,
              "#ed7953"
             ],
             [
              0.7777777777777778,
              "#fb9f3a"
             ],
             [
              0.8888888888888888,
              "#fdca26"
             ],
             [
              1,
              "#f0f921"
             ]
            ],
            "type": "histogram2d"
           }
          ],
          "histogram2dcontour": [
           {
            "colorbar": {
             "outlinewidth": 0,
             "ticks": ""
            },
            "colorscale": [
             [
              0,
              "#0d0887"
             ],
             [
              0.1111111111111111,
              "#46039f"
             ],
             [
              0.2222222222222222,
              "#7201a8"
             ],
             [
              0.3333333333333333,
              "#9c179e"
             ],
             [
              0.4444444444444444,
              "#bd3786"
             ],
             [
              0.5555555555555556,
              "#d8576b"
             ],
             [
              0.6666666666666666,
              "#ed7953"
             ],
             [
              0.7777777777777778,
              "#fb9f3a"
             ],
             [
              0.8888888888888888,
              "#fdca26"
             ],
             [
              1,
              "#f0f921"
             ]
            ],
            "type": "histogram2dcontour"
           }
          ],
          "mesh3d": [
           {
            "colorbar": {
             "outlinewidth": 0,
             "ticks": ""
            },
            "type": "mesh3d"
           }
          ],
          "parcoords": [
           {
            "line": {
             "colorbar": {
              "outlinewidth": 0,
              "ticks": ""
             }
            },
            "type": "parcoords"
           }
          ],
          "scatter": [
           {
            "marker": {
             "colorbar": {
              "outlinewidth": 0,
              "ticks": ""
             }
            },
            "type": "scatter"
           }
          ],
          "scatter3d": [
           {
            "line": {
             "colorbar": {
              "outlinewidth": 0,
              "ticks": ""
             }
            },
            "marker": {
             "colorbar": {
              "outlinewidth": 0,
              "ticks": ""
             }
            },
            "type": "scatter3d"
           }
          ],
          "scattercarpet": [
           {
            "marker": {
             "colorbar": {
              "outlinewidth": 0,
              "ticks": ""
             }
            },
            "type": "scattercarpet"
           }
          ],
          "scattergeo": [
           {
            "marker": {
             "colorbar": {
              "outlinewidth": 0,
              "ticks": ""
             }
            },
            "type": "scattergeo"
           }
          ],
          "scattergl": [
           {
            "marker": {
             "colorbar": {
              "outlinewidth": 0,
              "ticks": ""
             }
            },
            "type": "scattergl"
           }
          ],
          "scattermapbox": [
           {
            "marker": {
             "colorbar": {
              "outlinewidth": 0,
              "ticks": ""
             }
            },
            "type": "scattermapbox"
           }
          ],
          "scatterpolar": [
           {
            "marker": {
             "colorbar": {
              "outlinewidth": 0,
              "ticks": ""
             }
            },
            "type": "scatterpolar"
           }
          ],
          "scatterpolargl": [
           {
            "marker": {
             "colorbar": {
              "outlinewidth": 0,
              "ticks": ""
             }
            },
            "type": "scatterpolargl"
           }
          ],
          "scatterternary": [
           {
            "marker": {
             "colorbar": {
              "outlinewidth": 0,
              "ticks": ""
             }
            },
            "type": "scatterternary"
           }
          ],
          "surface": [
           {
            "colorbar": {
             "outlinewidth": 0,
             "ticks": ""
            },
            "colorscale": [
             [
              0,
              "#0d0887"
             ],
             [
              0.1111111111111111,
              "#46039f"
             ],
             [
              0.2222222222222222,
              "#7201a8"
             ],
             [
              0.3333333333333333,
              "#9c179e"
             ],
             [
              0.4444444444444444,
              "#bd3786"
             ],
             [
              0.5555555555555556,
              "#d8576b"
             ],
             [
              0.6666666666666666,
              "#ed7953"
             ],
             [
              0.7777777777777778,
              "#fb9f3a"
             ],
             [
              0.8888888888888888,
              "#fdca26"
             ],
             [
              1,
              "#f0f921"
             ]
            ],
            "type": "surface"
           }
          ],
          "table": [
           {
            "cells": {
             "fill": {
              "color": "#EBF0F8"
             },
             "line": {
              "color": "white"
             }
            },
            "header": {
             "fill": {
              "color": "#C8D4E3"
             },
             "line": {
              "color": "white"
             }
            },
            "type": "table"
           }
          ]
         },
         "layout": {
          "annotationdefaults": {
           "arrowcolor": "#2a3f5f",
           "arrowhead": 0,
           "arrowwidth": 1
          },
          "colorscale": {
           "diverging": [
            [
             0,
             "#8e0152"
            ],
            [
             0.1,
             "#c51b7d"
            ],
            [
             0.2,
             "#de77ae"
            ],
            [
             0.3,
             "#f1b6da"
            ],
            [
             0.4,
             "#fde0ef"
            ],
            [
             0.5,
             "#f7f7f7"
            ],
            [
             0.6,
             "#e6f5d0"
            ],
            [
             0.7,
             "#b8e186"
            ],
            [
             0.8,
             "#7fbc41"
            ],
            [
             0.9,
             "#4d9221"
            ],
            [
             1,
             "#276419"
            ]
           ],
           "sequential": [
            [
             0,
             "#0d0887"
            ],
            [
             0.1111111111111111,
             "#46039f"
            ],
            [
             0.2222222222222222,
             "#7201a8"
            ],
            [
             0.3333333333333333,
             "#9c179e"
            ],
            [
             0.4444444444444444,
             "#bd3786"
            ],
            [
             0.5555555555555556,
             "#d8576b"
            ],
            [
             0.6666666666666666,
             "#ed7953"
            ],
            [
             0.7777777777777778,
             "#fb9f3a"
            ],
            [
             0.8888888888888888,
             "#fdca26"
            ],
            [
             1,
             "#f0f921"
            ]
           ],
           "sequentialminus": [
            [
             0,
             "#0d0887"
            ],
            [
             0.1111111111111111,
             "#46039f"
            ],
            [
             0.2222222222222222,
             "#7201a8"
            ],
            [
             0.3333333333333333,
             "#9c179e"
            ],
            [
             0.4444444444444444,
             "#bd3786"
            ],
            [
             0.5555555555555556,
             "#d8576b"
            ],
            [
             0.6666666666666666,
             "#ed7953"
            ],
            [
             0.7777777777777778,
             "#fb9f3a"
            ],
            [
             0.8888888888888888,
             "#fdca26"
            ],
            [
             1,
             "#f0f921"
            ]
           ]
          },
          "colorway": [
           "#636efa",
           "#EF553B",
           "#00cc96",
           "#ab63fa",
           "#FFA15A",
           "#19d3f3",
           "#FF6692",
           "#B6E880",
           "#FF97FF",
           "#FECB52"
          ],
          "font": {
           "color": "#2a3f5f"
          },
          "geo": {
           "bgcolor": "white",
           "lakecolor": "white",
           "landcolor": "#E5ECF6",
           "showlakes": true,
           "showland": true,
           "subunitcolor": "white"
          },
          "hoverlabel": {
           "align": "left"
          },
          "hovermode": "closest",
          "mapbox": {
           "style": "light"
          },
          "paper_bgcolor": "white",
          "plot_bgcolor": "#E5ECF6",
          "polar": {
           "angularaxis": {
            "gridcolor": "white",
            "linecolor": "white",
            "ticks": ""
           },
           "bgcolor": "#E5ECF6",
           "radialaxis": {
            "gridcolor": "white",
            "linecolor": "white",
            "ticks": ""
           }
          },
          "scene": {
           "xaxis": {
            "backgroundcolor": "#E5ECF6",
            "gridcolor": "white",
            "gridwidth": 2,
            "linecolor": "white",
            "showbackground": true,
            "ticks": "",
            "zerolinecolor": "white"
           },
           "yaxis": {
            "backgroundcolor": "#E5ECF6",
            "gridcolor": "white",
            "gridwidth": 2,
            "linecolor": "white",
            "showbackground": true,
            "ticks": "",
            "zerolinecolor": "white"
           },
           "zaxis": {
            "backgroundcolor": "#E5ECF6",
            "gridcolor": "white",
            "gridwidth": 2,
            "linecolor": "white",
            "showbackground": true,
            "ticks": "",
            "zerolinecolor": "white"
           }
          },
          "shapedefaults": {
           "line": {
            "color": "#2a3f5f"
           }
          },
          "ternary": {
           "aaxis": {
            "gridcolor": "white",
            "linecolor": "white",
            "ticks": ""
           },
           "baxis": {
            "gridcolor": "white",
            "linecolor": "white",
            "ticks": ""
           },
           "bgcolor": "#E5ECF6",
           "caxis": {
            "gridcolor": "white",
            "linecolor": "white",
            "ticks": ""
           }
          },
          "title": {
           "x": 0.05
          },
          "xaxis": {
           "automargin": true,
           "gridcolor": "white",
           "linecolor": "white",
           "ticks": "",
           "zerolinecolor": "white",
           "zerolinewidth": 2
          },
          "yaxis": {
           "automargin": true,
           "gridcolor": "white",
           "linecolor": "white",
           "ticks": "",
           "zerolinecolor": "white",
           "zerolinewidth": 2
          }
         }
        }
       },
       "_py2js_animate": {},
       "_py2js_deleteTraces": {},
       "_py2js_moveTraces": {},
       "_py2js_removeLayoutProps": {},
       "_py2js_removeTraceProps": {},
       "_py2js_restyle": {},
       "_view_count": 1
      }
     },
     "5c9117bd8ef04044b63b29f7d734f09f": {
      "model_module": "@jupyter-widgets/controls",
      "model_module_version": "1.5.0",
      "model_name": "SliderStyleModel",
      "state": {
       "description_width": ""
      }
     },
     "5e82847a15b8493e86e0e2ddf9fe76b5": {
      "model_module": "@jupyter-widgets/base",
      "model_module_version": "1.2.0",
      "model_name": "LayoutModel",
      "state": {}
     },
     "5ed8e1288606457a947879ea15a5e06d": {
      "model_module": "@jupyter-widgets/controls",
      "model_module_version": "1.5.0",
      "model_name": "VBoxModel",
      "state": {
       "_dom_classes": [
        "widget-interact"
       ],
       "children": [
        "IPY_MODEL_ca6e0ddcb1c8475884b3d14177dc13ec",
        "IPY_MODEL_1808b97b78654375930425aa9f8c952e",
        "IPY_MODEL_7603bf2c6a484161b9dcaf3ae3596116",
        "IPY_MODEL_1b3d9586e747473b80e6250134bc3d2c"
       ],
       "layout": "IPY_MODEL_e42232b816c54fadbb11b4dc377bc8ae"
      }
     },
     "5efb1468e46148f18a2fa344b238943b": {
      "model_module": "@jupyter-widgets/base",
      "model_module_version": "1.2.0",
      "model_name": "LayoutModel",
      "state": {}
     },
     "5f19b52da9124065813a1775cc20110e": {
      "model_module": "@jupyter-widgets/base",
      "model_module_version": "1.2.0",
      "model_name": "LayoutModel",
      "state": {}
     },
     "5fab8eff14514b92b68cf0244efa57f4": {
      "model_module": "@jupyter-widgets/controls",
      "model_module_version": "1.5.0",
      "model_name": "FloatSliderModel",
      "state": {
       "description": "gamma",
       "layout": "IPY_MODEL_adff61421e124c27a6b666bd2343a199",
       "max": 0.0942477796076938,
       "min": -0.031415926535897934,
       "step": 0.1,
       "style": "IPY_MODEL_1f98a075dfbd42ec8bfad49a8facb4a5",
       "value": 0.06858
      }
     },
     "60c08d57b6b146c39a91dd848e9a79d0": {
      "model_module": "@jupyter-widgets/base",
      "model_module_version": "1.2.0",
      "model_name": "LayoutModel",
      "state": {}
     },
     "619bddd3b9694fc6b545be649b0613a7": {
      "model_module": "@jupyter-widgets/base",
      "model_module_version": "1.2.0",
      "model_name": "LayoutModel",
      "state": {}
     },
     "61ba971251424d02bc8c94594b8ae7a7": {
      "model_module": "@jupyter-widgets/output",
      "model_module_version": "1.0.0",
      "model_name": "OutputModel",
      "state": {
       "layout": "IPY_MODEL_8848b612052e429abfccda2784c4da34"
      }
     },
     "61bc54a691464353b027eecd4fced3b7": {
      "model_module": "@jupyter-widgets/base",
      "model_module_version": "1.2.0",
      "model_name": "LayoutModel",
      "state": {}
     },
     "630215f8e0c44ec0a06db7328dca1b3d": {
      "model_module": "@jupyter-widgets/controls",
      "model_module_version": "1.5.0",
      "model_name": "FloatSliderModel",
      "state": {
       "layout": "IPY_MODEL_1ab6da8c1cc447389724297f3a0c0c0e",
       "max": 10,
       "min": 0.5,
       "step": 0.5,
       "style": "IPY_MODEL_8e472cf6c2c242a495ce048b0594e154",
       "value": 2
      }
     },
     "6501f72f900843b88a4255285cee07d4": {
      "model_module": "@jupyter-widgets/controls",
      "model_module_version": "1.5.0",
      "model_name": "SliderStyleModel",
      "state": {
       "description_width": ""
      }
     },
     "650fc631cbaf4790a3b5e8f7be5ef109": {
      "model_module": "@jupyter-widgets/controls",
      "model_module_version": "1.5.0",
      "model_name": "FloatSliderModel",
      "state": {
       "description": "b",
       "layout": "IPY_MODEL_409067946cc341fe9c169a65610c8289",
       "max": 10,
       "step": 0.01,
       "style": "IPY_MODEL_4e30bd9f6b144951be2376d34940ff35",
       "value": 4.79
      }
     },
     "66ea3b13cd7244ceb6939a7a61213382": {
      "model_module": "@jupyter-widgets/controls",
      "model_module_version": "1.5.0",
      "model_name": "VBoxModel",
      "state": {
       "_dom_classes": [
        "widget-interact"
       ],
       "children": [
        "IPY_MODEL_a6797e984841457a8feb1a19bff2fc09",
        "IPY_MODEL_f4604151c6b345ad94d991dd49ae0766",
        "IPY_MODEL_b365cc2c4b7a450f805876619367142b",
        "IPY_MODEL_1b74d1ca8f7d4e8c8e8e65b849349141",
        "IPY_MODEL_ab98d09294f148fca850cb9f52e931d5"
       ],
       "layout": "IPY_MODEL_827fdaa27fa94443b5117e6af8b517e5"
      }
     },
     "6712c3ae52124172943e0c22ba37325e": {
      "model_module": "@jupyter-widgets/controls",
      "model_module_version": "1.5.0",
      "model_name": "FloatSliderModel",
      "state": {
       "layout": "IPY_MODEL_312f7e2266b04284b01e1baab2ba6d3d",
       "max": 10,
       "min": 0.5,
       "step": 0.5,
       "style": "IPY_MODEL_bbb0ba29f3ec4c12b348b1265322b421",
       "value": 2
      }
     },
     "679582d6ef384f65a0ac2b105a387a77": {
      "model_module": "@jupyter-widgets/controls",
      "model_module_version": "1.5.0",
      "model_name": "SliderStyleModel",
      "state": {
       "description_width": ""
      }
     },
     "67c80a1e53974608b2e7f066def94dbb": {
      "model_module": "@jupyter-widgets/base",
      "model_module_version": "1.2.0",
      "model_name": "LayoutModel",
      "state": {}
     },
     "686e34537a674a06aa563af90c6a317a": {
      "model_module": "@jupyter-widgets/base",
      "model_module_version": "1.2.0",
      "model_name": "LayoutModel",
      "state": {}
     },
     "6926bfe1235640dda5b58d86d5621764": {
      "model_module": "@jupyter-widgets/controls",
      "model_module_version": "1.5.0",
      "model_name": "SliderStyleModel",
      "state": {
       "description_width": ""
      }
     },
     "6977b94e0b9a4b4988bea967e7abbf50": {
      "model_module": "@jupyter-widgets/controls",
      "model_module_version": "1.5.0",
      "model_name": "FloatSliderModel",
      "state": {
       "description": "phi",
       "layout": "IPY_MODEL_36706a573320497c900df9563bf1c162",
       "max": 2.356194490192345,
       "min": -0.7853981633974483,
       "step": 0.1,
       "style": "IPY_MODEL_c1f75cd5de41489ab1f0a4af27694d5c",
       "value": 0.7853981633974483
      }
     },
     "6a380f7bc5da435c8d428e91a6b39bbc": {
      "model_module": "@jupyter-widgets/base",
      "model_module_version": "1.2.0",
      "model_name": "LayoutModel",
      "state": {}
     },
     "6ab4853327a34861abd10133feeebe28": {
      "model_module": "@jupyter-widgets/base",
      "model_module_version": "1.2.0",
      "model_name": "LayoutModel",
      "state": {}
     },
     "6abe9b9bba0d44d1812c7c9af6c9a701": {
      "model_module": "@jupyter-widgets/output",
      "model_module_version": "1.0.0",
      "model_name": "OutputModel",
      "state": {
       "layout": "IPY_MODEL_f1993d79863e4753a4e2defa8317fb55"
      }
     },
     "6b2e9964ebb64baea7161facae5d2151": {
      "model_module": "@jupyter-widgets/output",
      "model_module_version": "1.0.0",
      "model_name": "OutputModel",
      "state": {
       "layout": "IPY_MODEL_52fe30de7c7747ab871940ffe6de161f",
       "outputs": [
        {
         "ename": "AttributeError",
         "evalue": "x",
         "output_type": "error",
         "traceback": [
          "\u001b[0;31m---------------------------------------------------------------------------\u001b[0m",
          "\u001b[0;31mAttributeError\u001b[0m                            Traceback (most recent call last)",
          "\u001b[0;32m~/.virtualenvs/ScratchPad/lib/python3.7/site-packages/ipywidgets/widgets/interaction.py\u001b[0m in \u001b[0;36mupdate\u001b[0;34m(self, *args)\u001b[0m\n\u001b[1;32m    254\u001b[0m                     \u001b[0mvalue\u001b[0m \u001b[0;34m=\u001b[0m \u001b[0mwidget\u001b[0m\u001b[0;34m.\u001b[0m\u001b[0mget_interact_value\u001b[0m\u001b[0;34m(\u001b[0m\u001b[0;34m)\u001b[0m\u001b[0;34m\u001b[0m\u001b[0;34m\u001b[0m\u001b[0m\n\u001b[1;32m    255\u001b[0m                     \u001b[0mself\u001b[0m\u001b[0;34m.\u001b[0m\u001b[0mkwargs\u001b[0m\u001b[0;34m[\u001b[0m\u001b[0mwidget\u001b[0m\u001b[0;34m.\u001b[0m\u001b[0m_kwarg\u001b[0m\u001b[0;34m]\u001b[0m \u001b[0;34m=\u001b[0m \u001b[0mvalue\u001b[0m\u001b[0;34m\u001b[0m\u001b[0;34m\u001b[0m\u001b[0m\n\u001b[0;32m--> 256\u001b[0;31m                 \u001b[0mself\u001b[0m\u001b[0;34m.\u001b[0m\u001b[0mresult\u001b[0m \u001b[0;34m=\u001b[0m \u001b[0mself\u001b[0m\u001b[0;34m.\u001b[0m\u001b[0mf\u001b[0m\u001b[0;34m(\u001b[0m\u001b[0;34m**\u001b[0m\u001b[0mself\u001b[0m\u001b[0;34m.\u001b[0m\u001b[0mkwargs\u001b[0m\u001b[0;34m)\u001b[0m\u001b[0;34m\u001b[0m\u001b[0;34m\u001b[0m\u001b[0m\n\u001b[0m\u001b[1;32m    257\u001b[0m                 \u001b[0mshow_inline_matplotlib_plots\u001b[0m\u001b[0;34m(\u001b[0m\u001b[0;34m)\u001b[0m\u001b[0;34m\u001b[0m\u001b[0;34m\u001b[0m\u001b[0m\n\u001b[1;32m    258\u001b[0m                 \u001b[0;32mif\u001b[0m \u001b[0mself\u001b[0m\u001b[0;34m.\u001b[0m\u001b[0mauto_display\u001b[0m \u001b[0;32mand\u001b[0m \u001b[0mself\u001b[0m\u001b[0;34m.\u001b[0m\u001b[0mresult\u001b[0m \u001b[0;32mis\u001b[0m \u001b[0;32mnot\u001b[0m \u001b[0;32mNone\u001b[0m\u001b[0;34m:\u001b[0m\u001b[0;34m\u001b[0m\u001b[0;34m\u001b[0m\u001b[0m\n",
          "\u001b[0;32m<ipython-input-105-8163515321f0>\u001b[0m in \u001b[0;36mupdate\u001b[0;34m(a, b, color)\u001b[0m\n\u001b[1;32m      4\u001b[0m \u001b[0;32mdef\u001b[0m \u001b[0mupdate\u001b[0m\u001b[0;34m(\u001b[0m\u001b[0ma\u001b[0m\u001b[0;34m=\u001b[0m\u001b[0;36m3.6\u001b[0m\u001b[0;34m,\u001b[0m \u001b[0mb\u001b[0m\u001b[0;34m=\u001b[0m\u001b[0;36m4.3\u001b[0m\u001b[0;34m,\u001b[0m \u001b[0mcolor\u001b[0m\u001b[0;34m=\u001b[0m\u001b[0;34m'blue'\u001b[0m\u001b[0;34m)\u001b[0m\u001b[0;34m:\u001b[0m\u001b[0;34m\u001b[0m\u001b[0;34m\u001b[0m\u001b[0m\n\u001b[1;32m      5\u001b[0m     \u001b[0;32mwith\u001b[0m \u001b[0mfig\u001b[0m\u001b[0;34m.\u001b[0m\u001b[0mbatch_update\u001b[0m\u001b[0;34m(\u001b[0m\u001b[0;34m)\u001b[0m\u001b[0;34m:\u001b[0m\u001b[0;34m\u001b[0m\u001b[0;34m\u001b[0m\u001b[0m\n\u001b[0;32m----> 6\u001b[0;31m         \u001b[0mscatt\u001b[0m\u001b[0;34m.\u001b[0m\u001b[0mx\u001b[0m\u001b[0;34m=\u001b[0m\u001b[0mxs\u001b[0m\u001b[0;34m\u001b[0m\u001b[0;34m\u001b[0m\u001b[0m\n\u001b[0m\u001b[1;32m      7\u001b[0m         \u001b[0mscatt\u001b[0m\u001b[0;34m.\u001b[0m\u001b[0my\u001b[0m\u001b[0;34m=\u001b[0m\u001b[0mnp\u001b[0m\u001b[0;34m.\u001b[0m\u001b[0msin\u001b[0m\u001b[0;34m(\u001b[0m\u001b[0ma\u001b[0m\u001b[0;34m*\u001b[0m\u001b[0mxs\u001b[0m\u001b[0;34m-\u001b[0m\u001b[0mb\u001b[0m\u001b[0;34m)\u001b[0m\u001b[0;34m\u001b[0m\u001b[0;34m\u001b[0m\u001b[0m\n\u001b[1;32m      8\u001b[0m         \u001b[0mscatt\u001b[0m\u001b[0;34m.\u001b[0m\u001b[0mline\u001b[0m\u001b[0;34m.\u001b[0m\u001b[0mcolor\u001b[0m\u001b[0;34m=\u001b[0m\u001b[0mcolor\u001b[0m\u001b[0;34m\u001b[0m\u001b[0;34m\u001b[0m\u001b[0m\n",
          "\u001b[0;32m~/.virtualenvs/ScratchPad/lib/python3.7/site-packages/plotly/basedatatypes.py\u001b[0m in \u001b[0;36m__setattr__\u001b[0;34m(self, prop, value)\u001b[0m\n\u001b[1;32m    349\u001b[0m         \u001b[0;32melse\u001b[0m\u001b[0;34m:\u001b[0m\u001b[0;34m\u001b[0m\u001b[0;34m\u001b[0m\u001b[0m\n\u001b[1;32m    350\u001b[0m             \u001b[0;31m# Raise error on unknown public properties\u001b[0m\u001b[0;34m\u001b[0m\u001b[0;34m\u001b[0m\u001b[0;34m\u001b[0m\u001b[0m\n\u001b[0;32m--> 351\u001b[0;31m             \u001b[0;32mraise\u001b[0m \u001b[0mAttributeError\u001b[0m\u001b[0;34m(\u001b[0m\u001b[0mprop\u001b[0m\u001b[0;34m)\u001b[0m\u001b[0;34m\u001b[0m\u001b[0;34m\u001b[0m\u001b[0m\n\u001b[0m\u001b[1;32m    352\u001b[0m \u001b[0;34m\u001b[0m\u001b[0m\n\u001b[1;32m    353\u001b[0m     \u001b[0;32mdef\u001b[0m \u001b[0m__getitem__\u001b[0m\u001b[0;34m(\u001b[0m\u001b[0mself\u001b[0m\u001b[0;34m,\u001b[0m \u001b[0mprop\u001b[0m\u001b[0;34m)\u001b[0m\u001b[0;34m:\u001b[0m\u001b[0;34m\u001b[0m\u001b[0;34m\u001b[0m\u001b[0m\n",
          "\u001b[0;31mAttributeError\u001b[0m: x"
         ]
        }
       ]
      }
     },
     "6bb2034e8449433baec747643b750605": {
      "model_module": "@jupyter-widgets/base",
      "model_module_version": "1.2.0",
      "model_name": "LayoutModel",
      "state": {}
     },
     "6cf33108e38c46bb87e3024dd5f593f9": {
      "model_module": "@jupyter-widgets/controls",
      "model_module_version": "1.5.0",
      "model_name": "FloatSliderModel",
      "state": {
       "description": "phi",
       "layout": "IPY_MODEL_92fb2f18f5464a54a55ed6cb49962d1d",
       "max": 1.5707963267948966,
       "step": 0.15707963267948966,
       "style": "IPY_MODEL_473ceadb3a854986834846bb1ecaaa2a",
       "value": 0.7853981633974483
      }
     },
     "6de49c0597c54b1f9b992f6b044dcd5b": {
      "model_module": "@jupyter-widgets/base",
      "model_module_version": "1.2.0",
      "model_name": "LayoutModel",
      "state": {}
     },
     "6ee8e935d02f4aadb6bffa8122a784ad": {
      "model_module": "@jupyter-widgets/base",
      "model_module_version": "1.2.0",
      "model_name": "LayoutModel",
      "state": {}
     },
     "6f16166d05af4e6b9a783bdcc74d571c": {
      "model_module": "@jupyter-widgets/base",
      "model_module_version": "1.2.0",
      "model_name": "LayoutModel",
      "state": {}
     },
     "6f46f7d0de9c442880a4945e1e5d9018": {
      "model_module": "@jupyter-widgets/controls",
      "model_module_version": "1.5.0",
      "model_name": "IntSliderModel",
      "state": {
       "description": "alpha",
       "layout": "IPY_MODEL_9bfa783b3a34471682747d886391b259",
       "max": 6,
       "min": -2,
       "style": "IPY_MODEL_cced8a35504342caa8f21eb1c0df8d16",
       "value": 6
      }
     },
     "703fac9bbbbf404eb678a789776f946d": {
      "model_module": "@jupyter-widgets/base",
      "model_module_version": "1.2.0",
      "model_name": "LayoutModel",
      "state": {}
     },
     "70ea1f5512ec4b6f920ce34b315dff23": {
      "model_module": "@jupyter-widgets/controls",
      "model_module_version": "1.5.0",
      "model_name": "SliderStyleModel",
      "state": {
       "description_width": ""
      }
     },
     "712e6300048a4fabb41d9aba64f14e2e": {
      "model_module": "@jupyter-widgets/controls",
      "model_module_version": "1.5.0",
      "model_name": "FloatSliderModel",
      "state": {
       "layout": "IPY_MODEL_afadf0ad01fd4f59b08721e3e7d22e76",
       "max": 1.5707963267948966,
       "step": 0.15707963267948966,
       "style": "IPY_MODEL_dd99eefcd83a4f5d850288e8800fdbe6",
       "value": 1.5707963267948966
      }
     },
     "718a17bd3f114ac3ae22d3e78cd4da4c": {
      "model_module": "@jupyter-widgets/controls",
      "model_module_version": "1.5.0",
      "model_name": "SliderStyleModel",
      "state": {
       "description_width": ""
      }
     },
     "728bd0a8f23d422a8eb668138cc55fe3": {
      "model_module": "@jupyter-widgets/base",
      "model_module_version": "1.2.0",
      "model_name": "LayoutModel",
      "state": {}
     },
     "73c23167b9be46e1836ff7fea7046126": {
      "model_module": "@jupyter-widgets/controls",
      "model_module_version": "1.5.0",
      "model_name": "SliderStyleModel",
      "state": {
       "description_width": ""
      }
     },
     "7603bf2c6a484161b9dcaf3ae3596116": {
      "model_module": "@jupyter-widgets/controls",
      "model_module_version": "1.5.0",
      "model_name": "DropdownModel",
      "state": {
       "_options_labels": [
        "red",
        "green",
        "blue"
       ],
       "description": "color",
       "index": 2,
       "layout": "IPY_MODEL_dabf37f0153442ac9f6b30876dbd8403",
       "style": "IPY_MODEL_93463dd69cc5444887e4a3fe2721bfdd"
      }
     },
     "7735a32367284f63b021e422773c7d14": {
      "model_module": "@jupyter-widgets/base",
      "model_module_version": "1.2.0",
      "model_name": "LayoutModel",
      "state": {}
     },
     "77730c7d329d4828b475fa0a40e2cec6": {
      "model_module": "@jupyter-widgets/base",
      "model_module_version": "1.2.0",
      "model_name": "LayoutModel",
      "state": {}
     },
     "784d7e020b8941239d5b13dbbd093e33": {
      "model_module": "@jupyter-widgets/base",
      "model_module_version": "1.2.0",
      "model_name": "LayoutModel",
      "state": {}
     },
     "789df99f309b4adda7dc766cd444b227": {
      "model_module": "@jupyter-widgets/controls",
      "model_module_version": "1.5.0",
      "model_name": "FloatSliderModel",
      "state": {
       "description": "phi",
       "layout": "IPY_MODEL_eff7acd0b7934c70bf52350a9b01dd80",
       "max": 1.5707963267948966,
       "step": 0.15707963267948966,
       "style": "IPY_MODEL_0f8caef60ecd4a6daed5e2230917c086"
      }
     },
     "78f4e780a02248998c0dc09e1facc2db": {
      "model_module": "@jupyter-widgets/controls",
      "model_module_version": "1.5.0",
      "model_name": "FloatSliderModel",
      "state": {
       "description": "a",
       "layout": "IPY_MODEL_0baaa5ae59f24431983057fbcb4d8127",
       "max": 4,
       "min": 1,
       "step": 0.01,
       "style": "IPY_MODEL_c8fa2c0c491e49fc80eba6010c6c47a3",
       "value": 2.69
      }
     },
     "790e9e97141849999197b9f9213c1efd": {
      "model_module": "@jupyter-widgets/output",
      "model_module_version": "1.0.0",
      "model_name": "OutputModel",
      "state": {
       "layout": "IPY_MODEL_5adb3dd12e1c4f0781be84519f32254d"
      }
     },
     "7ab8ab02d60844d396ac68bec3488b31": {
      "model_module": "@jupyter-widgets/base",
      "model_module_version": "1.2.0",
      "model_name": "LayoutModel",
      "state": {}
     },
     "7af2a8b68d1b447699183991979ab16e": {
      "model_module": "@jupyter-widgets/controls",
      "model_module_version": "1.5.0",
      "model_name": "SliderStyleModel",
      "state": {
       "description_width": ""
      }
     },
     "7bddbc1430744f03a952a1b5b8a2ae99": {
      "model_module": "@jupyter-widgets/controls",
      "model_module_version": "1.5.0",
      "model_name": "VBoxModel",
      "state": {
       "_dom_classes": [
        "widget-interact"
       ],
       "children": [
        "IPY_MODEL_7fa0f2310fe440aea4db269f9c261653",
        "IPY_MODEL_dbefc3976c0a4dad90802805b67c940c",
        "IPY_MODEL_ff8b27a7d49b4b738b1b629bf46d9a25",
        "IPY_MODEL_7f1bed5cedfc4764907b999ee44da869"
       ],
       "layout": "IPY_MODEL_e2ea1f04ae1c44419f6361adcf9c1174"
      }
     },
     "7c233e82f4714d339015b86635b8b063": {
      "model_module": "@jupyter-widgets/controls",
      "model_module_version": "1.5.0",
      "model_name": "VBoxModel",
      "state": {
       "_dom_classes": [
        "widget-interact"
       ],
       "children": [
        "IPY_MODEL_c61920884de54b2f9079c147b5c72660",
        "IPY_MODEL_9da8a06dbd014089b105c74c36857c2a",
        "IPY_MODEL_2789dcbf1ed64014993b4bb4f58e5e8f",
        "IPY_MODEL_a1bcb517279743129fc370b2bc08679b",
        "IPY_MODEL_b5777285f8b44285816cfaa3ccaf6e5b"
       ],
       "layout": "IPY_MODEL_e3efd0f649de40d2b87ea788ea0ca95f"
      }
     },
     "7ccb952f8ac04aeaaa64e214f4f246b2": {
      "model_module": "@jupyter-widgets/controls",
      "model_module_version": "1.5.0",
      "model_name": "SliderStyleModel",
      "state": {
       "description_width": ""
      }
     },
     "7d19530d8696423391fe5f38d3fdb5e4": {
      "model_module": "@jupyter-widgets/controls",
      "model_module_version": "1.5.0",
      "model_name": "FloatSliderModel",
      "state": {
       "description": "phi",
       "layout": "IPY_MODEL_77730c7d329d4828b475fa0a40e2cec6",
       "max": 2.356194490192345,
       "min": -0.7853981633974483,
       "step": 0.1,
       "style": "IPY_MODEL_7af2a8b68d1b447699183991979ab16e",
       "value": 0.7853981633974483
      }
     },
     "7e0f274c35464053b5cc2d2a387b8b1b": {
      "model_module": "@jupyter-widgets/base",
      "model_module_version": "1.2.0",
      "model_name": "LayoutModel",
      "state": {}
     },
     "7ee55650285844929a358fc6d3f9a38a": {
      "model_module": "@jupyter-widgets/controls",
      "model_module_version": "1.5.0",
      "model_name": "FloatSliderModel",
      "state": {
       "description": "phi",
       "layout": "IPY_MODEL_8f0bb73a3c2646dfad911003d22c200a",
       "max": 1.5707963267948966,
       "step": 0.15707963267948966,
       "style": "IPY_MODEL_dd3adfedc705457b942e9501c78504e5",
       "value": 1.5707963267948966
      }
     },
     "7f1bed5cedfc4764907b999ee44da869": {
      "model_module": "@jupyter-widgets/output",
      "model_module_version": "1.0.0",
      "model_name": "OutputModel",
      "state": {
       "layout": "IPY_MODEL_822c81f2794448adb47188f26dccf297"
      }
     },
     "7f2b17beac4a4f7d9becfcc1b1143725": {
      "model_module": "@jupyter-widgets/base",
      "model_module_version": "1.2.0",
      "model_name": "LayoutModel",
      "state": {}
     },
     "7f53c0fd05c449939d27780a6613b08f": {
      "model_module": "@jupyter-widgets/controls",
      "model_module_version": "1.5.0",
      "model_name": "FloatSliderModel",
      "state": {
       "description": "gamma",
       "layout": "IPY_MODEL_60c08d57b6b146c39a91dd848e9a79d0",
       "max": 0.3141592653589793,
       "min": 0.031415926535897934,
       "step": 0.031415926535897934,
       "style": "IPY_MODEL_679582d6ef384f65a0ac2b105a387a77",
       "value": 0.031415926535897934
      }
     },
     "7fa0f2310fe440aea4db269f9c261653": {
      "model_module": "@jupyter-widgets/controls",
      "model_module_version": "1.5.0",
      "model_name": "FloatSliderModel",
      "state": {
       "description": "a",
       "layout": "IPY_MODEL_e117d66291734877b9d8cebee0fcdc53",
       "max": 4,
       "min": 1,
       "step": 0.01,
       "style": "IPY_MODEL_0b8b8ea798bc48179c99819de4f2f695",
       "value": 3.6
      }
     },
     "7fdc6c550e10439f8d96b82a55dc617d": {
      "model_module": "@jupyter-widgets/output",
      "model_module_version": "1.0.0",
      "model_name": "OutputModel",
      "state": {
       "layout": "IPY_MODEL_a253b983159945b3927523c53b2d853a"
      }
     },
     "807ebe4ddc4144e4bf579dc1924a1403": {
      "model_module": "@jupyter-widgets/output",
      "model_module_version": "1.0.0",
      "model_name": "OutputModel",
      "state": {
       "layout": "IPY_MODEL_d92efcfcae07422cbffe0eb694c2435a"
      }
     },
     "8158f0480d60410b8dfeaaf70b2f54aa": {
      "model_module": "@jupyter-widgets/controls",
      "model_module_version": "1.5.0",
      "model_name": "DropdownModel",
      "state": {
       "_options_labels": [
        "red",
        "green",
        "blue"
       ],
       "description": "color",
       "index": 2,
       "layout": "IPY_MODEL_ea2e3f9be25444359ac628ba86613240",
       "style": "IPY_MODEL_4a9de33e307e4845a19ee0f05a111e5e"
      }
     },
     "821784a040474557b50f558c7ee82cfb": {
      "model_module": "@jupyter-widgets/controls",
      "model_module_version": "1.5.0",
      "model_name": "SliderStyleModel",
      "state": {
       "description_width": ""
      }
     },
     "822c81f2794448adb47188f26dccf297": {
      "model_module": "@jupyter-widgets/base",
      "model_module_version": "1.2.0",
      "model_name": "LayoutModel",
      "state": {}
     },
     "824403400c2d4aa1913df5fd60d427b0": {
      "model_module": "@jupyter-widgets/base",
      "model_module_version": "1.2.0",
      "model_name": "LayoutModel",
      "state": {}
     },
     "827fdaa27fa94443b5117e6af8b517e5": {
      "model_module": "@jupyter-widgets/base",
      "model_module_version": "1.2.0",
      "model_name": "LayoutModel",
      "state": {}
     },
     "82a5abff4dca47008c4e9f40a4aa896c": {
      "model_module": "@jupyter-widgets/controls",
      "model_module_version": "1.5.0",
      "model_name": "FloatSliderModel",
      "state": {
       "layout": "IPY_MODEL_ec495f492f8b490cb2da0da01b39d4d3",
       "max": 1.5707963267948966,
       "step": 0.15707963267948966,
       "style": "IPY_MODEL_d5b780265a7d4b818582baeeda81dc80",
       "value": 1.5707963267948966
      }
     },
     "836bba22900f42a0afa9ed200d62118c": {
      "model_module": "@jupyter-widgets/controls",
      "model_module_version": "1.5.0",
      "model_name": "SliderStyleModel",
      "state": {
       "description_width": ""
      }
     },
     "84239e8d4fbc451d9d4c904330ecbee0": {
      "model_module": "@jupyter-widgets/controls",
      "model_module_version": "1.5.0",
      "model_name": "FloatSliderModel",
      "state": {
       "description": "gamma",
       "layout": "IPY_MODEL_f2c2f2e02cd5466b9834a0f949e504a2",
       "max": 0.3141592653589793,
       "min": 0.031415926535897934,
       "step": 0.031415926535897934,
       "style": "IPY_MODEL_44eb8248d3a74a7bb7d1364951768e7d",
       "value": 0.031415926535897934
      }
     },
     "844eb4d4837b453ba2bdf61655a5a7c0": {
      "model_module": "@jupyter-widgets/controls",
      "model_module_version": "1.5.0",
      "model_name": "SliderStyleModel",
      "state": {
       "description_width": ""
      }
     },
     "84af8c7b331e41bdb4281b89b96feb87": {
      "model_module": "@jupyter-widgets/controls",
      "model_module_version": "1.5.0",
      "model_name": "SliderStyleModel",
      "state": {
       "description_width": ""
      }
     },
     "86f6779d643549e9afa11f05431dd74b": {
      "model_module": "@jupyter-widgets/controls",
      "model_module_version": "1.5.0",
      "model_name": "SliderStyleModel",
      "state": {
       "description_width": ""
      }
     },
     "87be5f61034c4cf9914afbe99abfecb7": {
      "model_module": "@jupyter-widgets/base",
      "model_module_version": "1.2.0",
      "model_name": "LayoutModel",
      "state": {}
     },
     "87f98df66fc04a6cbf42d7f69c49bae7": {
      "model_module": "@jupyter-widgets/output",
      "model_module_version": "1.0.0",
      "model_name": "OutputModel",
      "state": {
       "layout": "IPY_MODEL_192e6c6d57f3482d870f3a023280862b"
      }
     },
     "8848b612052e429abfccda2784c4da34": {
      "model_module": "@jupyter-widgets/base",
      "model_module_version": "1.2.0",
      "model_name": "LayoutModel",
      "state": {}
     },
     "8849abdb49de4d4ca1503105225dfeea": {
      "model_module": "@jupyter-widgets/base",
      "model_module_version": "1.2.0",
      "model_name": "LayoutModel",
      "state": {}
     },
     "889f8982bdf34a94983baa72a28c6351": {
      "model_module": "@jupyter-widgets/controls",
      "model_module_version": "1.5.0",
      "model_name": "SliderStyleModel",
      "state": {
       "description_width": ""
      }
     },
     "89651257108643cc8e5aeedcad3ad98c": {
      "model_module": "@jupyter-widgets/controls",
      "model_module_version": "1.5.0",
      "model_name": "FloatSliderModel",
      "state": {
       "description": "gamma",
       "layout": "IPY_MODEL_08b95e9930e5462698aa03027c5aba60",
       "max": 0.0942477796076938,
       "min": -0.031415926535897934,
       "step": 0.1,
       "style": "IPY_MODEL_506cf430e8f149d297c8737192d997c8",
       "value": 0.031415926535897934
      }
     },
     "8a322bb46dce42b3b363c9e53ac67733": {
      "model_module": "@jupyter-widgets/base",
      "model_module_version": "1.2.0",
      "model_name": "LayoutModel",
      "state": {}
     },
     "8a78a05c553843f68810448793bad75c": {
      "model_module": "@jupyter-widgets/base",
      "model_module_version": "1.2.0",
      "model_name": "LayoutModel",
      "state": {}
     },
     "8af8fd231f3047b49fe9ee998cacf353": {
      "model_module": "@jupyter-widgets/base",
      "model_module_version": "1.2.0",
      "model_name": "LayoutModel",
      "state": {}
     },
     "8b17c70227c84786985dbb0a4d1ca977": {
      "model_module": "@jupyter-widgets/controls",
      "model_module_version": "1.5.0",
      "model_name": "FloatSliderModel",
      "state": {
       "description": "t_by_tmax",
       "layout": "IPY_MODEL_901ef903667e41faae417f05b3870245",
       "max": 1,
       "step": 0.01,
       "style": "IPY_MODEL_86f6779d643549e9afa11f05431dd74b",
       "value": 0.01
      }
     },
     "8b84bacf7d9a4686995398a7d9674ae3": {
      "model_module": "@jupyter-widgets/controls",
      "model_module_version": "1.5.0",
      "model_name": "SliderStyleModel",
      "state": {
       "description_width": ""
      }
     },
     "8c4d508aef28449c8606af4b164c8e21": {
      "model_module": "@jupyter-widgets/controls",
      "model_module_version": "1.5.0",
      "model_name": "FloatSliderModel",
      "state": {
       "description": "phi",
       "layout": "IPY_MODEL_199f9d72017340208955db422d620e19",
       "max": 2.356194490192345,
       "min": -0.7853981633974483,
       "step": 0.1,
       "style": "IPY_MODEL_284b7c8629b74661816e4c1d7d09f617",
       "value": 0.7853981633974483
      }
     },
     "8dbebc4dd6a947a5888c8eb9432a3e34": {
      "model_module": "@jupyter-widgets/controls",
      "model_module_version": "1.5.0",
      "model_name": "SliderStyleModel",
      "state": {
       "description_width": ""
      }
     },
     "8e472cf6c2c242a495ce048b0594e154": {
      "model_module": "@jupyter-widgets/controls",
      "model_module_version": "1.5.0",
      "model_name": "SliderStyleModel",
      "state": {
       "description_width": ""
      }
     },
     "8e4768f44f464a8abaa660b7d32221ae": {
      "model_module": "@jupyter-widgets/output",
      "model_module_version": "1.0.0",
      "model_name": "OutputModel",
      "state": {
       "layout": "IPY_MODEL_7735a32367284f63b021e422773c7d14"
      }
     },
     "8f0bb73a3c2646dfad911003d22c200a": {
      "model_module": "@jupyter-widgets/base",
      "model_module_version": "1.2.0",
      "model_name": "LayoutModel",
      "state": {}
     },
     "90124f1eff8c461a9db4d6cc210a4ac8": {
      "model_module": "@jupyter-widgets/controls",
      "model_module_version": "1.5.0",
      "model_name": "SliderStyleModel",
      "state": {
       "description_width": ""
      }
     },
     "901ef903667e41faae417f05b3870245": {
      "model_module": "@jupyter-widgets/base",
      "model_module_version": "1.2.0",
      "model_name": "LayoutModel",
      "state": {}
     },
     "90dfa88e864c4f39a00ce05c73b684af": {
      "model_module": "@jupyter-widgets/controls",
      "model_module_version": "1.5.0",
      "model_name": "FloatSliderModel",
      "state": {
       "description": "gamma",
       "layout": "IPY_MODEL_54c94b5250fe42cdbc19a8f4a600286e",
       "max": 0.0942477796076938,
       "min": -0.031415926535897934,
       "step": 0.1,
       "style": "IPY_MODEL_c0d38cd7c50848948d971056bb317bc7",
       "value": 0.06858
      }
     },
     "91763c975ba04b8fa01469334979c982": {
      "model_module": "@jupyter-widgets/base",
      "model_module_version": "1.2.0",
      "model_name": "LayoutModel",
      "state": {}
     },
     "9293fefcc30c4f9aaebdb7a1550416fa": {
      "model_module": "@jupyter-widgets/base",
      "model_module_version": "1.2.0",
      "model_name": "LayoutModel",
      "state": {}
     },
     "92b6442eca1648008eb5e7128b51ea13": {
      "model_module": "@jupyter-widgets/base",
      "model_module_version": "1.2.0",
      "model_name": "LayoutModel",
      "state": {}
     },
     "92fb2f18f5464a54a55ed6cb49962d1d": {
      "model_module": "@jupyter-widgets/base",
      "model_module_version": "1.2.0",
      "model_name": "LayoutModel",
      "state": {}
     },
     "9322e71a78a9408dae491c18f4f68faa": {
      "model_module": "@jupyter-widgets/controls",
      "model_module_version": "1.5.0",
      "model_name": "FloatSliderModel",
      "state": {
       "description": "alpha",
       "layout": "IPY_MODEL_38046ae4f8ab4c98b1a7c4deb69213da",
       "max": 10,
       "min": 0.5,
       "step": 0.5,
       "style": "IPY_MODEL_e2ae70bd65c94c48b11b19fa6b96e68b",
       "value": 0.5
      }
     },
     "93463dd69cc5444887e4a3fe2721bfdd": {
      "model_module": "@jupyter-widgets/controls",
      "model_module_version": "1.5.0",
      "model_name": "DescriptionStyleModel",
      "state": {
       "description_width": ""
      }
     },
     "94933637748b4f4ba4d29050eeb1dae1": {
      "model_module": "@jupyter-widgets/base",
      "model_module_version": "1.2.0",
      "model_name": "LayoutModel",
      "state": {}
     },
     "950292325fc64c51838ed1724d113919": {
      "model_module": "@jupyter-widgets/controls",
      "model_module_version": "1.5.0",
      "model_name": "SliderStyleModel",
      "state": {
       "description_width": ""
      }
     },
     "958b2b3d68f9475fa4938c17dd35a755": {
      "model_module": "@jupyter-widgets/controls",
      "model_module_version": "1.5.0",
      "model_name": "SliderStyleModel",
      "state": {
       "description_width": ""
      }
     },
     "961be0e1637a413ebd2799cdbb614f13": {
      "model_module": "@jupyter-widgets/controls",
      "model_module_version": "1.5.0",
      "model_name": "SliderStyleModel",
      "state": {
       "description_width": ""
      }
     },
     "979ed2391ce84fb99fc25ce9607de9be": {
      "model_module": "@jupyter-widgets/controls",
      "model_module_version": "1.5.0",
      "model_name": "VBoxModel",
      "state": {
       "_dom_classes": [
        "widget-interact"
       ],
       "children": [
        "IPY_MODEL_b5b870652bf44eeaa2b3bd4a8236f51f",
        "IPY_MODEL_1b35a659eaa441d3bf3da87930cb4139",
        "IPY_MODEL_84239e8d4fbc451d9d4c904330ecbee0",
        "IPY_MODEL_3f3d490dacfa441b909793bd5fd90bae",
        "IPY_MODEL_c04358a864f74a7ebada2fb8fb31bac4"
       ],
       "layout": "IPY_MODEL_686e34537a674a06aa563af90c6a317a"
      }
     },
     "97b4bd6318cd4adea444c01e89b945a1": {
      "model_module": "@jupyter-widgets/controls",
      "model_module_version": "1.5.0",
      "model_name": "SliderStyleModel",
      "state": {
       "description_width": ""
      }
     },
     "97e65db1e37b42fa888a94e49986f432": {
      "model_module": "@jupyter-widgets/controls",
      "model_module_version": "1.5.0",
      "model_name": "FloatSliderModel",
      "state": {
       "description": "phi",
       "layout": "IPY_MODEL_5efb1468e46148f18a2fa344b238943b",
       "max": 2.356194490192345,
       "min": -0.7853981633974483,
       "step": 0.1,
       "style": "IPY_MODEL_08491f8ee0ae4fe8a94740724f9ecc9d",
       "value": 0.7853981633974483
      }
     },
     "981f5898792d4a6a8e2df00df09f0c52": {
      "model_module": "@jupyter-widgets/controls",
      "model_module_version": "1.5.0",
      "model_name": "SliderStyleModel",
      "state": {
       "description_width": ""
      }
     },
     "9884f9cb73c3434c91aa0ea9e7470571": {
      "buffers": [
       {
        "data": "AAAAAAAAAAAIH3zwwQevPwgffPDBB78/RhdddNFFxz8IH3zwwQfPP2WTTTbZZNM/RhdddNFF1z8nm2yyySbbPwgffPDBB98/dNFFF1104T9lk0022WTjP1ZVVVVVVeU/RhdddNFF5z822WSTTTbpPyebbLLJJus/GF100UUX7T8IH3zwwQfvP3zwwQcffPA/dNFFF1108T9tsskmm2zyP2WTTTbZZPM/XXTRRRdd9D9WVVVVVVX1P0422WSTTfY/RhdddNFF9z8++OCDDz74PzbZZJNNNvk/L7rooosu+j8nm2yyySb7Px988MEHH/w/GF100UUX/T8QPvjggw/+PwgffPDBB/8/AAAAAAAAAEB88MEHH3wAQPjggw8++ABAdNFFF110AUDxwQcffPABQG2yySabbAJA6aKLLrroAkBlk0022WQDQOGDDz744ANAXXTRRRddBEDZZJNNNtkEQFZVVVVVVQVA0kUXXXTRBUBONtlkk00GQMomm2yyyQZARhdddNFFB0DCBx988MEHQD744IMPPghAuuiiiy66CEA22WSTTTYJQLPJJptssglAL7rooosuCkCrqqqqqqoKQCebbLLJJgtAo4suuuiiC0AffPDBBx8MQJtssskmmwxAGF100UUXDUCUTTbZZJMNQBA++OCDDw5AjC666KKLDkAIH3zwwQcPQIQPPvjggw9AAAAAAAAAEEA++OCDDz4QQHzwwQcffBBAuuiiiy66EED44IMPPvgQQDbZZJNNNhFAdNFFF110EUCzySabbLIRQPHBBx988BFAL7rooosuEkBtsskmm2wSQKuqqqqqqhJA6aKLLrroEkAnm2yyySYTQGWTTTbZZBNAo4suuuiiE0Dhgw8++OATQB988MEHHxRAXXTRRRddFECbbLLJJpsUQNlkk0022RRAF1100UUXFUBWVVVVVVUVQJRNNtlkkxVA0kUXXXTRFUAQPvjggw8WQE422WSTTRZAjC666KKLFkDKJptssskWQAgffPDBBxdARhdddNFFF0CEDz744IMXQMIHH3zwwRdAAAAAAAAAGEA=",
        "encoding": "base64",
        "path": [
         "_data",
         0,
         "x",
         "value"
        ]
       },
       {
        "data": "JYoBOjtR7T/QW5A7lXzsPxk/XAgojes/uCOAsdSD6j+7JpWglGHpP/ZjPq14J+g/43muHKjW5j9V2BeMX3DlP1fEDMfv9eM/Vdfmirxo4j9FlV84O8rgP4DlKOniN94/iHSAdee+2j+DPgTAxyzXP7rULxXfhNM/rtfxdzqVzz8BjZh1BgPIP4v1pxhAWsA/BeZ+HDVEsT8c1QTV7jp8PxJKh7P/fKu/9uojJ8Mzvb88hymHyUbGvxFxYLjA3s2/zp+W41Gt0r/7DkbctFnWv4cGu0kV8dm/mnRo7xJw3b+bfo8+smngvyzt81LtC+K/ovM1jzGd47+xMwvABRzlvzZdHgcCh+a/JC9YLdHc5788oJ/jMRzpvyms4/D3Q+q/lthSTA1T67/TJ7cic0jsv+TJAMZCI+2/Ql8ehq7i7b9F9lZyAobuvwICcAKlDO+/rEkApxd27792JWhA98Hvv1Ez/3v87++/g+wfF/z/77/aFdIH5/Hvv3TQ7YrKxe+/DwGqF9B77795wKE4PRTvvyZ5dUpzj+6/MyVFIO/t7b9ItVmOSDDtv3zta9sxV+y/8OEOGXdj67+bm9tj/VXqv2s4EgzCL+m/u/p6p9nx578lH2cNb53mv8zfxT3CM+W/ELdVNCe247/jpQypBCbiv2Dq477ShOC/okOIRDOo3b8rarww4Crav740lwH0lNa/MLq6lc3p0r/mwzOAv1nOv2gyMBRcw8a/L8bMlyUvvr9pQ5KkZnatv7X/xw//0mg/lCt1lKhHsD9g9gN9a7m/Pyh9Jwiuhsc/Ehx42ogazz+/ulVZk0jTP7BpBMXB8dY/phQbt16F2j9t+b58DQDeP8/APWlEr+A/wkqn+9JO4j/uwGTTK93jP5YCvXvYWOU/v5N0DXTA5j9QC01+rBLoPzojyd5DTuk/bLUKhRFy6j9ftLEjA33rP975tcsdbuw/dYlJ2H5E7T+eieXDXP/tPxWuueUHnu4/ZgDMFusf7z8czi0+jITvP3HwwcOMy+8/YYko6an07z+qn3wIvf/vP22fqLi77O8/tpgv17e77z8=",
        "encoding": "base64",
        "path": [
         "_data",
         0,
         "y",
         "value"
        ]
       }
      ],
      "model_module": "plotlywidget",
      "model_module_version": "^1.0.0",
      "model_name": "FigureModel",
      "state": {
       "_config": {
        "plotlyServerURL": "https://plot.ly"
       },
       "_data": [
        {
         "line": {
          "color": "blue"
         },
         "type": "scatter",
         "uid": "ae87100b-2754-49d8-83f1-f8aa91a6ab18",
         "x": {
          "dtype": "float64",
          "shape": [
           100
          ],
          "value": {}
         },
         "y": {
          "dtype": "float64",
          "shape": [
           100
          ],
          "value": {}
         }
        }
       ],
       "_js2py_relayout": {},
       "_js2py_restyle": {},
       "_js2py_update": {},
       "_last_layout_edit_id": 28,
       "_last_trace_edit_id": 28,
       "_layout": {
        "template": {
         "data": {
          "bar": [
           {
            "error_x": {
             "color": "#2a3f5f"
            },
            "error_y": {
             "color": "#2a3f5f"
            },
            "marker": {
             "line": {
              "color": "#E5ECF6",
              "width": 0.5
             }
            },
            "type": "bar"
           }
          ],
          "barpolar": [
           {
            "marker": {
             "line": {
              "color": "#E5ECF6",
              "width": 0.5
             }
            },
            "type": "barpolar"
           }
          ],
          "carpet": [
           {
            "aaxis": {
             "endlinecolor": "#2a3f5f",
             "gridcolor": "white",
             "linecolor": "white",
             "minorgridcolor": "white",
             "startlinecolor": "#2a3f5f"
            },
            "baxis": {
             "endlinecolor": "#2a3f5f",
             "gridcolor": "white",
             "linecolor": "white",
             "minorgridcolor": "white",
             "startlinecolor": "#2a3f5f"
            },
            "type": "carpet"
           }
          ],
          "choropleth": [
           {
            "colorbar": {
             "outlinewidth": 0,
             "ticks": ""
            },
            "type": "choropleth"
           }
          ],
          "contour": [
           {
            "colorbar": {
             "outlinewidth": 0,
             "ticks": ""
            },
            "colorscale": [
             [
              0,
              "#0d0887"
             ],
             [
              0.1111111111111111,
              "#46039f"
             ],
             [
              0.2222222222222222,
              "#7201a8"
             ],
             [
              0.3333333333333333,
              "#9c179e"
             ],
             [
              0.4444444444444444,
              "#bd3786"
             ],
             [
              0.5555555555555556,
              "#d8576b"
             ],
             [
              0.6666666666666666,
              "#ed7953"
             ],
             [
              0.7777777777777778,
              "#fb9f3a"
             ],
             [
              0.8888888888888888,
              "#fdca26"
             ],
             [
              1,
              "#f0f921"
             ]
            ],
            "type": "contour"
           }
          ],
          "contourcarpet": [
           {
            "colorbar": {
             "outlinewidth": 0,
             "ticks": ""
            },
            "type": "contourcarpet"
           }
          ],
          "heatmap": [
           {
            "colorbar": {
             "outlinewidth": 0,
             "ticks": ""
            },
            "colorscale": [
             [
              0,
              "#0d0887"
             ],
             [
              0.1111111111111111,
              "#46039f"
             ],
             [
              0.2222222222222222,
              "#7201a8"
             ],
             [
              0.3333333333333333,
              "#9c179e"
             ],
             [
              0.4444444444444444,
              "#bd3786"
             ],
             [
              0.5555555555555556,
              "#d8576b"
             ],
             [
              0.6666666666666666,
              "#ed7953"
             ],
             [
              0.7777777777777778,
              "#fb9f3a"
             ],
             [
              0.8888888888888888,
              "#fdca26"
             ],
             [
              1,
              "#f0f921"
             ]
            ],
            "type": "heatmap"
           }
          ],
          "heatmapgl": [
           {
            "colorbar": {
             "outlinewidth": 0,
             "ticks": ""
            },
            "colorscale": [
             [
              0,
              "#0d0887"
             ],
             [
              0.1111111111111111,
              "#46039f"
             ],
             [
              0.2222222222222222,
              "#7201a8"
             ],
             [
              0.3333333333333333,
              "#9c179e"
             ],
             [
              0.4444444444444444,
              "#bd3786"
             ],
             [
              0.5555555555555556,
              "#d8576b"
             ],
             [
              0.6666666666666666,
              "#ed7953"
             ],
             [
              0.7777777777777778,
              "#fb9f3a"
             ],
             [
              0.8888888888888888,
              "#fdca26"
             ],
             [
              1,
              "#f0f921"
             ]
            ],
            "type": "heatmapgl"
           }
          ],
          "histogram": [
           {
            "marker": {
             "colorbar": {
              "outlinewidth": 0,
              "ticks": ""
             }
            },
            "type": "histogram"
           }
          ],
          "histogram2d": [
           {
            "colorbar": {
             "outlinewidth": 0,
             "ticks": ""
            },
            "colorscale": [
             [
              0,
              "#0d0887"
             ],
             [
              0.1111111111111111,
              "#46039f"
             ],
             [
              0.2222222222222222,
              "#7201a8"
             ],
             [
              0.3333333333333333,
              "#9c179e"
             ],
             [
              0.4444444444444444,
              "#bd3786"
             ],
             [
              0.5555555555555556,
              "#d8576b"
             ],
             [
              0.6666666666666666,
              "#ed7953"
             ],
             [
              0.7777777777777778,
              "#fb9f3a"
             ],
             [
              0.8888888888888888,
              "#fdca26"
             ],
             [
              1,
              "#f0f921"
             ]
            ],
            "type": "histogram2d"
           }
          ],
          "histogram2dcontour": [
           {
            "colorbar": {
             "outlinewidth": 0,
             "ticks": ""
            },
            "colorscale": [
             [
              0,
              "#0d0887"
             ],
             [
              0.1111111111111111,
              "#46039f"
             ],
             [
              0.2222222222222222,
              "#7201a8"
             ],
             [
              0.3333333333333333,
              "#9c179e"
             ],
             [
              0.4444444444444444,
              "#bd3786"
             ],
             [
              0.5555555555555556,
              "#d8576b"
             ],
             [
              0.6666666666666666,
              "#ed7953"
             ],
             [
              0.7777777777777778,
              "#fb9f3a"
             ],
             [
              0.8888888888888888,
              "#fdca26"
             ],
             [
              1,
              "#f0f921"
             ]
            ],
            "type": "histogram2dcontour"
           }
          ],
          "mesh3d": [
           {
            "colorbar": {
             "outlinewidth": 0,
             "ticks": ""
            },
            "type": "mesh3d"
           }
          ],
          "parcoords": [
           {
            "line": {
             "colorbar": {
              "outlinewidth": 0,
              "ticks": ""
             }
            },
            "type": "parcoords"
           }
          ],
          "scatter": [
           {
            "marker": {
             "colorbar": {
              "outlinewidth": 0,
              "ticks": ""
             }
            },
            "type": "scatter"
           }
          ],
          "scatter3d": [
           {
            "line": {
             "colorbar": {
              "outlinewidth": 0,
              "ticks": ""
             }
            },
            "marker": {
             "colorbar": {
              "outlinewidth": 0,
              "ticks": ""
             }
            },
            "type": "scatter3d"
           }
          ],
          "scattercarpet": [
           {
            "marker": {
             "colorbar": {
              "outlinewidth": 0,
              "ticks": ""
             }
            },
            "type": "scattercarpet"
           }
          ],
          "scattergeo": [
           {
            "marker": {
             "colorbar": {
              "outlinewidth": 0,
              "ticks": ""
             }
            },
            "type": "scattergeo"
           }
          ],
          "scattergl": [
           {
            "marker": {
             "colorbar": {
              "outlinewidth": 0,
              "ticks": ""
             }
            },
            "type": "scattergl"
           }
          ],
          "scattermapbox": [
           {
            "marker": {
             "colorbar": {
              "outlinewidth": 0,
              "ticks": ""
             }
            },
            "type": "scattermapbox"
           }
          ],
          "scatterpolar": [
           {
            "marker": {
             "colorbar": {
              "outlinewidth": 0,
              "ticks": ""
             }
            },
            "type": "scatterpolar"
           }
          ],
          "scatterpolargl": [
           {
            "marker": {
             "colorbar": {
              "outlinewidth": 0,
              "ticks": ""
             }
            },
            "type": "scatterpolargl"
           }
          ],
          "scatterternary": [
           {
            "marker": {
             "colorbar": {
              "outlinewidth": 0,
              "ticks": ""
             }
            },
            "type": "scatterternary"
           }
          ],
          "surface": [
           {
            "colorbar": {
             "outlinewidth": 0,
             "ticks": ""
            },
            "colorscale": [
             [
              0,
              "#0d0887"
             ],
             [
              0.1111111111111111,
              "#46039f"
             ],
             [
              0.2222222222222222,
              "#7201a8"
             ],
             [
              0.3333333333333333,
              "#9c179e"
             ],
             [
              0.4444444444444444,
              "#bd3786"
             ],
             [
              0.5555555555555556,
              "#d8576b"
             ],
             [
              0.6666666666666666,
              "#ed7953"
             ],
             [
              0.7777777777777778,
              "#fb9f3a"
             ],
             [
              0.8888888888888888,
              "#fdca26"
             ],
             [
              1,
              "#f0f921"
             ]
            ],
            "type": "surface"
           }
          ],
          "table": [
           {
            "cells": {
             "fill": {
              "color": "#EBF0F8"
             },
             "line": {
              "color": "white"
             }
            },
            "header": {
             "fill": {
              "color": "#C8D4E3"
             },
             "line": {
              "color": "white"
             }
            },
            "type": "table"
           }
          ]
         },
         "layout": {
          "annotationdefaults": {
           "arrowcolor": "#2a3f5f",
           "arrowhead": 0,
           "arrowwidth": 1
          },
          "colorscale": {
           "diverging": [
            [
             0,
             "#8e0152"
            ],
            [
             0.1,
             "#c51b7d"
            ],
            [
             0.2,
             "#de77ae"
            ],
            [
             0.3,
             "#f1b6da"
            ],
            [
             0.4,
             "#fde0ef"
            ],
            [
             0.5,
             "#f7f7f7"
            ],
            [
             0.6,
             "#e6f5d0"
            ],
            [
             0.7,
             "#b8e186"
            ],
            [
             0.8,
             "#7fbc41"
            ],
            [
             0.9,
             "#4d9221"
            ],
            [
             1,
             "#276419"
            ]
           ],
           "sequential": [
            [
             0,
             "#0d0887"
            ],
            [
             0.1111111111111111,
             "#46039f"
            ],
            [
             0.2222222222222222,
             "#7201a8"
            ],
            [
             0.3333333333333333,
             "#9c179e"
            ],
            [
             0.4444444444444444,
             "#bd3786"
            ],
            [
             0.5555555555555556,
             "#d8576b"
            ],
            [
             0.6666666666666666,
             "#ed7953"
            ],
            [
             0.7777777777777778,
             "#fb9f3a"
            ],
            [
             0.8888888888888888,
             "#fdca26"
            ],
            [
             1,
             "#f0f921"
            ]
           ],
           "sequentialminus": [
            [
             0,
             "#0d0887"
            ],
            [
             0.1111111111111111,
             "#46039f"
            ],
            [
             0.2222222222222222,
             "#7201a8"
            ],
            [
             0.3333333333333333,
             "#9c179e"
            ],
            [
             0.4444444444444444,
             "#bd3786"
            ],
            [
             0.5555555555555556,
             "#d8576b"
            ],
            [
             0.6666666666666666,
             "#ed7953"
            ],
            [
             0.7777777777777778,
             "#fb9f3a"
            ],
            [
             0.8888888888888888,
             "#fdca26"
            ],
            [
             1,
             "#f0f921"
            ]
           ]
          },
          "colorway": [
           "#636efa",
           "#EF553B",
           "#00cc96",
           "#ab63fa",
           "#FFA15A",
           "#19d3f3",
           "#FF6692",
           "#B6E880",
           "#FF97FF",
           "#FECB52"
          ],
          "font": {
           "color": "#2a3f5f"
          },
          "geo": {
           "bgcolor": "white",
           "lakecolor": "white",
           "landcolor": "#E5ECF6",
           "showlakes": true,
           "showland": true,
           "subunitcolor": "white"
          },
          "hoverlabel": {
           "align": "left"
          },
          "hovermode": "closest",
          "mapbox": {
           "style": "light"
          },
          "paper_bgcolor": "white",
          "plot_bgcolor": "#E5ECF6",
          "polar": {
           "angularaxis": {
            "gridcolor": "white",
            "linecolor": "white",
            "ticks": ""
           },
           "bgcolor": "#E5ECF6",
           "radialaxis": {
            "gridcolor": "white",
            "linecolor": "white",
            "ticks": ""
           }
          },
          "scene": {
           "xaxis": {
            "backgroundcolor": "#E5ECF6",
            "gridcolor": "white",
            "gridwidth": 2,
            "linecolor": "white",
            "showbackground": true,
            "ticks": "",
            "zerolinecolor": "white"
           },
           "yaxis": {
            "backgroundcolor": "#E5ECF6",
            "gridcolor": "white",
            "gridwidth": 2,
            "linecolor": "white",
            "showbackground": true,
            "ticks": "",
            "zerolinecolor": "white"
           },
           "zaxis": {
            "backgroundcolor": "#E5ECF6",
            "gridcolor": "white",
            "gridwidth": 2,
            "linecolor": "white",
            "showbackground": true,
            "ticks": "",
            "zerolinecolor": "white"
           }
          },
          "shapedefaults": {
           "line": {
            "color": "#2a3f5f"
           }
          },
          "ternary": {
           "aaxis": {
            "gridcolor": "white",
            "linecolor": "white",
            "ticks": ""
           },
           "baxis": {
            "gridcolor": "white",
            "linecolor": "white",
            "ticks": ""
           },
           "bgcolor": "#E5ECF6",
           "caxis": {
            "gridcolor": "white",
            "linecolor": "white",
            "ticks": ""
           }
          },
          "title": {
           "x": 0.05
          },
          "xaxis": {
           "automargin": true,
           "gridcolor": "white",
           "linecolor": "white",
           "ticks": "",
           "zerolinecolor": "white",
           "zerolinewidth": 2
          },
          "yaxis": {
           "automargin": true,
           "gridcolor": "white",
           "linecolor": "white",
           "ticks": "",
           "zerolinecolor": "white",
           "zerolinewidth": 2
          }
         }
        }
       },
       "_py2js_animate": {},
       "_py2js_deleteTraces": {},
       "_py2js_moveTraces": {},
       "_py2js_removeLayoutProps": {},
       "_py2js_removeTraceProps": {},
       "_py2js_restyle": {},
       "_view_count": 0
      }
     },
     "98d39a353620468b9a70a718125d9574": {
      "model_module": "@jupyter-widgets/controls",
      "model_module_version": "1.5.0",
      "model_name": "SliderStyleModel",
      "state": {
       "description_width": ""
      }
     },
     "9999a42a4dc74ac09c166437a9a59905": {
      "model_module": "@jupyter-widgets/base",
      "model_module_version": "1.2.0",
      "model_name": "LayoutModel",
      "state": {}
     },
     "9a75319603bd4ad2a0d440fa926d59e4": {
      "model_module": "@jupyter-widgets/base",
      "model_module_version": "1.2.0",
      "model_name": "LayoutModel",
      "state": {}
     },
     "9b1e588cb7fe432e9ecce17a2d8bd16f": {
      "model_module": "@jupyter-widgets/base",
      "model_module_version": "1.2.0",
      "model_name": "LayoutModel",
      "state": {}
     },
     "9b3d3c66ce544725a639e1b0cfa712c6": {
      "model_module": "@jupyter-widgets/controls",
      "model_module_version": "1.5.0",
      "model_name": "FloatSliderModel",
      "state": {
       "description": "a",
       "layout": "IPY_MODEL_6f16166d05af4e6b9a783bdcc74d571c",
       "max": 4,
       "min": 1,
       "step": 0.01,
       "style": "IPY_MODEL_718a17bd3f114ac3ae22d3e78cd4da4c",
       "value": 3.09
      }
     },
     "9bf72cf4ece54067adbb4e5edf5b4733": {
      "model_module": "@jupyter-widgets/controls",
      "model_module_version": "1.5.0",
      "model_name": "SliderStyleModel",
      "state": {
       "description_width": ""
      }
     },
     "9bfa783b3a34471682747d886391b259": {
      "model_module": "@jupyter-widgets/base",
      "model_module_version": "1.2.0",
      "model_name": "LayoutModel",
      "state": {}
     },
     "9c41a95a98bd4fc58a72798c602511d7": {
      "model_module": "@jupyter-widgets/base",
      "model_module_version": "1.2.0",
      "model_name": "LayoutModel",
      "state": {}
     },
     "9c57885e36c848d2a25639ba0feae88e": {
      "model_module": "@jupyter-widgets/controls",
      "model_module_version": "1.5.0",
      "model_name": "FloatSliderModel",
      "state": {
       "description": "gamma",
       "layout": "IPY_MODEL_50f3f64c1d75465f8404d2fa4a868bc9",
       "max": 0.0942477796076938,
       "min": -0.031415926535897934,
       "step": 0.1,
       "style": "IPY_MODEL_e1aa1eeaa8ee446885133c950bd835a1",
       "value": 0.031415926535897934
      }
     },
     "9d78212e8ea54c4bbf3d130727b67cb0": {
      "model_module": "@jupyter-widgets/base",
      "model_module_version": "1.2.0",
      "model_name": "LayoutModel",
      "state": {}
     },
     "9da8a06dbd014089b105c74c36857c2a": {
      "model_module": "@jupyter-widgets/controls",
      "model_module_version": "1.5.0",
      "model_name": "FloatSliderModel",
      "state": {
       "description": "alpha",
       "layout": "IPY_MODEL_36dbe4739b22485d8f59c442c08d82c9",
       "max": 10,
       "min": 0.5,
       "step": 0.5,
       "style": "IPY_MODEL_401ce7d7276747e69d6a4f224f5fcac4",
       "value": 0.5
      }
     },
     "9e6f220525114bea95f6528966a2ecc5": {
      "model_module": "@jupyter-widgets/base",
      "model_module_version": "1.2.0",
      "model_name": "LayoutModel",
      "state": {}
     },
     "a1bcb517279743129fc370b2bc08679b": {
      "model_module": "@jupyter-widgets/controls",
      "model_module_version": "1.5.0",
      "model_name": "FloatSliderModel",
      "state": {
       "description": "phi",
       "layout": "IPY_MODEL_a2b5c8318ef24a0696f1da59feebb961",
       "max": 1.5707963267948966,
       "step": 0.15707963267948966,
       "style": "IPY_MODEL_084f0cf1841c4100a0fab8d8d6be56ae",
       "value": 0.31416
      }
     },
     "a1cf2dde402d4ff9807d587a83dc16b9": {
      "model_module": "@jupyter-widgets/base",
      "model_module_version": "1.2.0",
      "model_name": "LayoutModel",
      "state": {}
     },
     "a1d8314d274747ad8c053d9bd3c280f1": {
      "model_module": "@jupyter-widgets/controls",
      "model_module_version": "1.5.0",
      "model_name": "IntSliderModel",
      "state": {
       "description": "alpha",
       "layout": "IPY_MODEL_67c80a1e53974608b2e7f066def94dbb",
       "max": 6,
       "min": -2,
       "style": "IPY_MODEL_2c948ba45eff40c0baa21ea507b4fc44"
      }
     },
     "a253b983159945b3927523c53b2d853a": {
      "model_module": "@jupyter-widgets/base",
      "model_module_version": "1.2.0",
      "model_name": "LayoutModel",
      "state": {}
     },
     "a2b5c8318ef24a0696f1da59feebb961": {
      "model_module": "@jupyter-widgets/base",
      "model_module_version": "1.2.0",
      "model_name": "LayoutModel",
      "state": {}
     },
     "a2bcf8909fcb4d9ead568861de1b48d7": {
      "model_module": "@jupyter-widgets/controls",
      "model_module_version": "1.5.0",
      "model_name": "SliderStyleModel",
      "state": {
       "description_width": ""
      }
     },
     "a35333675aff4179bcfa0df48e9c84d1": {
      "model_module": "@jupyter-widgets/controls",
      "model_module_version": "1.5.0",
      "model_name": "FloatSliderModel",
      "state": {
       "description": "phi",
       "layout": "IPY_MODEL_e595062edc3b47b7b096f6576caccaf9",
       "max": 1.5707963267948966,
       "step": 0.15707963267948966,
       "style": "IPY_MODEL_7ccb952f8ac04aeaaa64e214f4f246b2",
       "value": 0.7854
      }
     },
     "a4331dd230bf486b8bbd7fd7cb062072": {
      "model_module": "@jupyter-widgets/base",
      "model_module_version": "1.2.0",
      "model_name": "LayoutModel",
      "state": {}
     },
     "a5082609d0ab42ebbac3d416fe7b20f7": {
      "model_module": "@jupyter-widgets/controls",
      "model_module_version": "1.5.0",
      "model_name": "SliderStyleModel",
      "state": {
       "description_width": ""
      }
     },
     "a53f72e3471144daa29b258999f3c005": {
      "model_module": "@jupyter-widgets/controls",
      "model_module_version": "1.5.0",
      "model_name": "FloatSliderModel",
      "state": {
       "description": "gamma",
       "layout": "IPY_MODEL_a1cf2dde402d4ff9807d587a83dc16b9",
       "max": 0.0942477796076938,
       "min": -0.031415926535897934,
       "step": 0.1,
       "style": "IPY_MODEL_af7f178b11974e359228af50fdd81a41",
       "value": 0.031415926535897934
      }
     },
     "a6797e984841457a8feb1a19bff2fc09": {
      "model_module": "@jupyter-widgets/controls",
      "model_module_version": "1.5.0",
      "model_name": "FloatSliderModel",
      "state": {
       "description": "t_by_tmax",
       "layout": "IPY_MODEL_7f2b17beac4a4f7d9becfcc1b1143725",
       "max": 1,
       "step": 0.01,
       "style": "IPY_MODEL_37b1a54120bb4c9e83be34361f929c10",
       "value": 0.7
      }
     },
     "a692435b38b14a14a1d1faad6a2de69d": {
      "model_module": "@jupyter-widgets/base",
      "model_module_version": "1.2.0",
      "model_name": "LayoutModel",
      "state": {}
     },
     "a6ff6920cdaf4fce978126fa1bfd2676": {
      "model_module": "@jupyter-widgets/base",
      "model_module_version": "1.2.0",
      "model_name": "LayoutModel",
      "state": {}
     },
     "a91727e166e44ab6aaf48de708a3385b": {
      "model_module": "@jupyter-widgets/controls",
      "model_module_version": "1.5.0",
      "model_name": "SliderStyleModel",
      "state": {
       "description_width": ""
      }
     },
     "aa44f7fe218b43668ee91a75df735acf": {
      "model_module": "@jupyter-widgets/base",
      "model_module_version": "1.2.0",
      "model_name": "LayoutModel",
      "state": {}
     },
     "ab98d09294f148fca850cb9f52e931d5": {
      "model_module": "@jupyter-widgets/output",
      "model_module_version": "1.0.0",
      "model_name": "OutputModel",
      "state": {
       "layout": "IPY_MODEL_bb6f9667b86045e59350fd2b7e9b1915"
      }
     },
     "abb29e061c1c4e139fedf0a535e1b754": {
      "model_module": "@jupyter-widgets/base",
      "model_module_version": "1.2.0",
      "model_name": "LayoutModel",
      "state": {}
     },
     "abe24d7263f74e4189e38cfd0df43b47": {
      "model_module": "@jupyter-widgets/controls",
      "model_module_version": "1.5.0",
      "model_name": "IntSliderModel",
      "state": {
       "description": "alpha",
       "layout": "IPY_MODEL_9b1e588cb7fe432e9ecce17a2d8bd16f",
       "max": 6,
       "min": -2,
       "style": "IPY_MODEL_73c23167b9be46e1836ff7fea7046126",
       "value": 1
      }
     },
     "ac99bbf7a0e9480191b05a155eb56dd3": {
      "model_module": "@jupyter-widgets/base",
      "model_module_version": "1.2.0",
      "model_name": "LayoutModel",
      "state": {}
     },
     "add599309cab4bb9a5c6fbf2537c4cca": {
      "model_module": "@jupyter-widgets/controls",
      "model_module_version": "1.5.0",
      "model_name": "FloatSliderModel",
      "state": {
       "description": "gamma",
       "layout": "IPY_MODEL_f68d3950cba44caa866a7cd6e5b3604e",
       "max": 0.3141592653589793,
       "min": 0.031415926535897934,
       "step": 0.031415926535897934,
       "style": "IPY_MODEL_98d39a353620468b9a70a718125d9574",
       "value": 0.031415926535897934
      }
     },
     "adf6d78954ca47f4b72daebc520afc0d": {
      "model_module": "@jupyter-widgets/controls",
      "model_module_version": "1.5.0",
      "model_name": "FloatSliderModel",
      "state": {
       "description": "b",
       "layout": "IPY_MODEL_e5569a6396744e81acf5d4240b8cc5dd",
       "max": 10,
       "step": 0.01,
       "style": "IPY_MODEL_d54a74f921a840398d6186721ce95b5e",
       "value": 4.3
      }
     },
     "adff61421e124c27a6b666bd2343a199": {
      "model_module": "@jupyter-widgets/base",
      "model_module_version": "1.2.0",
      "model_name": "LayoutModel",
      "state": {}
     },
     "af6d5e8d080c4f3d9e21ea695b22264a": {
      "model_module": "@jupyter-widgets/base",
      "model_module_version": "1.2.0",
      "model_name": "LayoutModel",
      "state": {}
     },
     "af7f178b11974e359228af50fdd81a41": {
      "model_module": "@jupyter-widgets/controls",
      "model_module_version": "1.5.0",
      "model_name": "SliderStyleModel",
      "state": {
       "description_width": ""
      }
     },
     "af858f045b3a4809ac70c83f83c7a498": {
      "model_module": "plotlywidget",
      "model_module_version": "^1.0.0",
      "model_name": "FigureModel",
      "state": {
       "_config": {
        "plotlyServerURL": "https://plot.ly"
       },
       "_data": [
        {
         "type": "scatter",
         "uid": "4635f363-f07c-4d17-81e5-f7e05e578f49"
        }
       ],
       "_js2py_pointsCallback": {},
       "_js2py_relayout": {},
       "_js2py_restyle": {},
       "_js2py_update": {},
       "_last_layout_edit_id": 1,
       "_last_trace_edit_id": 1,
       "_layout": {
        "template": {
         "data": {
          "bar": [
           {
            "error_x": {
             "color": "#2a3f5f"
            },
            "error_y": {
             "color": "#2a3f5f"
            },
            "marker": {
             "line": {
              "color": "#E5ECF6",
              "width": 0.5
             }
            },
            "type": "bar"
           }
          ],
          "barpolar": [
           {
            "marker": {
             "line": {
              "color": "#E5ECF6",
              "width": 0.5
             }
            },
            "type": "barpolar"
           }
          ],
          "carpet": [
           {
            "aaxis": {
             "endlinecolor": "#2a3f5f",
             "gridcolor": "white",
             "linecolor": "white",
             "minorgridcolor": "white",
             "startlinecolor": "#2a3f5f"
            },
            "baxis": {
             "endlinecolor": "#2a3f5f",
             "gridcolor": "white",
             "linecolor": "white",
             "minorgridcolor": "white",
             "startlinecolor": "#2a3f5f"
            },
            "type": "carpet"
           }
          ],
          "choropleth": [
           {
            "colorbar": {
             "outlinewidth": 0,
             "ticks": ""
            },
            "type": "choropleth"
           }
          ],
          "contour": [
           {
            "colorbar": {
             "outlinewidth": 0,
             "ticks": ""
            },
            "colorscale": [
             [
              0,
              "#0d0887"
             ],
             [
              0.1111111111111111,
              "#46039f"
             ],
             [
              0.2222222222222222,
              "#7201a8"
             ],
             [
              0.3333333333333333,
              "#9c179e"
             ],
             [
              0.4444444444444444,
              "#bd3786"
             ],
             [
              0.5555555555555556,
              "#d8576b"
             ],
             [
              0.6666666666666666,
              "#ed7953"
             ],
             [
              0.7777777777777778,
              "#fb9f3a"
             ],
             [
              0.8888888888888888,
              "#fdca26"
             ],
             [
              1,
              "#f0f921"
             ]
            ],
            "type": "contour"
           }
          ],
          "contourcarpet": [
           {
            "colorbar": {
             "outlinewidth": 0,
             "ticks": ""
            },
            "type": "contourcarpet"
           }
          ],
          "heatmap": [
           {
            "colorbar": {
             "outlinewidth": 0,
             "ticks": ""
            },
            "colorscale": [
             [
              0,
              "#0d0887"
             ],
             [
              0.1111111111111111,
              "#46039f"
             ],
             [
              0.2222222222222222,
              "#7201a8"
             ],
             [
              0.3333333333333333,
              "#9c179e"
             ],
             [
              0.4444444444444444,
              "#bd3786"
             ],
             [
              0.5555555555555556,
              "#d8576b"
             ],
             [
              0.6666666666666666,
              "#ed7953"
             ],
             [
              0.7777777777777778,
              "#fb9f3a"
             ],
             [
              0.8888888888888888,
              "#fdca26"
             ],
             [
              1,
              "#f0f921"
             ]
            ],
            "type": "heatmap"
           }
          ],
          "heatmapgl": [
           {
            "colorbar": {
             "outlinewidth": 0,
             "ticks": ""
            },
            "colorscale": [
             [
              0,
              "#0d0887"
             ],
             [
              0.1111111111111111,
              "#46039f"
             ],
             [
              0.2222222222222222,
              "#7201a8"
             ],
             [
              0.3333333333333333,
              "#9c179e"
             ],
             [
              0.4444444444444444,
              "#bd3786"
             ],
             [
              0.5555555555555556,
              "#d8576b"
             ],
             [
              0.6666666666666666,
              "#ed7953"
             ],
             [
              0.7777777777777778,
              "#fb9f3a"
             ],
             [
              0.8888888888888888,
              "#fdca26"
             ],
             [
              1,
              "#f0f921"
             ]
            ],
            "type": "heatmapgl"
           }
          ],
          "histogram": [
           {
            "marker": {
             "colorbar": {
              "outlinewidth": 0,
              "ticks": ""
             }
            },
            "type": "histogram"
           }
          ],
          "histogram2d": [
           {
            "colorbar": {
             "outlinewidth": 0,
             "ticks": ""
            },
            "colorscale": [
             [
              0,
              "#0d0887"
             ],
             [
              0.1111111111111111,
              "#46039f"
             ],
             [
              0.2222222222222222,
              "#7201a8"
             ],
             [
              0.3333333333333333,
              "#9c179e"
             ],
             [
              0.4444444444444444,
              "#bd3786"
             ],
             [
              0.5555555555555556,
              "#d8576b"
             ],
             [
              0.6666666666666666,
              "#ed7953"
             ],
             [
              0.7777777777777778,
              "#fb9f3a"
             ],
             [
              0.8888888888888888,
              "#fdca26"
             ],
             [
              1,
              "#f0f921"
             ]
            ],
            "type": "histogram2d"
           }
          ],
          "histogram2dcontour": [
           {
            "colorbar": {
             "outlinewidth": 0,
             "ticks": ""
            },
            "colorscale": [
             [
              0,
              "#0d0887"
             ],
             [
              0.1111111111111111,
              "#46039f"
             ],
             [
              0.2222222222222222,
              "#7201a8"
             ],
             [
              0.3333333333333333,
              "#9c179e"
             ],
             [
              0.4444444444444444,
              "#bd3786"
             ],
             [
              0.5555555555555556,
              "#d8576b"
             ],
             [
              0.6666666666666666,
              "#ed7953"
             ],
             [
              0.7777777777777778,
              "#fb9f3a"
             ],
             [
              0.8888888888888888,
              "#fdca26"
             ],
             [
              1,
              "#f0f921"
             ]
            ],
            "type": "histogram2dcontour"
           }
          ],
          "mesh3d": [
           {
            "colorbar": {
             "outlinewidth": 0,
             "ticks": ""
            },
            "type": "mesh3d"
           }
          ],
          "parcoords": [
           {
            "line": {
             "colorbar": {
              "outlinewidth": 0,
              "ticks": ""
             }
            },
            "type": "parcoords"
           }
          ],
          "scatter": [
           {
            "marker": {
             "colorbar": {
              "outlinewidth": 0,
              "ticks": ""
             }
            },
            "type": "scatter"
           }
          ],
          "scatter3d": [
           {
            "line": {
             "colorbar": {
              "outlinewidth": 0,
              "ticks": ""
             }
            },
            "marker": {
             "colorbar": {
              "outlinewidth": 0,
              "ticks": ""
             }
            },
            "type": "scatter3d"
           }
          ],
          "scattercarpet": [
           {
            "marker": {
             "colorbar": {
              "outlinewidth": 0,
              "ticks": ""
             }
            },
            "type": "scattercarpet"
           }
          ],
          "scattergeo": [
           {
            "marker": {
             "colorbar": {
              "outlinewidth": 0,
              "ticks": ""
             }
            },
            "type": "scattergeo"
           }
          ],
          "scattergl": [
           {
            "marker": {
             "colorbar": {
              "outlinewidth": 0,
              "ticks": ""
             }
            },
            "type": "scattergl"
           }
          ],
          "scattermapbox": [
           {
            "marker": {
             "colorbar": {
              "outlinewidth": 0,
              "ticks": ""
             }
            },
            "type": "scattermapbox"
           }
          ],
          "scatterpolar": [
           {
            "marker": {
             "colorbar": {
              "outlinewidth": 0,
              "ticks": ""
             }
            },
            "type": "scatterpolar"
           }
          ],
          "scatterpolargl": [
           {
            "marker": {
             "colorbar": {
              "outlinewidth": 0,
              "ticks": ""
             }
            },
            "type": "scatterpolargl"
           }
          ],
          "scatterternary": [
           {
            "marker": {
             "colorbar": {
              "outlinewidth": 0,
              "ticks": ""
             }
            },
            "type": "scatterternary"
           }
          ],
          "surface": [
           {
            "colorbar": {
             "outlinewidth": 0,
             "ticks": ""
            },
            "colorscale": [
             [
              0,
              "#0d0887"
             ],
             [
              0.1111111111111111,
              "#46039f"
             ],
             [
              0.2222222222222222,
              "#7201a8"
             ],
             [
              0.3333333333333333,
              "#9c179e"
             ],
             [
              0.4444444444444444,
              "#bd3786"
             ],
             [
              0.5555555555555556,
              "#d8576b"
             ],
             [
              0.6666666666666666,
              "#ed7953"
             ],
             [
              0.7777777777777778,
              "#fb9f3a"
             ],
             [
              0.8888888888888888,
              "#fdca26"
             ],
             [
              1,
              "#f0f921"
             ]
            ],
            "type": "surface"
           }
          ],
          "table": [
           {
            "cells": {
             "fill": {
              "color": "#EBF0F8"
             },
             "line": {
              "color": "white"
             }
            },
            "header": {
             "fill": {
              "color": "#C8D4E3"
             },
             "line": {
              "color": "white"
             }
            },
            "type": "table"
           }
          ]
         },
         "layout": {
          "annotationdefaults": {
           "arrowcolor": "#2a3f5f",
           "arrowhead": 0,
           "arrowwidth": 1
          },
          "colorscale": {
           "diverging": [
            [
             0,
             "#8e0152"
            ],
            [
             0.1,
             "#c51b7d"
            ],
            [
             0.2,
             "#de77ae"
            ],
            [
             0.3,
             "#f1b6da"
            ],
            [
             0.4,
             "#fde0ef"
            ],
            [
             0.5,
             "#f7f7f7"
            ],
            [
             0.6,
             "#e6f5d0"
            ],
            [
             0.7,
             "#b8e186"
            ],
            [
             0.8,
             "#7fbc41"
            ],
            [
             0.9,
             "#4d9221"
            ],
            [
             1,
             "#276419"
            ]
           ],
           "sequential": [
            [
             0,
             "#0d0887"
            ],
            [
             0.1111111111111111,
             "#46039f"
            ],
            [
             0.2222222222222222,
             "#7201a8"
            ],
            [
             0.3333333333333333,
             "#9c179e"
            ],
            [
             0.4444444444444444,
             "#bd3786"
            ],
            [
             0.5555555555555556,
             "#d8576b"
            ],
            [
             0.6666666666666666,
             "#ed7953"
            ],
            [
             0.7777777777777778,
             "#fb9f3a"
            ],
            [
             0.8888888888888888,
             "#fdca26"
            ],
            [
             1,
             "#f0f921"
            ]
           ],
           "sequentialminus": [
            [
             0,
             "#0d0887"
            ],
            [
             0.1111111111111111,
             "#46039f"
            ],
            [
             0.2222222222222222,
             "#7201a8"
            ],
            [
             0.3333333333333333,
             "#9c179e"
            ],
            [
             0.4444444444444444,
             "#bd3786"
            ],
            [
             0.5555555555555556,
             "#d8576b"
            ],
            [
             0.6666666666666666,
             "#ed7953"
            ],
            [
             0.7777777777777778,
             "#fb9f3a"
            ],
            [
             0.8888888888888888,
             "#fdca26"
            ],
            [
             1,
             "#f0f921"
            ]
           ]
          },
          "colorway": [
           "#636efa",
           "#EF553B",
           "#00cc96",
           "#ab63fa",
           "#FFA15A",
           "#19d3f3",
           "#FF6692",
           "#B6E880",
           "#FF97FF",
           "#FECB52"
          ],
          "font": {
           "color": "#2a3f5f"
          },
          "geo": {
           "bgcolor": "white",
           "lakecolor": "white",
           "landcolor": "#E5ECF6",
           "showlakes": true,
           "showland": true,
           "subunitcolor": "white"
          },
          "hoverlabel": {
           "align": "left"
          },
          "hovermode": "closest",
          "mapbox": {
           "style": "light"
          },
          "paper_bgcolor": "white",
          "plot_bgcolor": "#E5ECF6",
          "polar": {
           "angularaxis": {
            "gridcolor": "white",
            "linecolor": "white",
            "ticks": ""
           },
           "bgcolor": "#E5ECF6",
           "radialaxis": {
            "gridcolor": "white",
            "linecolor": "white",
            "ticks": ""
           }
          },
          "scene": {
           "xaxis": {
            "backgroundcolor": "#E5ECF6",
            "gridcolor": "white",
            "gridwidth": 2,
            "linecolor": "white",
            "showbackground": true,
            "ticks": "",
            "zerolinecolor": "white"
           },
           "yaxis": {
            "backgroundcolor": "#E5ECF6",
            "gridcolor": "white",
            "gridwidth": 2,
            "linecolor": "white",
            "showbackground": true,
            "ticks": "",
            "zerolinecolor": "white"
           },
           "zaxis": {
            "backgroundcolor": "#E5ECF6",
            "gridcolor": "white",
            "gridwidth": 2,
            "linecolor": "white",
            "showbackground": true,
            "ticks": "",
            "zerolinecolor": "white"
           }
          },
          "shapedefaults": {
           "line": {
            "color": "#2a3f5f"
           }
          },
          "ternary": {
           "aaxis": {
            "gridcolor": "white",
            "linecolor": "white",
            "ticks": ""
           },
           "baxis": {
            "gridcolor": "white",
            "linecolor": "white",
            "ticks": ""
           },
           "bgcolor": "#E5ECF6",
           "caxis": {
            "gridcolor": "white",
            "linecolor": "white",
            "ticks": ""
           }
          },
          "title": {
           "x": 0.05
          },
          "xaxis": {
           "automargin": true,
           "gridcolor": "white",
           "linecolor": "white",
           "ticks": "",
           "zerolinecolor": "white",
           "zerolinewidth": 2
          },
          "yaxis": {
           "automargin": true,
           "gridcolor": "white",
           "linecolor": "white",
           "ticks": "",
           "zerolinecolor": "white",
           "zerolinewidth": 2
          }
         }
        }
       },
       "_py2js_animate": {},
       "_py2js_deleteTraces": {},
       "_py2js_moveTraces": {},
       "_py2js_removeLayoutProps": {},
       "_py2js_removeTraceProps": {},
       "_py2js_restyle": {},
       "_py2js_update": {},
       "_view_count": 0
      }
     },
     "afadf0ad01fd4f59b08721e3e7d22e76": {
      "model_module": "@jupyter-widgets/base",
      "model_module_version": "1.2.0",
      "model_name": "LayoutModel",
      "state": {}
     },
     "b0000b6171514f84971b3f1f56df5c80": {
      "model_module": "@jupyter-widgets/controls",
      "model_module_version": "1.5.0",
      "model_name": "VBoxModel",
      "state": {
       "_dom_classes": [
        "widget-interact"
       ],
       "children": [
        "IPY_MODEL_3645688bce15429bb0a841ed3f27a9a3",
        "IPY_MODEL_a1d8314d274747ad8c053d9bd3c280f1",
        "IPY_MODEL_e08788cb893e4f52b8e2b8a32821d2f2",
        "IPY_MODEL_97e65db1e37b42fa888a94e49986f432",
        "IPY_MODEL_5a68f07257c64db9ae96509c7b4befa7"
       ],
       "layout": "IPY_MODEL_ebecaf60ad2b4a3ba30ae63d23a68d8b"
      }
     },
     "b1291df78f8d457dbe408aa2c1f4579a": {
      "model_module": "@jupyter-widgets/controls",
      "model_module_version": "1.5.0",
      "model_name": "SliderStyleModel",
      "state": {
       "description_width": ""
      }
     },
     "b193621e2a1a4db5a959290fade6bd1d": {
      "model_module": "@jupyter-widgets/controls",
      "model_module_version": "1.5.0",
      "model_name": "SliderStyleModel",
      "state": {
       "description_width": ""
      }
     },
     "b1faa4e087624785b9f998d6dac61230": {
      "model_module": "@jupyter-widgets/base",
      "model_module_version": "1.2.0",
      "model_name": "LayoutModel",
      "state": {}
     },
     "b25723cdda2242bb88cd7a580f7a4228": {
      "model_module": "@jupyter-widgets/controls",
      "model_module_version": "1.5.0",
      "model_name": "FloatSliderModel",
      "state": {
       "layout": "IPY_MODEL_ac99bbf7a0e9480191b05a155eb56dd3",
       "max": 1.5707963267948966,
       "step": 0.15707963267948966,
       "style": "IPY_MODEL_6501f72f900843b88a4255285cee07d4",
       "value": 1.5707963267948966
      }
     },
     "b365cc2c4b7a450f805876619367142b": {
      "model_module": "@jupyter-widgets/controls",
      "model_module_version": "1.5.0",
      "model_name": "FloatSliderModel",
      "state": {
       "description": "gamma",
       "layout": "IPY_MODEL_532a6ea403c34f4687dca803e6dbd030",
       "max": 0.0942477796076938,
       "min": -0.031415926535897934,
       "step": 0.1,
       "style": "IPY_MODEL_a5082609d0ab42ebbac3d416fe7b20f7",
       "value": 0.06858
      }
     },
     "b3d2b8c532314f2094e80f2a6eca75b3": {
      "model_module": "@jupyter-widgets/controls",
      "model_module_version": "1.5.0",
      "model_name": "SliderStyleModel",
      "state": {
       "description_width": ""
      }
     },
     "b5777285f8b44285816cfaa3ccaf6e5b": {
      "model_module": "@jupyter-widgets/output",
      "model_module_version": "1.0.0",
      "model_name": "OutputModel",
      "state": {
       "layout": "IPY_MODEL_133cdbfd9f4f49689c48ffdfc30de4b0"
      }
     },
     "b5b870652bf44eeaa2b3bd4a8236f51f": {
      "model_module": "@jupyter-widgets/controls",
      "model_module_version": "1.5.0",
      "model_name": "FloatSliderModel",
      "state": {
       "description": "t_by_tmax",
       "layout": "IPY_MODEL_9c41a95a98bd4fc58a72798c602511d7",
       "max": 1,
       "step": 0.01,
       "style": "IPY_MODEL_0a534a5daa6d471c8a55797d58b06cca"
      }
     },
     "b969a0553a324909a72a2e902490a4e9": {
      "model_module": "@jupyter-widgets/base",
      "model_module_version": "1.2.0",
      "model_name": "LayoutModel",
      "state": {}
     },
     "ba61ff152e0f48a7bb6c2573ef4a4110": {
      "model_module": "@jupyter-widgets/controls",
      "model_module_version": "1.5.0",
      "model_name": "FloatSliderModel",
      "state": {
       "layout": "IPY_MODEL_f02f00d0cbae45c5ab4731938ea72f58",
       "max": 1.5707963267948966,
       "step": 0.15707963267948966,
       "style": "IPY_MODEL_e5310069eb7a46e38882fb67d39dcf28",
       "value": 1.5707963267948966
      }
     },
     "bb23c014379549eca0a469e682a41f89": {
      "model_module": "@jupyter-widgets/controls",
      "model_module_version": "1.5.0",
      "model_name": "FloatSliderModel",
      "state": {
       "description": "t_by_tmax",
       "layout": "IPY_MODEL_20f88742f0a54d7fb3f4567dda7144d1",
       "max": 1,
       "step": 0.01,
       "style": "IPY_MODEL_2e2feef8cba648c290176dd8e5550417",
       "value": 0.01
      }
     },
     "bb6f9667b86045e59350fd2b7e9b1915": {
      "model_module": "@jupyter-widgets/base",
      "model_module_version": "1.2.0",
      "model_name": "LayoutModel",
      "state": {}
     },
     "bbb0ba29f3ec4c12b348b1265322b421": {
      "model_module": "@jupyter-widgets/controls",
      "model_module_version": "1.5.0",
      "model_name": "SliderStyleModel",
      "state": {
       "description_width": ""
      }
     },
     "bbd5817444a24acf85c3d829c216b71a": {
      "model_module": "@jupyter-widgets/controls",
      "model_module_version": "1.5.0",
      "model_name": "VBoxModel",
      "state": {
       "_dom_classes": [
        "widget-interact"
       ],
       "children": [
        "IPY_MODEL_eba702d8ff184089a3eae4e3c4e0abbb",
        "IPY_MODEL_6f46f7d0de9c442880a4945e1e5d9018",
        "IPY_MODEL_d408726d9d5e4a90a8627e9aeab7276b",
        "IPY_MODEL_529b4133b97f4abb814c3872d055451c",
        "IPY_MODEL_ed432ebd9a54425297f6932ac7de2fee"
       ],
       "layout": "IPY_MODEL_4f8e23f405964a2696128ed7c529db47"
      }
     },
     "bc6d240b73aa4a2d9ae66226a2f89b27": {
      "model_module": "plotlywidget",
      "model_module_version": "^1.0.0",
      "model_name": "FigureModel",
      "state": {
       "_config": {
        "plotlyServerURL": "https://plot.ly"
       },
       "_data": [
        {
         "type": "scatter",
         "uid": "5d2644d5-150c-4baf-96d9-f94cd9d07e8d"
        }
       ],
       "_js2py_pointsCallback": {},
       "_js2py_relayout": {},
       "_js2py_restyle": {},
       "_js2py_update": {},
       "_last_layout_edit_id": 1,
       "_last_trace_edit_id": 1,
       "_layout": {
        "template": {
         "data": {
          "bar": [
           {
            "error_x": {
             "color": "#2a3f5f"
            },
            "error_y": {
             "color": "#2a3f5f"
            },
            "marker": {
             "line": {
              "color": "#E5ECF6",
              "width": 0.5
             }
            },
            "type": "bar"
           }
          ],
          "barpolar": [
           {
            "marker": {
             "line": {
              "color": "#E5ECF6",
              "width": 0.5
             }
            },
            "type": "barpolar"
           }
          ],
          "carpet": [
           {
            "aaxis": {
             "endlinecolor": "#2a3f5f",
             "gridcolor": "white",
             "linecolor": "white",
             "minorgridcolor": "white",
             "startlinecolor": "#2a3f5f"
            },
            "baxis": {
             "endlinecolor": "#2a3f5f",
             "gridcolor": "white",
             "linecolor": "white",
             "minorgridcolor": "white",
             "startlinecolor": "#2a3f5f"
            },
            "type": "carpet"
           }
          ],
          "choropleth": [
           {
            "colorbar": {
             "outlinewidth": 0,
             "ticks": ""
            },
            "type": "choropleth"
           }
          ],
          "contour": [
           {
            "colorbar": {
             "outlinewidth": 0,
             "ticks": ""
            },
            "colorscale": [
             [
              0,
              "#0d0887"
             ],
             [
              0.1111111111111111,
              "#46039f"
             ],
             [
              0.2222222222222222,
              "#7201a8"
             ],
             [
              0.3333333333333333,
              "#9c179e"
             ],
             [
              0.4444444444444444,
              "#bd3786"
             ],
             [
              0.5555555555555556,
              "#d8576b"
             ],
             [
              0.6666666666666666,
              "#ed7953"
             ],
             [
              0.7777777777777778,
              "#fb9f3a"
             ],
             [
              0.8888888888888888,
              "#fdca26"
             ],
             [
              1,
              "#f0f921"
             ]
            ],
            "type": "contour"
           }
          ],
          "contourcarpet": [
           {
            "colorbar": {
             "outlinewidth": 0,
             "ticks": ""
            },
            "type": "contourcarpet"
           }
          ],
          "heatmap": [
           {
            "colorbar": {
             "outlinewidth": 0,
             "ticks": ""
            },
            "colorscale": [
             [
              0,
              "#0d0887"
             ],
             [
              0.1111111111111111,
              "#46039f"
             ],
             [
              0.2222222222222222,
              "#7201a8"
             ],
             [
              0.3333333333333333,
              "#9c179e"
             ],
             [
              0.4444444444444444,
              "#bd3786"
             ],
             [
              0.5555555555555556,
              "#d8576b"
             ],
             [
              0.6666666666666666,
              "#ed7953"
             ],
             [
              0.7777777777777778,
              "#fb9f3a"
             ],
             [
              0.8888888888888888,
              "#fdca26"
             ],
             [
              1,
              "#f0f921"
             ]
            ],
            "type": "heatmap"
           }
          ],
          "heatmapgl": [
           {
            "colorbar": {
             "outlinewidth": 0,
             "ticks": ""
            },
            "colorscale": [
             [
              0,
              "#0d0887"
             ],
             [
              0.1111111111111111,
              "#46039f"
             ],
             [
              0.2222222222222222,
              "#7201a8"
             ],
             [
              0.3333333333333333,
              "#9c179e"
             ],
             [
              0.4444444444444444,
              "#bd3786"
             ],
             [
              0.5555555555555556,
              "#d8576b"
             ],
             [
              0.6666666666666666,
              "#ed7953"
             ],
             [
              0.7777777777777778,
              "#fb9f3a"
             ],
             [
              0.8888888888888888,
              "#fdca26"
             ],
             [
              1,
              "#f0f921"
             ]
            ],
            "type": "heatmapgl"
           }
          ],
          "histogram": [
           {
            "marker": {
             "colorbar": {
              "outlinewidth": 0,
              "ticks": ""
             }
            },
            "type": "histogram"
           }
          ],
          "histogram2d": [
           {
            "colorbar": {
             "outlinewidth": 0,
             "ticks": ""
            },
            "colorscale": [
             [
              0,
              "#0d0887"
             ],
             [
              0.1111111111111111,
              "#46039f"
             ],
             [
              0.2222222222222222,
              "#7201a8"
             ],
             [
              0.3333333333333333,
              "#9c179e"
             ],
             [
              0.4444444444444444,
              "#bd3786"
             ],
             [
              0.5555555555555556,
              "#d8576b"
             ],
             [
              0.6666666666666666,
              "#ed7953"
             ],
             [
              0.7777777777777778,
              "#fb9f3a"
             ],
             [
              0.8888888888888888,
              "#fdca26"
             ],
             [
              1,
              "#f0f921"
             ]
            ],
            "type": "histogram2d"
           }
          ],
          "histogram2dcontour": [
           {
            "colorbar": {
             "outlinewidth": 0,
             "ticks": ""
            },
            "colorscale": [
             [
              0,
              "#0d0887"
             ],
             [
              0.1111111111111111,
              "#46039f"
             ],
             [
              0.2222222222222222,
              "#7201a8"
             ],
             [
              0.3333333333333333,
              "#9c179e"
             ],
             [
              0.4444444444444444,
              "#bd3786"
             ],
             [
              0.5555555555555556,
              "#d8576b"
             ],
             [
              0.6666666666666666,
              "#ed7953"
             ],
             [
              0.7777777777777778,
              "#fb9f3a"
             ],
             [
              0.8888888888888888,
              "#fdca26"
             ],
             [
              1,
              "#f0f921"
             ]
            ],
            "type": "histogram2dcontour"
           }
          ],
          "mesh3d": [
           {
            "colorbar": {
             "outlinewidth": 0,
             "ticks": ""
            },
            "type": "mesh3d"
           }
          ],
          "parcoords": [
           {
            "line": {
             "colorbar": {
              "outlinewidth": 0,
              "ticks": ""
             }
            },
            "type": "parcoords"
           }
          ],
          "scatter": [
           {
            "marker": {
             "colorbar": {
              "outlinewidth": 0,
              "ticks": ""
             }
            },
            "type": "scatter"
           }
          ],
          "scatter3d": [
           {
            "line": {
             "colorbar": {
              "outlinewidth": 0,
              "ticks": ""
             }
            },
            "marker": {
             "colorbar": {
              "outlinewidth": 0,
              "ticks": ""
             }
            },
            "type": "scatter3d"
           }
          ],
          "scattercarpet": [
           {
            "marker": {
             "colorbar": {
              "outlinewidth": 0,
              "ticks": ""
             }
            },
            "type": "scattercarpet"
           }
          ],
          "scattergeo": [
           {
            "marker": {
             "colorbar": {
              "outlinewidth": 0,
              "ticks": ""
             }
            },
            "type": "scattergeo"
           }
          ],
          "scattergl": [
           {
            "marker": {
             "colorbar": {
              "outlinewidth": 0,
              "ticks": ""
             }
            },
            "type": "scattergl"
           }
          ],
          "scattermapbox": [
           {
            "marker": {
             "colorbar": {
              "outlinewidth": 0,
              "ticks": ""
             }
            },
            "type": "scattermapbox"
           }
          ],
          "scatterpolar": [
           {
            "marker": {
             "colorbar": {
              "outlinewidth": 0,
              "ticks": ""
             }
            },
            "type": "scatterpolar"
           }
          ],
          "scatterpolargl": [
           {
            "marker": {
             "colorbar": {
              "outlinewidth": 0,
              "ticks": ""
             }
            },
            "type": "scatterpolargl"
           }
          ],
          "scatterternary": [
           {
            "marker": {
             "colorbar": {
              "outlinewidth": 0,
              "ticks": ""
             }
            },
            "type": "scatterternary"
           }
          ],
          "surface": [
           {
            "colorbar": {
             "outlinewidth": 0,
             "ticks": ""
            },
            "colorscale": [
             [
              0,
              "#0d0887"
             ],
             [
              0.1111111111111111,
              "#46039f"
             ],
             [
              0.2222222222222222,
              "#7201a8"
             ],
             [
              0.3333333333333333,
              "#9c179e"
             ],
             [
              0.4444444444444444,
              "#bd3786"
             ],
             [
              0.5555555555555556,
              "#d8576b"
             ],
             [
              0.6666666666666666,
              "#ed7953"
             ],
             [
              0.7777777777777778,
              "#fb9f3a"
             ],
             [
              0.8888888888888888,
              "#fdca26"
             ],
             [
              1,
              "#f0f921"
             ]
            ],
            "type": "surface"
           }
          ],
          "table": [
           {
            "cells": {
             "fill": {
              "color": "#EBF0F8"
             },
             "line": {
              "color": "white"
             }
            },
            "header": {
             "fill": {
              "color": "#C8D4E3"
             },
             "line": {
              "color": "white"
             }
            },
            "type": "table"
           }
          ]
         },
         "layout": {
          "annotationdefaults": {
           "arrowcolor": "#2a3f5f",
           "arrowhead": 0,
           "arrowwidth": 1
          },
          "colorscale": {
           "diverging": [
            [
             0,
             "#8e0152"
            ],
            [
             0.1,
             "#c51b7d"
            ],
            [
             0.2,
             "#de77ae"
            ],
            [
             0.3,
             "#f1b6da"
            ],
            [
             0.4,
             "#fde0ef"
            ],
            [
             0.5,
             "#f7f7f7"
            ],
            [
             0.6,
             "#e6f5d0"
            ],
            [
             0.7,
             "#b8e186"
            ],
            [
             0.8,
             "#7fbc41"
            ],
            [
             0.9,
             "#4d9221"
            ],
            [
             1,
             "#276419"
            ]
           ],
           "sequential": [
            [
             0,
             "#0d0887"
            ],
            [
             0.1111111111111111,
             "#46039f"
            ],
            [
             0.2222222222222222,
             "#7201a8"
            ],
            [
             0.3333333333333333,
             "#9c179e"
            ],
            [
             0.4444444444444444,
             "#bd3786"
            ],
            [
             0.5555555555555556,
             "#d8576b"
            ],
            [
             0.6666666666666666,
             "#ed7953"
            ],
            [
             0.7777777777777778,
             "#fb9f3a"
            ],
            [
             0.8888888888888888,
             "#fdca26"
            ],
            [
             1,
             "#f0f921"
            ]
           ],
           "sequentialminus": [
            [
             0,
             "#0d0887"
            ],
            [
             0.1111111111111111,
             "#46039f"
            ],
            [
             0.2222222222222222,
             "#7201a8"
            ],
            [
             0.3333333333333333,
             "#9c179e"
            ],
            [
             0.4444444444444444,
             "#bd3786"
            ],
            [
             0.5555555555555556,
             "#d8576b"
            ],
            [
             0.6666666666666666,
             "#ed7953"
            ],
            [
             0.7777777777777778,
             "#fb9f3a"
            ],
            [
             0.8888888888888888,
             "#fdca26"
            ],
            [
             1,
             "#f0f921"
            ]
           ]
          },
          "colorway": [
           "#636efa",
           "#EF553B",
           "#00cc96",
           "#ab63fa",
           "#FFA15A",
           "#19d3f3",
           "#FF6692",
           "#B6E880",
           "#FF97FF",
           "#FECB52"
          ],
          "font": {
           "color": "#2a3f5f"
          },
          "geo": {
           "bgcolor": "white",
           "lakecolor": "white",
           "landcolor": "#E5ECF6",
           "showlakes": true,
           "showland": true,
           "subunitcolor": "white"
          },
          "hoverlabel": {
           "align": "left"
          },
          "hovermode": "closest",
          "mapbox": {
           "style": "light"
          },
          "paper_bgcolor": "white",
          "plot_bgcolor": "#E5ECF6",
          "polar": {
           "angularaxis": {
            "gridcolor": "white",
            "linecolor": "white",
            "ticks": ""
           },
           "bgcolor": "#E5ECF6",
           "radialaxis": {
            "gridcolor": "white",
            "linecolor": "white",
            "ticks": ""
           }
          },
          "scene": {
           "xaxis": {
            "backgroundcolor": "#E5ECF6",
            "gridcolor": "white",
            "gridwidth": 2,
            "linecolor": "white",
            "showbackground": true,
            "ticks": "",
            "zerolinecolor": "white"
           },
           "yaxis": {
            "backgroundcolor": "#E5ECF6",
            "gridcolor": "white",
            "gridwidth": 2,
            "linecolor": "white",
            "showbackground": true,
            "ticks": "",
            "zerolinecolor": "white"
           },
           "zaxis": {
            "backgroundcolor": "#E5ECF6",
            "gridcolor": "white",
            "gridwidth": 2,
            "linecolor": "white",
            "showbackground": true,
            "ticks": "",
            "zerolinecolor": "white"
           }
          },
          "shapedefaults": {
           "line": {
            "color": "#2a3f5f"
           }
          },
          "ternary": {
           "aaxis": {
            "gridcolor": "white",
            "linecolor": "white",
            "ticks": ""
           },
           "baxis": {
            "gridcolor": "white",
            "linecolor": "white",
            "ticks": ""
           },
           "bgcolor": "#E5ECF6",
           "caxis": {
            "gridcolor": "white",
            "linecolor": "white",
            "ticks": ""
           }
          },
          "title": {
           "x": 0.05
          },
          "xaxis": {
           "automargin": true,
           "gridcolor": "white",
           "linecolor": "white",
           "ticks": "",
           "zerolinecolor": "white",
           "zerolinewidth": 2
          },
          "yaxis": {
           "automargin": true,
           "gridcolor": "white",
           "linecolor": "white",
           "ticks": "",
           "zerolinecolor": "white",
           "zerolinewidth": 2
          }
         }
        }
       },
       "_py2js_animate": {},
       "_py2js_deleteTraces": {},
       "_py2js_moveTraces": {},
       "_py2js_removeLayoutProps": {},
       "_py2js_removeTraceProps": {},
       "_py2js_restyle": {},
       "_py2js_update": {},
       "_view_count": 0
      }
     },
     "c04358a864f74a7ebada2fb8fb31bac4": {
      "model_module": "@jupyter-widgets/output",
      "model_module_version": "1.0.0",
      "model_name": "OutputModel",
      "state": {
       "layout": "IPY_MODEL_590c20cee995430c87df3c7fc20f9854"
      }
     },
     "c07f809f91ff4f3fa9f52dc50fb3cda9": {
      "model_module": "@jupyter-widgets/controls",
      "model_module_version": "1.5.0",
      "model_name": "IntSliderModel",
      "state": {
       "description": "alpha",
       "layout": "IPY_MODEL_6bb2034e8449433baec747643b750605",
       "max": 6,
       "min": -2,
       "style": "IPY_MODEL_e158f2eaefbb49949df5ea78ebce1711",
       "value": 2
      }
     },
     "c092b6c69791417387792a05bffd1082": {
      "model_module": "@jupyter-widgets/base",
      "model_module_version": "1.2.0",
      "model_name": "LayoutModel",
      "state": {}
     },
     "c0d38cd7c50848948d971056bb317bc7": {
      "model_module": "@jupyter-widgets/controls",
      "model_module_version": "1.5.0",
      "model_name": "SliderStyleModel",
      "state": {
       "description_width": ""
      }
     },
     "c1f75cd5de41489ab1f0a4af27694d5c": {
      "model_module": "@jupyter-widgets/controls",
      "model_module_version": "1.5.0",
      "model_name": "SliderStyleModel",
      "state": {
       "description_width": ""
      }
     },
     "c368ac0d483342db901c858721ef5739": {
      "model_module": "@jupyter-widgets/base",
      "model_module_version": "1.2.0",
      "model_name": "LayoutModel",
      "state": {}
     },
     "c37569268c944b69a666683030779575": {
      "model_module": "@jupyter-widgets/controls",
      "model_module_version": "1.5.0",
      "model_name": "SliderStyleModel",
      "state": {
       "description_width": ""
      }
     },
     "c468bfd64a5d43e4ab07edc0e9451612": {
      "model_module": "@jupyter-widgets/base",
      "model_module_version": "1.2.0",
      "model_name": "LayoutModel",
      "state": {}
     },
     "c476f078e0f54e9485143aab4a620faf": {
      "buffers": [
       {
        "data": "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",
        "encoding": "base64",
        "path": [
         "_data",
         0,
         "x",
         "value"
        ]
       },
       {
        "data": "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",
        "encoding": "base64",
        "path": [
         "_data",
         0,
         "y",
         "value"
        ]
       }
      ],
      "model_module": "plotlywidget",
      "model_module_version": "^1.0.0",
      "model_name": "FigureModel",
      "state": {
       "_config": {
        "plotlyServerURL": "https://plot.ly"
       },
       "_data": [
        {
         "type": "scatter",
         "uid": "28613378-ffcc-4b86-b17e-6e9a195e11e0",
         "x": {
          "dtype": "float64",
          "shape": [
           1000
          ],
          "value": {}
         },
         "y": {
          "dtype": "float64",
          "shape": [
           1000
          ],
          "value": {}
         }
        }
       ],
       "_js2py_relayout": {},
       "_js2py_restyle": {},
       "_js2py_update": {},
       "_last_layout_edit_id": 135,
       "_last_trace_edit_id": 135,
       "_layout": {
        "template": {
         "data": {
          "bar": [
           {
            "error_x": {
             "color": "#2a3f5f"
            },
            "error_y": {
             "color": "#2a3f5f"
            },
            "marker": {
             "line": {
              "color": "#E5ECF6",
              "width": 0.5
             }
            },
            "type": "bar"
           }
          ],
          "barpolar": [
           {
            "marker": {
             "line": {
              "color": "#E5ECF6",
              "width": 0.5
             }
            },
            "type": "barpolar"
           }
          ],
          "carpet": [
           {
            "aaxis": {
             "endlinecolor": "#2a3f5f",
             "gridcolor": "white",
             "linecolor": "white",
             "minorgridcolor": "white",
             "startlinecolor": "#2a3f5f"
            },
            "baxis": {
             "endlinecolor": "#2a3f5f",
             "gridcolor": "white",
             "linecolor": "white",
             "minorgridcolor": "white",
             "startlinecolor": "#2a3f5f"
            },
            "type": "carpet"
           }
          ],
          "choropleth": [
           {
            "colorbar": {
             "outlinewidth": 0,
             "ticks": ""
            },
            "type": "choropleth"
           }
          ],
          "contour": [
           {
            "colorbar": {
             "outlinewidth": 0,
             "ticks": ""
            },
            "colorscale": [
             [
              0,
              "#0d0887"
             ],
             [
              0.1111111111111111,
              "#46039f"
             ],
             [
              0.2222222222222222,
              "#7201a8"
             ],
             [
              0.3333333333333333,
              "#9c179e"
             ],
             [
              0.4444444444444444,
              "#bd3786"
             ],
             [
              0.5555555555555556,
              "#d8576b"
             ],
             [
              0.6666666666666666,
              "#ed7953"
             ],
             [
              0.7777777777777778,
              "#fb9f3a"
             ],
             [
              0.8888888888888888,
              "#fdca26"
             ],
             [
              1,
              "#f0f921"
             ]
            ],
            "type": "contour"
           }
          ],
          "contourcarpet": [
           {
            "colorbar": {
             "outlinewidth": 0,
             "ticks": ""
            },
            "type": "contourcarpet"
           }
          ],
          "heatmap": [
           {
            "colorbar": {
             "outlinewidth": 0,
             "ticks": ""
            },
            "colorscale": [
             [
              0,
              "#0d0887"
             ],
             [
              0.1111111111111111,
              "#46039f"
             ],
             [
              0.2222222222222222,
              "#7201a8"
             ],
             [
              0.3333333333333333,
              "#9c179e"
             ],
             [
              0.4444444444444444,
              "#bd3786"
             ],
             [
              0.5555555555555556,
              "#d8576b"
             ],
             [
              0.6666666666666666,
              "#ed7953"
             ],
             [
              0.7777777777777778,
              "#fb9f3a"
             ],
             [
              0.8888888888888888,
              "#fdca26"
             ],
             [
              1,
              "#f0f921"
             ]
            ],
            "type": "heatmap"
           }
          ],
          "heatmapgl": [
           {
            "colorbar": {
             "outlinewidth": 0,
             "ticks": ""
            },
            "colorscale": [
             [
              0,
              "#0d0887"
             ],
             [
              0.1111111111111111,
              "#46039f"
             ],
             [
              0.2222222222222222,
              "#7201a8"
             ],
             [
              0.3333333333333333,
              "#9c179e"
             ],
             [
              0.4444444444444444,
              "#bd3786"
             ],
             [
              0.5555555555555556,
              "#d8576b"
             ],
             [
              0.6666666666666666,
              "#ed7953"
             ],
             [
              0.7777777777777778,
              "#fb9f3a"
             ],
             [
              0.8888888888888888,
              "#fdca26"
             ],
             [
              1,
              "#f0f921"
             ]
            ],
            "type": "heatmapgl"
           }
          ],
          "histogram": [
           {
            "marker": {
             "colorbar": {
              "outlinewidth": 0,
              "ticks": ""
             }
            },
            "type": "histogram"
           }
          ],
          "histogram2d": [
           {
            "colorbar": {
             "outlinewidth": 0,
             "ticks": ""
            },
            "colorscale": [
             [
              0,
              "#0d0887"
             ],
             [
              0.1111111111111111,
              "#46039f"
             ],
             [
              0.2222222222222222,
              "#7201a8"
             ],
             [
              0.3333333333333333,
              "#9c179e"
             ],
             [
              0.4444444444444444,
              "#bd3786"
             ],
             [
              0.5555555555555556,
              "#d8576b"
             ],
             [
              0.6666666666666666,
              "#ed7953"
             ],
             [
              0.7777777777777778,
              "#fb9f3a"
             ],
             [
              0.8888888888888888,
              "#fdca26"
             ],
             [
              1,
              "#f0f921"
             ]
            ],
            "type": "histogram2d"
           }
          ],
          "histogram2dcontour": [
           {
            "colorbar": {
             "outlinewidth": 0,
             "ticks": ""
            },
            "colorscale": [
             [
              0,
              "#0d0887"
             ],
             [
              0.1111111111111111,
              "#46039f"
             ],
             [
              0.2222222222222222,
              "#7201a8"
             ],
             [
              0.3333333333333333,
              "#9c179e"
             ],
             [
              0.4444444444444444,
              "#bd3786"
             ],
             [
              0.5555555555555556,
              "#d8576b"
             ],
             [
              0.6666666666666666,
              "#ed7953"
             ],
             [
              0.7777777777777778,
              "#fb9f3a"
             ],
             [
              0.8888888888888888,
              "#fdca26"
             ],
             [
              1,
              "#f0f921"
             ]
            ],
            "type": "histogram2dcontour"
           }
          ],
          "mesh3d": [
           {
            "colorbar": {
             "outlinewidth": 0,
             "ticks": ""
            },
            "type": "mesh3d"
           }
          ],
          "parcoords": [
           {
            "line": {
             "colorbar": {
              "outlinewidth": 0,
              "ticks": ""
             }
            },
            "type": "parcoords"
           }
          ],
          "scatter": [
           {
            "marker": {
             "colorbar": {
              "outlinewidth": 0,
              "ticks": ""
             }
            },
            "type": "scatter"
           }
          ],
          "scatter3d": [
           {
            "line": {
             "colorbar": {
              "outlinewidth": 0,
              "ticks": ""
             }
            },
            "marker": {
             "colorbar": {
              "outlinewidth": 0,
              "ticks": ""
             }
            },
            "type": "scatter3d"
           }
          ],
          "scattercarpet": [
           {
            "marker": {
             "colorbar": {
              "outlinewidth": 0,
              "ticks": ""
             }
            },
            "type": "scattercarpet"
           }
          ],
          "scattergeo": [
           {
            "marker": {
             "colorbar": {
              "outlinewidth": 0,
              "ticks": ""
             }
            },
            "type": "scattergeo"
           }
          ],
          "scattergl": [
           {
            "marker": {
             "colorbar": {
              "outlinewidth": 0,
              "ticks": ""
             }
            },
            "type": "scattergl"
           }
          ],
          "scattermapbox": [
           {
            "marker": {
             "colorbar": {
              "outlinewidth": 0,
              "ticks": ""
             }
            },
            "type": "scattermapbox"
           }
          ],
          "scatterpolar": [
           {
            "marker": {
             "colorbar": {
              "outlinewidth": 0,
              "ticks": ""
             }
            },
            "type": "scatterpolar"
           }
          ],
          "scatterpolargl": [
           {
            "marker": {
             "colorbar": {
              "outlinewidth": 0,
              "ticks": ""
             }
            },
            "type": "scatterpolargl"
           }
          ],
          "scatterternary": [
           {
            "marker": {
             "colorbar": {
              "outlinewidth": 0,
              "ticks": ""
             }
            },
            "type": "scatterternary"
           }
          ],
          "surface": [
           {
            "colorbar": {
             "outlinewidth": 0,
             "ticks": ""
            },
            "colorscale": [
             [
              0,
              "#0d0887"
             ],
             [
              0.1111111111111111,
              "#46039f"
             ],
             [
              0.2222222222222222,
              "#7201a8"
             ],
             [
              0.3333333333333333,
              "#9c179e"
             ],
             [
              0.4444444444444444,
              "#bd3786"
             ],
             [
              0.5555555555555556,
              "#d8576b"
             ],
             [
              0.6666666666666666,
              "#ed7953"
             ],
             [
              0.7777777777777778,
              "#fb9f3a"
             ],
             [
              0.8888888888888888,
              "#fdca26"
             ],
             [
              1,
              "#f0f921"
             ]
            ],
            "type": "surface"
           }
          ],
          "table": [
           {
            "cells": {
             "fill": {
              "color": "#EBF0F8"
             },
             "line": {
              "color": "white"
             }
            },
            "header": {
             "fill": {
              "color": "#C8D4E3"
             },
             "line": {
              "color": "white"
             }
            },
            "type": "table"
           }
          ]
         },
         "layout": {
          "annotationdefaults": {
           "arrowcolor": "#2a3f5f",
           "arrowhead": 0,
           "arrowwidth": 1
          },
          "colorscale": {
           "diverging": [
            [
             0,
             "#8e0152"
            ],
            [
             0.1,
             "#c51b7d"
            ],
            [
             0.2,
             "#de77ae"
            ],
            [
             0.3,
             "#f1b6da"
            ],
            [
             0.4,
             "#fde0ef"
            ],
            [
             0.5,
             "#f7f7f7"
            ],
            [
             0.6,
             "#e6f5d0"
            ],
            [
             0.7,
             "#b8e186"
            ],
            [
             0.8,
             "#7fbc41"
            ],
            [
             0.9,
             "#4d9221"
            ],
            [
             1,
             "#276419"
            ]
           ],
           "sequential": [
            [
             0,
             "#0d0887"
            ],
            [
             0.1111111111111111,
             "#46039f"
            ],
            [
             0.2222222222222222,
             "#7201a8"
            ],
            [
             0.3333333333333333,
             "#9c179e"
            ],
            [
             0.4444444444444444,
             "#bd3786"
            ],
            [
             0.5555555555555556,
             "#d8576b"
            ],
            [
             0.6666666666666666,
             "#ed7953"
            ],
            [
             0.7777777777777778,
             "#fb9f3a"
            ],
            [
             0.8888888888888888,
             "#fdca26"
            ],
            [
             1,
             "#f0f921"
            ]
           ],
           "sequentialminus": [
            [
             0,
             "#0d0887"
            ],
            [
             0.1111111111111111,
             "#46039f"
            ],
            [
             0.2222222222222222,
             "#7201a8"
            ],
            [
             0.3333333333333333,
             "#9c179e"
            ],
            [
             0.4444444444444444,
             "#bd3786"
            ],
            [
             0.5555555555555556,
             "#d8576b"
            ],
            [
             0.6666666666666666,
             "#ed7953"
            ],
            [
             0.7777777777777778,
             "#fb9f3a"
            ],
            [
             0.8888888888888888,
             "#fdca26"
            ],
            [
             1,
             "#f0f921"
            ]
           ]
          },
          "colorway": [
           "#636efa",
           "#EF553B",
           "#00cc96",
           "#ab63fa",
           "#FFA15A",
           "#19d3f3",
           "#FF6692",
           "#B6E880",
           "#FF97FF",
           "#FECB52"
          ],
          "font": {
           "color": "#2a3f5f"
          },
          "geo": {
           "bgcolor": "white",
           "lakecolor": "white",
           "landcolor": "#E5ECF6",
           "showlakes": true,
           "showland": true,
           "subunitcolor": "white"
          },
          "hoverlabel": {
           "align": "left"
          },
          "hovermode": "closest",
          "mapbox": {
           "style": "light"
          },
          "paper_bgcolor": "white",
          "plot_bgcolor": "#E5ECF6",
          "polar": {
           "angularaxis": {
            "gridcolor": "white",
            "linecolor": "white",
            "ticks": ""
           },
           "bgcolor": "#E5ECF6",
           "radialaxis": {
            "gridcolor": "white",
            "linecolor": "white",
            "ticks": ""
           }
          },
          "scene": {
           "xaxis": {
            "backgroundcolor": "#E5ECF6",
            "gridcolor": "white",
            "gridwidth": 2,
            "linecolor": "white",
            "showbackground": true,
            "ticks": "",
            "zerolinecolor": "white"
           },
           "yaxis": {
            "backgroundcolor": "#E5ECF6",
            "gridcolor": "white",
            "gridwidth": 2,
            "linecolor": "white",
            "showbackground": true,
            "ticks": "",
            "zerolinecolor": "white"
           },
           "zaxis": {
            "backgroundcolor": "#E5ECF6",
            "gridcolor": "white",
            "gridwidth": 2,
            "linecolor": "white",
            "showbackground": true,
            "ticks": "",
            "zerolinecolor": "white"
           }
          },
          "shapedefaults": {
           "line": {
            "color": "#2a3f5f"
           }
          },
          "ternary": {
           "aaxis": {
            "gridcolor": "white",
            "linecolor": "white",
            "ticks": ""
           },
           "baxis": {
            "gridcolor": "white",
            "linecolor": "white",
            "ticks": ""
           },
           "bgcolor": "#E5ECF6",
           "caxis": {
            "gridcolor": "white",
            "linecolor": "white",
            "ticks": ""
           }
          },
          "title": {
           "x": 0.05
          },
          "xaxis": {
           "automargin": true,
           "gridcolor": "white",
           "linecolor": "white",
           "ticks": "",
           "zerolinecolor": "white",
           "zerolinewidth": 2
          },
          "yaxis": {
           "automargin": true,
           "gridcolor": "white",
           "linecolor": "white",
           "ticks": "",
           "zerolinecolor": "white",
           "zerolinewidth": 2
          }
         }
        }
       },
       "_py2js_animate": {},
       "_py2js_deleteTraces": {},
       "_py2js_moveTraces": {},
       "_py2js_removeLayoutProps": {},
       "_py2js_removeTraceProps": {},
       "_py2js_restyle": {},
       "_view_count": 0
      }
     },
     "c57435e5f01e42499a1a1e9775193160": {
      "model_module": "@jupyter-widgets/controls",
      "model_module_version": "1.5.0",
      "model_name": "FloatSliderModel",
      "state": {
       "description": "gamma",
       "layout": "IPY_MODEL_1913823a0fa74848ba1f4bbcdb4625ac",
       "max": 0.0942477796076938,
       "min": -0.031415926535897934,
       "step": 0.1,
       "style": "IPY_MODEL_29d574a4505c4c478605b127f3b7e7a9",
       "value": 0.031415926535897934
      }
     },
     "c61920884de54b2f9079c147b5c72660": {
      "model_module": "@jupyter-widgets/controls",
      "model_module_version": "1.5.0",
      "model_name": "FloatSliderModel",
      "state": {
       "description": "t_by_tmax",
       "layout": "IPY_MODEL_108ba254d19f4a2fbf5d1bcfd7e213da",
       "max": 1,
       "step": 0.01,
       "style": "IPY_MODEL_2bc74d234520464f82b9657566601c48",
       "value": 0.41
      }
     },
     "c61ba600c0ae456b88fbd10a86c872f2": {
      "model_module": "@jupyter-widgets/controls",
      "model_module_version": "1.5.0",
      "model_name": "VBoxModel",
      "state": {
       "_dom_classes": [
        "widget-interact"
       ],
       "children": [
        "IPY_MODEL_bb23c014379549eca0a469e682a41f89",
        "IPY_MODEL_56e418d2ff674bbcb46dea5fbd71a8de",
        "IPY_MODEL_89651257108643cc8e5aeedcad3ad98c",
        "IPY_MODEL_8c4d508aef28449c8606af4b164c8e21",
        "IPY_MODEL_807ebe4ddc4144e4bf579dc1924a1403"
       ],
       "layout": "IPY_MODEL_5e82847a15b8493e86e0e2ddf9fe76b5"
      }
     },
     "c625ab398de3490d8a631f6587541f22": {
      "model_module": "@jupyter-widgets/controls",
      "model_module_version": "1.5.0",
      "model_name": "FloatSliderModel",
      "state": {
       "description": "alpha",
       "layout": "IPY_MODEL_b1faa4e087624785b9f998d6dac61230",
       "max": 10,
       "min": 0.5,
       "step": 0.5,
       "style": "IPY_MODEL_ea71d8996bf24642bff0afc0ff15cd06",
       "value": 2
      }
     },
     "c81da3a415fe4ad3b592ea29dd932b7d": {
      "model_module": "@jupyter-widgets/controls",
      "model_module_version": "1.5.0",
      "model_name": "SliderStyleModel",
      "state": {
       "description_width": ""
      }
     },
     "c8fa2c0c491e49fc80eba6010c6c47a3": {
      "model_module": "@jupyter-widgets/controls",
      "model_module_version": "1.5.0",
      "model_name": "SliderStyleModel",
      "state": {
       "description_width": ""
      }
     },
     "c9e80f896ba94441ae1ff5078575684b": {
      "model_module": "@jupyter-widgets/controls",
      "model_module_version": "1.5.0",
      "model_name": "VBoxModel",
      "state": {
       "_dom_classes": [
        "widget-interact"
       ],
       "children": [
        "IPY_MODEL_9b3d3c66ce544725a639e1b0cfa712c6",
        "IPY_MODEL_650fc631cbaf4790a3b5e8f7be5ef109",
        "IPY_MODEL_1c575d7afd154b6c8a7046bbdbceba1f",
        "IPY_MODEL_085739e0f0bb4bf0a919691a43306582"
       ],
       "layout": "IPY_MODEL_d3bb8de242f545ffb57da6dfa7f754eb"
      }
     },
     "c9f5e5ddb92c40559f8a8092f7b7fdcc": {
      "model_module": "@jupyter-widgets/base",
      "model_module_version": "1.2.0",
      "model_name": "LayoutModel",
      "state": {}
     },
     "ca6e0ddcb1c8475884b3d14177dc13ec": {
      "model_module": "@jupyter-widgets/controls",
      "model_module_version": "1.5.0",
      "model_name": "FloatSliderModel",
      "state": {
       "description": "a",
       "layout": "IPY_MODEL_21845b55a8ac45ff8632738efaa26d17",
       "max": 4,
       "min": 1,
       "step": 0.01,
       "style": "IPY_MODEL_84af8c7b331e41bdb4281b89b96feb87",
       "value": 3.6
      }
     },
     "cced8a35504342caa8f21eb1c0df8d16": {
      "model_module": "@jupyter-widgets/controls",
      "model_module_version": "1.5.0",
      "model_name": "SliderStyleModel",
      "state": {
       "description_width": ""
      }
     },
     "cd6f224773b04167935d86c0c376facf": {
      "model_module": "@jupyter-widgets/controls",
      "model_module_version": "1.5.0",
      "model_name": "SliderStyleModel",
      "state": {
       "description_width": ""
      }
     },
     "ce308f38af29404a94befa772f3ae24e": {
      "buffers": [
       {
        "data": "AAAAAAAAAAAIH3zwwQevPwgffPDBB78/RhdddNFFxz8IH3zwwQfPP2WTTTbZZNM/RhdddNFF1z8nm2yyySbbPwgffPDBB98/dNFFF1104T9lk0022WTjP1ZVVVVVVeU/RhdddNFF5z822WSTTTbpPyebbLLJJus/GF100UUX7T8IH3zwwQfvP3zwwQcffPA/dNFFF1108T9tsskmm2zyP2WTTTbZZPM/XXTRRRdd9D9WVVVVVVX1P0422WSTTfY/RhdddNFF9z8++OCDDz74PzbZZJNNNvk/L7rooosu+j8nm2yyySb7Px988MEHH/w/GF100UUX/T8QPvjggw/+PwgffPDBB/8/AAAAAAAAAEB88MEHH3wAQPjggw8++ABAdNFFF110AUDxwQcffPABQG2yySabbAJA6aKLLrroAkBlk0022WQDQOGDDz744ANAXXTRRRddBEDZZJNNNtkEQFZVVVVVVQVA0kUXXXTRBUBONtlkk00GQMomm2yyyQZARhdddNFFB0DCBx988MEHQD744IMPPghAuuiiiy66CEA22WSTTTYJQLPJJptssglAL7rooosuCkCrqqqqqqoKQCebbLLJJgtAo4suuuiiC0AffPDBBx8MQJtssskmmwxAGF100UUXDUCUTTbZZJMNQBA++OCDDw5AjC666KKLDkAIH3zwwQcPQIQPPvjggw9AAAAAAAAAEEA++OCDDz4QQHzwwQcffBBAuuiiiy66EED44IMPPvgQQDbZZJNNNhFAdNFFF110EUCzySabbLIRQPHBBx988BFAL7rooosuEkBtsskmm2wSQKuqqqqqqhJA6aKLLrroEkAnm2yyySYTQGWTTTbZZBNAo4suuuiiE0Dhgw8++OATQB988MEHHxRAXXTRRRddFECbbLLJJpsUQNlkk0022RRAF1100UUXFUBWVVVVVVUVQJRNNtlkkxVA0kUXXXTRFUAQPvjggw8WQE422WSTTRZAjC666KKLFkDKJptssskWQAgffPDBBxdARhdddNFFF0CEDz744IMXQMIHH3zwwRdAAAAAAAAAGEA=",
        "encoding": "base64",
        "path": [
         "_data",
         0,
         "x",
         "value"
        ]
       },
       {
        "data": "JYoBOjtR7T/n1xj+mtjpPwRk8zVBJuU/CD//dWDm3j/8mUPsLAnSPwXmfhw1RLE/EtoVX+82w7/bx5QwXxPXv0k6wPmWueG/N59xRlgS57+Y2FJMDVPrv1k4Gh8XSO6/DE1drZDN77/YsSBzAtHvv+xZR6FCUu6/8OEOGXdj67+Z84gjOSjnv5Jc6Fbl0+G/MgwvTVhO17/RD/O1ArTDv9MrdZSoR7A//Waxsm7M0T/+BUt06K7eP8OSJvZ4DuU/4CGdK+fF6T91iUnYfkTtPysKsULVX+8/ou9E11f+7z/oXeiPghjvP6Q+Fi47uew/LHNS9Ez96D8kHnwkCxLkPytEwapVZtw/0zBI1rifzj8M63oQc/iXP5U3qrz6xci/p0Zu4iev2b9obur8x+Hiv4ZKM7rKBui/d8MnDCoI7L8KFFbLR7Xuv9E5been7e+/pdodtXqi779hyxC2UNftvzISvFTvoeq/3ulCoUgp5r+GTQqXoqPgv/DTIqoIqNS/7FiMK0Q4vL9TPkLDI4a7P3tHjRidfdQ/ASUxhnyQ4D/YnYO2GhnmP0gabPN9leo/7crn5jLP7T9YVO78Ep/vPxuuTZsf7+8/2trtGo277j8xWunZ8BLsP555QzeQFeg/pcbl3Njz4j9cVhrVKdjZP792doPbHck/iJ/aPdsrlb98icLsskjOv+AUDWUpPty/4OZVKZQA5L+hvXIeSe/ov4znR5tUr+y/ZkVHbTET778Wi4Wu3P3vv7j2wOo1ZO+/5dZtLoZN7b8AtmqYJ9Ppvyjhv59RH+W/fclVSTHW3r/yofAxcvfRv7vPIcx4+rC/eLTAuHZbwz9wp/jDmSTXP8MEiyZHweE/F2JFBL4Y5z+mDfzz2lfrP90H02ISS+4/gUWBXJXO7z9qrXQxBNDvPxSAAX1NT+4/l6mB+K5e6z9WWmER2CHnP/+eqME4zOE/oONraSI91z+8RdxKf4/DP9nseEhokbC/jc/YCy3e0b+GqsHZHb/ev3gx+s9sFeW/U4tiyF/L6b8RHR7POUjtv3LWDUylYe+/Jb2a8ib+778=",
        "encoding": "base64",
        "path": [
         "_data",
         0,
         "y",
         "value"
        ]
       }
      ],
      "model_module": "plotlywidget",
      "model_module_version": "^1.0.0",
      "model_name": "FigureModel",
      "state": {
       "_config": {
        "plotlyServerURL": "https://plot.ly"
       },
       "_data": [
        {
         "line": {
          "color": "blue"
         },
         "type": "scatter",
         "uid": "b5f1e19d-9daa-4d11-8510-5317119021cd",
         "x": {
          "dtype": "float64",
          "shape": [
           100
          ],
          "value": {}
         },
         "y": {
          "dtype": "float64",
          "shape": [
           100
          ],
          "value": {}
         }
        }
       ],
       "_js2py_relayout": {},
       "_js2py_restyle": {},
       "_js2py_update": {},
       "_last_layout_edit_id": 2,
       "_last_trace_edit_id": 2,
       "_layout": {
        "template": {
         "data": {
          "bar": [
           {
            "error_x": {
             "color": "#2a3f5f"
            },
            "error_y": {
             "color": "#2a3f5f"
            },
            "marker": {
             "line": {
              "color": "#E5ECF6",
              "width": 0.5
             }
            },
            "type": "bar"
           }
          ],
          "barpolar": [
           {
            "marker": {
             "line": {
              "color": "#E5ECF6",
              "width": 0.5
             }
            },
            "type": "barpolar"
           }
          ],
          "carpet": [
           {
            "aaxis": {
             "endlinecolor": "#2a3f5f",
             "gridcolor": "white",
             "linecolor": "white",
             "minorgridcolor": "white",
             "startlinecolor": "#2a3f5f"
            },
            "baxis": {
             "endlinecolor": "#2a3f5f",
             "gridcolor": "white",
             "linecolor": "white",
             "minorgridcolor": "white",
             "startlinecolor": "#2a3f5f"
            },
            "type": "carpet"
           }
          ],
          "choropleth": [
           {
            "colorbar": {
             "outlinewidth": 0,
             "ticks": ""
            },
            "type": "choropleth"
           }
          ],
          "contour": [
           {
            "colorbar": {
             "outlinewidth": 0,
             "ticks": ""
            },
            "colorscale": [
             [
              0,
              "#0d0887"
             ],
             [
              0.1111111111111111,
              "#46039f"
             ],
             [
              0.2222222222222222,
              "#7201a8"
             ],
             [
              0.3333333333333333,
              "#9c179e"
             ],
             [
              0.4444444444444444,
              "#bd3786"
             ],
             [
              0.5555555555555556,
              "#d8576b"
             ],
             [
              0.6666666666666666,
              "#ed7953"
             ],
             [
              0.7777777777777778,
              "#fb9f3a"
             ],
             [
              0.8888888888888888,
              "#fdca26"
             ],
             [
              1,
              "#f0f921"
             ]
            ],
            "type": "contour"
           }
          ],
          "contourcarpet": [
           {
            "colorbar": {
             "outlinewidth": 0,
             "ticks": ""
            },
            "type": "contourcarpet"
           }
          ],
          "heatmap": [
           {
            "colorbar": {
             "outlinewidth": 0,
             "ticks": ""
            },
            "colorscale": [
             [
              0,
              "#0d0887"
             ],
             [
              0.1111111111111111,
              "#46039f"
             ],
             [
              0.2222222222222222,
              "#7201a8"
             ],
             [
              0.3333333333333333,
              "#9c179e"
             ],
             [
              0.4444444444444444,
              "#bd3786"
             ],
             [
              0.5555555555555556,
              "#d8576b"
             ],
             [
              0.6666666666666666,
              "#ed7953"
             ],
             [
              0.7777777777777778,
              "#fb9f3a"
             ],
             [
              0.8888888888888888,
              "#fdca26"
             ],
             [
              1,
              "#f0f921"
             ]
            ],
            "type": "heatmap"
           }
          ],
          "heatmapgl": [
           {
            "colorbar": {
             "outlinewidth": 0,
             "ticks": ""
            },
            "colorscale": [
             [
              0,
              "#0d0887"
             ],
             [
              0.1111111111111111,
              "#46039f"
             ],
             [
              0.2222222222222222,
              "#7201a8"
             ],
             [
              0.3333333333333333,
              "#9c179e"
             ],
             [
              0.4444444444444444,
              "#bd3786"
             ],
             [
              0.5555555555555556,
              "#d8576b"
             ],
             [
              0.6666666666666666,
              "#ed7953"
             ],
             [
              0.7777777777777778,
              "#fb9f3a"
             ],
             [
              0.8888888888888888,
              "#fdca26"
             ],
             [
              1,
              "#f0f921"
             ]
            ],
            "type": "heatmapgl"
           }
          ],
          "histogram": [
           {
            "marker": {
             "colorbar": {
              "outlinewidth": 0,
              "ticks": ""
             }
            },
            "type": "histogram"
           }
          ],
          "histogram2d": [
           {
            "colorbar": {
             "outlinewidth": 0,
             "ticks": ""
            },
            "colorscale": [
             [
              0,
              "#0d0887"
             ],
             [
              0.1111111111111111,
              "#46039f"
             ],
             [
              0.2222222222222222,
              "#7201a8"
             ],
             [
              0.3333333333333333,
              "#9c179e"
             ],
             [
              0.4444444444444444,
              "#bd3786"
             ],
             [
              0.5555555555555556,
              "#d8576b"
             ],
             [
              0.6666666666666666,
              "#ed7953"
             ],
             [
              0.7777777777777778,
              "#fb9f3a"
             ],
             [
              0.8888888888888888,
              "#fdca26"
             ],
             [
              1,
              "#f0f921"
             ]
            ],
            "type": "histogram2d"
           }
          ],
          "histogram2dcontour": [
           {
            "colorbar": {
             "outlinewidth": 0,
             "ticks": ""
            },
            "colorscale": [
             [
              0,
              "#0d0887"
             ],
             [
              0.1111111111111111,
              "#46039f"
             ],
             [
              0.2222222222222222,
              "#7201a8"
             ],
             [
              0.3333333333333333,
              "#9c179e"
             ],
             [
              0.4444444444444444,
              "#bd3786"
             ],
             [
              0.5555555555555556,
              "#d8576b"
             ],
             [
              0.6666666666666666,
              "#ed7953"
             ],
             [
              0.7777777777777778,
              "#fb9f3a"
             ],
             [
              0.8888888888888888,
              "#fdca26"
             ],
             [
              1,
              "#f0f921"
             ]
            ],
            "type": "histogram2dcontour"
           }
          ],
          "mesh3d": [
           {
            "colorbar": {
             "outlinewidth": 0,
             "ticks": ""
            },
            "type": "mesh3d"
           }
          ],
          "parcoords": [
           {
            "line": {
             "colorbar": {
              "outlinewidth": 0,
              "ticks": ""
             }
            },
            "type": "parcoords"
           }
          ],
          "scatter": [
           {
            "marker": {
             "colorbar": {
              "outlinewidth": 0,
              "ticks": ""
             }
            },
            "type": "scatter"
           }
          ],
          "scatter3d": [
           {
            "line": {
             "colorbar": {
              "outlinewidth": 0,
              "ticks": ""
             }
            },
            "marker": {
             "colorbar": {
              "outlinewidth": 0,
              "ticks": ""
             }
            },
            "type": "scatter3d"
           }
          ],
          "scattercarpet": [
           {
            "marker": {
             "colorbar": {
              "outlinewidth": 0,
              "ticks": ""
             }
            },
            "type": "scattercarpet"
           }
          ],
          "scattergeo": [
           {
            "marker": {
             "colorbar": {
              "outlinewidth": 0,
              "ticks": ""
             }
            },
            "type": "scattergeo"
           }
          ],
          "scattergl": [
           {
            "marker": {
             "colorbar": {
              "outlinewidth": 0,
              "ticks": ""
             }
            },
            "type": "scattergl"
           }
          ],
          "scattermapbox": [
           {
            "marker": {
             "colorbar": {
              "outlinewidth": 0,
              "ticks": ""
             }
            },
            "type": "scattermapbox"
           }
          ],
          "scatterpolar": [
           {
            "marker": {
             "colorbar": {
              "outlinewidth": 0,
              "ticks": ""
             }
            },
            "type": "scatterpolar"
           }
          ],
          "scatterpolargl": [
           {
            "marker": {
             "colorbar": {
              "outlinewidth": 0,
              "ticks": ""
             }
            },
            "type": "scatterpolargl"
           }
          ],
          "scatterternary": [
           {
            "marker": {
             "colorbar": {
              "outlinewidth": 0,
              "ticks": ""
             }
            },
            "type": "scatterternary"
           }
          ],
          "surface": [
           {
            "colorbar": {
             "outlinewidth": 0,
             "ticks": ""
            },
            "colorscale": [
             [
              0,
              "#0d0887"
             ],
             [
              0.1111111111111111,
              "#46039f"
             ],
             [
              0.2222222222222222,
              "#7201a8"
             ],
             [
              0.3333333333333333,
              "#9c179e"
             ],
             [
              0.4444444444444444,
              "#bd3786"
             ],
             [
              0.5555555555555556,
              "#d8576b"
             ],
             [
              0.6666666666666666,
              "#ed7953"
             ],
             [
              0.7777777777777778,
              "#fb9f3a"
             ],
             [
              0.8888888888888888,
              "#fdca26"
             ],
             [
              1,
              "#f0f921"
             ]
            ],
            "type": "surface"
           }
          ],
          "table": [
           {
            "cells": {
             "fill": {
              "color": "#EBF0F8"
             },
             "line": {
              "color": "white"
             }
            },
            "header": {
             "fill": {
              "color": "#C8D4E3"
             },
             "line": {
              "color": "white"
             }
            },
            "type": "table"
           }
          ]
         },
         "layout": {
          "annotationdefaults": {
           "arrowcolor": "#2a3f5f",
           "arrowhead": 0,
           "arrowwidth": 1
          },
          "colorscale": {
           "diverging": [
            [
             0,
             "#8e0152"
            ],
            [
             0.1,
             "#c51b7d"
            ],
            [
             0.2,
             "#de77ae"
            ],
            [
             0.3,
             "#f1b6da"
            ],
            [
             0.4,
             "#fde0ef"
            ],
            [
             0.5,
             "#f7f7f7"
            ],
            [
             0.6,
             "#e6f5d0"
            ],
            [
             0.7,
             "#b8e186"
            ],
            [
             0.8,
             "#7fbc41"
            ],
            [
             0.9,
             "#4d9221"
            ],
            [
             1,
             "#276419"
            ]
           ],
           "sequential": [
            [
             0,
             "#0d0887"
            ],
            [
             0.1111111111111111,
             "#46039f"
            ],
            [
             0.2222222222222222,
             "#7201a8"
            ],
            [
             0.3333333333333333,
             "#9c179e"
            ],
            [
             0.4444444444444444,
             "#bd3786"
            ],
            [
             0.5555555555555556,
             "#d8576b"
            ],
            [
             0.6666666666666666,
             "#ed7953"
            ],
            [
             0.7777777777777778,
             "#fb9f3a"
            ],
            [
             0.8888888888888888,
             "#fdca26"
            ],
            [
             1,
             "#f0f921"
            ]
           ],
           "sequentialminus": [
            [
             0,
             "#0d0887"
            ],
            [
             0.1111111111111111,
             "#46039f"
            ],
            [
             0.2222222222222222,
             "#7201a8"
            ],
            [
             0.3333333333333333,
             "#9c179e"
            ],
            [
             0.4444444444444444,
             "#bd3786"
            ],
            [
             0.5555555555555556,
             "#d8576b"
            ],
            [
             0.6666666666666666,
             "#ed7953"
            ],
            [
             0.7777777777777778,
             "#fb9f3a"
            ],
            [
             0.8888888888888888,
             "#fdca26"
            ],
            [
             1,
             "#f0f921"
            ]
           ]
          },
          "colorway": [
           "#636efa",
           "#EF553B",
           "#00cc96",
           "#ab63fa",
           "#FFA15A",
           "#19d3f3",
           "#FF6692",
           "#B6E880",
           "#FF97FF",
           "#FECB52"
          ],
          "font": {
           "color": "#2a3f5f"
          },
          "geo": {
           "bgcolor": "white",
           "lakecolor": "white",
           "landcolor": "#E5ECF6",
           "showlakes": true,
           "showland": true,
           "subunitcolor": "white"
          },
          "hoverlabel": {
           "align": "left"
          },
          "hovermode": "closest",
          "mapbox": {
           "style": "light"
          },
          "paper_bgcolor": "white",
          "plot_bgcolor": "#E5ECF6",
          "polar": {
           "angularaxis": {
            "gridcolor": "white",
            "linecolor": "white",
            "ticks": ""
           },
           "bgcolor": "#E5ECF6",
           "radialaxis": {
            "gridcolor": "white",
            "linecolor": "white",
            "ticks": ""
           }
          },
          "scene": {
           "xaxis": {
            "backgroundcolor": "#E5ECF6",
            "gridcolor": "white",
            "gridwidth": 2,
            "linecolor": "white",
            "showbackground": true,
            "ticks": "",
            "zerolinecolor": "white"
           },
           "yaxis": {
            "backgroundcolor": "#E5ECF6",
            "gridcolor": "white",
            "gridwidth": 2,
            "linecolor": "white",
            "showbackground": true,
            "ticks": "",
            "zerolinecolor": "white"
           },
           "zaxis": {
            "backgroundcolor": "#E5ECF6",
            "gridcolor": "white",
            "gridwidth": 2,
            "linecolor": "white",
            "showbackground": true,
            "ticks": "",
            "zerolinecolor": "white"
           }
          },
          "shapedefaults": {
           "line": {
            "color": "#2a3f5f"
           }
          },
          "ternary": {
           "aaxis": {
            "gridcolor": "white",
            "linecolor": "white",
            "ticks": ""
           },
           "baxis": {
            "gridcolor": "white",
            "linecolor": "white",
            "ticks": ""
           },
           "bgcolor": "#E5ECF6",
           "caxis": {
            "gridcolor": "white",
            "linecolor": "white",
            "ticks": ""
           }
          },
          "title": {
           "x": 0.05
          },
          "xaxis": {
           "automargin": true,
           "gridcolor": "white",
           "linecolor": "white",
           "ticks": "",
           "zerolinecolor": "white",
           "zerolinewidth": 2
          },
          "yaxis": {
           "automargin": true,
           "gridcolor": "white",
           "linecolor": "white",
           "ticks": "",
           "zerolinecolor": "white",
           "zerolinewidth": 2
          }
         }
        }
       },
       "_py2js_animate": {},
       "_py2js_deleteTraces": {},
       "_py2js_moveTraces": {},
       "_py2js_removeLayoutProps": {},
       "_py2js_removeTraceProps": {},
       "_py2js_restyle": {},
       "_view_count": 0
      }
     },
     "cec2c0ba07a540468cf391e437190b8f": {
      "model_module": "@jupyter-widgets/output",
      "model_module_version": "1.0.0",
      "model_name": "OutputModel",
      "state": {
       "layout": "IPY_MODEL_377d74c36b2e481da5fa09c12634a0b8",
       "outputs": [
        {
         "ename": "ZeroDivisionError",
         "evalue": "0.0 cannot be raised to a negative power",
         "output_type": "error",
         "traceback": [
          "\u001b[0;31m---------------------------------------------------------------------------\u001b[0m",
          "\u001b[0;31mZeroDivisionError\u001b[0m                         Traceback (most recent call last)",
          "\u001b[0;32m~/.virtualenvs/ScratchPad/lib/python3.7/site-packages/ipywidgets/widgets/interaction.py\u001b[0m in \u001b[0;36mupdate\u001b[0;34m(self, *args)\u001b[0m\n\u001b[1;32m    254\u001b[0m                     \u001b[0mvalue\u001b[0m \u001b[0;34m=\u001b[0m \u001b[0mwidget\u001b[0m\u001b[0;34m.\u001b[0m\u001b[0mget_interact_value\u001b[0m\u001b[0;34m(\u001b[0m\u001b[0;34m)\u001b[0m\u001b[0;34m\u001b[0m\u001b[0;34m\u001b[0m\u001b[0m\n\u001b[1;32m    255\u001b[0m                     \u001b[0mself\u001b[0m\u001b[0;34m.\u001b[0m\u001b[0mkwargs\u001b[0m\u001b[0;34m[\u001b[0m\u001b[0mwidget\u001b[0m\u001b[0;34m.\u001b[0m\u001b[0m_kwarg\u001b[0m\u001b[0;34m]\u001b[0m \u001b[0;34m=\u001b[0m \u001b[0mvalue\u001b[0m\u001b[0;34m\u001b[0m\u001b[0;34m\u001b[0m\u001b[0m\n\u001b[0;32m--> 256\u001b[0;31m                 \u001b[0mself\u001b[0m\u001b[0;34m.\u001b[0m\u001b[0mresult\u001b[0m \u001b[0;34m=\u001b[0m \u001b[0mself\u001b[0m\u001b[0;34m.\u001b[0m\u001b[0mf\u001b[0m\u001b[0;34m(\u001b[0m\u001b[0;34m**\u001b[0m\u001b[0mself\u001b[0m\u001b[0;34m.\u001b[0m\u001b[0mkwargs\u001b[0m\u001b[0;34m)\u001b[0m\u001b[0;34m\u001b[0m\u001b[0;34m\u001b[0m\u001b[0m\n\u001b[0m\u001b[1;32m    257\u001b[0m                 \u001b[0mshow_inline_matplotlib_plots\u001b[0m\u001b[0;34m(\u001b[0m\u001b[0;34m)\u001b[0m\u001b[0;34m\u001b[0m\u001b[0;34m\u001b[0m\u001b[0m\n\u001b[1;32m    258\u001b[0m                 \u001b[0;32mif\u001b[0m \u001b[0mself\u001b[0m\u001b[0;34m.\u001b[0m\u001b[0mauto_display\u001b[0m \u001b[0;32mand\u001b[0m \u001b[0mself\u001b[0m\u001b[0;34m.\u001b[0m\u001b[0mresult\u001b[0m \u001b[0;32mis\u001b[0m \u001b[0;32mnot\u001b[0m \u001b[0;32mNone\u001b[0m\u001b[0;34m:\u001b[0m\u001b[0;34m\u001b[0m\u001b[0;34m\u001b[0m\u001b[0m\n",
          "\u001b[0;32m<ipython-input-88-1bb17b4830e2>\u001b[0m in \u001b[0;36mon_change\u001b[0;34m(t_by_tmax, alpha, gamma, phi)\u001b[0m\n\u001b[1;32m     14\u001b[0m \u001b[0;34m\u001b[0m\u001b[0m\n\u001b[1;32m     15\u001b[0m \u001b[0;32mdef\u001b[0m \u001b[0mon_change\u001b[0m\u001b[0;34m(\u001b[0m\u001b[0mt_by_tmax\u001b[0m\u001b[0;34m=\u001b[0m\u001b[0;36m1\u001b[0m\u001b[0;34m/\u001b[0m\u001b[0;36m1000\u001b[0m\u001b[0;34m,\u001b[0m \u001b[0malpha\u001b[0m\u001b[0;34m=\u001b[0m\u001b[0;36m2\u001b[0m\u001b[0;34m,\u001b[0m \u001b[0mgamma\u001b[0m\u001b[0;34m=\u001b[0m\u001b[0mnp\u001b[0m\u001b[0;34m.\u001b[0m\u001b[0mpi\u001b[0m\u001b[0;34m/\u001b[0m\u001b[0;36m100\u001b[0m\u001b[0;34m,\u001b[0m \u001b[0mphi\u001b[0m\u001b[0;34m=\u001b[0m\u001b[0mnp\u001b[0m\u001b[0;34m.\u001b[0m\u001b[0mpi\u001b[0m\u001b[0;34m/\u001b[0m\u001b[0;36m4\u001b[0m\u001b[0;34m)\u001b[0m\u001b[0;34m:\u001b[0m\u001b[0;34m\u001b[0m\u001b[0;34m\u001b[0m\u001b[0m\n\u001b[0;32m---> 16\u001b[0;31m     \u001b[0mx\u001b[0m\u001b[0;34m,\u001b[0m \u001b[0my\u001b[0m \u001b[0;34m=\u001b[0m \u001b[0mlocus\u001b[0m\u001b[0;34m(\u001b[0m\u001b[0mt_by_tmax\u001b[0m\u001b[0;34m,\u001b[0m \u001b[0malpha\u001b[0m\u001b[0;34m,\u001b[0m \u001b[0mgamma\u001b[0m\u001b[0;34m,\u001b[0m \u001b[0mphi\u001b[0m\u001b[0;34m)\u001b[0m\u001b[0;34m\u001b[0m\u001b[0;34m\u001b[0m\u001b[0m\n\u001b[0m\u001b[1;32m     17\u001b[0m     \u001b[0mline\u001b[0m\u001b[0;34m.\u001b[0m\u001b[0mset_xdata\u001b[0m\u001b[0;34m(\u001b[0m\u001b[0mx\u001b[0m\u001b[0;34m)\u001b[0m\u001b[0;34m\u001b[0m\u001b[0;34m\u001b[0m\u001b[0m\n\u001b[1;32m     18\u001b[0m     \u001b[0mline\u001b[0m\u001b[0;34m.\u001b[0m\u001b[0mset_ydata\u001b[0m\u001b[0;34m(\u001b[0m\u001b[0my\u001b[0m\u001b[0;34m)\u001b[0m\u001b[0;34m\u001b[0m\u001b[0;34m\u001b[0m\u001b[0m\n",
          "\u001b[0;32m<ipython-input-48-5abb34b951ac>\u001b[0m in \u001b[0;36mlocus\u001b[0;34m(t_by_tmax, alpha, gamma, phi)\u001b[0m\n\u001b[1;32m      4\u001b[0m     \u001b[0md\u001b[0m \u001b[0;34m=\u001b[0m \u001b[0;32mlambda\u001b[0m \u001b[0mangle\u001b[0m \u001b[0;34m:\u001b[0m \u001b[0;36m1\u001b[0m\u001b[0;34m/\u001b[0m\u001b[0;34m(\u001b[0m\u001b[0;36m1\u001b[0m \u001b[0;34m+\u001b[0m \u001b[0mpenalty\u001b[0m\u001b[0;34m(\u001b[0m\u001b[0mtheta_RVEA\u001b[0m\u001b[0;34m(\u001b[0m\u001b[0mangle\u001b[0m\u001b[0;34m)\u001b[0m\u001b[0;34m)\u001b[0m\u001b[0;34m)\u001b[0m\u001b[0;34m\u001b[0m\u001b[0;34m\u001b[0m\u001b[0m\n\u001b[1;32m      5\u001b[0m     \u001b[0mtheta\u001b[0m \u001b[0;34m=\u001b[0m \u001b[0mnp\u001b[0m\u001b[0;34m.\u001b[0m\u001b[0mlinspace\u001b[0m\u001b[0;34m(\u001b[0m\u001b[0;36m0\u001b[0m\u001b[0;34m,\u001b[0m \u001b[0mnp\u001b[0m\u001b[0;34m.\u001b[0m\u001b[0mpi\u001b[0m\u001b[0;34m/\u001b[0m\u001b[0;36m2\u001b[0m\u001b[0;34m,\u001b[0m\u001b[0;36m100\u001b[0m\u001b[0;34m)\u001b[0m\u001b[0;34m\u001b[0m\u001b[0;34m\u001b[0m\u001b[0m\n\u001b[0;32m----> 6\u001b[0;31m     \u001b[0mr\u001b[0m \u001b[0;34m=\u001b[0m \u001b[0md\u001b[0m\u001b[0;34m(\u001b[0m\u001b[0mtheta\u001b[0m\u001b[0;34m)\u001b[0m\u001b[0;34m\u001b[0m\u001b[0;34m\u001b[0m\u001b[0m\n\u001b[0m\u001b[1;32m      7\u001b[0m     \u001b[0mx\u001b[0m \u001b[0;34m=\u001b[0m \u001b[0mr\u001b[0m \u001b[0;34m*\u001b[0m \u001b[0mnp\u001b[0m\u001b[0;34m.\u001b[0m\u001b[0mcos\u001b[0m\u001b[0;34m(\u001b[0m\u001b[0mtheta\u001b[0m\u001b[0;34m)\u001b[0m\u001b[0;34m\u001b[0m\u001b[0;34m\u001b[0m\u001b[0m\n\u001b[1;32m      8\u001b[0m     \u001b[0my\u001b[0m \u001b[0;34m=\u001b[0m \u001b[0mr\u001b[0m \u001b[0;34m*\u001b[0m \u001b[0mnp\u001b[0m\u001b[0;34m.\u001b[0m\u001b[0msin\u001b[0m\u001b[0;34m(\u001b[0m\u001b[0mtheta\u001b[0m\u001b[0;34m)\u001b[0m\u001b[0;34m\u001b[0m\u001b[0;34m\u001b[0m\u001b[0m\n",
          "\u001b[0;32m<ipython-input-48-5abb34b951ac>\u001b[0m in \u001b[0;36m<lambda>\u001b[0;34m(angle)\u001b[0m\n\u001b[1;32m      2\u001b[0m     \u001b[0mtheta_RVEA\u001b[0m \u001b[0;34m=\u001b[0m \u001b[0;32mlambda\u001b[0m \u001b[0mangle\u001b[0m \u001b[0;34m:\u001b[0m \u001b[0mabs\u001b[0m\u001b[0;34m(\u001b[0m\u001b[0mangle\u001b[0m \u001b[0;34m-\u001b[0m \u001b[0mphi\u001b[0m\u001b[0;34m)\u001b[0m\u001b[0;34m\u001b[0m\u001b[0;34m\u001b[0m\u001b[0m\n\u001b[1;32m      3\u001b[0m     \u001b[0mpenalty\u001b[0m \u001b[0;34m=\u001b[0m \u001b[0;32mlambda\u001b[0m \u001b[0mangle\u001b[0m \u001b[0;34m:\u001b[0m \u001b[0mM\u001b[0m \u001b[0;34m*\u001b[0m \u001b[0;34m(\u001b[0m\u001b[0mt_by_tmax\u001b[0m \u001b[0;34m**\u001b[0m \u001b[0malpha\u001b[0m\u001b[0;34m)\u001b[0m \u001b[0;34m*\u001b[0m \u001b[0;34m(\u001b[0m\u001b[0mangle\u001b[0m\u001b[0;34m/\u001b[0m\u001b[0mgamma\u001b[0m\u001b[0;34m)\u001b[0m\u001b[0;34m\u001b[0m\u001b[0;34m\u001b[0m\u001b[0m\n\u001b[0;32m----> 4\u001b[0;31m     \u001b[0md\u001b[0m \u001b[0;34m=\u001b[0m \u001b[0;32mlambda\u001b[0m \u001b[0mangle\u001b[0m \u001b[0;34m:\u001b[0m \u001b[0;36m1\u001b[0m\u001b[0;34m/\u001b[0m\u001b[0;34m(\u001b[0m\u001b[0;36m1\u001b[0m \u001b[0;34m+\u001b[0m \u001b[0mpenalty\u001b[0m\u001b[0;34m(\u001b[0m\u001b[0mtheta_RVEA\u001b[0m\u001b[0;34m(\u001b[0m\u001b[0mangle\u001b[0m\u001b[0;34m)\u001b[0m\u001b[0;34m)\u001b[0m\u001b[0;34m)\u001b[0m\u001b[0;34m\u001b[0m\u001b[0;34m\u001b[0m\u001b[0m\n\u001b[0m\u001b[1;32m      5\u001b[0m     \u001b[0mtheta\u001b[0m \u001b[0;34m=\u001b[0m \u001b[0mnp\u001b[0m\u001b[0;34m.\u001b[0m\u001b[0mlinspace\u001b[0m\u001b[0;34m(\u001b[0m\u001b[0;36m0\u001b[0m\u001b[0;34m,\u001b[0m \u001b[0mnp\u001b[0m\u001b[0;34m.\u001b[0m\u001b[0mpi\u001b[0m\u001b[0;34m/\u001b[0m\u001b[0;36m2\u001b[0m\u001b[0;34m,\u001b[0m\u001b[0;36m100\u001b[0m\u001b[0;34m)\u001b[0m\u001b[0;34m\u001b[0m\u001b[0;34m\u001b[0m\u001b[0m\n\u001b[1;32m      6\u001b[0m     \u001b[0mr\u001b[0m \u001b[0;34m=\u001b[0m \u001b[0md\u001b[0m\u001b[0;34m(\u001b[0m\u001b[0mtheta\u001b[0m\u001b[0;34m)\u001b[0m\u001b[0;34m\u001b[0m\u001b[0;34m\u001b[0m\u001b[0m\n",
          "\u001b[0;32m<ipython-input-48-5abb34b951ac>\u001b[0m in \u001b[0;36m<lambda>\u001b[0;34m(angle)\u001b[0m\n\u001b[1;32m      1\u001b[0m \u001b[0;32mdef\u001b[0m \u001b[0mlocus\u001b[0m\u001b[0;34m(\u001b[0m\u001b[0mt_by_tmax\u001b[0m\u001b[0;34m=\u001b[0m\u001b[0;36m1\u001b[0m\u001b[0;34m/\u001b[0m\u001b[0;36m1000\u001b[0m\u001b[0;34m,\u001b[0m \u001b[0malpha\u001b[0m\u001b[0;34m=\u001b[0m\u001b[0;36m2\u001b[0m\u001b[0;34m,\u001b[0m \u001b[0mgamma\u001b[0m\u001b[0;34m=\u001b[0m\u001b[0mnp\u001b[0m\u001b[0;34m.\u001b[0m\u001b[0mpi\u001b[0m\u001b[0;34m/\u001b[0m\u001b[0;36m100\u001b[0m\u001b[0;34m,\u001b[0m \u001b[0mphi\u001b[0m\u001b[0;34m=\u001b[0m\u001b[0mnp\u001b[0m\u001b[0;34m.\u001b[0m\u001b[0mpi\u001b[0m\u001b[0;34m/\u001b[0m\u001b[0;36m4\u001b[0m\u001b[0;34m)\u001b[0m\u001b[0;34m:\u001b[0m\u001b[0;34m\u001b[0m\u001b[0;34m\u001b[0m\u001b[0m\n\u001b[1;32m      2\u001b[0m     \u001b[0mtheta_RVEA\u001b[0m \u001b[0;34m=\u001b[0m \u001b[0;32mlambda\u001b[0m \u001b[0mangle\u001b[0m \u001b[0;34m:\u001b[0m \u001b[0mabs\u001b[0m\u001b[0;34m(\u001b[0m\u001b[0mangle\u001b[0m \u001b[0;34m-\u001b[0m \u001b[0mphi\u001b[0m\u001b[0;34m)\u001b[0m\u001b[0;34m\u001b[0m\u001b[0;34m\u001b[0m\u001b[0m\n\u001b[0;32m----> 3\u001b[0;31m     \u001b[0mpenalty\u001b[0m \u001b[0;34m=\u001b[0m \u001b[0;32mlambda\u001b[0m \u001b[0mangle\u001b[0m \u001b[0;34m:\u001b[0m \u001b[0mM\u001b[0m \u001b[0;34m*\u001b[0m \u001b[0;34m(\u001b[0m\u001b[0mt_by_tmax\u001b[0m \u001b[0;34m**\u001b[0m \u001b[0malpha\u001b[0m\u001b[0;34m)\u001b[0m \u001b[0;34m*\u001b[0m \u001b[0;34m(\u001b[0m\u001b[0mangle\u001b[0m\u001b[0;34m/\u001b[0m\u001b[0mgamma\u001b[0m\u001b[0;34m)\u001b[0m\u001b[0;34m\u001b[0m\u001b[0;34m\u001b[0m\u001b[0m\n\u001b[0m\u001b[1;32m      4\u001b[0m     \u001b[0md\u001b[0m \u001b[0;34m=\u001b[0m \u001b[0;32mlambda\u001b[0m \u001b[0mangle\u001b[0m \u001b[0;34m:\u001b[0m \u001b[0;36m1\u001b[0m\u001b[0;34m/\u001b[0m\u001b[0;34m(\u001b[0m\u001b[0;36m1\u001b[0m \u001b[0;34m+\u001b[0m \u001b[0mpenalty\u001b[0m\u001b[0;34m(\u001b[0m\u001b[0mtheta_RVEA\u001b[0m\u001b[0;34m(\u001b[0m\u001b[0mangle\u001b[0m\u001b[0;34m)\u001b[0m\u001b[0;34m)\u001b[0m\u001b[0;34m)\u001b[0m\u001b[0;34m\u001b[0m\u001b[0;34m\u001b[0m\u001b[0m\n\u001b[1;32m      5\u001b[0m     \u001b[0mtheta\u001b[0m \u001b[0;34m=\u001b[0m \u001b[0mnp\u001b[0m\u001b[0;34m.\u001b[0m\u001b[0mlinspace\u001b[0m\u001b[0;34m(\u001b[0m\u001b[0;36m0\u001b[0m\u001b[0;34m,\u001b[0m \u001b[0mnp\u001b[0m\u001b[0;34m.\u001b[0m\u001b[0mpi\u001b[0m\u001b[0;34m/\u001b[0m\u001b[0;36m2\u001b[0m\u001b[0;34m,\u001b[0m\u001b[0;36m100\u001b[0m\u001b[0;34m)\u001b[0m\u001b[0;34m\u001b[0m\u001b[0;34m\u001b[0m\u001b[0m\n",
          "\u001b[0;31mZeroDivisionError\u001b[0m: 0.0 cannot be raised to a negative power"
         ]
        }
       ]
      }
     },
     "cee40ad4eda149e3bcc8a6b19b23921f": {
      "model_module": "@jupyter-widgets/controls",
      "model_module_version": "1.5.0",
      "model_name": "FloatSliderModel",
      "state": {
       "description": "phi",
       "layout": "IPY_MODEL_3fd97b5af9d949868680de91e5c10d99",
       "max": 2.356194490192345,
       "min": -0.7853981633974483,
       "step": 0.1,
       "style": "IPY_MODEL_5b4894cade474fb3b580e91b28285a6a",
       "value": 0.7853981633974483
      }
     },
     "cf3d685087ed454abf4648d9bdfc4602": {
      "model_module": "@jupyter-widgets/base",
      "model_module_version": "1.2.0",
      "model_name": "LayoutModel",
      "state": {}
     },
     "cfed336fcff04fe497767e828766000f": {
      "model_module": "@jupyter-widgets/base",
      "model_module_version": "1.2.0",
      "model_name": "LayoutModel",
      "state": {}
     },
     "cfed7a949c72475996e32810b85fa96b": {
      "model_module": "@jupyter-widgets/controls",
      "model_module_version": "1.5.0",
      "model_name": "FloatSliderModel",
      "state": {
       "layout": "IPY_MODEL_3bbba3000366409783f410255460b67b",
       "max": 0.3141592653589793,
       "min": 0.031415926535897934,
       "step": 0.031415926535897934,
       "style": "IPY_MODEL_889f8982bdf34a94983baa72a28c6351",
       "value": 0.031415926535897934
      }
     },
     "d02c67a8807e496b83498b63707f8008": {
      "model_module": "@jupyter-widgets/controls",
      "model_module_version": "1.5.0",
      "model_name": "SliderStyleModel",
      "state": {
       "description_width": ""
      }
     },
     "d08aa6ddae014493b4611fcbfb8b7c2e": {
      "model_module": "@jupyter-widgets/controls",
      "model_module_version": "1.5.0",
      "model_name": "FloatSliderModel",
      "state": {
       "description": "t_by_tmax",
       "layout": "IPY_MODEL_4dc8fbca6297430ba908cd03c94b293f",
       "max": 1,
       "step": 0.01,
       "style": "IPY_MODEL_cd6f224773b04167935d86c0c376facf"
      }
     },
     "d1f5e5263ac442a69ac7654d32974cef": {
      "model_module": "@jupyter-widgets/base",
      "model_module_version": "1.2.0",
      "model_name": "LayoutModel",
      "state": {}
     },
     "d339a942115c429e80eff6d9a2d7e934": {
      "model_module": "@jupyter-widgets/controls",
      "model_module_version": "1.5.0",
      "model_name": "SliderStyleModel",
      "state": {
       "description_width": ""
      }
     },
     "d3614ca066094504ad7e9e80d597d422": {
      "model_module": "@jupyter-widgets/controls",
      "model_module_version": "1.5.0",
      "model_name": "FloatSliderModel",
      "state": {
       "layout": "IPY_MODEL_8849abdb49de4d4ca1503105225dfeea",
       "max": 0.3141592653589793,
       "min": 0.031415926535897934,
       "step": 0.031415926535897934,
       "style": "IPY_MODEL_f2b175ffbf4c4887b433b339c9ec34ad",
       "value": 0.031415926535897934
      }
     },
     "d3bb8de242f545ffb57da6dfa7f754eb": {
      "model_module": "@jupyter-widgets/base",
      "model_module_version": "1.2.0",
      "model_name": "LayoutModel",
      "state": {}
     },
     "d3f74ec283544ec6b0b7d151834803ea": {
      "model_module": "@jupyter-widgets/controls",
      "model_module_version": "1.5.0",
      "model_name": "SliderStyleModel",
      "state": {
       "description_width": ""
      }
     },
     "d408726d9d5e4a90a8627e9aeab7276b": {
      "model_module": "@jupyter-widgets/controls",
      "model_module_version": "1.5.0",
      "model_name": "FloatSliderModel",
      "state": {
       "description": "gamma",
       "layout": "IPY_MODEL_48a04ae53c424e909ba4846574b62939",
       "max": 0.0942477796076938,
       "min": -0.031415926535897934,
       "step": 0.1,
       "style": "IPY_MODEL_0c6f04c141f0406a802f70f337ffdbd9",
       "value": -0.031415926535897934
      }
     },
     "d4675c8785e6496ca4d462a7e265db60": {
      "model_module": "@jupyter-widgets/base",
      "model_module_version": "1.2.0",
      "model_name": "LayoutModel",
      "state": {}
     },
     "d54a74f921a840398d6186721ce95b5e": {
      "model_module": "@jupyter-widgets/controls",
      "model_module_version": "1.5.0",
      "model_name": "SliderStyleModel",
      "state": {
       "description_width": ""
      }
     },
     "d56c6d684df74b8392bc36fbe292d538": {
      "model_module": "@jupyter-widgets/controls",
      "model_module_version": "1.5.0",
      "model_name": "FloatSliderModel",
      "state": {
       "layout": "IPY_MODEL_b969a0553a324909a72a2e902490a4e9",
       "max": 10,
       "min": 0.5,
       "step": 0.5,
       "style": "IPY_MODEL_ff42c48974da49ee9fea9415a567528d",
       "value": 2
      }
     },
     "d5b780265a7d4b818582baeeda81dc80": {
      "model_module": "@jupyter-widgets/controls",
      "model_module_version": "1.5.0",
      "model_name": "SliderStyleModel",
      "state": {
       "description_width": ""
      }
     },
     "d5e11b6f887a481fb75f937b00e15f70": {
      "model_module": "@jupyter-widgets/controls",
      "model_module_version": "1.5.0",
      "model_name": "DescriptionStyleModel",
      "state": {
       "description_width": ""
      }
     },
     "d68286a83a3847b28e092c080062f8d8": {
      "model_module": "@jupyter-widgets/controls",
      "model_module_version": "1.5.0",
      "model_name": "SliderStyleModel",
      "state": {
       "description_width": ""
      }
     },
     "d92efcfcae07422cbffe0eb694c2435a": {
      "model_module": "@jupyter-widgets/base",
      "model_module_version": "1.2.0",
      "model_name": "LayoutModel",
      "state": {}
     },
     "da784114fe3147bc861b06f909fe7e36": {
      "model_module": "@jupyter-widgets/controls",
      "model_module_version": "1.5.0",
      "model_name": "IntSliderModel",
      "state": {
       "description": "alpha",
       "layout": "IPY_MODEL_92b6442eca1648008eb5e7128b51ea13",
       "max": 6,
       "min": -2,
       "style": "IPY_MODEL_8b84bacf7d9a4686995398a7d9674ae3",
       "value": 2
      }
     },
     "dabf37f0153442ac9f6b30876dbd8403": {
      "model_module": "@jupyter-widgets/base",
      "model_module_version": "1.2.0",
      "model_name": "LayoutModel",
      "state": {}
     },
     "dbefc3976c0a4dad90802805b67c940c": {
      "model_module": "@jupyter-widgets/controls",
      "model_module_version": "1.5.0",
      "model_name": "FloatSliderModel",
      "state": {
       "description": "b",
       "layout": "IPY_MODEL_6ee8e935d02f4aadb6bffa8122a784ad",
       "max": 10,
       "step": 0.01,
       "style": "IPY_MODEL_981f5898792d4a6a8e2df00df09f0c52",
       "value": 4.3
      }
     },
     "dd3adfedc705457b942e9501c78504e5": {
      "model_module": "@jupyter-widgets/controls",
      "model_module_version": "1.5.0",
      "model_name": "SliderStyleModel",
      "state": {
       "description_width": ""
      }
     },
     "dd99eefcd83a4f5d850288e8800fdbe6": {
      "model_module": "@jupyter-widgets/controls",
      "model_module_version": "1.5.0",
      "model_name": "SliderStyleModel",
      "state": {
       "description_width": ""
      }
     },
     "df1f2ee423d54fdfbe41d71b702ecf2c": {
      "model_module": "@jupyter-widgets/controls",
      "model_module_version": "1.5.0",
      "model_name": "FloatSliderModel",
      "state": {
       "description": "t_by_tmax",
       "layout": "IPY_MODEL_6de49c0597c54b1f9b992f6b044dcd5b",
       "max": 1,
       "step": 0.01,
       "style": "IPY_MODEL_958b2b3d68f9475fa4938c17dd35a755",
       "value": 0.11
      }
     },
     "e08788cb893e4f52b8e2b8a32821d2f2": {
      "model_module": "@jupyter-widgets/controls",
      "model_module_version": "1.5.0",
      "model_name": "FloatSliderModel",
      "state": {
       "description": "gamma",
       "layout": "IPY_MODEL_5f19b52da9124065813a1775cc20110e",
       "max": 0.0942477796076938,
       "min": -0.031415926535897934,
       "step": 0.1,
       "style": "IPY_MODEL_950292325fc64c51838ed1724d113919",
       "value": 0.031415926535897934
      }
     },
     "e117d66291734877b9d8cebee0fcdc53": {
      "model_module": "@jupyter-widgets/base",
      "model_module_version": "1.2.0",
      "model_name": "LayoutModel",
      "state": {}
     },
     "e158f2eaefbb49949df5ea78ebce1711": {
      "model_module": "@jupyter-widgets/controls",
      "model_module_version": "1.5.0",
      "model_name": "SliderStyleModel",
      "state": {
       "description_width": ""
      }
     },
     "e1aa1eeaa8ee446885133c950bd835a1": {
      "model_module": "@jupyter-widgets/controls",
      "model_module_version": "1.5.0",
      "model_name": "SliderStyleModel",
      "state": {
       "description_width": ""
      }
     },
     "e2ae70bd65c94c48b11b19fa6b96e68b": {
      "model_module": "@jupyter-widgets/controls",
      "model_module_version": "1.5.0",
      "model_name": "SliderStyleModel",
      "state": {
       "description_width": ""
      }
     },
     "e2ea1f04ae1c44419f6361adcf9c1174": {
      "model_module": "@jupyter-widgets/base",
      "model_module_version": "1.2.0",
      "model_name": "LayoutModel",
      "state": {}
     },
     "e2ef742c95e04397931333c804ac371c": {
      "model_module": "@jupyter-widgets/controls",
      "model_module_version": "1.5.0",
      "model_name": "FloatSliderModel",
      "state": {
       "description": "alpha",
       "layout": "IPY_MODEL_32021cc15a83435ca82f9a2599d93f63",
       "max": 10,
       "min": 0.5,
       "step": 0.5,
       "style": "IPY_MODEL_844eb4d4837b453ba2bdf61655a5a7c0",
       "value": 2
      }
     },
     "e385ea38957f4303bbb5a55f874382e4": {
      "model_module": "@jupyter-widgets/controls",
      "model_module_version": "1.5.0",
      "model_name": "SliderStyleModel",
      "state": {
       "description_width": ""
      }
     },
     "e3efd0f649de40d2b87ea788ea0ca95f": {
      "model_module": "@jupyter-widgets/base",
      "model_module_version": "1.2.0",
      "model_name": "LayoutModel",
      "state": {}
     },
     "e410217a1af24d0fb99c8b0a4fbfde04": {
      "model_module": "@jupyter-widgets/base",
      "model_module_version": "1.2.0",
      "model_name": "LayoutModel",
      "state": {}
     },
     "e42232b816c54fadbb11b4dc377bc8ae": {
      "model_module": "@jupyter-widgets/base",
      "model_module_version": "1.2.0",
      "model_name": "LayoutModel",
      "state": {}
     },
     "e5310069eb7a46e38882fb67d39dcf28": {
      "model_module": "@jupyter-widgets/controls",
      "model_module_version": "1.5.0",
      "model_name": "SliderStyleModel",
      "state": {
       "description_width": ""
      }
     },
     "e5569a6396744e81acf5d4240b8cc5dd": {
      "model_module": "@jupyter-widgets/base",
      "model_module_version": "1.2.0",
      "model_name": "LayoutModel",
      "state": {}
     },
     "e595062edc3b47b7b096f6576caccaf9": {
      "model_module": "@jupyter-widgets/base",
      "model_module_version": "1.2.0",
      "model_name": "LayoutModel",
      "state": {}
     },
     "e6300c2d168840ee85f7c9015056e921": {
      "model_module": "@jupyter-widgets/base",
      "model_module_version": "1.2.0",
      "model_name": "LayoutModel",
      "state": {}
     },
     "e6b40a08843f4061b9616cf50c06671a": {
      "model_module": "@jupyter-widgets/controls",
      "model_module_version": "1.5.0",
      "model_name": "FloatSliderModel",
      "state": {
       "layout": "IPY_MODEL_01e3353424614a0492e92c54a46d673b",
       "max": 0.3141592653589793,
       "min": 0.031415926535897934,
       "step": 0.031415926535897934,
       "style": "IPY_MODEL_a91727e166e44ab6aaf48de708a3385b",
       "value": 0.031415926535897934
      }
     },
     "e7ade3f1a6ac4c91b90c26bb096ccbfc": {
      "model_module": "@jupyter-widgets/controls",
      "model_module_version": "1.5.0",
      "model_name": "SliderStyleModel",
      "state": {
       "description_width": ""
      }
     },
     "e81affbc115b4b12968a543667924feb": {
      "model_module": "@jupyter-widgets/base",
      "model_module_version": "1.2.0",
      "model_name": "LayoutModel",
      "state": {}
     },
     "e8e772d352d3483589addba557000e52": {
      "model_module": "@jupyter-widgets/controls",
      "model_module_version": "1.5.0",
      "model_name": "SliderStyleModel",
      "state": {
       "description_width": ""
      }
     },
     "e9072faf72064319a1455cc9213b8917": {
      "model_module": "@jupyter-widgets/controls",
      "model_module_version": "1.5.0",
      "model_name": "FloatSliderModel",
      "state": {
       "description": "phi",
       "layout": "IPY_MODEL_d4675c8785e6496ca4d462a7e265db60",
       "max": 1.5707963267948966,
       "step": 0.15707963267948966,
       "style": "IPY_MODEL_d02c67a8807e496b83498b63707f8008",
       "value": 0.7853981633974483
      }
     },
     "e95808757f4b462085cc985fd7073109": {
      "model_module": "@jupyter-widgets/controls",
      "model_module_version": "1.5.0",
      "model_name": "FloatSliderModel",
      "state": {
       "description": "t_by_tmax",
       "layout": "IPY_MODEL_6a380f7bc5da435c8d428e91a6b39bbc",
       "max": 0.003,
       "min": -0.001,
       "step": 0.1,
       "style": "IPY_MODEL_3fa862077a104a83bbd5652f44e652b3",
       "value": -0.001
      }
     },
     "ea2e3f9be25444359ac628ba86613240": {
      "model_module": "@jupyter-widgets/base",
      "model_module_version": "1.2.0",
      "model_name": "LayoutModel",
      "state": {}
     },
     "ea3349d7033a4a9d9aeac95abd1b3570": {
      "model_module": "@jupyter-widgets/controls",
      "model_module_version": "1.5.0",
      "model_name": "FloatSliderModel",
      "state": {
       "description": "alpha",
       "layout": "IPY_MODEL_37b9acde34804e3696adc881f0cc15ee",
       "max": 10,
       "min": 0.5,
       "step": 0.5,
       "style": "IPY_MODEL_f7e1c2f8f435429aaa1a23691df8a398",
       "value": 2
      }
     },
     "ea71d8996bf24642bff0afc0ff15cd06": {
      "model_module": "@jupyter-widgets/controls",
      "model_module_version": "1.5.0",
      "model_name": "SliderStyleModel",
      "state": {
       "description_width": ""
      }
     },
     "eba702d8ff184089a3eae4e3c4e0abbb": {
      "model_module": "@jupyter-widgets/controls",
      "model_module_version": "1.5.0",
      "model_name": "FloatSliderModel",
      "state": {
       "description": "t_by_tmax",
       "layout": "IPY_MODEL_c9f5e5ddb92c40559f8a8092f7b7fdcc",
       "max": 0.003,
       "min": -0.001,
       "step": 0.1,
       "style": "IPY_MODEL_6926bfe1235640dda5b58d86d5621764",
       "value": -0.001
      }
     },
     "ebecaf60ad2b4a3ba30ae63d23a68d8b": {
      "model_module": "@jupyter-widgets/base",
      "model_module_version": "1.2.0",
      "model_name": "LayoutModel",
      "state": {}
     },
     "ec495f492f8b490cb2da0da01b39d4d3": {
      "model_module": "@jupyter-widgets/base",
      "model_module_version": "1.2.0",
      "model_name": "LayoutModel",
      "state": {}
     },
     "ecac6dd94bbb407bb07d6bde3521aa6a": {
      "model_module": "@jupyter-widgets/base",
      "model_module_version": "1.2.0",
      "model_name": "LayoutModel",
      "state": {}
     },
     "ecd8f05ba82241e5b1c9e2df9622470c": {
      "model_module": "@jupyter-widgets/base",
      "model_module_version": "1.2.0",
      "model_name": "LayoutModel",
      "state": {}
     },
     "ed432ebd9a54425297f6932ac7de2fee": {
      "model_module": "@jupyter-widgets/output",
      "model_module_version": "1.0.0",
      "model_name": "OutputModel",
      "state": {
       "layout": "IPY_MODEL_4e5bb7dfbf3d4eefa00b5ceeddd91f33"
      }
     },
     "ed44f44417b647308c2502ff7a2f602e": {
      "model_module": "@jupyter-widgets/output",
      "model_module_version": "1.0.0",
      "model_name": "OutputModel",
      "state": {
       "layout": "IPY_MODEL_728bd0a8f23d422a8eb668138cc55fe3"
      }
     },
     "ee06260ad4b74dd49cad1790ece91824": {
      "model_module": "@jupyter-widgets/controls",
      "model_module_version": "1.5.0",
      "model_name": "IntSliderModel",
      "state": {
       "description": "alpha",
       "layout": "IPY_MODEL_87be5f61034c4cf9914afbe99abfecb7",
       "max": 6,
       "min": -2,
       "style": "IPY_MODEL_d3f74ec283544ec6b0b7d151834803ea",
       "value": -2
      }
     },
     "ee81f01e3d31447e9b9b2dd1c636b1c5": {
      "model_module": "@jupyter-widgets/base",
      "model_module_version": "1.2.0",
      "model_name": "LayoutModel",
      "state": {}
     },
     "eff7acd0b7934c70bf52350a9b01dd80": {
      "model_module": "@jupyter-widgets/base",
      "model_module_version": "1.2.0",
      "model_name": "LayoutModel",
      "state": {}
     },
     "f02f00d0cbae45c5ab4731938ea72f58": {
      "model_module": "@jupyter-widgets/base",
      "model_module_version": "1.2.0",
      "model_name": "LayoutModel",
      "state": {}
     },
     "f1993d79863e4753a4e2defa8317fb55": {
      "model_module": "@jupyter-widgets/base",
      "model_module_version": "1.2.0",
      "model_name": "LayoutModel",
      "state": {}
     },
     "f2b175ffbf4c4887b433b339c9ec34ad": {
      "model_module": "@jupyter-widgets/controls",
      "model_module_version": "1.5.0",
      "model_name": "SliderStyleModel",
      "state": {
       "description_width": ""
      }
     },
     "f2c2f2e02cd5466b9834a0f949e504a2": {
      "model_module": "@jupyter-widgets/base",
      "model_module_version": "1.2.0",
      "model_name": "LayoutModel",
      "state": {}
     },
     "f38020dd460a41d39845cea315f560b2": {
      "model_module": "@jupyter-widgets/controls",
      "model_module_version": "1.5.0",
      "model_name": "VBoxModel",
      "state": {
       "_dom_classes": [
        "widget-interact"
       ],
       "children": [
        "IPY_MODEL_78f4e780a02248998c0dc09e1facc2db",
        "IPY_MODEL_adf6d78954ca47f4b72daebc520afc0d",
        "IPY_MODEL_8158f0480d60410b8dfeaaf70b2f54aa",
        "IPY_MODEL_6b2e9964ebb64baea7161facae5d2151"
       ],
       "layout": "IPY_MODEL_7ab8ab02d60844d396ac68bec3488b31"
      }
     },
     "f4604151c6b345ad94d991dd49ae0766": {
      "model_module": "@jupyter-widgets/controls",
      "model_module_version": "1.5.0",
      "model_name": "FloatSliderModel",
      "state": {
       "description": "alpha",
       "layout": "IPY_MODEL_94933637748b4f4ba4d29050eeb1dae1",
       "max": 10,
       "min": 0.5,
       "step": 0.5,
       "style": "IPY_MODEL_32a670a084bc42a591389573bb2d71c1",
       "value": 10
      }
     },
     "f55139403cdd4e7db04071347c37eb52": {
      "model_module": "@jupyter-widgets/controls",
      "model_module_version": "1.5.0",
      "model_name": "FloatSliderModel",
      "state": {
       "layout": "IPY_MODEL_a4331dd230bf486b8bbd7fd7cb062072",
       "max": 0.3141592653589793,
       "min": 0.031415926535897934,
       "step": 0.031415926535897934,
       "style": "IPY_MODEL_c81da3a415fe4ad3b592ea29dd932b7d",
       "value": 0.031415926535897934
      }
     },
     "f5f9925a3b284dcfa669cf4067eaf856": {
      "model_module": "@jupyter-widgets/base",
      "model_module_version": "1.2.0",
      "model_name": "LayoutModel",
      "state": {}
     },
     "f68d3950cba44caa866a7cd6e5b3604e": {
      "model_module": "@jupyter-widgets/base",
      "model_module_version": "1.2.0",
      "model_name": "LayoutModel",
      "state": {}
     },
     "f7e1c2f8f435429aaa1a23691df8a398": {
      "model_module": "@jupyter-widgets/controls",
      "model_module_version": "1.5.0",
      "model_name": "SliderStyleModel",
      "state": {
       "description_width": ""
      }
     },
     "f8d11a16d2d1450daea1ad24615cdc0b": {
      "model_module": "@jupyter-widgets/controls",
      "model_module_version": "1.5.0",
      "model_name": "FloatSliderModel",
      "state": {
       "description": "gamma",
       "layout": "IPY_MODEL_55661a5670774babb1a7486067a788c7",
       "max": 0.3141592653589793,
       "min": 0.031415926535897934,
       "step": 0.031415926535897934,
       "style": "IPY_MODEL_06d608261d9d4288a1d35ef87a5be55b",
       "value": 0.031415926535897934
      }
     },
     "fa382091763045b6b078569d8fe045c6": {
      "model_module": "@jupyter-widgets/base",
      "model_module_version": "1.2.0",
      "model_name": "LayoutModel",
      "state": {}
     },
     "fbe8a2e99b65447eadfcc580a7d5ccc5": {
      "model_module": "@jupyter-widgets/base",
      "model_module_version": "1.2.0",
      "model_name": "LayoutModel",
      "state": {}
     },
     "fc289d98602d4b649cfd81cda80ab14a": {
      "model_module": "@jupyter-widgets/controls",
      "model_module_version": "1.5.0",
      "model_name": "SliderStyleModel",
      "state": {
       "description_width": ""
      }
     },
     "ff42c48974da49ee9fea9415a567528d": {
      "model_module": "@jupyter-widgets/controls",
      "model_module_version": "1.5.0",
      "model_name": "SliderStyleModel",
      "state": {
       "description_width": ""
      }
     },
     "ff8b27a7d49b4b738b1b629bf46d9a25": {
      "model_module": "@jupyter-widgets/controls",
      "model_module_version": "1.5.0",
      "model_name": "DropdownModel",
      "state": {
       "_options_labels": [
        "red",
        "green",
        "blue"
       ],
       "description": "color",
       "index": 2,
       "layout": "IPY_MODEL_9293fefcc30c4f9aaebdb7a1550416fa",
       "style": "IPY_MODEL_217fd01d82c04040a6364ab3b6a65564"
      }
     },
     "ffb6682173994f229b045bcee5baeec0": {
      "model_module": "@jupyter-widgets/controls",
      "model_module_version": "1.5.0",
      "model_name": "SliderStyleModel",
      "state": {
       "description_width": ""
      }
     }
    },
    "version_major": 2,
    "version_minor": 0
   }
  }
 },
 "nbformat": 4,
 "nbformat_minor": 2
}
